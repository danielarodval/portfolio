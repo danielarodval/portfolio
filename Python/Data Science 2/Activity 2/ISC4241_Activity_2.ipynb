{
 "cells": [
  {
   "cell_type": "markdown",
   "metadata": {
    "id": "JoW1xtYsBNnZ"
   },
   "source": [
    "# PART II Programming (15 Points)"
   ]
  },
  {
   "cell_type": "markdown",
   "metadata": {
    "id": "2h0LudisBRpl"
   },
   "source": [
    "### Problem 2.1 (0 Points) Read the CSV file “House_Prices_PRED.CSV”"
   ]
  },
  {
   "cell_type": "code",
   "execution_count": null,
   "metadata": {
    "colab": {
     "base_uri": "https://localhost:8080/",
     "height": 206
    },
    "id": "_77PK_CpIA7k",
    "outputId": "6dfce7d9-0d7d-437a-cc7d-e09c768bd8ad"
   },
   "outputs": [
    {
     "data": {
      "text/html": [
       "\n",
       "  <div id=\"df-f71d99b3-103e-4a20-b805-562161c4cf59\">\n",
       "    <div class=\"colab-df-container\">\n",
       "      <div>\n",
       "<style scoped>\n",
       "    .dataframe tbody tr th:only-of-type {\n",
       "        vertical-align: middle;\n",
       "    }\n",
       "\n",
       "    .dataframe tbody tr th {\n",
       "        vertical-align: top;\n",
       "    }\n",
       "\n",
       "    .dataframe thead th {\n",
       "        text-align: right;\n",
       "    }\n",
       "</style>\n",
       "<table border=\"1\" class=\"dataframe\">\n",
       "  <thead>\n",
       "    <tr style=\"text-align: right;\">\n",
       "      <th></th>\n",
       "      <th>P_SalePrice</th>\n",
       "      <th>SalePrice</th>\n",
       "    </tr>\n",
       "  </thead>\n",
       "  <tbody>\n",
       "    <tr>\n",
       "      <th>0</th>\n",
       "      <td>206307.7360</td>\n",
       "      <td>208500</td>\n",
       "    </tr>\n",
       "    <tr>\n",
       "      <th>1</th>\n",
       "      <td>179044.5328</td>\n",
       "      <td>181500</td>\n",
       "    </tr>\n",
       "    <tr>\n",
       "      <th>2</th>\n",
       "      <td>217258.4337</td>\n",
       "      <td>223500</td>\n",
       "    </tr>\n",
       "    <tr>\n",
       "      <th>3</th>\n",
       "      <td>161547.6322</td>\n",
       "      <td>140000</td>\n",
       "    </tr>\n",
       "    <tr>\n",
       "      <th>4</th>\n",
       "      <td>272594.2471</td>\n",
       "      <td>250000</td>\n",
       "    </tr>\n",
       "  </tbody>\n",
       "</table>\n",
       "</div>\n",
       "      <button class=\"colab-df-convert\" onclick=\"convertToInteractive('df-f71d99b3-103e-4a20-b805-562161c4cf59')\"\n",
       "              title=\"Convert this dataframe to an interactive table.\"\n",
       "              style=\"display:none;\">\n",
       "        \n",
       "  <svg xmlns=\"http://www.w3.org/2000/svg\" height=\"24px\"viewBox=\"0 0 24 24\"\n",
       "       width=\"24px\">\n",
       "    <path d=\"M0 0h24v24H0V0z\" fill=\"none\"/>\n",
       "    <path d=\"M18.56 5.44l.94 2.06.94-2.06 2.06-.94-2.06-.94-.94-2.06-.94 2.06-2.06.94zm-11 1L8.5 8.5l.94-2.06 2.06-.94-2.06-.94L8.5 2.5l-.94 2.06-2.06.94zm10 10l.94 2.06.94-2.06 2.06-.94-2.06-.94-.94-2.06-.94 2.06-2.06.94z\"/><path d=\"M17.41 7.96l-1.37-1.37c-.4-.4-.92-.59-1.43-.59-.52 0-1.04.2-1.43.59L10.3 9.45l-7.72 7.72c-.78.78-.78 2.05 0 2.83L4 21.41c.39.39.9.59 1.41.59.51 0 1.02-.2 1.41-.59l7.78-7.78 2.81-2.81c.8-.78.8-2.07 0-2.86zM5.41 20L4 18.59l7.72-7.72 1.47 1.35L5.41 20z\"/>\n",
       "  </svg>\n",
       "      </button>\n",
       "      \n",
       "  <style>\n",
       "    .colab-df-container {\n",
       "      display:flex;\n",
       "      flex-wrap:wrap;\n",
       "      gap: 12px;\n",
       "    }\n",
       "\n",
       "    .colab-df-convert {\n",
       "      background-color: #E8F0FE;\n",
       "      border: none;\n",
       "      border-radius: 50%;\n",
       "      cursor: pointer;\n",
       "      display: none;\n",
       "      fill: #1967D2;\n",
       "      height: 32px;\n",
       "      padding: 0 0 0 0;\n",
       "      width: 32px;\n",
       "    }\n",
       "\n",
       "    .colab-df-convert:hover {\n",
       "      background-color: #E2EBFA;\n",
       "      box-shadow: 0px 1px 2px rgba(60, 64, 67, 0.3), 0px 1px 3px 1px rgba(60, 64, 67, 0.15);\n",
       "      fill: #174EA6;\n",
       "    }\n",
       "\n",
       "    [theme=dark] .colab-df-convert {\n",
       "      background-color: #3B4455;\n",
       "      fill: #D2E3FC;\n",
       "    }\n",
       "\n",
       "    [theme=dark] .colab-df-convert:hover {\n",
       "      background-color: #434B5C;\n",
       "      box-shadow: 0px 1px 3px 1px rgba(0, 0, 0, 0.15);\n",
       "      filter: drop-shadow(0px 1px 2px rgba(0, 0, 0, 0.3));\n",
       "      fill: #FFFFFF;\n",
       "    }\n",
       "  </style>\n",
       "\n",
       "      <script>\n",
       "        const buttonEl =\n",
       "          document.querySelector('#df-f71d99b3-103e-4a20-b805-562161c4cf59 button.colab-df-convert');\n",
       "        buttonEl.style.display =\n",
       "          google.colab.kernel.accessAllowed ? 'block' : 'none';\n",
       "\n",
       "        async function convertToInteractive(key) {\n",
       "          const element = document.querySelector('#df-f71d99b3-103e-4a20-b805-562161c4cf59');\n",
       "          const dataTable =\n",
       "            await google.colab.kernel.invokeFunction('convertToInteractive',\n",
       "                                                     [key], {});\n",
       "          if (!dataTable) return;\n",
       "\n",
       "          const docLinkHtml = 'Like what you see? Visit the ' +\n",
       "            '<a target=\"_blank\" href=https://colab.research.google.com/notebooks/data_table.ipynb>data table notebook</a>'\n",
       "            + ' to learn more about interactive tables.';\n",
       "          element.innerHTML = '';\n",
       "          dataTable['output_type'] = 'display_data';\n",
       "          await google.colab.output.renderOutput(dataTable, element);\n",
       "          const docLink = document.createElement('div');\n",
       "          docLink.innerHTML = docLinkHtml;\n",
       "          element.appendChild(docLink);\n",
       "        }\n",
       "      </script>\n",
       "    </div>\n",
       "  </div>\n",
       "  "
      ],
      "text/plain": [
       "   P_SalePrice  SalePrice\n",
       "0  206307.7360     208500\n",
       "1  179044.5328     181500\n",
       "2  217258.4337     223500\n",
       "3  161547.6322     140000\n",
       "4  272594.2471     250000"
      ]
     },
     "execution_count": 3,
     "metadata": {},
     "output_type": "execute_result"
    }
   ],
   "source": [
    "import pandas as pd \n",
    "import statsmodels.formula.api as smf\n",
    "houses = pd.read_csv('House_Prices_PRED.csv')\n",
    "houses = houses.iloc[: , 1:]\n",
    "houses.head()"
   ]
  },
  {
   "cell_type": "markdown",
   "metadata": {
    "id": "-LmCis98Bj8n"
   },
   "source": [
    "### Problem 2.2 (3 Points) Write a program to calculate the sum squared of error and the average squared error of the Model (i.e., P_House_Price)."
   ]
  },
  {
   "cell_type": "code",
   "execution_count": null,
   "metadata": {
    "colab": {
     "base_uri": "https://localhost:8080/"
    },
    "id": "nMyKW9jNB6vC",
    "outputId": "da874aca-3a0a-4a2d-cc58-a3cb4f9a1197"
   },
   "outputs": [
    {
     "name": "stdout",
     "output_type": "stream",
     "text": [
      "SSE =  740014639177.1643\n",
      "ASE =  506859341.9021673\n"
     ]
    }
   ],
   "source": [
    "import numpy as np\n",
    "\n",
    "#sum of differences squared\n",
    "sumDif2 = np.sum((houses['SalePrice'] - houses['P_SalePrice'])**2)\n",
    "#sum of differences squared divided by # of rows\n",
    "print(\"SSE = \",sumDif2)\n",
    "print(\"ASE = \",sumDif2/houses.shape[0])"
   ]
  },
  {
   "cell_type": "markdown",
   "metadata": {
    "id": "GfO3C8_iBn20"
   },
   "source": [
    "### Problem 2.3 (3 Points) Write a program to calculate the R2 of the Model (i.e., P_House_Price)."
   ]
  },
  {
   "cell_type": "code",
   "execution_count": null,
   "metadata": {
    "colab": {
     "base_uri": "https://localhost:8080/"
    },
    "id": "MZaJIWZbHB0B",
    "outputId": "8e1d0ddd-3ec9-4d6c-fc2a-f851350b0e7a"
   },
   "outputs": [
    {
     "name": "stdout",
     "output_type": "stream",
     "text": [
      "R^2 =  0.9196327362106914\n"
     ]
    }
   ],
   "source": [
    "#Y minus YBar Squared\n",
    "ySubMean2 = np.sum((houses['SalePrice'] - houses['SalePrice'].mean())**2)\n",
    "#1 minus sum of differences squared divided by y minus ybar squared\n",
    "print(\"R^2 = \", (1 - sumDif2/ySubMean2))"
   ]
  },
  {
   "cell_type": "markdown",
   "metadata": {
    "id": "UIXaoSueBs3u"
   },
   "source": [
    "### Problem 2.4 (3 Points) Write a program to calculate the MAPE of the Model (i.e., P_House_Price)."
   ]
  },
  {
   "cell_type": "code",
   "execution_count": null,
   "metadata": {
    "colab": {
     "base_uri": "https://localhost:8080/"
    },
    "id": "RjYTC5GXKKMO",
    "outputId": "787c2ba4-2578-495b-b566-44ff50dc6f8b"
   },
   "outputs": [
    {
     "name": "stdout",
     "output_type": "stream",
     "text": [
      "MAPE =  7.026392138631052 %\n"
     ]
    }
   ],
   "source": [
    "dif = np.abs(houses['SalePrice'] - houses['P_SalePrice'])\n",
    "DifdivY = np.sum(np.divide(dif, houses['SalePrice']))\n",
    "# sum of differences divided by actual value times, divided by number of rows, times 100%\n",
    "print(\"MAPE = \", (DifdivY*(1/houses.shape[0]) * 100), \"%\") "
   ]
  },
  {
   "cell_type": "markdown",
   "metadata": {
    "id": "Z-4Knm1LBwqF"
   },
   "source": [
    "### Problem 2.5 (3 Points) Write a program to calculate the MAE of the Model (i.e., P_House_Price)."
   ]
  },
  {
   "cell_type": "code",
   "execution_count": null,
   "metadata": {
    "colab": {
     "base_uri": "https://localhost:8080/"
    },
    "id": "IYj3Nt_oKKcX",
    "outputId": "106dc3cb-1f08-4260-cbe5-6c21cde7696b"
   },
   "outputs": [
    {
     "name": "stdout",
     "output_type": "stream",
     "text": [
      "MAE =  12470.833673842466\n"
     ]
    }
   ],
   "source": [
    "dif = np.sum(np.abs(houses['SalePrice'] - houses['P_SalePrice']))\n",
    "# sum of differences divided by number of rows\n",
    "print(\"MAE = \", dif*(1/houses.shape[0]))"
   ]
  },
  {
   "cell_type": "markdown",
   "metadata": {
    "id": "M4-21Mu9ByGi"
   },
   "source": [
    "### Problem 2.6 (3 Points) Write a program to produce a residual plot with residual on the Y-axis and observed value (House_Price) and to impose a loess line on the graph."
   ]
  },
  {
   "cell_type": "code",
   "execution_count": 17,
   "metadata": {
    "colab": {
     "base_uri": "https://localhost:8080/",
     "height": 634
    },
    "id": "XRvmbfCrKLCN",
    "outputId": "292a52b0-232e-4fab-e243-4f3e4f01dfb6"
   },
   "outputs": [
    {
     "data": {
      "image/png": "[encoded data removed]",
      "text/plain": [
       "<Figure size 432x288 with 1 Axes>"
      ]
     },
     "metadata": {
      "needs_background": "light"
     },
     "output_type": "display_data"
    },
    {
     "data": {
      "text/plain": [
       "<seaborn.axisgrid.FacetGrid at 0x7f88ae09b290>"
      ]
     },
     "execution_count": 17,
     "metadata": {},
     "output_type": "execute_result"
    },
    {
     "data": {
      "image/png": "[encoded data removed]",
      "text/plain": [
       "<Figure size 360x360 with 1 Axes>"
      ]
     },
     "metadata": {
      "needs_background": "light"
     },
     "output_type": "display_data"
    }
   ],
   "source": [
    "from matplotlib import pyplot as plt\n",
    "import seaborn as sns\n",
    "\n",
    "houses['Residual'] = houses['SalePrice'] - houses['P_SalePrice']\n",
    "\n",
    "plt.scatter(houses['SalePrice'], houses['Residual'])\n",
    "plt.show()\n",
    "sns.lmplot(x='SalePrice', y='Residual', data=houses)"
   ]
  }
 ],
 "metadata": {
  "colab": {
   "collapsed_sections": [],
   "provenance": []
  },
  "kernelspec": {
   "display_name": "Python 3 (ipykernel)",
   "language": "python",
   "name": "python3"
  },
  "language_info": {
   "codemirror_mode": {
    "name": "ipython",
    "version": 3
   },
   "file_extension": ".py",
   "mimetype": "text/x-python",
   "name": "python",
   "nbconvert_exporter": "python",
   "pygments_lexer": "ipython3",
   "version": "3.9.12"
  }
 },
 "nbformat": 4,
 "nbformat_minor": 1
}
