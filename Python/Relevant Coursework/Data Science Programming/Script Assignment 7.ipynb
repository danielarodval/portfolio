{
 "cells": [
  {
   "cell_type": "markdown",
   "id": "e9256f2b",
   "metadata": {},
   "source": [
    "# Script Assignment 7\n",
    "## COP 4283 \n",
    "### Fall 2023\n",
    "Use the Tips dataset and address the following functions:"
   ]
  },
  {
   "cell_type": "markdown",
   "id": "c4f18c93",
   "metadata": {},
   "source": [
    "## Choose any number and add 2 to it. (2 point)"
   ]
  },
  {
   "cell_type": "code",
   "execution_count": 1,
   "id": "dc4ce510",
   "metadata": {},
   "outputs": [
    {
     "name": "stdout",
     "output_type": "stream",
     "text": [
      "[1] 7\n"
     ]
    }
   ],
   "source": [
    "number <- 5\n",
    "number <- number + 2\n",
    "print(number)"
   ]
  },
  {
   "cell_type": "markdown",
   "id": "d4022378",
   "metadata": {},
   "source": [
    "## Multiply the result by 3. (2 point)"
   ]
  },
  {
   "cell_type": "code",
   "execution_count": 2,
   "id": "3fb4c759",
   "metadata": {},
   "outputs": [
    {
     "name": "stdout",
     "output_type": "stream",
     "text": [
      "[1] 21\n"
     ]
    }
   ],
   "source": [
    "number <- number * 3\n",
    "print(number)"
   ]
  },
  {
   "cell_type": "markdown",
   "id": "82fc33bd",
   "metadata": {},
   "source": [
    "## Subtract 6 from the answer. (2 point)\n"
   ]
  },
  {
   "cell_type": "code",
   "execution_count": 3,
   "id": "86b886a8",
   "metadata": {},
   "outputs": [
    {
     "name": "stdout",
     "output_type": "stream",
     "text": [
      "[1] 15\n"
     ]
    }
   ],
   "source": [
    "number <- number - 6\n",
    "print(number)"
   ]
  },
  {
   "cell_type": "markdown",
   "id": "d07dffe1",
   "metadata": {},
   "source": [
    "## Divide what you get by 3. (2 point)\n"
   ]
  },
  {
   "cell_type": "code",
   "execution_count": 4,
   "id": "8f71a56e",
   "metadata": {},
   "outputs": [
    {
     "name": "stdout",
     "output_type": "stream",
     "text": [
      "[1] 5\n"
     ]
    }
   ],
   "source": [
    "number <- number / 3\n",
    "print(number)"
   ]
  },
  {
   "cell_type": "markdown",
   "id": "6f1b8856",
   "metadata": {},
   "source": [
    "## Let x3 be the following vector: x3<-c(0,1,1,2,2,2,3,3,4) Imagine what a histogram of x3 would look like. Assume that the histogram has a bin width of 1. \n",
    "### How many bars will the histogram have?"
   ]
  },
  {
   "cell_type": "code",
   "execution_count": 5,
   "id": "0544d62a",
   "metadata": {},
   "outputs": [],
   "source": [
    "x3 <- c(0,1,1,2,2,2,3,3,4)"
   ]
  },
  {
   "cell_type": "markdown",
   "id": "0599fcbb",
   "metadata": {},
   "source": [
    "<font color=blue> Since the numbers range from 0 to 4 and the bin width is 1, the histogram will have 5 bars."
   ]
  },
  {
   "cell_type": "markdown",
   "id": "b60905d5",
   "metadata": {},
   "source": [
    "### Where will they appear? "
   ]
  },
  {
   "cell_type": "markdown",
   "id": "5a4d39b2",
   "metadata": {},
   "source": [
    "<font color=blue> The bars will appear at 0,1,2,3,4"
   ]
  },
  {
   "cell_type": "markdown",
   "id": "b8637c4c",
   "metadata": {},
   "source": [
    "### How high will each be?  "
   ]
  },
  {
   "cell_type": "markdown",
   "id": "8d60727f",
   "metadata": {},
   "source": [
    "<font color=blue> The bars will be at the following heights\n",
    "* 0, height 1\n",
    "* 1, height 2\n",
    "* 2, height 3\n",
    "* 3, height 2\n",
    "* 4, height 1\n",
    "</font>"
   ]
  },
  {
   "cell_type": "markdown",
   "id": "4ee0d216",
   "metadata": {},
   "source": [
    "### When you are done, plot a histogram of x3 with binwidth = 1, and see if you are right. (2 point)"
   ]
  },
  {
   "cell_type": "code",
   "execution_count": 6,
   "id": "8171ffd1",
   "metadata": {},
   "outputs": [
    {
     "data": {
      "image/png": "[encoded data removed]",
      "text/plain": [
       "Plot with title \"Histogram of x3\""
      ]
     },
     "metadata": {},
     "output_type": "display_data"
    }
   ],
   "source": [
    "hist(x3, breaks=seq(-0.5, 4.5, by=1), main=\"Histogram of x3\", xlab=\"Value\", ylab=\"Frequency\")"
   ]
  }
 ],
 "metadata": {
  "kernelspec": {
   "display_name": "R",
   "language": "R",
   "name": "ir"
  },
  "language_info": {
   "codemirror_mode": "r",
   "file_extension": ".r",
   "mimetype": "text/x-r-source",
   "name": "R",
   "pygments_lexer": "r",
   "version": "3.6.1"
  }
 },
 "nbformat": 4,
 "nbformat_minor": 5
}
