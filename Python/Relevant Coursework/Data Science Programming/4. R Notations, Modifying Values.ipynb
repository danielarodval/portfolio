{
 "cells": [
  {
   "cell_type": "markdown",
   "id": "440000d1",
   "metadata": {},
   "source": [
    "## COP 4283\n",
    "### Fall 2023"
   ]
  },
  {
   "cell_type": "markdown",
   "id": "56553948",
   "metadata": {},
   "source": [
    "## R Notation"
   ]
  },
  {
   "cell_type": "code",
   "execution_count": 1,
   "id": "317b5dcf",
   "metadata": {},
   "outputs": [
    {
     "ename": "NameError",
     "evalue": "name 'deck' is not defined",
     "output_type": "error",
     "traceback": [
      "\u001b[1;31m---------------------------------------------------------------------------\u001b[0m",
      "\u001b[1;31mNameError\u001b[0m                                 Traceback (most recent call last)",
      "Cell \u001b[1;32mIn[1], line 2\u001b[0m\n\u001b[0;32m      1\u001b[0m \u001b[38;5;66;03m# we are creating a dataframe with 3 attributes(face, suit and value) containing 52 values each\u001b[39;00m\n\u001b[1;32m----> 2\u001b[0m deck \u001b[38;5;241m<\u001b[39m\u001b[38;5;241m-\u001b[39m data\u001b[38;5;241m.\u001b[39mframe(\n\u001b[0;32m      3\u001b[0m face \u001b[38;5;241m=\u001b[39m c(\u001b[38;5;124m\"\u001b[39m\u001b[38;5;124mking\u001b[39m\u001b[38;5;124m\"\u001b[39m, \u001b[38;5;124m\"\u001b[39m\u001b[38;5;124mqueen\u001b[39m\u001b[38;5;124m\"\u001b[39m, \u001b[38;5;124m\"\u001b[39m\u001b[38;5;124mjack\u001b[39m\u001b[38;5;124m\"\u001b[39m, \u001b[38;5;124m\"\u001b[39m\u001b[38;5;124mten\u001b[39m\u001b[38;5;124m\"\u001b[39m, \u001b[38;5;124m\"\u001b[39m\u001b[38;5;124mnine\u001b[39m\u001b[38;5;124m\"\u001b[39m, \u001b[38;5;124m\"\u001b[39m\u001b[38;5;124meight\u001b[39m\u001b[38;5;124m\"\u001b[39m, \u001b[38;5;124m\"\u001b[39m\u001b[38;5;124mseven\u001b[39m\u001b[38;5;124m\"\u001b[39m, \u001b[38;5;124m\"\u001b[39m\u001b[38;5;124msix\u001b[39m\u001b[38;5;124m\"\u001b[39m,\n\u001b[0;32m      4\u001b[0m \u001b[38;5;124m\"\u001b[39m\u001b[38;5;124mfive\u001b[39m\u001b[38;5;124m\"\u001b[39m, \u001b[38;5;124m\"\u001b[39m\u001b[38;5;124mfour\u001b[39m\u001b[38;5;124m\"\u001b[39m, \u001b[38;5;124m\"\u001b[39m\u001b[38;5;124mthree\u001b[39m\u001b[38;5;124m\"\u001b[39m, \u001b[38;5;124m\"\u001b[39m\u001b[38;5;124mtwo\u001b[39m\u001b[38;5;124m\"\u001b[39m, \u001b[38;5;124m\"\u001b[39m\u001b[38;5;124mace\u001b[39m\u001b[38;5;124m\"\u001b[39m, \u001b[38;5;124m\"\u001b[39m\u001b[38;5;124mking\u001b[39m\u001b[38;5;124m\"\u001b[39m, \u001b[38;5;124m\"\u001b[39m\u001b[38;5;124mqueen\u001b[39m\u001b[38;5;124m\"\u001b[39m, \u001b[38;5;124m\"\u001b[39m\u001b[38;5;124mjack\u001b[39m\u001b[38;5;124m\"\u001b[39m, \u001b[38;5;124m\"\u001b[39m\u001b[38;5;124mten\u001b[39m\u001b[38;5;124m\"\u001b[39m,\n\u001b[0;32m      5\u001b[0m \u001b[38;5;124m\"\u001b[39m\u001b[38;5;124mnine\u001b[39m\u001b[38;5;124m\"\u001b[39m, \u001b[38;5;124m\"\u001b[39m\u001b[38;5;124meight\u001b[39m\u001b[38;5;124m\"\u001b[39m, \u001b[38;5;124m\"\u001b[39m\u001b[38;5;124mseven\u001b[39m\u001b[38;5;124m\"\u001b[39m, \u001b[38;5;124m\"\u001b[39m\u001b[38;5;124msix\u001b[39m\u001b[38;5;124m\"\u001b[39m, \u001b[38;5;124m\"\u001b[39m\u001b[38;5;124mfive\u001b[39m\u001b[38;5;124m\"\u001b[39m, \u001b[38;5;124m\"\u001b[39m\u001b[38;5;124mfour\u001b[39m\u001b[38;5;124m\"\u001b[39m, \u001b[38;5;124m\"\u001b[39m\u001b[38;5;124mthree\u001b[39m\u001b[38;5;124m\"\u001b[39m, \u001b[38;5;124m\"\u001b[39m\u001b[38;5;124mtwo\u001b[39m\u001b[38;5;124m\"\u001b[39m, \u001b[38;5;124m\"\u001b[39m\u001b[38;5;124mace\u001b[39m\u001b[38;5;124m\"\u001b[39m,\n\u001b[0;32m      6\u001b[0m \u001b[38;5;124m\"\u001b[39m\u001b[38;5;124mking\u001b[39m\u001b[38;5;124m\"\u001b[39m, \u001b[38;5;124m\"\u001b[39m\u001b[38;5;124mqueen\u001b[39m\u001b[38;5;124m\"\u001b[39m, \u001b[38;5;124m\"\u001b[39m\u001b[38;5;124mjack\u001b[39m\u001b[38;5;124m\"\u001b[39m, \u001b[38;5;124m\"\u001b[39m\u001b[38;5;124mten\u001b[39m\u001b[38;5;124m\"\u001b[39m, \u001b[38;5;124m\"\u001b[39m\u001b[38;5;124mnine\u001b[39m\u001b[38;5;124m\"\u001b[39m, \u001b[38;5;124m\"\u001b[39m\u001b[38;5;124meight\u001b[39m\u001b[38;5;124m\"\u001b[39m, \u001b[38;5;124m\"\u001b[39m\u001b[38;5;124mseven\u001b[39m\u001b[38;5;124m\"\u001b[39m, \u001b[38;5;124m\"\u001b[39m\u001b[38;5;124msix\u001b[39m\u001b[38;5;124m\"\u001b[39m, \u001b[38;5;124m\"\u001b[39m\u001b[38;5;124mfive\u001b[39m\u001b[38;5;124m\"\u001b[39m,\n\u001b[0;32m      7\u001b[0m \u001b[38;5;124m\"\u001b[39m\u001b[38;5;124mfour\u001b[39m\u001b[38;5;124m\"\u001b[39m, \u001b[38;5;124m\"\u001b[39m\u001b[38;5;124mthree\u001b[39m\u001b[38;5;124m\"\u001b[39m, \u001b[38;5;124m\"\u001b[39m\u001b[38;5;124mtwo\u001b[39m\u001b[38;5;124m\"\u001b[39m, \u001b[38;5;124m\"\u001b[39m\u001b[38;5;124mace\u001b[39m\u001b[38;5;124m\"\u001b[39m, \u001b[38;5;124m\"\u001b[39m\u001b[38;5;124mking\u001b[39m\u001b[38;5;124m\"\u001b[39m, \u001b[38;5;124m\"\u001b[39m\u001b[38;5;124mqueen\u001b[39m\u001b[38;5;124m\"\u001b[39m, \u001b[38;5;124m\"\u001b[39m\u001b[38;5;124mjack\u001b[39m\u001b[38;5;124m\"\u001b[39m, \u001b[38;5;124m\"\u001b[39m\u001b[38;5;124mten\u001b[39m\u001b[38;5;124m\"\u001b[39m, \u001b[38;5;124m\"\u001b[39m\u001b[38;5;124mnine\u001b[39m\u001b[38;5;124m\"\u001b[39m,\n\u001b[0;32m      8\u001b[0m \u001b[38;5;124m\"\u001b[39m\u001b[38;5;124meight\u001b[39m\u001b[38;5;124m\"\u001b[39m, \u001b[38;5;124m\"\u001b[39m\u001b[38;5;124mseven\u001b[39m\u001b[38;5;124m\"\u001b[39m, \u001b[38;5;124m\"\u001b[39m\u001b[38;5;124msix\u001b[39m\u001b[38;5;124m\"\u001b[39m, \u001b[38;5;124m\"\u001b[39m\u001b[38;5;124mfive\u001b[39m\u001b[38;5;124m\"\u001b[39m, \u001b[38;5;124m\"\u001b[39m\u001b[38;5;124mfour\u001b[39m\u001b[38;5;124m\"\u001b[39m, \u001b[38;5;124m\"\u001b[39m\u001b[38;5;124mthree\u001b[39m\u001b[38;5;124m\"\u001b[39m, \u001b[38;5;124m\"\u001b[39m\u001b[38;5;124mtwo\u001b[39m\u001b[38;5;124m\"\u001b[39m, \u001b[38;5;124m\"\u001b[39m\u001b[38;5;124mace\u001b[39m\u001b[38;5;124m\"\u001b[39m),\n\u001b[0;32m      9\u001b[0m suit \u001b[38;5;241m=\u001b[39m c(\u001b[38;5;124m\"\u001b[39m\u001b[38;5;124mspades\u001b[39m\u001b[38;5;124m\"\u001b[39m, \u001b[38;5;124m\"\u001b[39m\u001b[38;5;124mspades\u001b[39m\u001b[38;5;124m\"\u001b[39m, \u001b[38;5;124m\"\u001b[39m\u001b[38;5;124mspades\u001b[39m\u001b[38;5;124m\"\u001b[39m, \u001b[38;5;124m\"\u001b[39m\u001b[38;5;124mspades\u001b[39m\u001b[38;5;124m\"\u001b[39m, \u001b[38;5;124m\"\u001b[39m\u001b[38;5;124mspades\u001b[39m\u001b[38;5;124m\"\u001b[39m, \u001b[38;5;124m\"\u001b[39m\u001b[38;5;124mspades\u001b[39m\u001b[38;5;124m\"\u001b[39m,\n\u001b[0;32m     10\u001b[0m \u001b[38;5;124m\"\u001b[39m\u001b[38;5;124mspades\u001b[39m\u001b[38;5;124m\"\u001b[39m, \u001b[38;5;124m\"\u001b[39m\u001b[38;5;124mspades\u001b[39m\u001b[38;5;124m\"\u001b[39m, \u001b[38;5;124m\"\u001b[39m\u001b[38;5;124mspades\u001b[39m\u001b[38;5;124m\"\u001b[39m, \u001b[38;5;124m\"\u001b[39m\u001b[38;5;124mspades\u001b[39m\u001b[38;5;124m\"\u001b[39m, \u001b[38;5;124m\"\u001b[39m\u001b[38;5;124mspades\u001b[39m\u001b[38;5;124m\"\u001b[39m, \u001b[38;5;124m\"\u001b[39m\u001b[38;5;124mspades\u001b[39m\u001b[38;5;124m\"\u001b[39m, \u001b[38;5;124m\"\u001b[39m\u001b[38;5;124mspades\u001b[39m\u001b[38;5;124m\"\u001b[39m,\n\u001b[0;32m     11\u001b[0m \u001b[38;5;124m\"\u001b[39m\u001b[38;5;124mclubs\u001b[39m\u001b[38;5;124m\"\u001b[39m, \u001b[38;5;124m\"\u001b[39m\u001b[38;5;124mclubs\u001b[39m\u001b[38;5;124m\"\u001b[39m, \u001b[38;5;124m\"\u001b[39m\u001b[38;5;124mclubs\u001b[39m\u001b[38;5;124m\"\u001b[39m, \u001b[38;5;124m\"\u001b[39m\u001b[38;5;124mclubs\u001b[39m\u001b[38;5;124m\"\u001b[39m, \u001b[38;5;124m\"\u001b[39m\u001b[38;5;124mclubs\u001b[39m\u001b[38;5;124m\"\u001b[39m, \u001b[38;5;124m\"\u001b[39m\u001b[38;5;124mclubs\u001b[39m\u001b[38;5;124m\"\u001b[39m, \u001b[38;5;124m\"\u001b[39m\u001b[38;5;124mclubs\u001b[39m\u001b[38;5;124m\"\u001b[39m, \u001b[38;5;124m\"\u001b[39m\u001b[38;5;124mclubs\u001b[39m\u001b[38;5;124m\"\u001b[39m,\n\u001b[0;32m     12\u001b[0m \u001b[38;5;124m\"\u001b[39m\u001b[38;5;124mclubs\u001b[39m\u001b[38;5;124m\"\u001b[39m, \u001b[38;5;124m\"\u001b[39m\u001b[38;5;124mclubs\u001b[39m\u001b[38;5;124m\"\u001b[39m, \u001b[38;5;124m\"\u001b[39m\u001b[38;5;124mclubs\u001b[39m\u001b[38;5;124m\"\u001b[39m, \u001b[38;5;124m\"\u001b[39m\u001b[38;5;124mclubs\u001b[39m\u001b[38;5;124m\"\u001b[39m, \u001b[38;5;124m\"\u001b[39m\u001b[38;5;124mclubs\u001b[39m\u001b[38;5;124m\"\u001b[39m, \u001b[38;5;124m\"\u001b[39m\u001b[38;5;124mdiamonds\u001b[39m\u001b[38;5;124m\"\u001b[39m, \u001b[38;5;124m\"\u001b[39m\u001b[38;5;124mdiamonds\u001b[39m\u001b[38;5;124m\"\u001b[39m,\n\u001b[0;32m     13\u001b[0m \u001b[38;5;124m\"\u001b[39m\u001b[38;5;124mdiamonds\u001b[39m\u001b[38;5;124m\"\u001b[39m, \u001b[38;5;124m\"\u001b[39m\u001b[38;5;124mdiamonds\u001b[39m\u001b[38;5;124m\"\u001b[39m, \u001b[38;5;124m\"\u001b[39m\u001b[38;5;124mdiamonds\u001b[39m\u001b[38;5;124m\"\u001b[39m, \u001b[38;5;124m\"\u001b[39m\u001b[38;5;124mdiamonds\u001b[39m\u001b[38;5;124m\"\u001b[39m, \u001b[38;5;124m\"\u001b[39m\u001b[38;5;124mdiamonds\u001b[39m\u001b[38;5;124m\"\u001b[39m, \u001b[38;5;124m\"\u001b[39m\u001b[38;5;124mdiamonds\u001b[39m\u001b[38;5;124m\"\u001b[39m,\n\u001b[0;32m     14\u001b[0m \u001b[38;5;124m\"\u001b[39m\u001b[38;5;124mdiamonds\u001b[39m\u001b[38;5;124m\"\u001b[39m, \u001b[38;5;124m\"\u001b[39m\u001b[38;5;124mdiamonds\u001b[39m\u001b[38;5;124m\"\u001b[39m, \u001b[38;5;124m\"\u001b[39m\u001b[38;5;124mdiamonds\u001b[39m\u001b[38;5;124m\"\u001b[39m, \u001b[38;5;124m\"\u001b[39m\u001b[38;5;124mdiamonds\u001b[39m\u001b[38;5;124m\"\u001b[39m, \u001b[38;5;124m\"\u001b[39m\u001b[38;5;124mdiamonds\u001b[39m\u001b[38;5;124m\"\u001b[39m, \u001b[38;5;124m\"\u001b[39m\u001b[38;5;124mhearts\u001b[39m\u001b[38;5;124m\"\u001b[39m,\n\u001b[0;32m     15\u001b[0m \u001b[38;5;124m\"\u001b[39m\u001b[38;5;124mhearts\u001b[39m\u001b[38;5;124m\"\u001b[39m, \u001b[38;5;124m\"\u001b[39m\u001b[38;5;124mhearts\u001b[39m\u001b[38;5;124m\"\u001b[39m, \u001b[38;5;124m\"\u001b[39m\u001b[38;5;124mhearts\u001b[39m\u001b[38;5;124m\"\u001b[39m, \u001b[38;5;124m\"\u001b[39m\u001b[38;5;124mhearts\u001b[39m\u001b[38;5;124m\"\u001b[39m, \u001b[38;5;124m\"\u001b[39m\u001b[38;5;124mhearts\u001b[39m\u001b[38;5;124m\"\u001b[39m, \u001b[38;5;124m\"\u001b[39m\u001b[38;5;124mhearts\u001b[39m\u001b[38;5;124m\"\u001b[39m, \u001b[38;5;124m\"\u001b[39m\u001b[38;5;124mhearts\u001b[39m\u001b[38;5;124m\"\u001b[39m,\n\u001b[0;32m     16\u001b[0m \u001b[38;5;124m\"\u001b[39m\u001b[38;5;124mhearts\u001b[39m\u001b[38;5;124m\"\u001b[39m, \u001b[38;5;124m\"\u001b[39m\u001b[38;5;124mhearts\u001b[39m\u001b[38;5;124m\"\u001b[39m, \u001b[38;5;124m\"\u001b[39m\u001b[38;5;124mhearts\u001b[39m\u001b[38;5;124m\"\u001b[39m, \u001b[38;5;124m\"\u001b[39m\u001b[38;5;124mhearts\u001b[39m\u001b[38;5;124m\"\u001b[39m, \u001b[38;5;124m\"\u001b[39m\u001b[38;5;124mhearts\u001b[39m\u001b[38;5;124m\"\u001b[39m),\n\u001b[0;32m     17\u001b[0m value \u001b[38;5;241m=\u001b[39m c(\u001b[38;5;241m13\u001b[39m, \u001b[38;5;241m12\u001b[39m, \u001b[38;5;241m11\u001b[39m, \u001b[38;5;241m10\u001b[39m, \u001b[38;5;241m9\u001b[39m, \u001b[38;5;241m8\u001b[39m, \u001b[38;5;241m7\u001b[39m, \u001b[38;5;241m6\u001b[39m, \u001b[38;5;241m5\u001b[39m, \u001b[38;5;241m4\u001b[39m, \u001b[38;5;241m3\u001b[39m, \u001b[38;5;241m2\u001b[39m, \u001b[38;5;241m1\u001b[39m, \u001b[38;5;241m13\u001b[39m, \u001b[38;5;241m12\u001b[39m, \u001b[38;5;241m11\u001b[39m, \u001b[38;5;241m10\u001b[39m, \u001b[38;5;241m9\u001b[39m, \u001b[38;5;241m8\u001b[39m,\n\u001b[0;32m     18\u001b[0m \u001b[38;5;241m7\u001b[39m, \u001b[38;5;241m6\u001b[39m, \u001b[38;5;241m5\u001b[39m, \u001b[38;5;241m4\u001b[39m, \u001b[38;5;241m3\u001b[39m, \u001b[38;5;241m2\u001b[39m, \u001b[38;5;241m1\u001b[39m, \u001b[38;5;241m13\u001b[39m, \u001b[38;5;241m12\u001b[39m, \u001b[38;5;241m11\u001b[39m, \u001b[38;5;241m10\u001b[39m, \u001b[38;5;241m9\u001b[39m, \u001b[38;5;241m8\u001b[39m, \u001b[38;5;241m7\u001b[39m, \u001b[38;5;241m6\u001b[39m, \u001b[38;5;241m5\u001b[39m, \u001b[38;5;241m4\u001b[39m, \u001b[38;5;241m3\u001b[39m, \u001b[38;5;241m2\u001b[39m, \u001b[38;5;241m1\u001b[39m, \u001b[38;5;241m13\u001b[39m, \u001b[38;5;241m12\u001b[39m, \u001b[38;5;241m11\u001b[39m,\n\u001b[0;32m     19\u001b[0m \u001b[38;5;241m10\u001b[39m, \u001b[38;5;241m9\u001b[39m, \u001b[38;5;241m8\u001b[39m, \u001b[38;5;241m7\u001b[39m, \u001b[38;5;241m6\u001b[39m, \u001b[38;5;241m5\u001b[39m, \u001b[38;5;241m4\u001b[39m, \u001b[38;5;241m3\u001b[39m, \u001b[38;5;241m2\u001b[39m, \u001b[38;5;241m1\u001b[39m)\n\u001b[0;32m     20\u001b[0m )\n",
      "\u001b[1;31mNameError\u001b[0m: name 'deck' is not defined"
     ]
    }
   ],
   "source": [
    "# we are creating a dataframe with 3 attributes(face, suit and value) containing 52 values each\n",
    "deck <- data.frame(\n",
    "face = c(\"king\", \"queen\", \"jack\", \"ten\", \"nine\", \"eight\", \"seven\", \"six\",\n",
    "\"five\", \"four\", \"three\", \"two\", \"ace\", \"king\", \"queen\", \"jack\", \"ten\",\n",
    "\"nine\", \"eight\", \"seven\", \"six\", \"five\", \"four\", \"three\", \"two\", \"ace\",\n",
    "\"king\", \"queen\", \"jack\", \"ten\", \"nine\", \"eight\", \"seven\", \"six\", \"five\",\n",
    "\"four\", \"three\", \"two\", \"ace\", \"king\", \"queen\", \"jack\", \"ten\", \"nine\",\n",
    "\"eight\", \"seven\", \"six\", \"five\", \"four\", \"three\", \"two\", \"ace\"),\n",
    "suit = c(\"spades\", \"spades\", \"spades\", \"spades\", \"spades\", \"spades\",\n",
    "\"spades\", \"spades\", \"spades\", \"spades\", \"spades\", \"spades\", \"spades\",\n",
    "\"clubs\", \"clubs\", \"clubs\", \"clubs\", \"clubs\", \"clubs\", \"clubs\", \"clubs\",\n",
    "\"clubs\", \"clubs\", \"clubs\", \"clubs\", \"clubs\", \"diamonds\", \"diamonds\",\n",
    "\"diamonds\", \"diamonds\", \"diamonds\", \"diamonds\", \"diamonds\", \"diamonds\",\n",
    "\"diamonds\", \"diamonds\", \"diamonds\", \"diamonds\", \"diamonds\", \"hearts\",\n",
    "\"hearts\", \"hearts\", \"hearts\", \"hearts\", \"hearts\", \"hearts\", \"hearts\",\n",
    "\"hearts\", \"hearts\", \"hearts\", \"hearts\", \"hearts\"),\n",
    "value = c(13, 12, 11, 10, 9, 8, 7, 6, 5, 4, 3, 2, 1, 13, 12, 11, 10, 9, 8,\n",
    "7, 6, 5, 4, 3, 2, 1, 13, 12, 11, 10, 9, 8, 7, 6, 5, 4, 3, 2, 1, 13, 12, 11,\n",
    "10, 9, 8, 7, 6, 5, 4, 3, 2, 1)\n",
    ")"
   ]
  },
  {
   "cell_type": "code",
   "execution_count": 2,
   "id": "39def9ce",
   "metadata": {},
   "outputs": [
    {
     "data": {
      "text/html": [
       "<table>\n",
       "<thead><tr><th scope=col>face</th><th scope=col>suit</th><th scope=col>value</th></tr></thead>\n",
       "<tbody>\n",
       "\t<tr><td>king  </td><td>spades</td><td>13    </td></tr>\n",
       "\t<tr><td>queen </td><td>spades</td><td>12    </td></tr>\n",
       "\t<tr><td>jack  </td><td>spades</td><td>11    </td></tr>\n",
       "\t<tr><td>ten   </td><td>spades</td><td>10    </td></tr>\n",
       "\t<tr><td>nine  </td><td>spades</td><td> 9    </td></tr>\n",
       "\t<tr><td>eight </td><td>spades</td><td> 8    </td></tr>\n",
       "</tbody>\n",
       "</table>\n"
      ],
      "text/latex": [
       "\\begin{tabular}{r|lll}\n",
       " face & suit & value\\\\\n",
       "\\hline\n",
       "\t king   & spades & 13    \\\\\n",
       "\t queen  & spades & 12    \\\\\n",
       "\t jack   & spades & 11    \\\\\n",
       "\t ten    & spades & 10    \\\\\n",
       "\t nine   & spades &  9    \\\\\n",
       "\t eight  & spades &  8    \\\\\n",
       "\\end{tabular}\n"
      ],
      "text/markdown": [
       "\n",
       "| face | suit | value |\n",
       "|---|---|---|\n",
       "| king   | spades | 13     |\n",
       "| queen  | spades | 12     |\n",
       "| jack   | spades | 11     |\n",
       "| ten    | spades | 10     |\n",
       "| nine   | spades |  9     |\n",
       "| eight  | spades |  8     |\n",
       "\n"
      ],
      "text/plain": [
       "  face  suit   value\n",
       "1 king  spades 13   \n",
       "2 queen spades 12   \n",
       "3 jack  spades 11   \n",
       "4 ten   spades 10   \n",
       "5 nine  spades  9   \n",
       "6 eight spades  8   "
      ]
     },
     "metadata": {},
     "output_type": "display_data"
    }
   ],
   "source": [
    "head(deck) # head in R gives first 6 rows "
   ]
  },
  {
   "cell_type": "code",
   "execution_count": 3,
   "id": "373e6fcc",
   "metadata": {},
   "outputs": [
    {
     "data": {
      "text/html": [
       "<table>\n",
       "<thead><tr><th scope=col>face</th><th scope=col>suit</th><th scope=col>value</th></tr></thead>\n",
       "<tbody>\n",
       "\t<tr><td>king  </td><td>spades</td><td>13    </td></tr>\n",
       "</tbody>\n",
       "</table>\n"
      ],
      "text/latex": [
       "\\begin{tabular}{r|lll}\n",
       " face & suit & value\\\\\n",
       "\\hline\n",
       "\t king   & spades & 13    \\\\\n",
       "\\end{tabular}\n"
      ],
      "text/markdown": [
       "\n",
       "| face | suit | value |\n",
       "|---|---|---|\n",
       "| king   | spades | 13     |\n",
       "\n"
      ],
      "text/plain": [
       "  face suit   value\n",
       "1 king spades 13   "
      ]
     },
     "metadata": {},
     "output_type": "display_data"
    }
   ],
   "source": [
    "# this function returns the first card on top of the deck\n",
    "deal <- function(cards) {\n",
    "    cards[1, ]\n",
    "}\n",
    "\n",
    "deal (deck) # Each time this will return king of spades"
   ]
  },
  {
   "cell_type": "code",
   "execution_count": 4,
   "id": "c73ceb45",
   "metadata": {},
   "outputs": [
    {
     "data": {
      "text/html": [
       "<table>\n",
       "<thead><tr><th scope=col>face</th><th scope=col>suit</th><th scope=col>value</th></tr></thead>\n",
       "<tbody>\n",
       "\t<tr><td>king  </td><td>spades</td><td>13    </td></tr>\n",
       "\t<tr><td>queen </td><td>spades</td><td>12    </td></tr>\n",
       "\t<tr><td>jack  </td><td>spades</td><td>11    </td></tr>\n",
       "\t<tr><td>ten   </td><td>spades</td><td>10    </td></tr>\n",
       "\t<tr><td>nine  </td><td>spades</td><td> 9    </td></tr>\n",
       "\t<tr><td>eight </td><td>spades</td><td> 8    </td></tr>\n",
       "</tbody>\n",
       "</table>\n"
      ],
      "text/latex": [
       "\\begin{tabular}{r|lll}\n",
       " face & suit & value\\\\\n",
       "\\hline\n",
       "\t king   & spades & 13    \\\\\n",
       "\t queen  & spades & 12    \\\\\n",
       "\t jack   & spades & 11    \\\\\n",
       "\t ten    & spades & 10    \\\\\n",
       "\t nine   & spades &  9    \\\\\n",
       "\t eight  & spades &  8    \\\\\n",
       "\\end{tabular}\n"
      ],
      "text/markdown": [
       "\n",
       "| face | suit | value |\n",
       "|---|---|---|\n",
       "| king   | spades | 13     |\n",
       "| queen  | spades | 12     |\n",
       "| jack   | spades | 11     |\n",
       "| ten    | spades | 10     |\n",
       "| nine   | spades |  9     |\n",
       "| eight  | spades |  8     |\n",
       "\n"
      ],
      "text/plain": [
       "  face  suit   value\n",
       "1 king  spades 13   \n",
       "2 queen spades 12   \n",
       "3 jack  spades 11   \n",
       "4 ten   spades 10   \n",
       "5 nine  spades  9   \n",
       "6 eight spades  8   "
      ]
     },
     "metadata": {},
     "output_type": "display_data"
    }
   ],
   "source": [
    "# Gives the top 6 cards in the deck \n",
    "head(deck) "
   ]
  },
  {
   "cell_type": "code",
   "execution_count": 5,
   "id": "e1325950",
   "metadata": {},
   "outputs": [
    {
     "data": {
      "text/html": [
       "king\n",
       "<details>\n",
       "\t<summary style=display:list-item;cursor:pointer>\n",
       "\t\t<strong>Levels</strong>:\n",
       "\t</summary>\n",
       "\t<ol class=list-inline>\n",
       "\t\t<li>'ace'</li>\n",
       "\t\t<li>'eight'</li>\n",
       "\t\t<li>'five'</li>\n",
       "\t\t<li>'four'</li>\n",
       "\t\t<li>'jack'</li>\n",
       "\t\t<li>'king'</li>\n",
       "\t\t<li>'nine'</li>\n",
       "\t\t<li>'queen'</li>\n",
       "\t\t<li>'seven'</li>\n",
       "\t\t<li>'six'</li>\n",
       "\t\t<li>'ten'</li>\n",
       "\t\t<li>'three'</li>\n",
       "\t\t<li>'two'</li>\n",
       "\t</ol>\n",
       "</details>"
      ],
      "text/latex": [
       "king\n",
       "\\emph{Levels}: \\begin{enumerate*}\n",
       "\\item 'ace'\n",
       "\\item 'eight'\n",
       "\\item 'five'\n",
       "\\item 'four'\n",
       "\\item 'jack'\n",
       "\\item 'king'\n",
       "\\item 'nine'\n",
       "\\item 'queen'\n",
       "\\item 'seven'\n",
       "\\item 'six'\n",
       "\\item 'ten'\n",
       "\\item 'three'\n",
       "\\item 'two'\n",
       "\\end{enumerate*}\n"
      ],
      "text/markdown": [
       "king\n",
       "**Levels**: 1. 'ace'\n",
       "2. 'eight'\n",
       "3. 'five'\n",
       "4. 'four'\n",
       "5. 'jack'\n",
       "6. 'king'\n",
       "7. 'nine'\n",
       "8. 'queen'\n",
       "9. 'seven'\n",
       "10. 'six'\n",
       "11. 'ten'\n",
       "12. 'three'\n",
       "13. 'two'\n",
       "\n",
       "\n"
      ],
      "text/plain": [
       "[1] king\n",
       "Levels: ace eight five four jack king nine queen seven six ten three two"
      ]
     },
     "metadata": {},
     "output_type": "display_data"
    }
   ],
   "source": [
    "# deck[i,j] will return the value of deck that is in the ith row and the jth column\n",
    "deck[1, 1]"
   ]
  },
  {
   "cell_type": "code",
   "execution_count": 6,
   "id": "a2ddcdb4",
   "metadata": {},
   "outputs": [
    {
     "data": {
      "text/html": [
       "<table>\n",
       "<thead><tr><th scope=col>face</th><th scope=col>suit</th><th scope=col>value</th></tr></thead>\n",
       "<tbody>\n",
       "\t<tr><td>king  </td><td>spades</td><td>13    </td></tr>\n",
       "</tbody>\n",
       "</table>\n"
      ],
      "text/latex": [
       "\\begin{tabular}{r|lll}\n",
       " face & suit & value\\\\\n",
       "\\hline\n",
       "\t king   & spades & 13    \\\\\n",
       "\\end{tabular}\n"
      ],
      "text/markdown": [
       "\n",
       "| face | suit | value |\n",
       "|---|---|---|\n",
       "| king   | spades | 13     |\n",
       "\n"
      ],
      "text/plain": [
       "  face suit   value\n",
       "1 king spades 13   "
      ]
     },
     "metadata": {},
     "output_type": "display_data"
    }
   ],
   "source": [
    "# You can get the first row & all three columns of deck with deck[1, c(1, 2, 3)] or deck[1, 1:3]\n",
    "deck[1, c(1, 2, 3)] "
   ]
  },
  {
   "cell_type": "code",
   "execution_count": 7,
   "id": "392e1fe4",
   "metadata": {},
   "outputs": [
    {
     "data": {
      "text/html": [
       "<table>\n",
       "<thead><tr><th></th><th scope=col>face</th><th scope=col>suit</th><th scope=col>value</th></tr></thead>\n",
       "<tbody>\n",
       "\t<tr><th scope=row>1</th><td>king  </td><td>spades</td><td>13    </td></tr>\n",
       "\t<tr><th scope=row>1.1</th><td>king  </td><td>spades</td><td>13    </td></tr>\n",
       "</tbody>\n",
       "</table>\n"
      ],
      "text/latex": [
       "\\begin{tabular}{r|lll}\n",
       "  & face & suit & value\\\\\n",
       "\\hline\n",
       "\t1 & king   & spades & 13    \\\\\n",
       "\t1.1 & king   & spades & 13    \\\\\n",
       "\\end{tabular}\n"
      ],
      "text/markdown": [
       "\n",
       "| <!--/--> | face | suit | value |\n",
       "|---|---|---|---|\n",
       "| 1 | king   | spades | 13     |\n",
       "| 1.1 | king   | spades | 13     |\n",
       "\n"
      ],
      "text/plain": [
       "    face suit   value\n",
       "1   king spades 13   \n",
       "1.1 king spades 13   "
      ]
     },
     "metadata": {},
     "output_type": "display_data"
    }
   ],
   "source": [
    "# Here you are getting the first row twice and getting all three columns\n",
    "deck[c(1, 1), c(1, 2, 3)]"
   ]
  },
  {
   "attachments": {
    "image.png": {
     "image/png": "[encoded data removed]"
    }
   },
   "cell_type": "markdown",
   "id": "ff59828b",
   "metadata": {},
   "source": [
    "![image.png](attachment:image.png)"
   ]
  },
  {
   "cell_type": "code",
   "execution_count": 8,
   "id": "2de81b42",
   "metadata": {},
   "outputs": [
    {
     "data": {
      "text/html": [
       "<ol class=list-inline>\n",
       "\t<li>6</li>\n",
       "\t<li>1</li>\n",
       "\t<li>3</li>\n",
       "</ol>\n"
      ],
      "text/latex": [
       "\\begin{enumerate*}\n",
       "\\item 6\n",
       "\\item 1\n",
       "\\item 3\n",
       "\\end{enumerate*}\n"
      ],
      "text/markdown": [
       "1. 6\n",
       "2. 1\n",
       "3. 3\n",
       "\n",
       "\n"
      ],
      "text/plain": [
       "[1] 6 1 3"
      ]
     },
     "metadata": {},
     "output_type": "display_data"
    }
   ],
   "source": [
    "# Indexing in R behaves just like indexing in linear algebra. \n",
    "# The first element is always indexed by 1\n",
    "vec <- c(6, 1, 3, 6, 10, 5)\n",
    "vec[1:3] # return elements at indicies 1, 2 and 3"
   ]
  },
  {
   "cell_type": "code",
   "execution_count": 9,
   "id": "8ad656cd",
   "metadata": {},
   "outputs": [
    {
     "data": {
      "text/html": [
       "<table>\n",
       "<thead><tr><th scope=col>face</th><th scope=col>suit</th></tr></thead>\n",
       "<tbody>\n",
       "\t<tr><td>king  </td><td>spades</td></tr>\n",
       "\t<tr><td>queen </td><td>spades</td></tr>\n",
       "</tbody>\n",
       "</table>\n"
      ],
      "text/latex": [
       "\\begin{tabular}{r|ll}\n",
       " face & suit\\\\\n",
       "\\hline\n",
       "\t king   & spades\\\\\n",
       "\t queen  & spades\\\\\n",
       "\\end{tabular}\n"
      ],
      "text/markdown": [
       "\n",
       "| face | suit |\n",
       "|---|---|\n",
       "| king   | spades |\n",
       "| queen  | spades |\n",
       "\n"
      ],
      "text/plain": [
       "  face  suit  \n",
       "1 king  spades\n",
       "2 queen spades"
      ]
     },
     "metadata": {},
     "output_type": "display_data"
    }
   ],
   "source": [
    "# Returns first two rows and first two columns\n",
    "deck[1:2, 1:2]"
   ]
  },
  {
   "cell_type": "code",
   "execution_count": 10,
   "id": "b2144f1f",
   "metadata": {},
   "outputs": [
    {
     "data": {
      "text/html": [
       "<ol class=list-inline>\n",
       "\t<li>king</li>\n",
       "\t<li>queen</li>\n",
       "</ol>\n",
       "\n",
       "<details>\n",
       "\t<summary style=display:list-item;cursor:pointer>\n",
       "\t\t<strong>Levels</strong>:\n",
       "\t</summary>\n",
       "\t<ol class=list-inline>\n",
       "\t\t<li>'ace'</li>\n",
       "\t\t<li>'eight'</li>\n",
       "\t\t<li>'five'</li>\n",
       "\t\t<li>'four'</li>\n",
       "\t\t<li>'jack'</li>\n",
       "\t\t<li>'king'</li>\n",
       "\t\t<li>'nine'</li>\n",
       "\t\t<li>'queen'</li>\n",
       "\t\t<li>'seven'</li>\n",
       "\t\t<li>'six'</li>\n",
       "\t\t<li>'ten'</li>\n",
       "\t\t<li>'three'</li>\n",
       "\t\t<li>'two'</li>\n",
       "\t</ol>\n",
       "</details>"
      ],
      "text/latex": [
       "\\begin{enumerate*}\n",
       "\\item king\n",
       "\\item queen\n",
       "\\end{enumerate*}\n",
       "\n",
       "\\emph{Levels}: \\begin{enumerate*}\n",
       "\\item 'ace'\n",
       "\\item 'eight'\n",
       "\\item 'five'\n",
       "\\item 'four'\n",
       "\\item 'jack'\n",
       "\\item 'king'\n",
       "\\item 'nine'\n",
       "\\item 'queen'\n",
       "\\item 'seven'\n",
       "\\item 'six'\n",
       "\\item 'ten'\n",
       "\\item 'three'\n",
       "\\item 'two'\n",
       "\\end{enumerate*}\n"
      ],
      "text/markdown": [
       "1. king\n",
       "2. queen\n",
       "\n",
       "\n",
       "\n",
       "**Levels**: 1. 'ace'\n",
       "2. 'eight'\n",
       "3. 'five'\n",
       "4. 'four'\n",
       "5. 'jack'\n",
       "6. 'king'\n",
       "7. 'nine'\n",
       "8. 'queen'\n",
       "9. 'seven'\n",
       "10. 'six'\n",
       "11. 'ten'\n",
       "12. 'three'\n",
       "13. 'two'\n",
       "\n",
       "\n"
      ],
      "text/plain": [
       "[1] king  queen\n",
       "Levels: ace eight five four jack king nine queen seven six ten three two"
      ]
     },
     "metadata": {},
     "output_type": "display_data"
    }
   ],
   "source": [
    "# Return first two rows and only first column \n",
    "# However, as we select a single column, R will return a vector\n",
    "deck[1:2, 1]"
   ]
  },
  {
   "cell_type": "code",
   "execution_count": 11,
   "id": "17481fe5",
   "metadata": {},
   "outputs": [
    {
     "data": {
      "text/html": [
       "<table>\n",
       "<thead><tr><th scope=col>face</th></tr></thead>\n",
       "<tbody>\n",
       "\t<tr><td>king </td></tr>\n",
       "\t<tr><td>queen</td></tr>\n",
       "</tbody>\n",
       "</table>\n"
      ],
      "text/latex": [
       "\\begin{tabular}{r|l}\n",
       " face\\\\\n",
       "\\hline\n",
       "\t king \\\\\n",
       "\t queen\\\\\n",
       "\\end{tabular}\n"
      ],
      "text/markdown": [
       "\n",
       "| face |\n",
       "|---|\n",
       "| king  |\n",
       "| queen |\n",
       "\n"
      ],
      "text/plain": [
       "  face \n",
       "1 king \n",
       "2 queen"
      ]
     },
     "metadata": {},
     "output_type": "display_data"
    }
   ],
   "source": [
    "# To get a data frame instead, we add the argument drop = FALSE \n",
    "deck[1:2, 1, drop = FALSE]"
   ]
  },
  {
   "cell_type": "code",
   "execution_count": 12,
   "id": "9f17477f",
   "metadata": {},
   "outputs": [
    {
     "data": {
      "text/html": [
       "<table>\n",
       "<thead><tr><th scope=col>face</th><th scope=col>suit</th><th scope=col>value</th></tr></thead>\n",
       "<tbody>\n",
       "\t<tr><td>king  </td><td>spades</td><td>13    </td></tr>\n",
       "\t<tr><td>queen </td><td>spades</td><td>12    </td></tr>\n",
       "</tbody>\n",
       "</table>\n"
      ],
      "text/latex": [
       "\\begin{tabular}{r|lll}\n",
       " face & suit & value\\\\\n",
       "\\hline\n",
       "\t king   & spades & 13    \\\\\n",
       "\t queen  & spades & 12    \\\\\n",
       "\\end{tabular}\n"
      ],
      "text/markdown": [
       "\n",
       "| face | suit | value |\n",
       "|---|---|---|\n",
       "| king   | spades | 13     |\n",
       "| queen  | spades | 12     |\n",
       "\n"
      ],
      "text/plain": [
       "  face  suit   value\n",
       "1 king  spades 13   \n",
       "2 queen spades 12   "
      ]
     },
     "metadata": {},
     "output_type": "display_data"
    }
   ],
   "source": [
    "# Negative indexing --> return every element except the elements in a negative index\n",
    "deck[-(3:52), 1:3] # so it returns first two rows"
   ]
  },
  {
   "cell_type": "code",
   "execution_count": 13,
   "id": "5799a2d4",
   "metadata": {},
   "outputs": [
    {
     "data": {
      "text/html": [],
      "text/latex": [],
      "text/markdown": [],
      "text/plain": [
       "<0 x 0 matrix>"
      ]
     },
     "metadata": {},
     "output_type": "display_data"
    }
   ],
   "source": [
    "#Zero index --> R will return nothing from a dimension when you use zero as an index.\n",
    "deck[0, 0]"
   ]
  },
  {
   "cell_type": "code",
   "execution_count": 14,
   "id": "b5fd0ff8",
   "metadata": {},
   "outputs": [
    {
     "data": {
      "text/html": [
       "<table>\n",
       "<thead><tr><th scope=col>face</th><th scope=col>suit</th><th scope=col>value</th></tr></thead>\n",
       "<tbody>\n",
       "\t<tr><td>king  </td><td>spades</td><td>13    </td></tr>\n",
       "</tbody>\n",
       "</table>\n"
      ],
      "text/latex": [
       "\\begin{tabular}{r|lll}\n",
       " face & suit & value\\\\\n",
       "\\hline\n",
       "\t king   & spades & 13    \\\\\n",
       "\\end{tabular}\n"
      ],
      "text/markdown": [
       "\n",
       "| face | suit | value |\n",
       "|---|---|---|\n",
       "| king   | spades | 13     |\n",
       "\n"
      ],
      "text/plain": [
       "  face suit   value\n",
       "1 king spades 13   "
      ]
     },
     "metadata": {},
     "output_type": "display_data"
    }
   ],
   "source": [
    "# Blank Spaces --> You can use a blank space to tell R to extract every value in a dimension.\n",
    "deck[1, ]"
   ]
  },
  {
   "cell_type": "code",
   "execution_count": 15,
   "id": "e02e548f",
   "metadata": {},
   "outputs": [
    {
     "data": {
      "text/html": [
       "<table>\n",
       "<thead><tr><th scope=col>face</th><th scope=col>suit</th></tr></thead>\n",
       "<tbody>\n",
       "\t<tr><td>king  </td><td>spades</td></tr>\n",
       "</tbody>\n",
       "</table>\n"
      ],
      "text/latex": [
       "\\begin{tabular}{r|ll}\n",
       " face & suit\\\\\n",
       "\\hline\n",
       "\t king   & spades\\\\\n",
       "\\end{tabular}\n"
      ],
      "text/markdown": [
       "\n",
       "| face | suit |\n",
       "|---|---|\n",
       "| king   | spades |\n",
       "\n"
      ],
      "text/plain": [
       "  face suit  \n",
       "1 king spades"
      ]
     },
     "metadata": {},
     "output_type": "display_data"
    }
   ],
   "source": [
    "# Logical Values --> R will then return each column that corresponds to a TRUE\n",
    "deck[1, c(TRUE, TRUE, FALSE)] # Here we are only asking for first two columns"
   ]
  },
  {
   "cell_type": "code",
   "execution_count": 16,
   "id": "3a07a006",
   "metadata": {},
   "outputs": [
    {
     "data": {
      "text/html": [
       "<table>\n",
       "<thead><tr><th scope=col>face</th><th scope=col>suit</th><th scope=col>value</th></tr></thead>\n",
       "<tbody>\n",
       "\t<tr><td>king  </td><td>spades</td><td>13    </td></tr>\n",
       "</tbody>\n",
       "</table>\n"
      ],
      "text/latex": [
       "\\begin{tabular}{r|lll}\n",
       " face & suit & value\\\\\n",
       "\\hline\n",
       "\t king   & spades & 13    \\\\\n",
       "\\end{tabular}\n"
      ],
      "text/markdown": [
       "\n",
       "| face | suit | value |\n",
       "|---|---|---|\n",
       "| king   | spades | 13     |\n",
       "\n"
      ],
      "text/plain": [
       "  face suit   value\n",
       "1 king spades 13   "
      ]
     },
     "metadata": {},
     "output_type": "display_data"
    }
   ],
   "source": [
    "# You can also use logical indexing for rows. Here are only asking for first row\n",
    "rows <- c(TRUE, F, F, F, F, F, F, F, F, F, F, F, F, F, F, F,\n",
    "F, F, F, F, F, F, F, F, F, F, F, F, F, F, F, F, F, F, F, F, F, F,\n",
    "F, F, F, F, F, F, F, F, F, F, F, F, F, F)\n",
    "deck[rows, ]"
   ]
  },
  {
   "cell_type": "code",
   "execution_count": 17,
   "id": "46e66c35",
   "metadata": {},
   "outputs": [
    {
     "data": {
      "text/html": [
       "<table>\n",
       "<thead><tr><th scope=col>face</th><th scope=col>suit</th><th scope=col>value</th></tr></thead>\n",
       "<tbody>\n",
       "\t<tr><td>king  </td><td>spades</td><td>13    </td></tr>\n",
       "</tbody>\n",
       "</table>\n"
      ],
      "text/latex": [
       "\\begin{tabular}{r|lll}\n",
       " face & suit & value\\\\\n",
       "\\hline\n",
       "\t king   & spades & 13    \\\\\n",
       "\\end{tabular}\n"
      ],
      "text/markdown": [
       "\n",
       "| face | suit | value |\n",
       "|---|---|---|\n",
       "| king   | spades | 13     |\n",
       "\n"
      ],
      "text/plain": [
       "  face suit   value\n",
       "1 king spades 13   "
      ]
     },
     "metadata": {},
     "output_type": "display_data"
    }
   ],
   "source": [
    "# Names --> We can ask for the elements we want by name\n",
    "deck[1, c(\"face\", \"suit\", \"value\")]"
   ]
  },
  {
   "cell_type": "code",
   "execution_count": 18,
   "id": "68d68849",
   "metadata": {},
   "outputs": [
    {
     "data": {
      "text/html": [
       "<ol class=list-inline>\n",
       "\t<li>13</li>\n",
       "\t<li>12</li>\n",
       "\t<li>11</li>\n",
       "\t<li>10</li>\n",
       "\t<li>9</li>\n",
       "\t<li>8</li>\n",
       "\t<li>7</li>\n",
       "\t<li>6</li>\n",
       "\t<li>5</li>\n",
       "\t<li>4</li>\n",
       "\t<li>3</li>\n",
       "\t<li>2</li>\n",
       "\t<li>1</li>\n",
       "\t<li>13</li>\n",
       "\t<li>12</li>\n",
       "\t<li>11</li>\n",
       "\t<li>10</li>\n",
       "\t<li>9</li>\n",
       "\t<li>8</li>\n",
       "\t<li>7</li>\n",
       "\t<li>6</li>\n",
       "\t<li>5</li>\n",
       "\t<li>4</li>\n",
       "\t<li>3</li>\n",
       "\t<li>2</li>\n",
       "\t<li>1</li>\n",
       "\t<li>13</li>\n",
       "\t<li>12</li>\n",
       "\t<li>11</li>\n",
       "\t<li>10</li>\n",
       "\t<li>9</li>\n",
       "\t<li>8</li>\n",
       "\t<li>7</li>\n",
       "\t<li>6</li>\n",
       "\t<li>5</li>\n",
       "\t<li>4</li>\n",
       "\t<li>3</li>\n",
       "\t<li>2</li>\n",
       "\t<li>1</li>\n",
       "\t<li>13</li>\n",
       "\t<li>12</li>\n",
       "\t<li>11</li>\n",
       "\t<li>10</li>\n",
       "\t<li>9</li>\n",
       "\t<li>8</li>\n",
       "\t<li>7</li>\n",
       "\t<li>6</li>\n",
       "\t<li>5</li>\n",
       "\t<li>4</li>\n",
       "\t<li>3</li>\n",
       "\t<li>2</li>\n",
       "\t<li>1</li>\n",
       "</ol>\n"
      ],
      "text/latex": [
       "\\begin{enumerate*}\n",
       "\\item 13\n",
       "\\item 12\n",
       "\\item 11\n",
       "\\item 10\n",
       "\\item 9\n",
       "\\item 8\n",
       "\\item 7\n",
       "\\item 6\n",
       "\\item 5\n",
       "\\item 4\n",
       "\\item 3\n",
       "\\item 2\n",
       "\\item 1\n",
       "\\item 13\n",
       "\\item 12\n",
       "\\item 11\n",
       "\\item 10\n",
       "\\item 9\n",
       "\\item 8\n",
       "\\item 7\n",
       "\\item 6\n",
       "\\item 5\n",
       "\\item 4\n",
       "\\item 3\n",
       "\\item 2\n",
       "\\item 1\n",
       "\\item 13\n",
       "\\item 12\n",
       "\\item 11\n",
       "\\item 10\n",
       "\\item 9\n",
       "\\item 8\n",
       "\\item 7\n",
       "\\item 6\n",
       "\\item 5\n",
       "\\item 4\n",
       "\\item 3\n",
       "\\item 2\n",
       "\\item 1\n",
       "\\item 13\n",
       "\\item 12\n",
       "\\item 11\n",
       "\\item 10\n",
       "\\item 9\n",
       "\\item 8\n",
       "\\item 7\n",
       "\\item 6\n",
       "\\item 5\n",
       "\\item 4\n",
       "\\item 3\n",
       "\\item 2\n",
       "\\item 1\n",
       "\\end{enumerate*}\n"
      ],
      "text/markdown": [
       "1. 13\n",
       "2. 12\n",
       "3. 11\n",
       "4. 10\n",
       "5. 9\n",
       "6. 8\n",
       "7. 7\n",
       "8. 6\n",
       "9. 5\n",
       "10. 4\n",
       "11. 3\n",
       "12. 2\n",
       "13. 1\n",
       "14. 13\n",
       "15. 12\n",
       "16. 11\n",
       "17. 10\n",
       "18. 9\n",
       "19. 8\n",
       "20. 7\n",
       "21. 6\n",
       "22. 5\n",
       "23. 4\n",
       "24. 3\n",
       "25. 2\n",
       "26. 1\n",
       "27. 13\n",
       "28. 12\n",
       "29. 11\n",
       "30. 10\n",
       "31. 9\n",
       "32. 8\n",
       "33. 7\n",
       "34. 6\n",
       "35. 5\n",
       "36. 4\n",
       "37. 3\n",
       "38. 2\n",
       "39. 1\n",
       "40. 13\n",
       "41. 12\n",
       "42. 11\n",
       "43. 10\n",
       "44. 9\n",
       "45. 8\n",
       "46. 7\n",
       "47. 6\n",
       "48. 5\n",
       "49. 4\n",
       "50. 3\n",
       "51. 2\n",
       "52. 1\n",
       "\n",
       "\n"
      ],
      "text/plain": [
       " [1] 13 12 11 10  9  8  7  6  5  4  3  2  1 13 12 11 10  9  8  7  6  5  4  3  2\n",
       "[26]  1 13 12 11 10  9  8  7  6  5  4  3  2  1 13 12 11 10  9  8  7  6  5  4  3\n",
       "[51]  2  1"
      ]
     },
     "metadata": {},
     "output_type": "display_data"
    }
   ],
   "source": [
    "deck[ , \"value\"] # This will return all rows and only the column \"value\" "
   ]
  },
  {
   "cell_type": "code",
   "execution_count": 19,
   "id": "ec6aa4fd",
   "metadata": {},
   "outputs": [
    {
     "data": {
      "text/html": [
       "<table>\n",
       "<thead><tr><th></th><th scope=col>face</th><th scope=col>suit</th><th scope=col>value</th></tr></thead>\n",
       "<tbody>\n",
       "\t<tr><th scope=row>2</th><td>queen </td><td>spades</td><td>12    </td></tr>\n",
       "\t<tr><th scope=row>1</th><td>king  </td><td>spades</td><td>13    </td></tr>\n",
       "\t<tr><th scope=row>3</th><td>jack  </td><td>spades</td><td>11    </td></tr>\n",
       "\t<tr><th scope=row>4</th><td>ten   </td><td>spades</td><td>10    </td></tr>\n",
       "\t<tr><th scope=row>5</th><td>nine  </td><td>spades</td><td> 9    </td></tr>\n",
       "</tbody>\n",
       "</table>\n"
      ],
      "text/latex": [
       "\\begin{tabular}{r|lll}\n",
       "  & face & suit & value\\\\\n",
       "\\hline\n",
       "\t2 & queen  & spades & 12    \\\\\n",
       "\t1 & king   & spades & 13    \\\\\n",
       "\t3 & jack   & spades & 11    \\\\\n",
       "\t4 & ten    & spades & 10    \\\\\n",
       "\t5 & nine   & spades &  9    \\\\\n",
       "\\end{tabular}\n"
      ],
      "text/markdown": [
       "\n",
       "| <!--/--> | face | suit | value |\n",
       "|---|---|---|---|\n",
       "| 2 | queen  | spades | 12     |\n",
       "| 1 | king   | spades | 13     |\n",
       "| 3 | jack   | spades | 11     |\n",
       "| 4 | ten    | spades | 10     |\n",
       "| 5 | nine   | spades |  9     |\n",
       "\n"
      ],
      "text/plain": [
       "  face  suit   value\n",
       "2 queen spades 12   \n",
       "1 king  spades 13   \n",
       "3 jack  spades 11   \n",
       "4 ten   spades 10   \n",
       "5 nine  spades  9   "
      ]
     },
     "metadata": {},
     "output_type": "display_data"
    }
   ],
   "source": [
    "deck3 <- deck[c(2, 1, 3:5), ] # This will return row 2, row 1 and rows 3 to 5 in that order\n",
    "deck3"
   ]
  },
  {
   "cell_type": "code",
   "execution_count": 20,
   "id": "258411b4",
   "metadata": {},
   "outputs": [
    {
     "data": {
      "text/html": [
       "<ol class=list-inline>\n",
       "\t<li>20</li>\n",
       "\t<li>45</li>\n",
       "\t<li>33</li>\n",
       "\t<li>44</li>\n",
       "\t<li>10</li>\n",
       "\t<li>19</li>\n",
       "\t<li>3</li>\n",
       "\t<li>6</li>\n",
       "\t<li>8</li>\n",
       "\t<li>1</li>\n",
       "\t<li>51</li>\n",
       "\t<li>27</li>\n",
       "\t<li>49</li>\n",
       "\t<li>31</li>\n",
       "\t<li>46</li>\n",
       "\t<li>43</li>\n",
       "\t<li>17</li>\n",
       "\t<li>41</li>\n",
       "\t<li>26</li>\n",
       "\t<li>18</li>\n",
       "\t<li>52</li>\n",
       "\t<li>39</li>\n",
       "\t<li>15</li>\n",
       "\t<li>30</li>\n",
       "\t<li>25</li>\n",
       "\t<li>2</li>\n",
       "\t<li>22</li>\n",
       "\t<li>48</li>\n",
       "\t<li>12</li>\n",
       "\t<li>4</li>\n",
       "\t<li>38</li>\n",
       "\t<li>5</li>\n",
       "\t<li>42</li>\n",
       "\t<li>7</li>\n",
       "\t<li>16</li>\n",
       "\t<li>50</li>\n",
       "\t<li>37</li>\n",
       "\t<li>28</li>\n",
       "\t<li>13</li>\n",
       "\t<li>29</li>\n",
       "\t<li>24</li>\n",
       "\t<li>40</li>\n",
       "\t<li>32</li>\n",
       "\t<li>14</li>\n",
       "\t<li>36</li>\n",
       "\t<li>9</li>\n",
       "\t<li>47</li>\n",
       "\t<li>35</li>\n",
       "\t<li>34</li>\n",
       "\t<li>23</li>\n",
       "\t<li>11</li>\n",
       "\t<li>21</li>\n",
       "</ol>\n"
      ],
      "text/latex": [
       "\\begin{enumerate*}\n",
       "\\item 20\n",
       "\\item 45\n",
       "\\item 33\n",
       "\\item 44\n",
       "\\item 10\n",
       "\\item 19\n",
       "\\item 3\n",
       "\\item 6\n",
       "\\item 8\n",
       "\\item 1\n",
       "\\item 51\n",
       "\\item 27\n",
       "\\item 49\n",
       "\\item 31\n",
       "\\item 46\n",
       "\\item 43\n",
       "\\item 17\n",
       "\\item 41\n",
       "\\item 26\n",
       "\\item 18\n",
       "\\item 52\n",
       "\\item 39\n",
       "\\item 15\n",
       "\\item 30\n",
       "\\item 25\n",
       "\\item 2\n",
       "\\item 22\n",
       "\\item 48\n",
       "\\item 12\n",
       "\\item 4\n",
       "\\item 38\n",
       "\\item 5\n",
       "\\item 42\n",
       "\\item 7\n",
       "\\item 16\n",
       "\\item 50\n",
       "\\item 37\n",
       "\\item 28\n",
       "\\item 13\n",
       "\\item 29\n",
       "\\item 24\n",
       "\\item 40\n",
       "\\item 32\n",
       "\\item 14\n",
       "\\item 36\n",
       "\\item 9\n",
       "\\item 47\n",
       "\\item 35\n",
       "\\item 34\n",
       "\\item 23\n",
       "\\item 11\n",
       "\\item 21\n",
       "\\end{enumerate*}\n"
      ],
      "text/markdown": [
       "1. 20\n",
       "2. 45\n",
       "3. 33\n",
       "4. 44\n",
       "5. 10\n",
       "6. 19\n",
       "7. 3\n",
       "8. 6\n",
       "9. 8\n",
       "10. 1\n",
       "11. 51\n",
       "12. 27\n",
       "13. 49\n",
       "14. 31\n",
       "15. 46\n",
       "16. 43\n",
       "17. 17\n",
       "18. 41\n",
       "19. 26\n",
       "20. 18\n",
       "21. 52\n",
       "22. 39\n",
       "23. 15\n",
       "24. 30\n",
       "25. 25\n",
       "26. 2\n",
       "27. 22\n",
       "28. 48\n",
       "29. 12\n",
       "30. 4\n",
       "31. 38\n",
       "32. 5\n",
       "33. 42\n",
       "34. 7\n",
       "35. 16\n",
       "36. 50\n",
       "37. 37\n",
       "38. 28\n",
       "39. 13\n",
       "40. 29\n",
       "41. 24\n",
       "42. 40\n",
       "43. 32\n",
       "44. 14\n",
       "45. 36\n",
       "46. 9\n",
       "47. 47\n",
       "48. 35\n",
       "49. 34\n",
       "50. 23\n",
       "51. 11\n",
       "52. 21\n",
       "\n",
       "\n"
      ],
      "text/plain": [
       " [1] 20 45 33 44 10 19  3  6  8  1 51 27 49 31 46 43 17 41 26 18 52 39 15 30 25\n",
       "[26]  2 22 48 12  4 38  5 42  7 16 50 37 28 13 29 24 40 32 14 36  9 47 35 34 23\n",
       "[51] 11 21"
      ]
     },
     "metadata": {},
     "output_type": "display_data"
    }
   ],
   "source": [
    "random <- sample(1:52, size = 52) # Sample 52 random values between 1, 52 without replacement\n",
    "random"
   ]
  },
  {
   "cell_type": "code",
   "execution_count": 21,
   "id": "7e6944c5",
   "metadata": {},
   "outputs": [
    {
     "data": {
      "text/html": [
       "<table>\n",
       "<thead><tr><th></th><th scope=col>face</th><th scope=col>suit</th><th scope=col>value</th></tr></thead>\n",
       "<tbody>\n",
       "\t<tr><th scope=row>20</th><td>seven   </td><td>clubs   </td><td>7       </td></tr>\n",
       "\t<tr><th scope=row>45</th><td>eight   </td><td>hearts  </td><td>8       </td></tr>\n",
       "\t<tr><th scope=row>33</th><td>seven   </td><td>diamonds</td><td>7       </td></tr>\n",
       "\t<tr><th scope=row>44</th><td>nine    </td><td>hearts  </td><td>9       </td></tr>\n",
       "\t<tr><th scope=row>10</th><td>four    </td><td>spades  </td><td>4       </td></tr>\n",
       "\t<tr><th scope=row>19</th><td>eight   </td><td>clubs   </td><td>8       </td></tr>\n",
       "</tbody>\n",
       "</table>\n"
      ],
      "text/latex": [
       "\\begin{tabular}{r|lll}\n",
       "  & face & suit & value\\\\\n",
       "\\hline\n",
       "\t20 & seven    & clubs    & 7       \\\\\n",
       "\t45 & eight    & hearts   & 8       \\\\\n",
       "\t33 & seven    & diamonds & 7       \\\\\n",
       "\t44 & nine     & hearts   & 9       \\\\\n",
       "\t10 & four     & spades   & 4       \\\\\n",
       "\t19 & eight    & clubs    & 8       \\\\\n",
       "\\end{tabular}\n"
      ],
      "text/markdown": [
       "\n",
       "| <!--/--> | face | suit | value |\n",
       "|---|---|---|---|\n",
       "| 20 | seven    | clubs    | 7        |\n",
       "| 45 | eight    | hearts   | 8        |\n",
       "| 33 | seven    | diamonds | 7        |\n",
       "| 44 | nine     | hearts   | 9        |\n",
       "| 10 | four     | spades   | 4        |\n",
       "| 19 | eight    | clubs    | 8        |\n",
       "\n"
      ],
      "text/plain": [
       "   face  suit     value\n",
       "20 seven clubs    7    \n",
       "45 eight hearts   8    \n",
       "33 seven diamonds 7    \n",
       "44 nine  hearts   9    \n",
       "10 four  spades   4    \n",
       "19 eight clubs    8    "
      ]
     },
     "metadata": {},
     "output_type": "display_data"
    }
   ],
   "source": [
    "deck4 <- deck[random, ] # Use the random values as indicies to get a shuffled deck\n",
    "head(deck4)"
   ]
  },
  {
   "cell_type": "code",
   "execution_count": 22,
   "id": "43071674",
   "metadata": {},
   "outputs": [],
   "source": [
    "#this function shuffles the cards in the deck \n",
    "shuffle <- function(cards) {\n",
    "    random <- sample(1:52, size = 52) # here we are creating a array with random values between 1 and 52\n",
    "    cards[random, ] # use the random values as indicies to pick cards from the deck \n",
    "}"
   ]
  },
  {
   "cell_type": "code",
   "execution_count": 23,
   "id": "e7be6c7f",
   "metadata": {},
   "outputs": [
    {
     "data": {
      "text/html": [
       "<table>\n",
       "<thead><tr><th scope=col>face</th><th scope=col>suit</th><th scope=col>value</th></tr></thead>\n",
       "<tbody>\n",
       "\t<tr><td>king  </td><td>spades</td><td>13    </td></tr>\n",
       "</tbody>\n",
       "</table>\n"
      ],
      "text/latex": [
       "\\begin{tabular}{r|lll}\n",
       " face & suit & value\\\\\n",
       "\\hline\n",
       "\t king   & spades & 13    \\\\\n",
       "\\end{tabular}\n"
      ],
      "text/markdown": [
       "\n",
       "| face | suit | value |\n",
       "|---|---|---|\n",
       "| king   | spades | 13     |\n",
       "\n"
      ],
      "text/plain": [
       "  face suit   value\n",
       "1 king spades 13   "
      ]
     },
     "metadata": {},
     "output_type": "display_data"
    },
    {
     "data": {
      "text/html": [
       "<table>\n",
       "<thead><tr><th></th><th scope=col>face</th><th scope=col>suit</th><th scope=col>value</th></tr></thead>\n",
       "<tbody>\n",
       "\t<tr><th scope=row>38</th><td>two     </td><td>diamonds</td><td>2       </td></tr>\n",
       "</tbody>\n",
       "</table>\n"
      ],
      "text/latex": [
       "\\begin{tabular}{r|lll}\n",
       "  & face & suit & value\\\\\n",
       "\\hline\n",
       "\t38 & two      & diamonds & 2       \\\\\n",
       "\\end{tabular}\n"
      ],
      "text/markdown": [
       "\n",
       "| <!--/--> | face | suit | value |\n",
       "|---|---|---|---|\n",
       "| 38 | two      | diamonds | 2        |\n",
       "\n"
      ],
      "text/plain": [
       "   face suit     value\n",
       "38 two  diamonds 2    "
      ]
     },
     "metadata": {},
     "output_type": "display_data"
    }
   ],
   "source": [
    "deal(deck) # Each time this will return king of spades\n",
    "\n",
    "deck2 <- shuffle(deck)\n",
    "deal(deck2) # If you shuffle then you will have a new card each time you deal"
   ]
  },
  {
   "cell_type": "code",
   "execution_count": 24,
   "id": "15a029c6",
   "metadata": {},
   "outputs": [
    {
     "data": {
      "text/html": [
       "<ol class=list-inline>\n",
       "\t<li>13</li>\n",
       "\t<li>12</li>\n",
       "\t<li>11</li>\n",
       "\t<li>10</li>\n",
       "\t<li>9</li>\n",
       "\t<li>8</li>\n",
       "\t<li>7</li>\n",
       "\t<li>6</li>\n",
       "\t<li>5</li>\n",
       "\t<li>4</li>\n",
       "\t<li>3</li>\n",
       "\t<li>2</li>\n",
       "\t<li>1</li>\n",
       "\t<li>13</li>\n",
       "\t<li>12</li>\n",
       "\t<li>11</li>\n",
       "\t<li>10</li>\n",
       "\t<li>9</li>\n",
       "\t<li>8</li>\n",
       "\t<li>7</li>\n",
       "\t<li>6</li>\n",
       "\t<li>5</li>\n",
       "\t<li>4</li>\n",
       "\t<li>3</li>\n",
       "\t<li>2</li>\n",
       "\t<li>1</li>\n",
       "\t<li>13</li>\n",
       "\t<li>12</li>\n",
       "\t<li>11</li>\n",
       "\t<li>10</li>\n",
       "\t<li>9</li>\n",
       "\t<li>8</li>\n",
       "\t<li>7</li>\n",
       "\t<li>6</li>\n",
       "\t<li>5</li>\n",
       "\t<li>4</li>\n",
       "\t<li>3</li>\n",
       "\t<li>2</li>\n",
       "\t<li>1</li>\n",
       "\t<li>13</li>\n",
       "\t<li>12</li>\n",
       "\t<li>11</li>\n",
       "\t<li>10</li>\n",
       "\t<li>9</li>\n",
       "\t<li>8</li>\n",
       "\t<li>7</li>\n",
       "\t<li>6</li>\n",
       "\t<li>5</li>\n",
       "\t<li>4</li>\n",
       "\t<li>3</li>\n",
       "\t<li>2</li>\n",
       "\t<li>1</li>\n",
       "</ol>\n"
      ],
      "text/latex": [
       "\\begin{enumerate*}\n",
       "\\item 13\n",
       "\\item 12\n",
       "\\item 11\n",
       "\\item 10\n",
       "\\item 9\n",
       "\\item 8\n",
       "\\item 7\n",
       "\\item 6\n",
       "\\item 5\n",
       "\\item 4\n",
       "\\item 3\n",
       "\\item 2\n",
       "\\item 1\n",
       "\\item 13\n",
       "\\item 12\n",
       "\\item 11\n",
       "\\item 10\n",
       "\\item 9\n",
       "\\item 8\n",
       "\\item 7\n",
       "\\item 6\n",
       "\\item 5\n",
       "\\item 4\n",
       "\\item 3\n",
       "\\item 2\n",
       "\\item 1\n",
       "\\item 13\n",
       "\\item 12\n",
       "\\item 11\n",
       "\\item 10\n",
       "\\item 9\n",
       "\\item 8\n",
       "\\item 7\n",
       "\\item 6\n",
       "\\item 5\n",
       "\\item 4\n",
       "\\item 3\n",
       "\\item 2\n",
       "\\item 1\n",
       "\\item 13\n",
       "\\item 12\n",
       "\\item 11\n",
       "\\item 10\n",
       "\\item 9\n",
       "\\item 8\n",
       "\\item 7\n",
       "\\item 6\n",
       "\\item 5\n",
       "\\item 4\n",
       "\\item 3\n",
       "\\item 2\n",
       "\\item 1\n",
       "\\end{enumerate*}\n"
      ],
      "text/markdown": [
       "1. 13\n",
       "2. 12\n",
       "3. 11\n",
       "4. 10\n",
       "5. 9\n",
       "6. 8\n",
       "7. 7\n",
       "8. 6\n",
       "9. 5\n",
       "10. 4\n",
       "11. 3\n",
       "12. 2\n",
       "13. 1\n",
       "14. 13\n",
       "15. 12\n",
       "16. 11\n",
       "17. 10\n",
       "18. 9\n",
       "19. 8\n",
       "20. 7\n",
       "21. 6\n",
       "22. 5\n",
       "23. 4\n",
       "24. 3\n",
       "25. 2\n",
       "26. 1\n",
       "27. 13\n",
       "28. 12\n",
       "29. 11\n",
       "30. 10\n",
       "31. 9\n",
       "32. 8\n",
       "33. 7\n",
       "34. 6\n",
       "35. 5\n",
       "36. 4\n",
       "37. 3\n",
       "38. 2\n",
       "39. 1\n",
       "40. 13\n",
       "41. 12\n",
       "42. 11\n",
       "43. 10\n",
       "44. 9\n",
       "45. 8\n",
       "46. 7\n",
       "47. 6\n",
       "48. 5\n",
       "49. 4\n",
       "50. 3\n",
       "51. 2\n",
       "52. 1\n",
       "\n",
       "\n"
      ],
      "text/plain": [
       " [1] 13 12 11 10  9  8  7  6  5  4  3  2  1 13 12 11 10  9  8  7  6  5  4  3  2\n",
       "[26]  1 13 12 11 10  9  8  7  6  5  4  3  2  1 13 12 11 10  9  8  7  6  5  4  3\n",
       "[51]  2  1"
      ]
     },
     "metadata": {},
     "output_type": "display_data"
    }
   ],
   "source": [
    "# Dollar Signs\n",
    "# You can extract values from data frames and lists with the $ syntax.\n",
    "# To select a column, write the data frame’s name and the column name separated by a $.\n",
    "# R will return all of the values in the column as a vector.\n",
    "deck$value"
   ]
  },
  {
   "cell_type": "code",
   "execution_count": 25,
   "id": "d3e4ac62",
   "metadata": {},
   "outputs": [
    {
     "data": {
      "text/html": [
       "7"
      ],
      "text/latex": [
       "7"
      ],
      "text/markdown": [
       "7"
      ],
      "text/plain": [
       "[1] 7"
      ]
     },
     "metadata": {},
     "output_type": "display_data"
    }
   ],
   "source": [
    "mean(deck$value)"
   ]
  },
  {
   "cell_type": "code",
   "execution_count": 26,
   "id": "e9193b7a",
   "metadata": {},
   "outputs": [
    {
     "data": {
      "text/html": [
       "7"
      ],
      "text/latex": [
       "7"
      ],
      "text/markdown": [
       "7"
      ],
      "text/plain": [
       "[1] 7"
      ]
     },
     "metadata": {},
     "output_type": "display_data"
    }
   ],
   "source": [
    "median(deck$value)"
   ]
  },
  {
   "cell_type": "code",
   "execution_count": 27,
   "id": "0a3d928e",
   "metadata": {},
   "outputs": [
    {
     "data": {
      "text/html": [
       "<dl>\n",
       "\t<dt>$numbers</dt>\n",
       "\t\t<dd><ol class=list-inline>\n",
       "\t<li>1</li>\n",
       "\t<li>2</li>\n",
       "</ol>\n",
       "</dd>\n",
       "\t<dt>$logical</dt>\n",
       "\t\t<dd>TRUE</dd>\n",
       "\t<dt>$strings</dt>\n",
       "\t\t<dd><ol class=list-inline>\n",
       "\t<li>'a'</li>\n",
       "\t<li>'b'</li>\n",
       "\t<li>'c'</li>\n",
       "</ol>\n",
       "</dd>\n",
       "</dl>\n"
      ],
      "text/latex": [
       "\\begin{description}\n",
       "\\item[\\$numbers] \\begin{enumerate*}\n",
       "\\item 1\n",
       "\\item 2\n",
       "\\end{enumerate*}\n",
       "\n",
       "\\item[\\$logical] TRUE\n",
       "\\item[\\$strings] \\begin{enumerate*}\n",
       "\\item 'a'\n",
       "\\item 'b'\n",
       "\\item 'c'\n",
       "\\end{enumerate*}\n",
       "\n",
       "\\end{description}\n"
      ],
      "text/markdown": [
       "$numbers\n",
       ":   1. 1\n",
       "2. 2\n",
       "\n",
       "\n",
       "\n",
       "$logical\n",
       ":   TRUE\n",
       "$strings\n",
       ":   1. 'a'\n",
       "2. 'b'\n",
       "3. 'c'\n",
       "\n",
       "\n",
       "\n",
       "\n",
       "\n"
      ],
      "text/plain": [
       "$numbers\n",
       "[1] 1 2\n",
       "\n",
       "$logical\n",
       "[1] TRUE\n",
       "\n",
       "$strings\n",
       "[1] \"a\" \"b\" \"c\"\n"
      ]
     },
     "metadata": {},
     "output_type": "display_data"
    }
   ],
   "source": [
    "#You can use the same $ notation with the elements of a list, if they have names\n",
    "lst <- list(numbers = c(1, 2), logical = TRUE, strings = c(\"a\", \"b\", \"c\"))\n",
    "lst"
   ]
  },
  {
   "cell_type": "code",
   "execution_count": 28,
   "id": "3da986d3",
   "metadata": {},
   "outputs": [
    {
     "data": {
      "text/html": [
       "<strong>$numbers</strong> = <ol class=list-inline>\n",
       "\t<li>1</li>\n",
       "\t<li>2</li>\n",
       "</ol>\n"
      ],
      "text/latex": [
       "\\textbf{\\$numbers} = \\begin{enumerate*}\n",
       "\\item 1\n",
       "\\item 2\n",
       "\\end{enumerate*}\n"
      ],
      "text/markdown": [
       "**$numbers** = 1. 1\n",
       "2. 2\n",
       "\n",
       "\n"
      ],
      "text/plain": [
       "$numbers\n",
       "[1] 1 2\n"
      ]
     },
     "metadata": {},
     "output_type": "display_data"
    }
   ],
   "source": [
    "lst[1]"
   ]
  },
  {
   "cell_type": "code",
   "execution_count": 29,
   "id": "f8832402",
   "metadata": {},
   "outputs": [],
   "source": [
    "#sum(lst[1]) # results in error as many R functions do not work with lists"
   ]
  },
  {
   "cell_type": "code",
   "execution_count": 30,
   "id": "90f22988",
   "metadata": {},
   "outputs": [
    {
     "data": {
      "text/html": [
       "<ol class=list-inline>\n",
       "\t<li>1</li>\n",
       "\t<li>2</li>\n",
       "</ol>\n"
      ],
      "text/latex": [
       "\\begin{enumerate*}\n",
       "\\item 1\n",
       "\\item 2\n",
       "\\end{enumerate*}\n"
      ],
      "text/markdown": [
       "1. 1\n",
       "2. 2\n",
       "\n",
       "\n"
      ],
      "text/plain": [
       "[1] 1 2"
      ]
     },
     "metadata": {},
     "output_type": "display_data"
    }
   ],
   "source": [
    "#When you use the $ notation, R will return the selected values as vectors\n",
    "lst$numbers "
   ]
  },
  {
   "cell_type": "code",
   "execution_count": 31,
   "id": "f901374f",
   "metadata": {},
   "outputs": [
    {
     "data": {
      "text/html": [
       "3"
      ],
      "text/latex": [
       "3"
      ],
      "text/markdown": [
       "3"
      ],
      "text/plain": [
       "[1] 3"
      ]
     },
     "metadata": {},
     "output_type": "display_data"
    }
   ],
   "source": [
    "sum(lst$numbers)"
   ]
  },
  {
   "cell_type": "code",
   "execution_count": 32,
   "id": "d017167a",
   "metadata": {},
   "outputs": [
    {
     "data": {
      "text/html": [
       "<ol class=list-inline>\n",
       "\t<li>1</li>\n",
       "\t<li>2</li>\n",
       "</ol>\n"
      ],
      "text/latex": [
       "\\begin{enumerate*}\n",
       "\\item 1\n",
       "\\item 2\n",
       "\\end{enumerate*}\n"
      ],
      "text/markdown": [
       "1. 1\n",
       "2. 2\n",
       "\n",
       "\n"
      ],
      "text/plain": [
       "[1] 1 2"
      ]
     },
     "metadata": {},
     "output_type": "display_data"
    }
   ],
   "source": [
    "#Double brackets\n",
    "#If the elements in your list do not have names you can use two brackets, instead of one\n",
    "#to subset the list. This notation will do the same thing as the $ notation\n",
    "lst[[1]]"
   ]
  },
  {
   "cell_type": "code",
   "execution_count": 33,
   "id": "3961031a",
   "metadata": {},
   "outputs": [
    {
     "data": {
      "text/html": [
       "<strong>$numbers</strong> = <ol class=list-inline>\n",
       "\t<li>1</li>\n",
       "\t<li>2</li>\n",
       "</ol>\n"
      ],
      "text/latex": [
       "\\textbf{\\$numbers} = \\begin{enumerate*}\n",
       "\\item 1\n",
       "\\item 2\n",
       "\\end{enumerate*}\n"
      ],
      "text/markdown": [
       "**$numbers** = 1. 1\n",
       "2. 2\n",
       "\n",
       "\n"
      ],
      "text/plain": [
       "$numbers\n",
       "[1] 1 2\n"
      ]
     },
     "metadata": {},
     "output_type": "display_data"
    }
   ],
   "source": [
    "lst[\"numbers\"]"
   ]
  },
  {
   "cell_type": "code",
   "execution_count": 34,
   "id": "4c62ee0e",
   "metadata": {},
   "outputs": [
    {
     "data": {
      "text/html": [
       "<ol class=list-inline>\n",
       "\t<li>1</li>\n",
       "\t<li>2</li>\n",
       "</ol>\n"
      ],
      "text/latex": [
       "\\begin{enumerate*}\n",
       "\\item 1\n",
       "\\item 2\n",
       "\\end{enumerate*}\n"
      ],
      "text/markdown": [
       "1. 1\n",
       "2. 2\n",
       "\n",
       "\n"
      ],
      "text/plain": [
       "[1] 1 2"
      ]
     },
     "metadata": {},
     "output_type": "display_data"
    }
   ],
   "source": [
    "lst[[\"numbers\"]]"
   ]
  },
  {
   "attachments": {
    "image.png": {
     "image/png": "[encoded data removed]"
    }
   },
   "cell_type": "markdown",
   "id": "fc918f1d",
   "metadata": {},
   "source": [
    "![image.png](attachment:image.png)"
   ]
  },
  {
   "cell_type": "markdown",
   "id": "fe7c4536",
   "metadata": {},
   "source": [
    "# Modifying Values"
   ]
  },
  {
   "cell_type": "code",
   "execution_count": 35,
   "id": "ac99df9d",
   "metadata": {},
   "outputs": [
    {
     "data": {
      "text/html": [
       "<ol class=list-inline>\n",
       "\t<li>0</li>\n",
       "\t<li>0</li>\n",
       "\t<li>0</li>\n",
       "\t<li>0</li>\n",
       "\t<li>0</li>\n",
       "\t<li>0</li>\n",
       "</ol>\n"
      ],
      "text/latex": [
       "\\begin{enumerate*}\n",
       "\\item 0\n",
       "\\item 0\n",
       "\\item 0\n",
       "\\item 0\n",
       "\\item 0\n",
       "\\item 0\n",
       "\\end{enumerate*}\n"
      ],
      "text/markdown": [
       "1. 0\n",
       "2. 0\n",
       "3. 0\n",
       "4. 0\n",
       "5. 0\n",
       "6. 0\n",
       "\n",
       "\n"
      ],
      "text/plain": [
       "[1] 0 0 0 0 0 0"
      ]
     },
     "metadata": {},
     "output_type": "display_data"
    }
   ],
   "source": [
    "# create a vector of length 6 containing 0's\n",
    "vec <- c(0, 0, 0, 0, 0, 0)\n",
    "vec"
   ]
  },
  {
   "cell_type": "code",
   "execution_count": 36,
   "id": "136eaaba",
   "metadata": {},
   "outputs": [
    {
     "data": {
      "text/html": [
       "0"
      ],
      "text/latex": [
       "0"
      ],
      "text/markdown": [
       "0"
      ],
      "text/plain": [
       "[1] 0"
      ]
     },
     "metadata": {},
     "output_type": "display_data"
    }
   ],
   "source": [
    "vec[1]"
   ]
  },
  {
   "cell_type": "code",
   "execution_count": 37,
   "id": "2bbd668c",
   "metadata": {},
   "outputs": [
    {
     "data": {
      "text/html": [
       "<ol class=list-inline>\n",
       "\t<li>1000</li>\n",
       "\t<li>0</li>\n",
       "\t<li>0</li>\n",
       "\t<li>0</li>\n",
       "\t<li>0</li>\n",
       "\t<li>0</li>\n",
       "</ol>\n"
      ],
      "text/latex": [
       "\\begin{enumerate*}\n",
       "\\item 1000\n",
       "\\item 0\n",
       "\\item 0\n",
       "\\item 0\n",
       "\\item 0\n",
       "\\item 0\n",
       "\\end{enumerate*}\n"
      ],
      "text/markdown": [
       "1. 1000\n",
       "2. 0\n",
       "3. 0\n",
       "4. 0\n",
       "5. 0\n",
       "6. 0\n",
       "\n",
       "\n"
      ],
      "text/plain": [
       "[1] 1000    0    0    0    0    0"
      ]
     },
     "metadata": {},
     "output_type": "display_data"
    }
   ],
   "source": [
    "vec[1] <- 1000 # we can modify the value of an element in the vector\n",
    "vec"
   ]
  },
  {
   "cell_type": "code",
   "execution_count": 38,
   "id": "86046900",
   "metadata": {},
   "outputs": [
    {
     "data": {
      "text/html": [
       "<ol class=list-inline>\n",
       "\t<li>1</li>\n",
       "\t<li>0</li>\n",
       "\t<li>1</li>\n",
       "\t<li>0</li>\n",
       "\t<li>1</li>\n",
       "\t<li>0</li>\n",
       "</ol>\n"
      ],
      "text/latex": [
       "\\begin{enumerate*}\n",
       "\\item 1\n",
       "\\item 0\n",
       "\\item 1\n",
       "\\item 0\n",
       "\\item 1\n",
       "\\item 0\n",
       "\\end{enumerate*}\n"
      ],
      "text/markdown": [
       "1. 1\n",
       "2. 0\n",
       "3. 1\n",
       "4. 0\n",
       "5. 1\n",
       "6. 0\n",
       "\n",
       "\n"
      ],
      "text/plain": [
       "[1] 1 0 1 0 1 0"
      ]
     },
     "metadata": {},
     "output_type": "display_data"
    }
   ],
   "source": [
    "vec[c(1, 3, 5)] <- c(1, 1, 1) # we can modify the value at specific indicies in the vector\n",
    "vec"
   ]
  },
  {
   "cell_type": "code",
   "execution_count": 39,
   "id": "c4c09886",
   "metadata": {},
   "outputs": [
    {
     "data": {
      "text/html": [
       "<ol class=list-inline>\n",
       "\t<li>1</li>\n",
       "\t<li>0</li>\n",
       "\t<li>1</li>\n",
       "\t<li>1</li>\n",
       "\t<li>2</li>\n",
       "\t<li>1</li>\n",
       "</ol>\n"
      ],
      "text/latex": [
       "\\begin{enumerate*}\n",
       "\\item 1\n",
       "\\item 0\n",
       "\\item 1\n",
       "\\item 1\n",
       "\\item 2\n",
       "\\item 1\n",
       "\\end{enumerate*}\n"
      ],
      "text/markdown": [
       "1. 1\n",
       "2. 0\n",
       "3. 1\n",
       "4. 1\n",
       "5. 2\n",
       "6. 1\n",
       "\n",
       "\n"
      ],
      "text/plain": [
       "[1] 1 0 1 1 2 1"
      ]
     },
     "metadata": {},
     "output_type": "display_data"
    }
   ],
   "source": [
    "vec[4:6] <- vec[4:6] + 1 # Adding 1 to the elements at indicies 4, 5 and 6\n",
    "vec"
   ]
  },
  {
   "cell_type": "code",
   "execution_count": 40,
   "id": "585541e4",
   "metadata": {},
   "outputs": [
    {
     "data": {
      "text/html": [
       "<ol class=list-inline>\n",
       "\t<li>1</li>\n",
       "\t<li>0</li>\n",
       "\t<li>1</li>\n",
       "\t<li>1</li>\n",
       "\t<li>2</li>\n",
       "\t<li>1</li>\n",
       "\t<li>0</li>\n",
       "</ol>\n"
      ],
      "text/latex": [
       "\\begin{enumerate*}\n",
       "\\item 1\n",
       "\\item 0\n",
       "\\item 1\n",
       "\\item 1\n",
       "\\item 2\n",
       "\\item 1\n",
       "\\item 0\n",
       "\\end{enumerate*}\n"
      ],
      "text/markdown": [
       "1. 1\n",
       "2. 0\n",
       "3. 1\n",
       "4. 1\n",
       "5. 2\n",
       "6. 1\n",
       "7. 0\n",
       "\n",
       "\n"
      ],
      "text/plain": [
       "[1] 1 0 1 1 2 1 0"
      ]
     },
     "metadata": {},
     "output_type": "display_data"
    }
   ],
   "source": [
    "vec[7] <- 0 # 7th element is added to the vector\n",
    "vec"
   ]
  },
  {
   "cell_type": "code",
   "execution_count": 41,
   "id": "19f57e14",
   "metadata": {},
   "outputs": [
    {
     "data": {
      "text/html": [
       "<table>\n",
       "<thead><tr><th></th><th scope=col>face</th><th scope=col>suit</th><th scope=col>value</th><th scope=col>new</th></tr></thead>\n",
       "<tbody>\n",
       "\t<tr><th scope=row>38</th><td>two     </td><td>diamonds</td><td> 2      </td><td>1       </td></tr>\n",
       "\t<tr><th scope=row>37</th><td>three   </td><td>diamonds</td><td> 3      </td><td>2       </td></tr>\n",
       "\t<tr><th scope=row>51</th><td>two     </td><td>hearts  </td><td> 2      </td><td>3       </td></tr>\n",
       "\t<tr><th scope=row>6</th><td>eight   </td><td>spades  </td><td> 8      </td><td>4       </td></tr>\n",
       "\t<tr><th scope=row>22</th><td>five    </td><td>clubs   </td><td> 5      </td><td>5       </td></tr>\n",
       "\t<tr><th scope=row>3</th><td>jack    </td><td>spades  </td><td>11      </td><td>6       </td></tr>\n",
       "</tbody>\n",
       "</table>\n"
      ],
      "text/latex": [
       "\\begin{tabular}{r|llll}\n",
       "  & face & suit & value & new\\\\\n",
       "\\hline\n",
       "\t38 & two      & diamonds &  2       & 1       \\\\\n",
       "\t37 & three    & diamonds &  3       & 2       \\\\\n",
       "\t51 & two      & hearts   &  2       & 3       \\\\\n",
       "\t6 & eight    & spades   &  8       & 4       \\\\\n",
       "\t22 & five     & clubs    &  5       & 5       \\\\\n",
       "\t3 & jack     & spades   & 11       & 6       \\\\\n",
       "\\end{tabular}\n"
      ],
      "text/markdown": [
       "\n",
       "| <!--/--> | face | suit | value | new |\n",
       "|---|---|---|---|---|\n",
       "| 38 | two      | diamonds |  2       | 1        |\n",
       "| 37 | three    | diamonds |  3       | 2        |\n",
       "| 51 | two      | hearts   |  2       | 3        |\n",
       "| 6 | eight    | spades   |  8       | 4        |\n",
       "| 22 | five     | clubs    |  5       | 5        |\n",
       "| 3 | jack     | spades   | 11       | 6        |\n",
       "\n"
      ],
      "text/plain": [
       "   face  suit     value new\n",
       "38 two   diamonds  2    1  \n",
       "37 three diamonds  3    2  \n",
       "51 two   hearts    2    3  \n",
       "6  eight spades    8    4  \n",
       "22 five  clubs     5    5  \n",
       "3  jack  spades   11    6  "
      ]
     },
     "metadata": {},
     "output_type": "display_data"
    }
   ],
   "source": [
    "deck2$new <- 1:52 # We can also add new columns to the exisiting data frames like this\n",
    "head(deck2)"
   ]
  },
  {
   "cell_type": "code",
   "execution_count": 42,
   "id": "eb878378",
   "metadata": {},
   "outputs": [],
   "source": [
    "deck2$new <- NULL # We can also delete columns by assigning them the symbol NULL"
   ]
  },
  {
   "cell_type": "code",
   "execution_count": 43,
   "id": "2621e8d2",
   "metadata": {},
   "outputs": [
    {
     "data": {
      "text/html": [
       "<table>\n",
       "<thead><tr><th></th><th scope=col>face</th><th scope=col>suit</th><th scope=col>value</th></tr></thead>\n",
       "<tbody>\n",
       "\t<tr><th scope=row>38</th><td>two     </td><td>diamonds</td><td> 2      </td></tr>\n",
       "\t<tr><th scope=row>37</th><td>three   </td><td>diamonds</td><td> 3      </td></tr>\n",
       "\t<tr><th scope=row>51</th><td>two     </td><td>hearts  </td><td> 2      </td></tr>\n",
       "\t<tr><th scope=row>6</th><td>eight   </td><td>spades  </td><td> 8      </td></tr>\n",
       "\t<tr><th scope=row>22</th><td>five    </td><td>clubs   </td><td> 5      </td></tr>\n",
       "\t<tr><th scope=row>3</th><td>jack    </td><td>spades  </td><td>11      </td></tr>\n",
       "</tbody>\n",
       "</table>\n"
      ],
      "text/latex": [
       "\\begin{tabular}{r|lll}\n",
       "  & face & suit & value\\\\\n",
       "\\hline\n",
       "\t38 & two      & diamonds &  2      \\\\\n",
       "\t37 & three    & diamonds &  3      \\\\\n",
       "\t51 & two      & hearts   &  2      \\\\\n",
       "\t6 & eight    & spades   &  8      \\\\\n",
       "\t22 & five     & clubs    &  5      \\\\\n",
       "\t3 & jack     & spades   & 11      \\\\\n",
       "\\end{tabular}\n"
      ],
      "text/markdown": [
       "\n",
       "| <!--/--> | face | suit | value |\n",
       "|---|---|---|---|\n",
       "| 38 | two      | diamonds |  2       |\n",
       "| 37 | three    | diamonds |  3       |\n",
       "| 51 | two      | hearts   |  2       |\n",
       "| 6 | eight    | spades   |  8       |\n",
       "| 22 | five     | clubs    |  5       |\n",
       "| 3 | jack     | spades   | 11       |\n",
       "\n"
      ],
      "text/plain": [
       "   face  suit     value\n",
       "38 two   diamonds  2   \n",
       "37 three diamonds  3   \n",
       "51 two   hearts    2   \n",
       "6  eight spades    8   \n",
       "22 five  clubs     5   \n",
       "3  jack  spades   11   "
      ]
     },
     "metadata": {},
     "output_type": "display_data"
    }
   ],
   "source": [
    "head(deck2)"
   ]
  },
  {
   "cell_type": "code",
   "execution_count": 44,
   "id": "e35c4747",
   "metadata": {},
   "outputs": [
    {
     "data": {
      "text/html": [
       "<table>\n",
       "<thead><tr><th></th><th scope=col>face</th><th scope=col>suit</th><th scope=col>value</th></tr></thead>\n",
       "<tbody>\n",
       "\t<tr><th scope=row>13</th><td>ace     </td><td>spades  </td><td>1       </td></tr>\n",
       "\t<tr><th scope=row>26</th><td>ace     </td><td>clubs   </td><td>1       </td></tr>\n",
       "\t<tr><th scope=row>39</th><td>ace     </td><td>diamonds</td><td>1       </td></tr>\n",
       "\t<tr><th scope=row>52</th><td>ace     </td><td>hearts  </td><td>1       </td></tr>\n",
       "</tbody>\n",
       "</table>\n"
      ],
      "text/latex": [
       "\\begin{tabular}{r|lll}\n",
       "  & face & suit & value\\\\\n",
       "\\hline\n",
       "\t13 & ace      & spades   & 1       \\\\\n",
       "\t26 & ace      & clubs    & 1       \\\\\n",
       "\t39 & ace      & diamonds & 1       \\\\\n",
       "\t52 & ace      & hearts   & 1       \\\\\n",
       "\\end{tabular}\n"
      ],
      "text/markdown": [
       "\n",
       "| <!--/--> | face | suit | value |\n",
       "|---|---|---|---|\n",
       "| 13 | ace      | spades   | 1        |\n",
       "| 26 | ace      | clubs    | 1        |\n",
       "| 39 | ace      | diamonds | 1        |\n",
       "| 52 | ace      | hearts   | 1        |\n",
       "\n"
      ],
      "text/plain": [
       "   face suit     value\n",
       "13 ace  spades   1    \n",
       "26 ace  clubs    1    \n",
       "39 ace  diamonds 1    \n",
       "52 ace  hearts   1    "
      ]
     },
     "metadata": {},
     "output_type": "display_data"
    }
   ],
   "source": [
    "deck[c(13, 26, 39, 52), ]"
   ]
  },
  {
   "cell_type": "code",
   "execution_count": 45,
   "id": "427ef756",
   "metadata": {},
   "outputs": [
    {
     "data": {
      "text/html": [
       "<ol class=list-inline>\n",
       "\t<li>1</li>\n",
       "\t<li>1</li>\n",
       "\t<li>1</li>\n",
       "\t<li>1</li>\n",
       "</ol>\n"
      ],
      "text/latex": [
       "\\begin{enumerate*}\n",
       "\\item 1\n",
       "\\item 1\n",
       "\\item 1\n",
       "\\item 1\n",
       "\\end{enumerate*}\n"
      ],
      "text/markdown": [
       "1. 1\n",
       "2. 1\n",
       "3. 1\n",
       "4. 1\n",
       "\n",
       "\n"
      ],
      "text/plain": [
       "[1] 1 1 1 1"
      ]
     },
     "metadata": {},
     "output_type": "display_data"
    }
   ],
   "source": [
    "deck[c(13, 26, 39, 52), 3] # Selecting rows 13, 26, 39, 52 and column 3"
   ]
  },
  {
   "cell_type": "code",
   "execution_count": 46,
   "id": "b6a6b7b4",
   "metadata": {},
   "outputs": [
    {
     "data": {
      "text/html": [
       "<ol class=list-inline>\n",
       "\t<li>1</li>\n",
       "\t<li>1</li>\n",
       "\t<li>1</li>\n",
       "\t<li>1</li>\n",
       "</ol>\n"
      ],
      "text/latex": [
       "\\begin{enumerate*}\n",
       "\\item 1\n",
       "\\item 1\n",
       "\\item 1\n",
       "\\item 1\n",
       "\\end{enumerate*}\n"
      ],
      "text/markdown": [
       "1. 1\n",
       "2. 1\n",
       "3. 1\n",
       "4. 1\n",
       "\n",
       "\n"
      ],
      "text/plain": [
       "[1] 1 1 1 1"
      ]
     },
     "metadata": {},
     "output_type": "display_data"
    }
   ],
   "source": [
    "deck$value[c(13, 26, 39, 52)] # Same as above but using $ with column name"
   ]
  },
  {
   "cell_type": "code",
   "execution_count": 47,
   "id": "2c662337",
   "metadata": {},
   "outputs": [
    {
     "data": {
      "text/html": [
       "<ol class=list-inline>\n",
       "\t<li>14</li>\n",
       "\t<li>14</li>\n",
       "\t<li>14</li>\n",
       "\t<li>14</li>\n",
       "</ol>\n"
      ],
      "text/latex": [
       "\\begin{enumerate*}\n",
       "\\item 14\n",
       "\\item 14\n",
       "\\item 14\n",
       "\\item 14\n",
       "\\end{enumerate*}\n"
      ],
      "text/markdown": [
       "1. 14\n",
       "2. 14\n",
       "3. 14\n",
       "4. 14\n",
       "\n",
       "\n"
      ],
      "text/plain": [
       "[1] 14 14 14 14"
      ]
     },
     "metadata": {},
     "output_type": "display_data"
    }
   ],
   "source": [
    "deck$value[c(13, 26, 39, 52)] <- c(14, 14, 14, 14) # updating the values to 14\n",
    "deck$value[c(13, 26, 39, 52)]"
   ]
  },
  {
   "cell_type": "code",
   "execution_count": 48,
   "id": "09dfe7d9",
   "metadata": {},
   "outputs": [],
   "source": [
    "deck$value[c(13, 26, 39, 52)] <- 14 # sames as above "
   ]
  },
  {
   "cell_type": "code",
   "execution_count": 49,
   "id": "d75178f3",
   "metadata": {},
   "outputs": [
    {
     "data": {
      "text/html": [
       "<table>\n",
       "<thead><tr><th scope=col>face</th><th scope=col>suit</th><th scope=col>value</th></tr></thead>\n",
       "<tbody>\n",
       "\t<tr><td>king  </td><td>spades</td><td>13    </td></tr>\n",
       "\t<tr><td>queen </td><td>spades</td><td>12    </td></tr>\n",
       "\t<tr><td>jack  </td><td>spades</td><td>11    </td></tr>\n",
       "\t<tr><td>ten   </td><td>spades</td><td>10    </td></tr>\n",
       "\t<tr><td>nine  </td><td>spades</td><td> 9    </td></tr>\n",
       "\t<tr><td>eight </td><td>spades</td><td> 8    </td></tr>\n",
       "\t<tr><td>seven </td><td>spades</td><td> 7    </td></tr>\n",
       "\t<tr><td>six   </td><td>spades</td><td> 6    </td></tr>\n",
       "\t<tr><td>five  </td><td>spades</td><td> 5    </td></tr>\n",
       "\t<tr><td>four  </td><td>spades</td><td> 4    </td></tr>\n",
       "\t<tr><td>three </td><td>spades</td><td> 3    </td></tr>\n",
       "\t<tr><td>two   </td><td>spades</td><td> 2    </td></tr>\n",
       "\t<tr><td>ace   </td><td>spades</td><td>14    </td></tr>\n",
       "</tbody>\n",
       "</table>\n"
      ],
      "text/latex": [
       "\\begin{tabular}{r|lll}\n",
       " face & suit & value\\\\\n",
       "\\hline\n",
       "\t king   & spades & 13    \\\\\n",
       "\t queen  & spades & 12    \\\\\n",
       "\t jack   & spades & 11    \\\\\n",
       "\t ten    & spades & 10    \\\\\n",
       "\t nine   & spades &  9    \\\\\n",
       "\t eight  & spades &  8    \\\\\n",
       "\t seven  & spades &  7    \\\\\n",
       "\t six    & spades &  6    \\\\\n",
       "\t five   & spades &  5    \\\\\n",
       "\t four   & spades &  4    \\\\\n",
       "\t three  & spades &  3    \\\\\n",
       "\t two    & spades &  2    \\\\\n",
       "\t ace    & spades & 14    \\\\\n",
       "\\end{tabular}\n"
      ],
      "text/markdown": [
       "\n",
       "| face | suit | value |\n",
       "|---|---|---|\n",
       "| king   | spades | 13     |\n",
       "| queen  | spades | 12     |\n",
       "| jack   | spades | 11     |\n",
       "| ten    | spades | 10     |\n",
       "| nine   | spades |  9     |\n",
       "| eight  | spades |  8     |\n",
       "| seven  | spades |  7     |\n",
       "| six    | spades |  6     |\n",
       "| five   | spades |  5     |\n",
       "| four   | spades |  4     |\n",
       "| three  | spades |  3     |\n",
       "| two    | spades |  2     |\n",
       "| ace    | spades | 14     |\n",
       "\n"
      ],
      "text/plain": [
       "   face  suit   value\n",
       "1  king  spades 13   \n",
       "2  queen spades 12   \n",
       "3  jack  spades 11   \n",
       "4  ten   spades 10   \n",
       "5  nine  spades  9   \n",
       "6  eight spades  8   \n",
       "7  seven spades  7   \n",
       "8  six   spades  6   \n",
       "9  five  spades  5   \n",
       "10 four  spades  4   \n",
       "11 three spades  3   \n",
       "12 two   spades  2   \n",
       "13 ace   spades 14   "
      ]
     },
     "metadata": {},
     "output_type": "display_data"
    }
   ],
   "source": [
    "head(deck, 13)"
   ]
  },
  {
   "attachments": {
    "image.png": {
     "image/png": "[encoded data removed]"
    }
   },
   "cell_type": "markdown",
   "id": "91fb4bb8",
   "metadata": {},
   "source": [
    "![image.png](attachment:image.png)"
   ]
  },
  {
   "cell_type": "code",
   "execution_count": 50,
   "id": "e9515c82",
   "metadata": {},
   "outputs": [
    {
     "data": {
      "text/html": [
       "FALSE"
      ],
      "text/latex": [
       "FALSE"
      ],
      "text/markdown": [
       "FALSE"
      ],
      "text/plain": [
       "[1] FALSE"
      ]
     },
     "metadata": {},
     "output_type": "display_data"
    }
   ],
   "source": [
    "# Logical Tests\n",
    "1 > 2"
   ]
  },
  {
   "cell_type": "code",
   "execution_count": 51,
   "id": "e7fc95a3",
   "metadata": {},
   "outputs": [
    {
     "data": {
      "text/html": [
       "<ol class=list-inline>\n",
       "\t<li>TRUE</li>\n",
       "\t<li>FALSE</li>\n",
       "\t<li>FALSE</li>\n",
       "</ol>\n"
      ],
      "text/latex": [
       "\\begin{enumerate*}\n",
       "\\item TRUE\n",
       "\\item FALSE\n",
       "\\item FALSE\n",
       "\\end{enumerate*}\n"
      ],
      "text/markdown": [
       "1. TRUE\n",
       "2. FALSE\n",
       "3. FALSE\n",
       "\n",
       "\n"
      ],
      "text/plain": [
       "[1]  TRUE FALSE FALSE"
      ]
     },
     "metadata": {},
     "output_type": "display_data"
    }
   ],
   "source": [
    "1 > c(0, 1, 2)"
   ]
  },
  {
   "cell_type": "code",
   "execution_count": 52,
   "id": "d41d1d19",
   "metadata": {},
   "outputs": [
    {
     "data": {
      "text/html": [
       "<ol class=list-inline>\n",
       "\t<li>FALSE</li>\n",
       "\t<li>TRUE</li>\n",
       "\t<li>FALSE</li>\n",
       "</ol>\n"
      ],
      "text/latex": [
       "\\begin{enumerate*}\n",
       "\\item FALSE\n",
       "\\item TRUE\n",
       "\\item FALSE\n",
       "\\end{enumerate*}\n"
      ],
      "text/markdown": [
       "1. FALSE\n",
       "2. TRUE\n",
       "3. FALSE\n",
       "\n",
       "\n"
      ],
      "text/plain": [
       "[1] FALSE  TRUE FALSE"
      ]
     },
     "metadata": {},
     "output_type": "display_data"
    }
   ],
   "source": [
    "c(1, 2, 3) == c(3, 2, 1)"
   ]
  },
  {
   "cell_type": "code",
   "execution_count": 53,
   "id": "e19f2dfd",
   "metadata": {},
   "outputs": [
    {
     "data": {
      "text/html": [
       "FALSE"
      ],
      "text/latex": [
       "FALSE"
      ],
      "text/markdown": [
       "FALSE"
      ],
      "text/plain": [
       "[1] FALSE"
      ]
     },
     "metadata": {},
     "output_type": "display_data"
    }
   ],
   "source": [
    "1 %in% c(3, 4, 5)"
   ]
  },
  {
   "cell_type": "code",
   "execution_count": 54,
   "id": "dc618d94",
   "metadata": {},
   "outputs": [
    {
     "data": {
      "text/html": [
       "<ol class=list-inline>\n",
       "\t<li>FALSE</li>\n",
       "\t<li>FALSE</li>\n",
       "</ol>\n"
      ],
      "text/latex": [
       "\\begin{enumerate*}\n",
       "\\item FALSE\n",
       "\\item FALSE\n",
       "\\end{enumerate*}\n"
      ],
      "text/markdown": [
       "1. FALSE\n",
       "2. FALSE\n",
       "\n",
       "\n"
      ],
      "text/plain": [
       "[1] FALSE FALSE"
      ]
     },
     "metadata": {},
     "output_type": "display_data"
    }
   ],
   "source": [
    "c(1, 2) %in% c(3, 4, 5)"
   ]
  },
  {
   "cell_type": "code",
   "execution_count": 55,
   "id": "9bf14ab0",
   "metadata": {},
   "outputs": [
    {
     "data": {
      "text/html": [
       "<ol class=list-inline>\n",
       "\t<li>FALSE</li>\n",
       "\t<li>FALSE</li>\n",
       "\t<li>TRUE</li>\n",
       "</ol>\n"
      ],
      "text/latex": [
       "\\begin{enumerate*}\n",
       "\\item FALSE\n",
       "\\item FALSE\n",
       "\\item TRUE\n",
       "\\end{enumerate*}\n"
      ],
      "text/markdown": [
       "1. FALSE\n",
       "2. FALSE\n",
       "3. TRUE\n",
       "\n",
       "\n"
      ],
      "text/plain": [
       "[1] FALSE FALSE  TRUE"
      ]
     },
     "metadata": {},
     "output_type": "display_data"
    }
   ],
   "source": [
    "c(1, 2, 3) %in% c(3, 4, 5)"
   ]
  },
  {
   "cell_type": "code",
   "execution_count": 56,
   "id": "74b62c07",
   "metadata": {},
   "outputs": [
    {
     "data": {
      "text/html": [
       "<ol class=list-inline>\n",
       "\t<li>FALSE</li>\n",
       "\t<li>FALSE</li>\n",
       "\t<li>TRUE</li>\n",
       "\t<li>TRUE</li>\n",
       "</ol>\n"
      ],
      "text/latex": [
       "\\begin{enumerate*}\n",
       "\\item FALSE\n",
       "\\item FALSE\n",
       "\\item TRUE\n",
       "\\item TRUE\n",
       "\\end{enumerate*}\n"
      ],
      "text/markdown": [
       "1. FALSE\n",
       "2. FALSE\n",
       "3. TRUE\n",
       "4. TRUE\n",
       "\n",
       "\n"
      ],
      "text/plain": [
       "[1] FALSE FALSE  TRUE  TRUE"
      ]
     },
     "metadata": {},
     "output_type": "display_data"
    }
   ],
   "source": [
    "c(1, 2, 3, 4) %in% c(3, 4, 5)"
   ]
  },
  {
   "cell_type": "code",
   "execution_count": 57,
   "id": "ea1a3b7a",
   "metadata": {},
   "outputs": [
    {
     "data": {
      "text/html": [
       "<ol class=list-inline>\n",
       "\t<li>king</li>\n",
       "\t<li>queen</li>\n",
       "\t<li>jack</li>\n",
       "\t<li>ten</li>\n",
       "\t<li>nine</li>\n",
       "\t<li>eight</li>\n",
       "\t<li>seven</li>\n",
       "\t<li>six</li>\n",
       "\t<li>five</li>\n",
       "\t<li>four</li>\n",
       "\t<li>three</li>\n",
       "\t<li>two</li>\n",
       "\t<li>ace</li>\n",
       "\t<li>king</li>\n",
       "\t<li>queen</li>\n",
       "\t<li>jack</li>\n",
       "\t<li>ten</li>\n",
       "\t<li>nine</li>\n",
       "\t<li>eight</li>\n",
       "\t<li>seven</li>\n",
       "\t<li>six</li>\n",
       "\t<li>five</li>\n",
       "\t<li>four</li>\n",
       "\t<li>three</li>\n",
       "\t<li>two</li>\n",
       "\t<li>ace</li>\n",
       "\t<li>king</li>\n",
       "\t<li>queen</li>\n",
       "\t<li>jack</li>\n",
       "\t<li>ten</li>\n",
       "\t<li>nine</li>\n",
       "\t<li>eight</li>\n",
       "\t<li>seven</li>\n",
       "\t<li>six</li>\n",
       "\t<li>five</li>\n",
       "\t<li>four</li>\n",
       "\t<li>three</li>\n",
       "\t<li>two</li>\n",
       "\t<li>ace</li>\n",
       "\t<li>king</li>\n",
       "\t<li>queen</li>\n",
       "\t<li>jack</li>\n",
       "\t<li>ten</li>\n",
       "\t<li>nine</li>\n",
       "\t<li>eight</li>\n",
       "\t<li>seven</li>\n",
       "\t<li>six</li>\n",
       "\t<li>five</li>\n",
       "\t<li>four</li>\n",
       "\t<li>three</li>\n",
       "\t<li>two</li>\n",
       "\t<li>ace</li>\n",
       "</ol>\n",
       "\n",
       "<details>\n",
       "\t<summary style=display:list-item;cursor:pointer>\n",
       "\t\t<strong>Levels</strong>:\n",
       "\t</summary>\n",
       "\t<ol class=list-inline>\n",
       "\t\t<li>'ace'</li>\n",
       "\t\t<li>'eight'</li>\n",
       "\t\t<li>'five'</li>\n",
       "\t\t<li>'four'</li>\n",
       "\t\t<li>'jack'</li>\n",
       "\t\t<li>'king'</li>\n",
       "\t\t<li>'nine'</li>\n",
       "\t\t<li>'queen'</li>\n",
       "\t\t<li>'seven'</li>\n",
       "\t\t<li>'six'</li>\n",
       "\t\t<li>'ten'</li>\n",
       "\t\t<li>'three'</li>\n",
       "\t\t<li>'two'</li>\n",
       "\t</ol>\n",
       "</details>"
      ],
      "text/latex": [
       "\\begin{enumerate*}\n",
       "\\item king\n",
       "\\item queen\n",
       "\\item jack\n",
       "\\item ten\n",
       "\\item nine\n",
       "\\item eight\n",
       "\\item seven\n",
       "\\item six\n",
       "\\item five\n",
       "\\item four\n",
       "\\item three\n",
       "\\item two\n",
       "\\item ace\n",
       "\\item king\n",
       "\\item queen\n",
       "\\item jack\n",
       "\\item ten\n",
       "\\item nine\n",
       "\\item eight\n",
       "\\item seven\n",
       "\\item six\n",
       "\\item five\n",
       "\\item four\n",
       "\\item three\n",
       "\\item two\n",
       "\\item ace\n",
       "\\item king\n",
       "\\item queen\n",
       "\\item jack\n",
       "\\item ten\n",
       "\\item nine\n",
       "\\item eight\n",
       "\\item seven\n",
       "\\item six\n",
       "\\item five\n",
       "\\item four\n",
       "\\item three\n",
       "\\item two\n",
       "\\item ace\n",
       "\\item king\n",
       "\\item queen\n",
       "\\item jack\n",
       "\\item ten\n",
       "\\item nine\n",
       "\\item eight\n",
       "\\item seven\n",
       "\\item six\n",
       "\\item five\n",
       "\\item four\n",
       "\\item three\n",
       "\\item two\n",
       "\\item ace\n",
       "\\end{enumerate*}\n",
       "\n",
       "\\emph{Levels}: \\begin{enumerate*}\n",
       "\\item 'ace'\n",
       "\\item 'eight'\n",
       "\\item 'five'\n",
       "\\item 'four'\n",
       "\\item 'jack'\n",
       "\\item 'king'\n",
       "\\item 'nine'\n",
       "\\item 'queen'\n",
       "\\item 'seven'\n",
       "\\item 'six'\n",
       "\\item 'ten'\n",
       "\\item 'three'\n",
       "\\item 'two'\n",
       "\\end{enumerate*}\n"
      ],
      "text/markdown": [
       "1. king\n",
       "2. queen\n",
       "3. jack\n",
       "4. ten\n",
       "5. nine\n",
       "6. eight\n",
       "7. seven\n",
       "8. six\n",
       "9. five\n",
       "10. four\n",
       "11. three\n",
       "12. two\n",
       "13. ace\n",
       "14. king\n",
       "15. queen\n",
       "16. jack\n",
       "17. ten\n",
       "18. nine\n",
       "19. eight\n",
       "20. seven\n",
       "21. six\n",
       "22. five\n",
       "23. four\n",
       "24. three\n",
       "25. two\n",
       "26. ace\n",
       "27. king\n",
       "28. queen\n",
       "29. jack\n",
       "30. ten\n",
       "31. nine\n",
       "32. eight\n",
       "33. seven\n",
       "34. six\n",
       "35. five\n",
       "36. four\n",
       "37. three\n",
       "38. two\n",
       "39. ace\n",
       "40. king\n",
       "41. queen\n",
       "42. jack\n",
       "43. ten\n",
       "44. nine\n",
       "45. eight\n",
       "46. seven\n",
       "47. six\n",
       "48. five\n",
       "49. four\n",
       "50. three\n",
       "51. two\n",
       "52. ace\n",
       "\n",
       "\n",
       "\n",
       "**Levels**: 1. 'ace'\n",
       "2. 'eight'\n",
       "3. 'five'\n",
       "4. 'four'\n",
       "5. 'jack'\n",
       "6. 'king'\n",
       "7. 'nine'\n",
       "8. 'queen'\n",
       "9. 'seven'\n",
       "10. 'six'\n",
       "11. 'ten'\n",
       "12. 'three'\n",
       "13. 'two'\n",
       "\n",
       "\n"
      ],
      "text/plain": [
       " [1] king  queen jack  ten   nine  eight seven six   five  four  three two  \n",
       "[13] ace   king  queen jack  ten   nine  eight seven six   five  four  three\n",
       "[25] two   ace   king  queen jack  ten   nine  eight seven six   five  four \n",
       "[37] three two   ace   king  queen jack  ten   nine  eight seven six   five \n",
       "[49] four  three two   ace  \n",
       "Levels: ace eight five four jack king nine queen seven six ten three two"
      ]
     },
     "metadata": {},
     "output_type": "display_data"
    }
   ],
   "source": [
    "deck$face # selecting column \"face\""
   ]
  },
  {
   "cell_type": "code",
   "execution_count": 58,
   "id": "fb8bd18c",
   "metadata": {},
   "outputs": [
    {
     "data": {
      "text/html": [
       "<ol class=list-inline>\n",
       "\t<li>FALSE</li>\n",
       "\t<li>FALSE</li>\n",
       "\t<li>FALSE</li>\n",
       "\t<li>FALSE</li>\n",
       "\t<li>FALSE</li>\n",
       "\t<li>FALSE</li>\n",
       "\t<li>FALSE</li>\n",
       "\t<li>FALSE</li>\n",
       "\t<li>FALSE</li>\n",
       "\t<li>FALSE</li>\n",
       "\t<li>FALSE</li>\n",
       "\t<li>FALSE</li>\n",
       "\t<li>TRUE</li>\n",
       "\t<li>FALSE</li>\n",
       "\t<li>FALSE</li>\n",
       "\t<li>FALSE</li>\n",
       "\t<li>FALSE</li>\n",
       "\t<li>FALSE</li>\n",
       "\t<li>FALSE</li>\n",
       "\t<li>FALSE</li>\n",
       "\t<li>FALSE</li>\n",
       "\t<li>FALSE</li>\n",
       "\t<li>FALSE</li>\n",
       "\t<li>FALSE</li>\n",
       "\t<li>FALSE</li>\n",
       "\t<li>TRUE</li>\n",
       "\t<li>FALSE</li>\n",
       "\t<li>FALSE</li>\n",
       "\t<li>FALSE</li>\n",
       "\t<li>FALSE</li>\n",
       "\t<li>FALSE</li>\n",
       "\t<li>FALSE</li>\n",
       "\t<li>FALSE</li>\n",
       "\t<li>FALSE</li>\n",
       "\t<li>FALSE</li>\n",
       "\t<li>FALSE</li>\n",
       "\t<li>FALSE</li>\n",
       "\t<li>FALSE</li>\n",
       "\t<li>TRUE</li>\n",
       "\t<li>FALSE</li>\n",
       "\t<li>FALSE</li>\n",
       "\t<li>FALSE</li>\n",
       "\t<li>FALSE</li>\n",
       "\t<li>FALSE</li>\n",
       "\t<li>FALSE</li>\n",
       "\t<li>FALSE</li>\n",
       "\t<li>FALSE</li>\n",
       "\t<li>FALSE</li>\n",
       "\t<li>FALSE</li>\n",
       "\t<li>FALSE</li>\n",
       "\t<li>FALSE</li>\n",
       "\t<li>TRUE</li>\n",
       "</ol>\n"
      ],
      "text/latex": [
       "\\begin{enumerate*}\n",
       "\\item FALSE\n",
       "\\item FALSE\n",
       "\\item FALSE\n",
       "\\item FALSE\n",
       "\\item FALSE\n",
       "\\item FALSE\n",
       "\\item FALSE\n",
       "\\item FALSE\n",
       "\\item FALSE\n",
       "\\item FALSE\n",
       "\\item FALSE\n",
       "\\item FALSE\n",
       "\\item TRUE\n",
       "\\item FALSE\n",
       "\\item FALSE\n",
       "\\item FALSE\n",
       "\\item FALSE\n",
       "\\item FALSE\n",
       "\\item FALSE\n",
       "\\item FALSE\n",
       "\\item FALSE\n",
       "\\item FALSE\n",
       "\\item FALSE\n",
       "\\item FALSE\n",
       "\\item FALSE\n",
       "\\item TRUE\n",
       "\\item FALSE\n",
       "\\item FALSE\n",
       "\\item FALSE\n",
       "\\item FALSE\n",
       "\\item FALSE\n",
       "\\item FALSE\n",
       "\\item FALSE\n",
       "\\item FALSE\n",
       "\\item FALSE\n",
       "\\item FALSE\n",
       "\\item FALSE\n",
       "\\item FALSE\n",
       "\\item TRUE\n",
       "\\item FALSE\n",
       "\\item FALSE\n",
       "\\item FALSE\n",
       "\\item FALSE\n",
       "\\item FALSE\n",
       "\\item FALSE\n",
       "\\item FALSE\n",
       "\\item FALSE\n",
       "\\item FALSE\n",
       "\\item FALSE\n",
       "\\item FALSE\n",
       "\\item FALSE\n",
       "\\item TRUE\n",
       "\\end{enumerate*}\n"
      ],
      "text/markdown": [
       "1. FALSE\n",
       "2. FALSE\n",
       "3. FALSE\n",
       "4. FALSE\n",
       "5. FALSE\n",
       "6. FALSE\n",
       "7. FALSE\n",
       "8. FALSE\n",
       "9. FALSE\n",
       "10. FALSE\n",
       "11. FALSE\n",
       "12. FALSE\n",
       "13. TRUE\n",
       "14. FALSE\n",
       "15. FALSE\n",
       "16. FALSE\n",
       "17. FALSE\n",
       "18. FALSE\n",
       "19. FALSE\n",
       "20. FALSE\n",
       "21. FALSE\n",
       "22. FALSE\n",
       "23. FALSE\n",
       "24. FALSE\n",
       "25. FALSE\n",
       "26. TRUE\n",
       "27. FALSE\n",
       "28. FALSE\n",
       "29. FALSE\n",
       "30. FALSE\n",
       "31. FALSE\n",
       "32. FALSE\n",
       "33. FALSE\n",
       "34. FALSE\n",
       "35. FALSE\n",
       "36. FALSE\n",
       "37. FALSE\n",
       "38. FALSE\n",
       "39. TRUE\n",
       "40. FALSE\n",
       "41. FALSE\n",
       "42. FALSE\n",
       "43. FALSE\n",
       "44. FALSE\n",
       "45. FALSE\n",
       "46. FALSE\n",
       "47. FALSE\n",
       "48. FALSE\n",
       "49. FALSE\n",
       "50. FALSE\n",
       "51. FALSE\n",
       "52. TRUE\n",
       "\n",
       "\n"
      ],
      "text/plain": [
       " [1] FALSE FALSE FALSE FALSE FALSE FALSE FALSE FALSE FALSE FALSE FALSE FALSE\n",
       "[13]  TRUE FALSE FALSE FALSE FALSE FALSE FALSE FALSE FALSE FALSE FALSE FALSE\n",
       "[25] FALSE  TRUE FALSE FALSE FALSE FALSE FALSE FALSE FALSE FALSE FALSE FALSE\n",
       "[37] FALSE FALSE  TRUE FALSE FALSE FALSE FALSE FALSE FALSE FALSE FALSE FALSE\n",
       "[49] FALSE FALSE FALSE  TRUE"
      ]
     },
     "metadata": {},
     "output_type": "display_data"
    }
   ],
   "source": [
    "deck$face == \"ace\" # returns a boolean array with TRUE where \"face\" is \"ace\""
   ]
  },
  {
   "cell_type": "code",
   "execution_count": 59,
   "id": "086bd94b",
   "metadata": {},
   "outputs": [
    {
     "data": {
      "text/html": [
       "4"
      ],
      "text/latex": [
       "4"
      ],
      "text/markdown": [
       "4"
      ],
      "text/plain": [
       "[1] 4"
      ]
     },
     "metadata": {},
     "output_type": "display_data"
    }
   ],
   "source": [
    "sum(deck$face == \"ace\") # TRUE = 1, FALSE = 0"
   ]
  },
  {
   "cell_type": "code",
   "execution_count": 60,
   "id": "c4f35da1",
   "metadata": {},
   "outputs": [
    {
     "data": {
      "text/html": [
       "<ol class=list-inline>\n",
       "\t<li>14</li>\n",
       "\t<li>14</li>\n",
       "\t<li>14</li>\n",
       "\t<li>14</li>\n",
       "</ol>\n"
      ],
      "text/latex": [
       "\\begin{enumerate*}\n",
       "\\item 14\n",
       "\\item 14\n",
       "\\item 14\n",
       "\\item 14\n",
       "\\end{enumerate*}\n"
      ],
      "text/markdown": [
       "1. 14\n",
       "2. 14\n",
       "3. 14\n",
       "4. 14\n",
       "\n",
       "\n"
      ],
      "text/plain": [
       "[1] 14 14 14 14"
      ]
     },
     "metadata": {},
     "output_type": "display_data"
    }
   ],
   "source": [
    "deck$value[deck$face == \"ace\"] # we can use the binary array for indexing\n"
   ]
  },
  {
   "cell_type": "code",
   "execution_count": 61,
   "id": "6fce2911",
   "metadata": {},
   "outputs": [
    {
     "data": {
      "text/html": [
       "<table>\n",
       "<thead><tr><th scope=col>face</th><th scope=col>suit</th><th scope=col>value</th></tr></thead>\n",
       "<tbody>\n",
       "\t<tr><td>king  </td><td>spades</td><td>13    </td></tr>\n",
       "\t<tr><td>queen </td><td>spades</td><td>12    </td></tr>\n",
       "\t<tr><td>jack  </td><td>spades</td><td>11    </td></tr>\n",
       "\t<tr><td>ten   </td><td>spades</td><td>10    </td></tr>\n",
       "\t<tr><td>nine  </td><td>spades</td><td> 9    </td></tr>\n",
       "\t<tr><td>eight </td><td>spades</td><td> 8    </td></tr>\n",
       "</tbody>\n",
       "</table>\n"
      ],
      "text/latex": [
       "\\begin{tabular}{r|lll}\n",
       " face & suit & value\\\\\n",
       "\\hline\n",
       "\t king   & spades & 13    \\\\\n",
       "\t queen  & spades & 12    \\\\\n",
       "\t jack   & spades & 11    \\\\\n",
       "\t ten    & spades & 10    \\\\\n",
       "\t nine   & spades &  9    \\\\\n",
       "\t eight  & spades &  8    \\\\\n",
       "\\end{tabular}\n"
      ],
      "text/markdown": [
       "\n",
       "| face | suit | value |\n",
       "|---|---|---|\n",
       "| king   | spades | 13     |\n",
       "| queen  | spades | 12     |\n",
       "| jack   | spades | 11     |\n",
       "| ten    | spades | 10     |\n",
       "| nine   | spades |  9     |\n",
       "| eight  | spades |  8     |\n",
       "\n"
      ],
      "text/plain": [
       "  face  suit   value\n",
       "1 king  spades 13   \n",
       "2 queen spades 12   \n",
       "3 jack  spades 11   \n",
       "4 ten   spades 10   \n",
       "5 nine  spades  9   \n",
       "6 eight spades  8   "
      ]
     },
     "metadata": {},
     "output_type": "display_data"
    }
   ],
   "source": [
    "head(deck)"
   ]
  },
  {
   "cell_type": "code",
   "execution_count": 62,
   "id": "a8cea23a",
   "metadata": {},
   "outputs": [],
   "source": [
    "deck4 <- deck\n",
    "deck4$value <- 0"
   ]
  },
  {
   "cell_type": "code",
   "execution_count": 63,
   "id": "30d23246",
   "metadata": {},
   "outputs": [
    {
     "data": {
      "text/html": [
       "<table>\n",
       "<thead><tr><th scope=col>face</th><th scope=col>suit</th><th scope=col>value</th></tr></thead>\n",
       "<tbody>\n",
       "\t<tr><td>king  </td><td>spades</td><td>0     </td></tr>\n",
       "\t<tr><td>queen </td><td>spades</td><td>0     </td></tr>\n",
       "\t<tr><td>jack  </td><td>spades</td><td>0     </td></tr>\n",
       "\t<tr><td>ten   </td><td>spades</td><td>0     </td></tr>\n",
       "\t<tr><td>nine  </td><td>spades</td><td>0     </td></tr>\n",
       "\t<tr><td>eight </td><td>spades</td><td>0     </td></tr>\n",
       "\t<tr><td>seven </td><td>spades</td><td>0     </td></tr>\n",
       "\t<tr><td>six   </td><td>spades</td><td>0     </td></tr>\n",
       "\t<tr><td>five  </td><td>spades</td><td>0     </td></tr>\n",
       "\t<tr><td>four  </td><td>spades</td><td>0     </td></tr>\n",
       "\t<tr><td>three </td><td>spades</td><td>0     </td></tr>\n",
       "\t<tr><td>two   </td><td>spades</td><td>0     </td></tr>\n",
       "\t<tr><td>ace   </td><td>spades</td><td>0     </td></tr>\n",
       "</tbody>\n",
       "</table>\n"
      ],
      "text/latex": [
       "\\begin{tabular}{r|lll}\n",
       " face & suit & value\\\\\n",
       "\\hline\n",
       "\t king   & spades & 0     \\\\\n",
       "\t queen  & spades & 0     \\\\\n",
       "\t jack   & spades & 0     \\\\\n",
       "\t ten    & spades & 0     \\\\\n",
       "\t nine   & spades & 0     \\\\\n",
       "\t eight  & spades & 0     \\\\\n",
       "\t seven  & spades & 0     \\\\\n",
       "\t six    & spades & 0     \\\\\n",
       "\t five   & spades & 0     \\\\\n",
       "\t four   & spades & 0     \\\\\n",
       "\t three  & spades & 0     \\\\\n",
       "\t two    & spades & 0     \\\\\n",
       "\t ace    & spades & 0     \\\\\n",
       "\\end{tabular}\n"
      ],
      "text/markdown": [
       "\n",
       "| face | suit | value |\n",
       "|---|---|---|\n",
       "| king   | spades | 0      |\n",
       "| queen  | spades | 0      |\n",
       "| jack   | spades | 0      |\n",
       "| ten    | spades | 0      |\n",
       "| nine   | spades | 0      |\n",
       "| eight  | spades | 0      |\n",
       "| seven  | spades | 0      |\n",
       "| six    | spades | 0      |\n",
       "| five   | spades | 0      |\n",
       "| four   | spades | 0      |\n",
       "| three  | spades | 0      |\n",
       "| two    | spades | 0      |\n",
       "| ace    | spades | 0      |\n",
       "\n"
      ],
      "text/plain": [
       "   face  suit   value\n",
       "1  king  spades 0    \n",
       "2  queen spades 0    \n",
       "3  jack  spades 0    \n",
       "4  ten   spades 0    \n",
       "5  nine  spades 0    \n",
       "6  eight spades 0    \n",
       "7  seven spades 0    \n",
       "8  six   spades 0    \n",
       "9  five  spades 0    \n",
       "10 four  spades 0    \n",
       "11 three spades 0    \n",
       "12 two   spades 0    \n",
       "13 ace   spades 0    "
      ]
     },
     "metadata": {},
     "output_type": "display_data"
    }
   ],
   "source": [
    "head(deck4, 13)"
   ]
  },
  {
   "cell_type": "code",
   "execution_count": 64,
   "id": "f58d3611",
   "metadata": {},
   "outputs": [
    {
     "data": {
      "text/html": [
       "<ol class=list-inline>\n",
       "\t<li>FALSE</li>\n",
       "\t<li>FALSE</li>\n",
       "\t<li>FALSE</li>\n",
       "\t<li>FALSE</li>\n",
       "\t<li>FALSE</li>\n",
       "\t<li>FALSE</li>\n",
       "\t<li>FALSE</li>\n",
       "\t<li>FALSE</li>\n",
       "\t<li>FALSE</li>\n",
       "\t<li>FALSE</li>\n",
       "\t<li>FALSE</li>\n",
       "\t<li>FALSE</li>\n",
       "\t<li>FALSE</li>\n",
       "\t<li>FALSE</li>\n",
       "\t<li>FALSE</li>\n",
       "\t<li>FALSE</li>\n",
       "\t<li>FALSE</li>\n",
       "\t<li>FALSE</li>\n",
       "\t<li>FALSE</li>\n",
       "\t<li>FALSE</li>\n",
       "\t<li>FALSE</li>\n",
       "\t<li>FALSE</li>\n",
       "\t<li>FALSE</li>\n",
       "\t<li>FALSE</li>\n",
       "\t<li>FALSE</li>\n",
       "\t<li>FALSE</li>\n",
       "\t<li>FALSE</li>\n",
       "\t<li>FALSE</li>\n",
       "\t<li>FALSE</li>\n",
       "\t<li>FALSE</li>\n",
       "\t<li>FALSE</li>\n",
       "\t<li>FALSE</li>\n",
       "\t<li>FALSE</li>\n",
       "\t<li>FALSE</li>\n",
       "\t<li>FALSE</li>\n",
       "\t<li>FALSE</li>\n",
       "\t<li>FALSE</li>\n",
       "\t<li>FALSE</li>\n",
       "\t<li>FALSE</li>\n",
       "\t<li>TRUE</li>\n",
       "\t<li>TRUE</li>\n",
       "\t<li>TRUE</li>\n",
       "\t<li>TRUE</li>\n",
       "\t<li>TRUE</li>\n",
       "\t<li>TRUE</li>\n",
       "\t<li>TRUE</li>\n",
       "\t<li>TRUE</li>\n",
       "\t<li>TRUE</li>\n",
       "\t<li>TRUE</li>\n",
       "\t<li>TRUE</li>\n",
       "\t<li>TRUE</li>\n",
       "\t<li>TRUE</li>\n",
       "</ol>\n"
      ],
      "text/latex": [
       "\\begin{enumerate*}\n",
       "\\item FALSE\n",
       "\\item FALSE\n",
       "\\item FALSE\n",
       "\\item FALSE\n",
       "\\item FALSE\n",
       "\\item FALSE\n",
       "\\item FALSE\n",
       "\\item FALSE\n",
       "\\item FALSE\n",
       "\\item FALSE\n",
       "\\item FALSE\n",
       "\\item FALSE\n",
       "\\item FALSE\n",
       "\\item FALSE\n",
       "\\item FALSE\n",
       "\\item FALSE\n",
       "\\item FALSE\n",
       "\\item FALSE\n",
       "\\item FALSE\n",
       "\\item FALSE\n",
       "\\item FALSE\n",
       "\\item FALSE\n",
       "\\item FALSE\n",
       "\\item FALSE\n",
       "\\item FALSE\n",
       "\\item FALSE\n",
       "\\item FALSE\n",
       "\\item FALSE\n",
       "\\item FALSE\n",
       "\\item FALSE\n",
       "\\item FALSE\n",
       "\\item FALSE\n",
       "\\item FALSE\n",
       "\\item FALSE\n",
       "\\item FALSE\n",
       "\\item FALSE\n",
       "\\item FALSE\n",
       "\\item FALSE\n",
       "\\item FALSE\n",
       "\\item TRUE\n",
       "\\item TRUE\n",
       "\\item TRUE\n",
       "\\item TRUE\n",
       "\\item TRUE\n",
       "\\item TRUE\n",
       "\\item TRUE\n",
       "\\item TRUE\n",
       "\\item TRUE\n",
       "\\item TRUE\n",
       "\\item TRUE\n",
       "\\item TRUE\n",
       "\\item TRUE\n",
       "\\end{enumerate*}\n"
      ],
      "text/markdown": [
       "1. FALSE\n",
       "2. FALSE\n",
       "3. FALSE\n",
       "4. FALSE\n",
       "5. FALSE\n",
       "6. FALSE\n",
       "7. FALSE\n",
       "8. FALSE\n",
       "9. FALSE\n",
       "10. FALSE\n",
       "11. FALSE\n",
       "12. FALSE\n",
       "13. FALSE\n",
       "14. FALSE\n",
       "15. FALSE\n",
       "16. FALSE\n",
       "17. FALSE\n",
       "18. FALSE\n",
       "19. FALSE\n",
       "20. FALSE\n",
       "21. FALSE\n",
       "22. FALSE\n",
       "23. FALSE\n",
       "24. FALSE\n",
       "25. FALSE\n",
       "26. FALSE\n",
       "27. FALSE\n",
       "28. FALSE\n",
       "29. FALSE\n",
       "30. FALSE\n",
       "31. FALSE\n",
       "32. FALSE\n",
       "33. FALSE\n",
       "34. FALSE\n",
       "35. FALSE\n",
       "36. FALSE\n",
       "37. FALSE\n",
       "38. FALSE\n",
       "39. FALSE\n",
       "40. TRUE\n",
       "41. TRUE\n",
       "42. TRUE\n",
       "43. TRUE\n",
       "44. TRUE\n",
       "45. TRUE\n",
       "46. TRUE\n",
       "47. TRUE\n",
       "48. TRUE\n",
       "49. TRUE\n",
       "50. TRUE\n",
       "51. TRUE\n",
       "52. TRUE\n",
       "\n",
       "\n"
      ],
      "text/plain": [
       " [1] FALSE FALSE FALSE FALSE FALSE FALSE FALSE FALSE FALSE FALSE FALSE FALSE\n",
       "[13] FALSE FALSE FALSE FALSE FALSE FALSE FALSE FALSE FALSE FALSE FALSE FALSE\n",
       "[25] FALSE FALSE FALSE FALSE FALSE FALSE FALSE FALSE FALSE FALSE FALSE FALSE\n",
       "[37] FALSE FALSE FALSE  TRUE  TRUE  TRUE  TRUE  TRUE  TRUE  TRUE  TRUE  TRUE\n",
       "[49]  TRUE  TRUE  TRUE  TRUE"
      ]
     },
     "metadata": {},
     "output_type": "display_data"
    }
   ],
   "source": [
    "deck4$suit == \"hearts\""
   ]
  },
  {
   "cell_type": "code",
   "execution_count": 65,
   "id": "26e78e16",
   "metadata": {},
   "outputs": [
    {
     "data": {
      "text/html": [
       "<ol class=list-inline>\n",
       "\t<li>0</li>\n",
       "\t<li>0</li>\n",
       "\t<li>0</li>\n",
       "\t<li>0</li>\n",
       "\t<li>0</li>\n",
       "\t<li>0</li>\n",
       "\t<li>0</li>\n",
       "\t<li>0</li>\n",
       "\t<li>0</li>\n",
       "\t<li>0</li>\n",
       "\t<li>0</li>\n",
       "\t<li>0</li>\n",
       "\t<li>0</li>\n",
       "</ol>\n"
      ],
      "text/latex": [
       "\\begin{enumerate*}\n",
       "\\item 0\n",
       "\\item 0\n",
       "\\item 0\n",
       "\\item 0\n",
       "\\item 0\n",
       "\\item 0\n",
       "\\item 0\n",
       "\\item 0\n",
       "\\item 0\n",
       "\\item 0\n",
       "\\item 0\n",
       "\\item 0\n",
       "\\item 0\n",
       "\\end{enumerate*}\n"
      ],
      "text/markdown": [
       "1. 0\n",
       "2. 0\n",
       "3. 0\n",
       "4. 0\n",
       "5. 0\n",
       "6. 0\n",
       "7. 0\n",
       "8. 0\n",
       "9. 0\n",
       "10. 0\n",
       "11. 0\n",
       "12. 0\n",
       "13. 0\n",
       "\n",
       "\n"
      ],
      "text/plain": [
       " [1] 0 0 0 0 0 0 0 0 0 0 0 0 0"
      ]
     },
     "metadata": {},
     "output_type": "display_data"
    }
   ],
   "source": [
    "deck4$value[deck4$suit == \"hearts\"]"
   ]
  },
  {
   "cell_type": "code",
   "execution_count": 66,
   "id": "26bd89c7",
   "metadata": {},
   "outputs": [],
   "source": [
    "deck4$value[deck4$suit == \"hearts\"] <- 1"
   ]
  },
  {
   "cell_type": "code",
   "execution_count": 67,
   "id": "eb4f2cf4",
   "metadata": {},
   "outputs": [
    {
     "data": {
      "text/html": [
       "<ol class=list-inline>\n",
       "\t<li>1</li>\n",
       "\t<li>1</li>\n",
       "\t<li>1</li>\n",
       "\t<li>1</li>\n",
       "\t<li>1</li>\n",
       "\t<li>1</li>\n",
       "\t<li>1</li>\n",
       "\t<li>1</li>\n",
       "\t<li>1</li>\n",
       "\t<li>1</li>\n",
       "\t<li>1</li>\n",
       "\t<li>1</li>\n",
       "\t<li>1</li>\n",
       "</ol>\n"
      ],
      "text/latex": [
       "\\begin{enumerate*}\n",
       "\\item 1\n",
       "\\item 1\n",
       "\\item 1\n",
       "\\item 1\n",
       "\\item 1\n",
       "\\item 1\n",
       "\\item 1\n",
       "\\item 1\n",
       "\\item 1\n",
       "\\item 1\n",
       "\\item 1\n",
       "\\item 1\n",
       "\\item 1\n",
       "\\end{enumerate*}\n"
      ],
      "text/markdown": [
       "1. 1\n",
       "2. 1\n",
       "3. 1\n",
       "4. 1\n",
       "5. 1\n",
       "6. 1\n",
       "7. 1\n",
       "8. 1\n",
       "9. 1\n",
       "10. 1\n",
       "11. 1\n",
       "12. 1\n",
       "13. 1\n",
       "\n",
       "\n"
      ],
      "text/plain": [
       " [1] 1 1 1 1 1 1 1 1 1 1 1 1 1"
      ]
     },
     "metadata": {},
     "output_type": "display_data"
    }
   ],
   "source": [
    "deck4$value[deck4$suit == \"hearts\"]"
   ]
  },
  {
   "cell_type": "code",
   "execution_count": 68,
   "id": "64d7a790",
   "metadata": {},
   "outputs": [
    {
     "data": {
      "text/html": [
       "<table>\n",
       "<thead><tr><th></th><th scope=col>face</th><th scope=col>suit</th><th scope=col>value</th></tr></thead>\n",
       "<tbody>\n",
       "\t<tr><th scope=row>2</th><td>queen   </td><td>spades  </td><td>0       </td></tr>\n",
       "\t<tr><th scope=row>15</th><td>queen   </td><td>clubs   </td><td>0       </td></tr>\n",
       "\t<tr><th scope=row>28</th><td>queen   </td><td>diamonds</td><td>0       </td></tr>\n",
       "\t<tr><th scope=row>41</th><td>queen   </td><td>hearts  </td><td>1       </td></tr>\n",
       "</tbody>\n",
       "</table>\n"
      ],
      "text/latex": [
       "\\begin{tabular}{r|lll}\n",
       "  & face & suit & value\\\\\n",
       "\\hline\n",
       "\t2 & queen    & spades   & 0       \\\\\n",
       "\t15 & queen    & clubs    & 0       \\\\\n",
       "\t28 & queen    & diamonds & 0       \\\\\n",
       "\t41 & queen    & hearts   & 1       \\\\\n",
       "\\end{tabular}\n"
      ],
      "text/markdown": [
       "\n",
       "| <!--/--> | face | suit | value |\n",
       "|---|---|---|---|\n",
       "| 2 | queen    | spades   | 0        |\n",
       "| 15 | queen    | clubs    | 0        |\n",
       "| 28 | queen    | diamonds | 0        |\n",
       "| 41 | queen    | hearts   | 1        |\n",
       "\n"
      ],
      "text/plain": [
       "   face  suit     value\n",
       "2  queen spades   0    \n",
       "15 queen clubs    0    \n",
       "28 queen diamonds 0    \n",
       "41 queen hearts   1    "
      ]
     },
     "metadata": {},
     "output_type": "display_data"
    }
   ],
   "source": [
    "deck4[deck4$face == \"queen\", ] # Get all queens in the deck"
   ]
  },
  {
   "cell_type": "code",
   "execution_count": 69,
   "id": "c3ac2c70",
   "metadata": {},
   "outputs": [
    {
     "data": {
      "text/html": [
       "<table>\n",
       "<thead><tr><th scope=col>face</th><th scope=col>suit</th><th scope=col>value</th></tr></thead>\n",
       "<tbody>\n",
       "\t<tr><td>king  </td><td>spades</td><td>0     </td></tr>\n",
       "\t<tr><td>queen </td><td>spades</td><td>0     </td></tr>\n",
       "\t<tr><td>jack  </td><td>spades</td><td>0     </td></tr>\n",
       "\t<tr><td>ten   </td><td>spades</td><td>0     </td></tr>\n",
       "\t<tr><td>nine  </td><td>spades</td><td>0     </td></tr>\n",
       "\t<tr><td>eight </td><td>spades</td><td>0     </td></tr>\n",
       "\t<tr><td>seven </td><td>spades</td><td>0     </td></tr>\n",
       "\t<tr><td>six   </td><td>spades</td><td>0     </td></tr>\n",
       "\t<tr><td>five  </td><td>spades</td><td>0     </td></tr>\n",
       "\t<tr><td>four  </td><td>spades</td><td>0     </td></tr>\n",
       "\t<tr><td>three </td><td>spades</td><td>0     </td></tr>\n",
       "\t<tr><td>two   </td><td>spades</td><td>0     </td></tr>\n",
       "\t<tr><td>ace   </td><td>spades</td><td>0     </td></tr>\n",
       "</tbody>\n",
       "</table>\n"
      ],
      "text/latex": [
       "\\begin{tabular}{r|lll}\n",
       " face & suit & value\\\\\n",
       "\\hline\n",
       "\t king   & spades & 0     \\\\\n",
       "\t queen  & spades & 0     \\\\\n",
       "\t jack   & spades & 0     \\\\\n",
       "\t ten    & spades & 0     \\\\\n",
       "\t nine   & spades & 0     \\\\\n",
       "\t eight  & spades & 0     \\\\\n",
       "\t seven  & spades & 0     \\\\\n",
       "\t six    & spades & 0     \\\\\n",
       "\t five   & spades & 0     \\\\\n",
       "\t four   & spades & 0     \\\\\n",
       "\t three  & spades & 0     \\\\\n",
       "\t two    & spades & 0     \\\\\n",
       "\t ace    & spades & 0     \\\\\n",
       "\\end{tabular}\n"
      ],
      "text/markdown": [
       "\n",
       "| face | suit | value |\n",
       "|---|---|---|\n",
       "| king   | spades | 0      |\n",
       "| queen  | spades | 0      |\n",
       "| jack   | spades | 0      |\n",
       "| ten    | spades | 0      |\n",
       "| nine   | spades | 0      |\n",
       "| eight  | spades | 0      |\n",
       "| seven  | spades | 0      |\n",
       "| six    | spades | 0      |\n",
       "| five   | spades | 0      |\n",
       "| four   | spades | 0      |\n",
       "| three  | spades | 0      |\n",
       "| two    | spades | 0      |\n",
       "| ace    | spades | 0      |\n",
       "\n"
      ],
      "text/plain": [
       "   face  suit   value\n",
       "1  king  spades 0    \n",
       "2  queen spades 0    \n",
       "3  jack  spades 0    \n",
       "4  ten   spades 0    \n",
       "5  nine  spades 0    \n",
       "6  eight spades 0    \n",
       "7  seven spades 0    \n",
       "8  six   spades 0    \n",
       "9  five  spades 0    \n",
       "10 four  spades 0    \n",
       "11 three spades 0    \n",
       "12 two   spades 0    \n",
       "13 ace   spades 0    "
      ]
     },
     "metadata": {},
     "output_type": "display_data"
    }
   ],
   "source": [
    "deck4[deck4$suit == \"spades\", ] # Get all spades in the deck"
   ]
  },
  {
   "cell_type": "code",
   "execution_count": 70,
   "id": "f4944361",
   "metadata": {},
   "outputs": [],
   "source": [
    "# Boolean Operators"
   ]
  },
  {
   "attachments": {
    "image.png": {
     "image/png": "[encoded data removed]"
    }
   },
   "cell_type": "markdown",
   "id": "e565903d",
   "metadata": {},
   "source": [
    "![image.png](attachment:image.png)"
   ]
  },
  {
   "attachments": {
    "image.png": {
     "image/png": "[encoded data removed]"
    }
   },
   "cell_type": "markdown",
   "id": "b457070f",
   "metadata": {},
   "source": [
    "![image.png](attachment:image.png)"
   ]
  },
  {
   "cell_type": "code",
   "execution_count": 71,
   "id": "1ab81cd1",
   "metadata": {},
   "outputs": [
    {
     "data": {
      "text/html": [
       "<ol class=list-inline>\n",
       "\t<li>TRUE</li>\n",
       "\t<li>TRUE</li>\n",
       "\t<li>TRUE</li>\n",
       "</ol>\n"
      ],
      "text/latex": [
       "\\begin{enumerate*}\n",
       "\\item TRUE\n",
       "\\item TRUE\n",
       "\\item TRUE\n",
       "\\end{enumerate*}\n"
      ],
      "text/markdown": [
       "1. TRUE\n",
       "2. TRUE\n",
       "3. TRUE\n",
       "\n",
       "\n"
      ],
      "text/plain": [
       "[1] TRUE TRUE TRUE"
      ]
     },
     "metadata": {},
     "output_type": "display_data"
    }
   ],
   "source": [
    "a <- c(1, 2, 3)\n",
    "b <- c(1, 2, 3)\n",
    "c <- c(1, 2, 4)\n",
    "# Here a, b and c should be of same length\n",
    "a == b"
   ]
  },
  {
   "cell_type": "code",
   "execution_count": 72,
   "id": "9eb21d58",
   "metadata": {},
   "outputs": [
    {
     "data": {
      "text/html": [
       "<ol class=list-inline>\n",
       "\t<li>TRUE</li>\n",
       "\t<li>TRUE</li>\n",
       "\t<li>FALSE</li>\n",
       "</ol>\n"
      ],
      "text/latex": [
       "\\begin{enumerate*}\n",
       "\\item TRUE\n",
       "\\item TRUE\n",
       "\\item FALSE\n",
       "\\end{enumerate*}\n"
      ],
      "text/markdown": [
       "1. TRUE\n",
       "2. TRUE\n",
       "3. FALSE\n",
       "\n",
       "\n"
      ],
      "text/plain": [
       "[1]  TRUE  TRUE FALSE"
      ]
     },
     "metadata": {},
     "output_type": "display_data"
    }
   ],
   "source": [
    "b == c"
   ]
  },
  {
   "cell_type": "code",
   "execution_count": 73,
   "id": "80e7dab5",
   "metadata": {},
   "outputs": [
    {
     "data": {
      "text/html": [
       "<ol class=list-inline>\n",
       "\t<li>TRUE</li>\n",
       "\t<li>TRUE</li>\n",
       "\t<li>FALSE</li>\n",
       "</ol>\n"
      ],
      "text/latex": [
       "\\begin{enumerate*}\n",
       "\\item TRUE\n",
       "\\item TRUE\n",
       "\\item FALSE\n",
       "\\end{enumerate*}\n"
      ],
      "text/markdown": [
       "1. TRUE\n",
       "2. TRUE\n",
       "3. FALSE\n",
       "\n",
       "\n"
      ],
      "text/plain": [
       "[1]  TRUE  TRUE FALSE"
      ]
     },
     "metadata": {},
     "output_type": "display_data"
    }
   ],
   "source": [
    "a == b & b == c # the condition is checked for each element "
   ]
  },
  {
   "cell_type": "code",
   "execution_count": 74,
   "id": "261ec8d7",
   "metadata": {},
   "outputs": [
    {
     "data": {
      "text/html": [
       "<ol class=list-inline>\n",
       "\t<li>FALSE</li>\n",
       "\t<li>TRUE</li>\n",
       "\t<li>FALSE</li>\n",
       "\t<li>FALSE</li>\n",
       "\t<li>FALSE</li>\n",
       "\t<li>FALSE</li>\n",
       "\t<li>FALSE</li>\n",
       "\t<li>FALSE</li>\n",
       "\t<li>FALSE</li>\n",
       "\t<li>FALSE</li>\n",
       "\t<li>FALSE</li>\n",
       "\t<li>FALSE</li>\n",
       "\t<li>FALSE</li>\n",
       "\t<li>FALSE</li>\n",
       "\t<li>FALSE</li>\n",
       "\t<li>FALSE</li>\n",
       "\t<li>FALSE</li>\n",
       "\t<li>FALSE</li>\n",
       "\t<li>FALSE</li>\n",
       "\t<li>FALSE</li>\n",
       "\t<li>FALSE</li>\n",
       "\t<li>FALSE</li>\n",
       "\t<li>FALSE</li>\n",
       "\t<li>FALSE</li>\n",
       "\t<li>FALSE</li>\n",
       "\t<li>FALSE</li>\n",
       "\t<li>FALSE</li>\n",
       "\t<li>FALSE</li>\n",
       "\t<li>FALSE</li>\n",
       "\t<li>FALSE</li>\n",
       "\t<li>FALSE</li>\n",
       "\t<li>FALSE</li>\n",
       "\t<li>FALSE</li>\n",
       "\t<li>FALSE</li>\n",
       "\t<li>FALSE</li>\n",
       "\t<li>FALSE</li>\n",
       "\t<li>FALSE</li>\n",
       "\t<li>FALSE</li>\n",
       "\t<li>FALSE</li>\n",
       "\t<li>FALSE</li>\n",
       "\t<li>FALSE</li>\n",
       "\t<li>FALSE</li>\n",
       "\t<li>FALSE</li>\n",
       "\t<li>FALSE</li>\n",
       "\t<li>FALSE</li>\n",
       "\t<li>FALSE</li>\n",
       "\t<li>FALSE</li>\n",
       "\t<li>FALSE</li>\n",
       "\t<li>FALSE</li>\n",
       "\t<li>FALSE</li>\n",
       "\t<li>FALSE</li>\n",
       "\t<li>FALSE</li>\n",
       "</ol>\n"
      ],
      "text/latex": [
       "\\begin{enumerate*}\n",
       "\\item FALSE\n",
       "\\item TRUE\n",
       "\\item FALSE\n",
       "\\item FALSE\n",
       "\\item FALSE\n",
       "\\item FALSE\n",
       "\\item FALSE\n",
       "\\item FALSE\n",
       "\\item FALSE\n",
       "\\item FALSE\n",
       "\\item FALSE\n",
       "\\item FALSE\n",
       "\\item FALSE\n",
       "\\item FALSE\n",
       "\\item FALSE\n",
       "\\item FALSE\n",
       "\\item FALSE\n",
       "\\item FALSE\n",
       "\\item FALSE\n",
       "\\item FALSE\n",
       "\\item FALSE\n",
       "\\item FALSE\n",
       "\\item FALSE\n",
       "\\item FALSE\n",
       "\\item FALSE\n",
       "\\item FALSE\n",
       "\\item FALSE\n",
       "\\item FALSE\n",
       "\\item FALSE\n",
       "\\item FALSE\n",
       "\\item FALSE\n",
       "\\item FALSE\n",
       "\\item FALSE\n",
       "\\item FALSE\n",
       "\\item FALSE\n",
       "\\item FALSE\n",
       "\\item FALSE\n",
       "\\item FALSE\n",
       "\\item FALSE\n",
       "\\item FALSE\n",
       "\\item FALSE\n",
       "\\item FALSE\n",
       "\\item FALSE\n",
       "\\item FALSE\n",
       "\\item FALSE\n",
       "\\item FALSE\n",
       "\\item FALSE\n",
       "\\item FALSE\n",
       "\\item FALSE\n",
       "\\item FALSE\n",
       "\\item FALSE\n",
       "\\item FALSE\n",
       "\\end{enumerate*}\n"
      ],
      "text/markdown": [
       "1. FALSE\n",
       "2. TRUE\n",
       "3. FALSE\n",
       "4. FALSE\n",
       "5. FALSE\n",
       "6. FALSE\n",
       "7. FALSE\n",
       "8. FALSE\n",
       "9. FALSE\n",
       "10. FALSE\n",
       "11. FALSE\n",
       "12. FALSE\n",
       "13. FALSE\n",
       "14. FALSE\n",
       "15. FALSE\n",
       "16. FALSE\n",
       "17. FALSE\n",
       "18. FALSE\n",
       "19. FALSE\n",
       "20. FALSE\n",
       "21. FALSE\n",
       "22. FALSE\n",
       "23. FALSE\n",
       "24. FALSE\n",
       "25. FALSE\n",
       "26. FALSE\n",
       "27. FALSE\n",
       "28. FALSE\n",
       "29. FALSE\n",
       "30. FALSE\n",
       "31. FALSE\n",
       "32. FALSE\n",
       "33. FALSE\n",
       "34. FALSE\n",
       "35. FALSE\n",
       "36. FALSE\n",
       "37. FALSE\n",
       "38. FALSE\n",
       "39. FALSE\n",
       "40. FALSE\n",
       "41. FALSE\n",
       "42. FALSE\n",
       "43. FALSE\n",
       "44. FALSE\n",
       "45. FALSE\n",
       "46. FALSE\n",
       "47. FALSE\n",
       "48. FALSE\n",
       "49. FALSE\n",
       "50. FALSE\n",
       "51. FALSE\n",
       "52. FALSE\n",
       "\n",
       "\n"
      ],
      "text/plain": [
       " [1] FALSE  TRUE FALSE FALSE FALSE FALSE FALSE FALSE FALSE FALSE FALSE FALSE\n",
       "[13] FALSE FALSE FALSE FALSE FALSE FALSE FALSE FALSE FALSE FALSE FALSE FALSE\n",
       "[25] FALSE FALSE FALSE FALSE FALSE FALSE FALSE FALSE FALSE FALSE FALSE FALSE\n",
       "[37] FALSE FALSE FALSE FALSE FALSE FALSE FALSE FALSE FALSE FALSE FALSE FALSE\n",
       "[49] FALSE FALSE FALSE FALSE"
      ]
     },
     "metadata": {},
     "output_type": "display_data"
    }
   ],
   "source": [
    "deck4$face == \"queen\" & deck4$suit == \"spades\" # Returns TRUE for the card queen of spades"
   ]
  },
  {
   "cell_type": "code",
   "execution_count": 75,
   "id": "5c312778",
   "metadata": {},
   "outputs": [],
   "source": [
    "queenOfSpades <- deck4$face == \"queen\" & deck4$suit == \"spades\""
   ]
  },
  {
   "cell_type": "code",
   "execution_count": 76,
   "id": "06f91431",
   "metadata": {},
   "outputs": [
    {
     "data": {
      "text/html": [
       "<table>\n",
       "<thead><tr><th></th><th scope=col>face</th><th scope=col>suit</th><th scope=col>value</th></tr></thead>\n",
       "<tbody>\n",
       "\t<tr><th scope=row>2</th><td>queen </td><td>spades</td><td>0     </td></tr>\n",
       "</tbody>\n",
       "</table>\n"
      ],
      "text/latex": [
       "\\begin{tabular}{r|lll}\n",
       "  & face & suit & value\\\\\n",
       "\\hline\n",
       "\t2 & queen  & spades & 0     \\\\\n",
       "\\end{tabular}\n"
      ],
      "text/markdown": [
       "\n",
       "| <!--/--> | face | suit | value |\n",
       "|---|---|---|---|\n",
       "| 2 | queen  | spades | 0      |\n",
       "\n"
      ],
      "text/plain": [
       "  face  suit   value\n",
       "2 queen spades 0    "
      ]
     },
     "metadata": {},
     "output_type": "display_data"
    }
   ],
   "source": [
    "deck4[queenOfSpades, ] # use the boolean array to retrieve the queen of spades"
   ]
  },
  {
   "cell_type": "code",
   "execution_count": 77,
   "id": "771e9f0d",
   "metadata": {},
   "outputs": [
    {
     "data": {
      "text/html": [
       "0"
      ],
      "text/latex": [
       "0"
      ],
      "text/markdown": [
       "0"
      ],
      "text/plain": [
       "[1] 0"
      ]
     },
     "metadata": {},
     "output_type": "display_data"
    }
   ],
   "source": [
    "deck4$value[queenOfSpades] # get the value of queen of spades"
   ]
  },
  {
   "cell_type": "code",
   "execution_count": 78,
   "id": "e3057a9e",
   "metadata": {},
   "outputs": [
    {
     "data": {
      "text/html": [
       "<table>\n",
       "<thead><tr><th></th><th scope=col>face</th><th scope=col>suit</th><th scope=col>value</th></tr></thead>\n",
       "<tbody>\n",
       "\t<tr><th scope=row>2</th><td>queen </td><td>spades</td><td>13    </td></tr>\n",
       "</tbody>\n",
       "</table>\n"
      ],
      "text/latex": [
       "\\begin{tabular}{r|lll}\n",
       "  & face & suit & value\\\\\n",
       "\\hline\n",
       "\t2 & queen  & spades & 13    \\\\\n",
       "\\end{tabular}\n"
      ],
      "text/markdown": [
       "\n",
       "| <!--/--> | face | suit | value |\n",
       "|---|---|---|---|\n",
       "| 2 | queen  | spades | 13     |\n",
       "\n"
      ],
      "text/plain": [
       "  face  suit   value\n",
       "2 queen spades 13   "
      ]
     },
     "metadata": {},
     "output_type": "display_data"
    }
   ],
   "source": [
    "deck4$value[queenOfSpades] <- 13\n",
    "deck4[queenOfSpades, ]"
   ]
  },
  {
   "cell_type": "code",
   "execution_count": 79,
   "id": "1531b142",
   "metadata": {},
   "outputs": [
    {
     "data": {
      "text/html": [
       "<table>\n",
       "<thead><tr><th scope=col>face</th><th scope=col>suit</th><th scope=col>value</th></tr></thead>\n",
       "<tbody>\n",
       "\t<tr><td>king  </td><td>spades</td><td>13    </td></tr>\n",
       "\t<tr><td>queen </td><td>spades</td><td>12    </td></tr>\n",
       "\t<tr><td>jack  </td><td>spades</td><td>11    </td></tr>\n",
       "\t<tr><td>ten   </td><td>spades</td><td>10    </td></tr>\n",
       "\t<tr><td>nine  </td><td>spades</td><td> 9    </td></tr>\n",
       "\t<tr><td>eight </td><td>spades</td><td> 8    </td></tr>\n",
       "\t<tr><td>seven </td><td>spades</td><td> 7    </td></tr>\n",
       "\t<tr><td>six   </td><td>spades</td><td> 6    </td></tr>\n",
       "\t<tr><td>five  </td><td>spades</td><td> 5    </td></tr>\n",
       "\t<tr><td>four  </td><td>spades</td><td> 4    </td></tr>\n",
       "\t<tr><td>three </td><td>spades</td><td> 3    </td></tr>\n",
       "\t<tr><td>two   </td><td>spades</td><td> 2    </td></tr>\n",
       "\t<tr><td>ace   </td><td>spades</td><td>14    </td></tr>\n",
       "</tbody>\n",
       "</table>\n"
      ],
      "text/latex": [
       "\\begin{tabular}{r|lll}\n",
       " face & suit & value\\\\\n",
       "\\hline\n",
       "\t king   & spades & 13    \\\\\n",
       "\t queen  & spades & 12    \\\\\n",
       "\t jack   & spades & 11    \\\\\n",
       "\t ten    & spades & 10    \\\\\n",
       "\t nine   & spades &  9    \\\\\n",
       "\t eight  & spades &  8    \\\\\n",
       "\t seven  & spades &  7    \\\\\n",
       "\t six    & spades &  6    \\\\\n",
       "\t five   & spades &  5    \\\\\n",
       "\t four   & spades &  4    \\\\\n",
       "\t three  & spades &  3    \\\\\n",
       "\t two    & spades &  2    \\\\\n",
       "\t ace    & spades & 14    \\\\\n",
       "\\end{tabular}\n"
      ],
      "text/markdown": [
       "\n",
       "| face | suit | value |\n",
       "|---|---|---|\n",
       "| king   | spades | 13     |\n",
       "| queen  | spades | 12     |\n",
       "| jack   | spades | 11     |\n",
       "| ten    | spades | 10     |\n",
       "| nine   | spades |  9     |\n",
       "| eight  | spades |  8     |\n",
       "| seven  | spades |  7     |\n",
       "| six    | spades |  6     |\n",
       "| five   | spades |  5     |\n",
       "| four   | spades |  4     |\n",
       "| three  | spades |  3     |\n",
       "| two    | spades |  2     |\n",
       "| ace    | spades | 14     |\n",
       "\n"
      ],
      "text/plain": [
       "   face  suit   value\n",
       "1  king  spades 13   \n",
       "2  queen spades 12   \n",
       "3  jack  spades 11   \n",
       "4  ten   spades 10   \n",
       "5  nine  spades  9   \n",
       "6  eight spades  8   \n",
       "7  seven spades  7   \n",
       "8  six   spades  6   \n",
       "9  five  spades  5   \n",
       "10 four  spades  4   \n",
       "11 three spades  3   \n",
       "12 two   spades  2   \n",
       "13 ace   spades 14   "
      ]
     },
     "metadata": {},
     "output_type": "display_data"
    }
   ],
   "source": [
    "deck5 <- deck\n",
    "head(deck5, 13)"
   ]
  },
  {
   "cell_type": "code",
   "execution_count": 80,
   "id": "0f3e8127",
   "metadata": {},
   "outputs": [
    {
     "data": {
      "text/html": [
       "<table>\n",
       "<thead><tr><th></th><th scope=col>face</th><th scope=col>suit</th><th scope=col>value</th></tr></thead>\n",
       "<tbody>\n",
       "\t<tr><th scope=row>1</th><td>king    </td><td>spades  </td><td>13      </td></tr>\n",
       "\t<tr><th scope=row>2</th><td>queen   </td><td>spades  </td><td>12      </td></tr>\n",
       "\t<tr><th scope=row>3</th><td>jack    </td><td>spades  </td><td>11      </td></tr>\n",
       "\t<tr><th scope=row>14</th><td>king    </td><td>clubs   </td><td>13      </td></tr>\n",
       "\t<tr><th scope=row>15</th><td>queen   </td><td>clubs   </td><td>12      </td></tr>\n",
       "\t<tr><th scope=row>16</th><td>jack    </td><td>clubs   </td><td>11      </td></tr>\n",
       "\t<tr><th scope=row>27</th><td>king    </td><td>diamonds</td><td>13      </td></tr>\n",
       "\t<tr><th scope=row>28</th><td>queen   </td><td>diamonds</td><td>12      </td></tr>\n",
       "\t<tr><th scope=row>29</th><td>jack    </td><td>diamonds</td><td>11      </td></tr>\n",
       "\t<tr><th scope=row>40</th><td>king    </td><td>hearts  </td><td>13      </td></tr>\n",
       "\t<tr><th scope=row>41</th><td>queen   </td><td>hearts  </td><td>12      </td></tr>\n",
       "\t<tr><th scope=row>42</th><td>jack    </td><td>hearts  </td><td>11      </td></tr>\n",
       "</tbody>\n",
       "</table>\n"
      ],
      "text/latex": [
       "\\begin{tabular}{r|lll}\n",
       "  & face & suit & value\\\\\n",
       "\\hline\n",
       "\t1 & king     & spades   & 13      \\\\\n",
       "\t2 & queen    & spades   & 12      \\\\\n",
       "\t3 & jack     & spades   & 11      \\\\\n",
       "\t14 & king     & clubs    & 13      \\\\\n",
       "\t15 & queen    & clubs    & 12      \\\\\n",
       "\t16 & jack     & clubs    & 11      \\\\\n",
       "\t27 & king     & diamonds & 13      \\\\\n",
       "\t28 & queen    & diamonds & 12      \\\\\n",
       "\t29 & jack     & diamonds & 11      \\\\\n",
       "\t40 & king     & hearts   & 13      \\\\\n",
       "\t41 & queen    & hearts   & 12      \\\\\n",
       "\t42 & jack     & hearts   & 11      \\\\\n",
       "\\end{tabular}\n"
      ],
      "text/markdown": [
       "\n",
       "| <!--/--> | face | suit | value |\n",
       "|---|---|---|---|\n",
       "| 1 | king     | spades   | 13       |\n",
       "| 2 | queen    | spades   | 12       |\n",
       "| 3 | jack     | spades   | 11       |\n",
       "| 14 | king     | clubs    | 13       |\n",
       "| 15 | queen    | clubs    | 12       |\n",
       "| 16 | jack     | clubs    | 11       |\n",
       "| 27 | king     | diamonds | 13       |\n",
       "| 28 | queen    | diamonds | 12       |\n",
       "| 29 | jack     | diamonds | 11       |\n",
       "| 40 | king     | hearts   | 13       |\n",
       "| 41 | queen    | hearts   | 12       |\n",
       "| 42 | jack     | hearts   | 11       |\n",
       "\n"
      ],
      "text/plain": [
       "   face  suit     value\n",
       "1  king  spades   13   \n",
       "2  queen spades   12   \n",
       "3  jack  spades   11   \n",
       "14 king  clubs    13   \n",
       "15 queen clubs    12   \n",
       "16 jack  clubs    11   \n",
       "27 king  diamonds 13   \n",
       "28 queen diamonds 12   \n",
       "29 jack  diamonds 11   \n",
       "40 king  hearts   13   \n",
       "41 queen hearts   12   \n",
       "42 jack  hearts   11   "
      ]
     },
     "metadata": {},
     "output_type": "display_data"
    }
   ],
   "source": [
    " # get all cards where the \"face\" is either a \"king\", \"queen\" or a \"jack\"\n",
    "facecard <- deck5$face %in% c(\"king\", \"queen\", \"jack\")\n",
    "deck5[facecard, ]"
   ]
  },
  {
   "cell_type": "code",
   "execution_count": 81,
   "id": "0f19a908",
   "metadata": {},
   "outputs": [
    {
     "data": {
      "text/html": [
       "<table>\n",
       "<thead><tr><th scope=col>face</th><th scope=col>suit</th><th scope=col>value</th></tr></thead>\n",
       "<tbody>\n",
       "\t<tr><td>king  </td><td>spades</td><td>10    </td></tr>\n",
       "\t<tr><td>queen </td><td>spades</td><td>10    </td></tr>\n",
       "\t<tr><td>jack  </td><td>spades</td><td>10    </td></tr>\n",
       "\t<tr><td>ten   </td><td>spades</td><td>10    </td></tr>\n",
       "\t<tr><td>nine  </td><td>spades</td><td> 9    </td></tr>\n",
       "\t<tr><td>eight </td><td>spades</td><td> 8    </td></tr>\n",
       "\t<tr><td>seven </td><td>spades</td><td> 7    </td></tr>\n",
       "\t<tr><td>six   </td><td>spades</td><td> 6    </td></tr>\n",
       "\t<tr><td>five  </td><td>spades</td><td> 5    </td></tr>\n",
       "\t<tr><td>four  </td><td>spades</td><td> 4    </td></tr>\n",
       "\t<tr><td>three </td><td>spades</td><td> 3    </td></tr>\n",
       "\t<tr><td>two   </td><td>spades</td><td> 2    </td></tr>\n",
       "\t<tr><td>ace   </td><td>spades</td><td>14    </td></tr>\n",
       "</tbody>\n",
       "</table>\n"
      ],
      "text/latex": [
       "\\begin{tabular}{r|lll}\n",
       " face & suit & value\\\\\n",
       "\\hline\n",
       "\t king   & spades & 10    \\\\\n",
       "\t queen  & spades & 10    \\\\\n",
       "\t jack   & spades & 10    \\\\\n",
       "\t ten    & spades & 10    \\\\\n",
       "\t nine   & spades &  9    \\\\\n",
       "\t eight  & spades &  8    \\\\\n",
       "\t seven  & spades &  7    \\\\\n",
       "\t six    & spades &  6    \\\\\n",
       "\t five   & spades &  5    \\\\\n",
       "\t four   & spades &  4    \\\\\n",
       "\t three  & spades &  3    \\\\\n",
       "\t two    & spades &  2    \\\\\n",
       "\t ace    & spades & 14    \\\\\n",
       "\\end{tabular}\n"
      ],
      "text/markdown": [
       "\n",
       "| face | suit | value |\n",
       "|---|---|---|\n",
       "| king   | spades | 10     |\n",
       "| queen  | spades | 10     |\n",
       "| jack   | spades | 10     |\n",
       "| ten    | spades | 10     |\n",
       "| nine   | spades |  9     |\n",
       "| eight  | spades |  8     |\n",
       "| seven  | spades |  7     |\n",
       "| six    | spades |  6     |\n",
       "| five   | spades |  5     |\n",
       "| four   | spades |  4     |\n",
       "| three  | spades |  3     |\n",
       "| two    | spades |  2     |\n",
       "| ace    | spades | 14     |\n",
       "\n"
      ],
      "text/plain": [
       "   face  suit   value\n",
       "1  king  spades 10   \n",
       "2  queen spades 10   \n",
       "3  jack  spades 10   \n",
       "4  ten   spades 10   \n",
       "5  nine  spades  9   \n",
       "6  eight spades  8   \n",
       "7  seven spades  7   \n",
       "8  six   spades  6   \n",
       "9  five  spades  5   \n",
       "10 four  spades  4   \n",
       "11 three spades  3   \n",
       "12 two   spades  2   \n",
       "13 ace   spades 14   "
      ]
     },
     "metadata": {},
     "output_type": "display_data"
    }
   ],
   "source": [
    "deck5$value[facecard] <- 10\n",
    "head(deck5, 13)"
   ]
  },
  {
   "cell_type": "code",
   "execution_count": 82,
   "id": "f4d6c578",
   "metadata": {},
   "outputs": [
    {
     "data": {
      "text/html": [
       "&lt;NA&gt;"
      ],
      "text/latex": [
       "<NA>"
      ],
      "text/markdown": [
       "&lt;NA&gt;"
      ],
      "text/plain": [
       "[1] NA"
      ]
     },
     "metadata": {},
     "output_type": "display_data"
    }
   ],
   "source": [
    "# Missing Information\n",
    "# The NA character is a special symbol in R. It stands for “not available” and can be used\n",
    "# as a placeholder for missing information.\n",
    "1 + NA"
   ]
  },
  {
   "cell_type": "code",
   "execution_count": 83,
   "id": "bdf75c8e",
   "metadata": {},
   "outputs": [
    {
     "data": {
      "text/html": [
       "&lt;NA&gt;"
      ],
      "text/latex": [
       "<NA>"
      ],
      "text/markdown": [
       "&lt;NA&gt;"
      ],
      "text/plain": [
       "[1] NA"
      ]
     },
     "metadata": {},
     "output_type": "display_data"
    }
   ],
   "source": [
    "NA == 1 # Any operation with NA returns an NA"
   ]
  },
  {
   "cell_type": "code",
   "execution_count": 84,
   "id": "232c774a",
   "metadata": {},
   "outputs": [
    {
     "data": {
      "text/html": [
       "<ol class=list-inline>\n",
       "\t<li>&lt;NA&gt;</li>\n",
       "\t<li>1</li>\n",
       "\t<li>2</li>\n",
       "\t<li>3</li>\n",
       "\t<li>4</li>\n",
       "\t<li>5</li>\n",
       "\t<li>6</li>\n",
       "\t<li>7</li>\n",
       "\t<li>8</li>\n",
       "\t<li>9</li>\n",
       "\t<li>10</li>\n",
       "\t<li>11</li>\n",
       "\t<li>12</li>\n",
       "\t<li>13</li>\n",
       "\t<li>14</li>\n",
       "\t<li>15</li>\n",
       "\t<li>16</li>\n",
       "\t<li>17</li>\n",
       "\t<li>18</li>\n",
       "\t<li>19</li>\n",
       "\t<li>20</li>\n",
       "\t<li>21</li>\n",
       "\t<li>22</li>\n",
       "\t<li>23</li>\n",
       "\t<li>24</li>\n",
       "\t<li>25</li>\n",
       "\t<li>26</li>\n",
       "\t<li>27</li>\n",
       "\t<li>28</li>\n",
       "\t<li>29</li>\n",
       "\t<li>30</li>\n",
       "\t<li>31</li>\n",
       "\t<li>32</li>\n",
       "\t<li>33</li>\n",
       "\t<li>34</li>\n",
       "\t<li>35</li>\n",
       "\t<li>36</li>\n",
       "\t<li>37</li>\n",
       "\t<li>38</li>\n",
       "\t<li>39</li>\n",
       "\t<li>40</li>\n",
       "\t<li>41</li>\n",
       "\t<li>42</li>\n",
       "\t<li>43</li>\n",
       "\t<li>44</li>\n",
       "\t<li>45</li>\n",
       "\t<li>46</li>\n",
       "\t<li>47</li>\n",
       "\t<li>48</li>\n",
       "\t<li>49</li>\n",
       "\t<li>50</li>\n",
       "</ol>\n"
      ],
      "text/latex": [
       "\\begin{enumerate*}\n",
       "\\item <NA>\n",
       "\\item 1\n",
       "\\item 2\n",
       "\\item 3\n",
       "\\item 4\n",
       "\\item 5\n",
       "\\item 6\n",
       "\\item 7\n",
       "\\item 8\n",
       "\\item 9\n",
       "\\item 10\n",
       "\\item 11\n",
       "\\item 12\n",
       "\\item 13\n",
       "\\item 14\n",
       "\\item 15\n",
       "\\item 16\n",
       "\\item 17\n",
       "\\item 18\n",
       "\\item 19\n",
       "\\item 20\n",
       "\\item 21\n",
       "\\item 22\n",
       "\\item 23\n",
       "\\item 24\n",
       "\\item 25\n",
       "\\item 26\n",
       "\\item 27\n",
       "\\item 28\n",
       "\\item 29\n",
       "\\item 30\n",
       "\\item 31\n",
       "\\item 32\n",
       "\\item 33\n",
       "\\item 34\n",
       "\\item 35\n",
       "\\item 36\n",
       "\\item 37\n",
       "\\item 38\n",
       "\\item 39\n",
       "\\item 40\n",
       "\\item 41\n",
       "\\item 42\n",
       "\\item 43\n",
       "\\item 44\n",
       "\\item 45\n",
       "\\item 46\n",
       "\\item 47\n",
       "\\item 48\n",
       "\\item 49\n",
       "\\item 50\n",
       "\\end{enumerate*}\n"
      ],
      "text/markdown": [
       "1. &lt;NA&gt;\n",
       "2. 1\n",
       "3. 2\n",
       "4. 3\n",
       "5. 4\n",
       "6. 5\n",
       "7. 6\n",
       "8. 7\n",
       "9. 8\n",
       "10. 9\n",
       "11. 10\n",
       "12. 11\n",
       "13. 12\n",
       "14. 13\n",
       "15. 14\n",
       "16. 15\n",
       "17. 16\n",
       "18. 17\n",
       "19. 18\n",
       "20. 19\n",
       "21. 20\n",
       "22. 21\n",
       "23. 22\n",
       "24. 23\n",
       "25. 24\n",
       "26. 25\n",
       "27. 26\n",
       "28. 27\n",
       "29. 28\n",
       "30. 29\n",
       "31. 30\n",
       "32. 31\n",
       "33. 32\n",
       "34. 33\n",
       "35. 34\n",
       "36. 35\n",
       "37. 36\n",
       "38. 37\n",
       "39. 38\n",
       "40. 39\n",
       "41. 40\n",
       "42. 41\n",
       "43. 42\n",
       "44. 43\n",
       "45. 44\n",
       "46. 45\n",
       "47. 46\n",
       "48. 47\n",
       "49. 48\n",
       "50. 49\n",
       "51. 50\n",
       "\n",
       "\n"
      ],
      "text/plain": [
       " [1] NA  1  2  3  4  5  6  7  8  9 10 11 12 13 14 15 16 17 18 19 20 21 22 23 24\n",
       "[26] 25 26 27 28 29 30 31 32 33 34 35 36 37 38 39 40 41 42 43 44 45 46 47 48 49\n",
       "[51] 50"
      ]
     },
     "metadata": {},
     "output_type": "display_data"
    }
   ],
   "source": [
    "c(NA, 1:50) # create an array with NA "
   ]
  },
  {
   "cell_type": "code",
   "execution_count": 85,
   "id": "56fb1bd4",
   "metadata": {},
   "outputs": [
    {
     "data": {
      "text/html": [
       "&lt;NA&gt;"
      ],
      "text/latex": [
       "<NA>"
      ],
      "text/markdown": [
       "&lt;NA&gt;"
      ],
      "text/plain": [
       "[1] NA"
      ]
     },
     "metadata": {},
     "output_type": "display_data"
    }
   ],
   "source": [
    "mean(c(NA, 1:50)) # finding a mean with NA return NA"
   ]
  },
  {
   "cell_type": "code",
   "execution_count": 86,
   "id": "dc8c9b77",
   "metadata": {},
   "outputs": [
    {
     "data": {
      "text/html": [
       "25.5"
      ],
      "text/latex": [
       "25.5"
      ],
      "text/markdown": [
       "25.5"
      ],
      "text/plain": [
       "[1] 25.5"
      ]
     },
     "metadata": {},
     "output_type": "display_data"
    }
   ],
   "source": [
    "mean(c(NA, 1:50), na.rm = TRUE) # you remove/ignore NA if you set na.rm=TRUE"
   ]
  },
  {
   "cell_type": "code",
   "execution_count": 87,
   "id": "ed438392",
   "metadata": {},
   "outputs": [
    {
     "data": {
      "text/html": [
       "&lt;NA&gt;"
      ],
      "text/latex": [
       "<NA>"
      ],
      "text/markdown": [
       "&lt;NA&gt;"
      ],
      "text/plain": [
       "[1] NA"
      ]
     },
     "metadata": {},
     "output_type": "display_data"
    }
   ],
   "source": [
    "# is.na\n",
    "NA == NA"
   ]
  },
  {
   "cell_type": "code",
   "execution_count": 88,
   "id": "d689075b",
   "metadata": {},
   "outputs": [
    {
     "data": {
      "text/html": [
       "<ol class=list-inline>\n",
       "\t<li>&lt;NA&gt;</li>\n",
       "\t<li>&lt;NA&gt;</li>\n",
       "\t<li>&lt;NA&gt;</li>\n",
       "\t<li>&lt;NA&gt;</li>\n",
       "</ol>\n"
      ],
      "text/latex": [
       "\\begin{enumerate*}\n",
       "\\item <NA>\n",
       "\\item <NA>\n",
       "\\item <NA>\n",
       "\\item <NA>\n",
       "\\end{enumerate*}\n"
      ],
      "text/markdown": [
       "1. &lt;NA&gt;\n",
       "2. &lt;NA&gt;\n",
       "3. &lt;NA&gt;\n",
       "4. &lt;NA&gt;\n",
       "\n",
       "\n"
      ],
      "text/plain": [
       "[1] NA NA NA NA"
      ]
     },
     "metadata": {},
     "output_type": "display_data"
    }
   ],
   "source": [
    "c(1, 2, 3, NA) == NA"
   ]
  },
  {
   "cell_type": "code",
   "execution_count": 89,
   "id": "8ab65a9a",
   "metadata": {},
   "outputs": [
    {
     "data": {
      "text/html": [
       "TRUE"
      ],
      "text/latex": [
       "TRUE"
      ],
      "text/markdown": [
       "TRUE"
      ],
      "text/plain": [
       "[1] TRUE"
      ]
     },
     "metadata": {},
     "output_type": "display_data"
    }
   ],
   "source": [
    "# R supplies a special function that can test whether a value is an NA.\n",
    "is.na(NA)"
   ]
  },
  {
   "cell_type": "code",
   "execution_count": 90,
   "id": "01a227de",
   "metadata": {},
   "outputs": [
    {
     "data": {
      "text/html": [
       "<ol class=list-inline>\n",
       "\t<li>FALSE</li>\n",
       "\t<li>FALSE</li>\n",
       "\t<li>FALSE</li>\n",
       "\t<li>TRUE</li>\n",
       "</ol>\n"
      ],
      "text/latex": [
       "\\begin{enumerate*}\n",
       "\\item FALSE\n",
       "\\item FALSE\n",
       "\\item FALSE\n",
       "\\item TRUE\n",
       "\\end{enumerate*}\n"
      ],
      "text/markdown": [
       "1. FALSE\n",
       "2. FALSE\n",
       "3. FALSE\n",
       "4. TRUE\n",
       "\n",
       "\n"
      ],
      "text/plain": [
       "[1] FALSE FALSE FALSE  TRUE"
      ]
     },
     "metadata": {},
     "output_type": "display_data"
    }
   ],
   "source": [
    "vec <- c(1, 2, 3, NA)\n",
    "is.na(vec)"
   ]
  },
  {
   "cell_type": "code",
   "execution_count": 91,
   "id": "deac4f4f",
   "metadata": {},
   "outputs": [
    {
     "data": {
      "text/html": [
       "<table>\n",
       "<thead><tr><th scope=col>face</th><th scope=col>suit</th><th scope=col>value</th></tr></thead>\n",
       "<tbody>\n",
       "\t<tr><td>king  </td><td>spades</td><td>10    </td></tr>\n",
       "\t<tr><td>queen </td><td>spades</td><td>10    </td></tr>\n",
       "\t<tr><td>jack  </td><td>spades</td><td>10    </td></tr>\n",
       "\t<tr><td>ten   </td><td>spades</td><td>10    </td></tr>\n",
       "\t<tr><td>nine  </td><td>spades</td><td> 9    </td></tr>\n",
       "\t<tr><td>eight </td><td>spades</td><td> 8    </td></tr>\n",
       "\t<tr><td>seven </td><td>spades</td><td> 7    </td></tr>\n",
       "\t<tr><td>six   </td><td>spades</td><td> 6    </td></tr>\n",
       "\t<tr><td>five  </td><td>spades</td><td> 5    </td></tr>\n",
       "\t<tr><td>four  </td><td>spades</td><td> 4    </td></tr>\n",
       "\t<tr><td>three </td><td>spades</td><td> 3    </td></tr>\n",
       "\t<tr><td>two   </td><td>spades</td><td> 2    </td></tr>\n",
       "\t<tr><td>ace   </td><td>spades</td><td>NA    </td></tr>\n",
       "</tbody>\n",
       "</table>\n"
      ],
      "text/latex": [
       "\\begin{tabular}{r|lll}\n",
       " face & suit & value\\\\\n",
       "\\hline\n",
       "\t king   & spades & 10    \\\\\n",
       "\t queen  & spades & 10    \\\\\n",
       "\t jack   & spades & 10    \\\\\n",
       "\t ten    & spades & 10    \\\\\n",
       "\t nine   & spades &  9    \\\\\n",
       "\t eight  & spades &  8    \\\\\n",
       "\t seven  & spades &  7    \\\\\n",
       "\t six    & spades &  6    \\\\\n",
       "\t five   & spades &  5    \\\\\n",
       "\t four   & spades &  4    \\\\\n",
       "\t three  & spades &  3    \\\\\n",
       "\t two    & spades &  2    \\\\\n",
       "\t ace    & spades & NA    \\\\\n",
       "\\end{tabular}\n"
      ],
      "text/markdown": [
       "\n",
       "| face | suit | value |\n",
       "|---|---|---|\n",
       "| king   | spades | 10     |\n",
       "| queen  | spades | 10     |\n",
       "| jack   | spades | 10     |\n",
       "| ten    | spades | 10     |\n",
       "| nine   | spades |  9     |\n",
       "| eight  | spades |  8     |\n",
       "| seven  | spades |  7     |\n",
       "| six    | spades |  6     |\n",
       "| five   | spades |  5     |\n",
       "| four   | spades |  4     |\n",
       "| three  | spades |  3     |\n",
       "| two    | spades |  2     |\n",
       "| ace    | spades | NA     |\n",
       "\n"
      ],
      "text/plain": [
       "   face  suit   value\n",
       "1  king  spades 10   \n",
       "2  queen spades 10   \n",
       "3  jack  spades 10   \n",
       "4  ten   spades 10   \n",
       "5  nine  spades  9   \n",
       "6  eight spades  8   \n",
       "7  seven spades  7   \n",
       "8  six   spades  6   \n",
       "9  five  spades  5   \n",
       "10 four  spades  4   \n",
       "11 three spades  3   \n",
       "12 two   spades  2   \n",
       "13 ace   spades NA   "
      ]
     },
     "metadata": {},
     "output_type": "display_data"
    }
   ],
   "source": [
    "deck5$value[deck5$face == \"ace\"] <- NA\n",
    "head(deck5, 13)"
   ]
  }
 ],
 "metadata": {
  "kernelspec": {
   "display_name": "Python 3 (ipykernel)",
   "language": "python",
   "name": "python3"
  },
  "language_info": {
   "codemirror_mode": {
    "name": "ipython",
    "version": 3
   },
   "file_extension": ".py",
   "mimetype": "text/x-python",
   "name": "python",
   "nbconvert_exporter": "python",
   "pygments_lexer": "ipython3",
   "version": "3.11.4"
  }
 },
 "nbformat": 4,
 "nbformat_minor": 5
}
