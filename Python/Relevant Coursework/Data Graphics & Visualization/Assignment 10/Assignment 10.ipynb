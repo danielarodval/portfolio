{
 "cells": [
  {
   "cell_type": "markdown",
   "id": "e90b4e54",
   "metadata": {},
   "source": [
    "# Assignment 10"
   ]
  },
  {
   "cell_type": "markdown",
   "id": "7a68869e",
   "metadata": {},
   "source": [
    "#### Goal: Reproduce Statewise unemployment Geovisualization plot shown in https://www.forbes.com/advisor/personal-finance/unemployment-rates-by-state-03-10-23/Links to an external site. \n",
    "\n",
    "#### Details: Create a choropleth plot of the current (March 10) US unemployment rate by state. "
   ]
  },
  {
   "cell_type": "markdown",
   "id": "63bc5b12",
   "metadata": {},
   "source": [
    "#### Data Acquisition: \n",
    "\n",
    "Web Scrape table data from https://www.bls.gov/web/laus/laumstrk.htm.  Links to an external site."
   ]
  },
  {
   "cell_type": "code",
   "execution_count": 2,
   "id": "8514264d",
   "metadata": {},
   "outputs": [
    {
     "ename": "IndexError",
     "evalue": "list index out of range",
     "output_type": "error",
     "traceback": [
      "\u001b[1;31m---------------------------------------------------------------------------\u001b[0m",
      "\u001b[1;31mIndexError\u001b[0m                                Traceback (most recent call last)",
      "\u001b[1;32m~\\AppData\\Local\\Temp\\ipykernel_6844\\1532426950.py\u001b[0m in \u001b[0;36m<module>\u001b[1;34m\u001b[0m\n\u001b[0;32m      9\u001b[0m \u001b[0mparser\u001b[0m\u001b[1;33m.\u001b[0m\u001b[0mfeed\u001b[0m\u001b[1;33m(\u001b[0m\u001b[0mresponse\u001b[0m\u001b[1;33m.\u001b[0m\u001b[0mtext\u001b[0m\u001b[1;33m)\u001b[0m\u001b[1;33m\u001b[0m\u001b[1;33m\u001b[0m\u001b[0m\n\u001b[0;32m     10\u001b[0m \u001b[1;33m\u001b[0m\u001b[0m\n\u001b[1;32m---> 11\u001b[1;33m \u001b[0mdf\u001b[0m \u001b[1;33m=\u001b[0m \u001b[0mpd\u001b[0m\u001b[1;33m.\u001b[0m\u001b[0mDataFrame\u001b[0m\u001b[1;33m(\u001b[0m\u001b[0mparser\u001b[0m\u001b[1;33m.\u001b[0m\u001b[0mtables\u001b[0m\u001b[1;33m[\u001b[0m\u001b[1;36m0\u001b[0m\u001b[1;33m]\u001b[0m\u001b[1;33m)\u001b[0m\u001b[1;33m\u001b[0m\u001b[1;33m\u001b[0m\u001b[0m\n\u001b[0m\u001b[0;32m     12\u001b[0m \u001b[0mdf\u001b[0m\u001b[1;33m\u001b[0m\u001b[1;33m\u001b[0m\u001b[0m\n",
      "\u001b[1;31mIndexError\u001b[0m: list index out of range"
     ]
    }
   ],
   "source": [
    "import pandas as pd\n",
    "import requests\n",
    "from html_table_parser.parser import HTMLTableParser\n",
    "\n",
    "url = \"https://www.bls.gov/web/laus/laumstrk.htm\"\n",
    "response = requests.get(url)\n",
    "\n",
    "parser = HTMLTableParser()\n",
    "parser.feed(response.text)\n",
    "\n",
    "df = pd.DataFrame(parser.tables[0])\n",
    "df"
   ]
  },
  {
   "cell_type": "markdown",
   "id": "2b9d7571",
   "metadata": {},
   "source": [
    "#### Data Processing:\n",
    "\n",
    "Covert the scraped table data into a Data Frame with column names as show in the original HTML page.\n",
    "\n",
    "Add a column to the Data Frame that holds the 2-letter state abbreviation for the states listed in the table.\n",
    "\n",
    "You may use Python US package (https://pypi.org/project/us/) to get the state abbreviation.\n"
   ]
  },
  {
   "cell_type": "code",
   "execution_count": null,
   "id": "49682a2a",
   "metadata": {},
   "outputs": [],
   "source": [
    "df.columns = df.iloc[0]\n",
    "df = df.iloc[1:]\n",
    "df = df.iloc[:-2]\n",
    "import us.states\n",
    "state_abbrev = {state.name: state.abbr for state in us.states.STATES}\n",
    "df['State Abbr'] = df['State'].map(state_abbrev)\n",
    "df['State Abbr'][49] = 'DC'\n",
    "df['February 2023 ( p ) rate'] = df['February 2023 ( p ) rate'].astype(float)\n",
    "df"
   ]
  },
  {
   "cell_type": "markdown",
   "id": "41a7373a",
   "metadata": {},
   "source": [
    "#### Data Visualization:\n",
    "\n",
    "Use Plotly Express (px) method choropleth (px.choropleth) by setting following parameters:\n",
    "\n",
    "locations = state abbreviation data from the abbreviation column of the Data Frame, \n",
    "locationmode=\"USA-states\",  and  scope = \"usa\"\n",
    "\n",
    "To exactly match color use the following continuous color scale parameter:\n",
    "\n",
    "color_continuous_scale=colorList\n",
    "\n",
    "where colorList is a list of tuples as follows:\n",
    "\n",
    "[(0, '#f0f9e8'),(1/6, '#b6e3bb'), (2/6, '#75c8c5'),(3/6, '#4ba8c9'),(4/6, '#2989bd'),(5/6, '#0a6aad'),(1, '#254b8c')"
   ]
  },
  {
   "cell_type": "code",
   "execution_count": null,
   "id": "f0d6ce65",
   "metadata": {},
   "outputs": [],
   "source": [
    "import plotly.express as px\n",
    "\n",
    "colorsList = [(0, '#f0f9e8'),(1/6, '#b6e3bb'), (2/6, '#75c8c5'),(3/6, '#4ba8c9'),(4/6, '#2989bd'),(5/6, '#0a6aad'),(1, '#254b8c')]\n",
    "\n",
    "fig = px.choropleth(df, locations = 'State Abbr', locationmode=\"USA-states\", scope = \"usa\", color='February 2023 ( p ) rate', color_continuous_scale=colorsList)\n",
    "fig.update_layout(dragmode=False)"
   ]
  }
 ],
 "metadata": {
  "kernelspec": {
   "display_name": "Python 3 (ipykernel)",
   "language": "python",
   "name": "python3"
  },
  "language_info": {
   "codemirror_mode": {
    "name": "ipython",
    "version": 3
   },
   "file_extension": ".py",
   "mimetype": "text/x-python",
   "name": "python",
   "nbconvert_exporter": "python",
   "pygments_lexer": "ipython3",
   "version": "3.9.12"
  }
 },
 "nbformat": 4,
 "nbformat_minor": 5
}
