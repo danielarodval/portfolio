{
 "cells": [
  {
   "cell_type": "markdown",
   "id": "724fd47d",
   "metadata": {},
   "source": [
    "## STA 4724: Homework 2 - Due Tuesday, Sep. 26 \n",
    "**Instructions**: Finsih the assign by directly answering the question or finishing the code in this Jupyter notebook. \n",
    "\n",
    "After you finish, submit the saved notebook to webcourses."
   ]
  },
  {
   "cell_type": "markdown",
   "id": "b28770c6",
   "metadata": {},
   "source": [
    "**Your name: Daniel Rodriguez**                     \n",
    "\n",
    "**Your ID:4802087**"
   ]
  },
  {
   "cell_type": "markdown",
   "id": "4e1f7ada",
   "metadata": {},
   "source": [
    "## Question 1\n",
    "The cost of the maintenance of a certain type of tractor seems to increase with age. The file\n",
    "*tractor.csv* contains ages (years) and 6-monthly maintenance costs for n = 17 such tractors.\n",
    "\n",
    "**(a)** Read the data file."
   ]
  },
  {
   "cell_type": "code",
   "execution_count": 1,
   "id": "f4c42d46",
   "metadata": {},
   "outputs": [
    {
     "data": {
      "text/html": [
       "<div>\n",
       "<style scoped>\n",
       "    .dataframe tbody tr th:only-of-type {\n",
       "        vertical-align: middle;\n",
       "    }\n",
       "\n",
       "    .dataframe tbody tr th {\n",
       "        vertical-align: top;\n",
       "    }\n",
       "\n",
       "    .dataframe thead th {\n",
       "        text-align: right;\n",
       "    }\n",
       "</style>\n",
       "<table border=\"1\" class=\"dataframe\">\n",
       "  <thead>\n",
       "    <tr style=\"text-align: right;\">\n",
       "      <th></th>\n",
       "      <th>age</th>\n",
       "      <th>cost</th>\n",
       "    </tr>\n",
       "  </thead>\n",
       "  <tbody>\n",
       "    <tr>\n",
       "      <th>0</th>\n",
       "      <td>4.5</td>\n",
       "      <td>619</td>\n",
       "    </tr>\n",
       "    <tr>\n",
       "      <th>1</th>\n",
       "      <td>2.5</td>\n",
       "      <td>1049</td>\n",
       "    </tr>\n",
       "    <tr>\n",
       "      <th>2</th>\n",
       "      <td>2.5</td>\n",
       "      <td>1033</td>\n",
       "    </tr>\n",
       "    <tr>\n",
       "      <th>3</th>\n",
       "      <td>4.0</td>\n",
       "      <td>495</td>\n",
       "    </tr>\n",
       "    <tr>\n",
       "      <th>4</th>\n",
       "      <td>4.0</td>\n",
       "      <td>723</td>\n",
       "    </tr>\n",
       "    <tr>\n",
       "      <th>5</th>\n",
       "      <td>4.0</td>\n",
       "      <td>681</td>\n",
       "    </tr>\n",
       "    <tr>\n",
       "      <th>6</th>\n",
       "      <td>5.0</td>\n",
       "      <td>890</td>\n",
       "    </tr>\n",
       "    <tr>\n",
       "      <th>7</th>\n",
       "      <td>5.0</td>\n",
       "      <td>1522</td>\n",
       "    </tr>\n",
       "    <tr>\n",
       "      <th>8</th>\n",
       "      <td>5.5</td>\n",
       "      <td>987</td>\n",
       "    </tr>\n",
       "    <tr>\n",
       "      <th>9</th>\n",
       "      <td>5.0</td>\n",
       "      <td>1194</td>\n",
       "    </tr>\n",
       "    <tr>\n",
       "      <th>10</th>\n",
       "      <td>0.5</td>\n",
       "      <td>163</td>\n",
       "    </tr>\n",
       "    <tr>\n",
       "      <th>11</th>\n",
       "      <td>0.5</td>\n",
       "      <td>182</td>\n",
       "    </tr>\n",
       "    <tr>\n",
       "      <th>12</th>\n",
       "      <td>6.0</td>\n",
       "      <td>764</td>\n",
       "    </tr>\n",
       "    <tr>\n",
       "      <th>13</th>\n",
       "      <td>6.0</td>\n",
       "      <td>1373</td>\n",
       "    </tr>\n",
       "    <tr>\n",
       "      <th>14</th>\n",
       "      <td>1.0</td>\n",
       "      <td>978</td>\n",
       "    </tr>\n",
       "    <tr>\n",
       "      <th>15</th>\n",
       "      <td>1.0</td>\n",
       "      <td>466</td>\n",
       "    </tr>\n",
       "    <tr>\n",
       "      <th>16</th>\n",
       "      <td>1.0</td>\n",
       "      <td>549</td>\n",
       "    </tr>\n",
       "  </tbody>\n",
       "</table>\n",
       "</div>"
      ],
      "text/plain": [
       "    age  cost\n",
       "0   4.5   619\n",
       "1   2.5  1049\n",
       "2   2.5  1033\n",
       "3   4.0   495\n",
       "4   4.0   723\n",
       "5   4.0   681\n",
       "6   5.0   890\n",
       "7   5.0  1522\n",
       "8   5.5   987\n",
       "9   5.0  1194\n",
       "10  0.5   163\n",
       "11  0.5   182\n",
       "12  6.0   764\n",
       "13  6.0  1373\n",
       "14  1.0   978\n",
       "15  1.0   466\n",
       "16  1.0   549"
      ]
     },
     "metadata": {},
     "output_type": "display_data"
    }
   ],
   "source": [
    "import pandas as pd\n",
    "tractor = pd.read_csv('tractor.csv')\n",
    "\n",
    "display(tractor)"
   ]
  },
  {
   "cell_type": "markdown",
   "id": "44e13f10",
   "metadata": {},
   "source": [
    "**(b)** Create a scatterplot of tractor maintenance cost versus age."
   ]
  },
  {
   "cell_type": "code",
   "execution_count": 2,
   "id": "eff21a0d",
   "metadata": {},
   "outputs": [
    {
     "data": {
      "image/png": "[encoded data removed]",
      "text/plain": [
       "<Figure size 640x480 with 1 Axes>"
      ]
     },
     "metadata": {},
     "output_type": "display_data"
    }
   ],
   "source": [
    "import matplotlib.pyplot as plt\n",
    "\n",
    "plt.scatter(x=tractor['age'],y=tractor['cost'])\n",
    "plt.show()"
   ]
  },
  {
   "cell_type": "markdown",
   "id": "83adb660",
   "metadata": {},
   "source": [
    "**(c)** Using regression to fit the model:\n",
    "$$\\text{cost}=\\beta_0+\\beta_1 \\text{age}$$\n",
    "in two different ways.\n",
    "\n",
    "Firstly, use python's bulit-in linear regression solver."
   ]
  },
  {
   "cell_type": "code",
   "execution_count": 3,
   "id": "58827880",
   "metadata": {},
   "outputs": [],
   "source": [
    "from sklearn.linear_model import LinearRegression\n",
    "\n",
    "reg = LinearRegression()\n",
    "\n",
    "reg.fit(tractor['age'].values.reshape((-1, 1)),y=tractor['cost'])\n",
    "predictions_sklearn = reg.predict(tractor['age'].values.reshape((-1, 1)))"
   ]
  },
  {
   "cell_type": "markdown",
   "id": "99bf4b3d",
   "metadata": {},
   "source": [
    "Secondly, use close form solution of least square."
   ]
  },
  {
   "cell_type": "code",
   "execution_count": 4,
   "id": "3ec20106",
   "metadata": {},
   "outputs": [],
   "source": [
    "import numpy as np\n",
    "X = np.c_[np.ones(tractor['age'].shape[0]), tractor['age']]\n",
    "\n",
    "beta = np.linalg.inv(X.T.dot(X)).dot(X.T).dot(tractor['cost'])\n",
    "predictions_closed_form = X.dot(beta)"
   ]
  },
  {
   "cell_type": "markdown",
   "id": "5b680919",
   "metadata": {},
   "source": [
    "**(d)** Add both fitted lines (in different color/style) to the scatterplot. They should give you the same solution."
   ]
  },
  {
   "cell_type": "code",
   "execution_count": 5,
   "id": "9f97d5e6",
   "metadata": {},
   "outputs": [
    {
     "data": {
      "image/png": "[encoded data removed]",
      "text/plain": [
       "<Figure size 640x480 with 1 Axes>"
      ]
     },
     "metadata": {},
     "output_type": "display_data"
    }
   ],
   "source": [
    "plt.scatter(tractor['age'], tractor['cost'], color='blue', label='Data Points')\n",
    "plt.plot(tractor['age'], predictions_sklearn, color='red', label='Fitted Line (scikit-learn)')\n",
    "plt.plot(tractor['age'], predictions_closed_form, color='green', linestyle='--', label='Fitted Line (Closed-Form)')\n",
    "plt.xlabel('Age')\n",
    "plt.ylabel('Cost')\n",
    "plt.legend()\n",
    "plt.title('Scatterplot with Fitted Lines')\n",
    "plt.show()"
   ]
  },
  {
   "cell_type": "markdown",
   "id": "7150b642",
   "metadata": {},
   "source": [
    "**(e)** Suppose you are considering buying a tractor  that is three years old, what would you expect your 6-monthly maintenance costs to be?"
   ]
  },
  {
   "cell_type": "markdown",
   "id": "8f078720",
   "metadata": {},
   "source": [
    "**Type your answer here**:If your tractor is three years old you would expect you 6-monthly maintenance costs to be 650 - 700."
   ]
  },
  {
   "cell_type": "markdown",
   "id": "26988db5",
   "metadata": {},
   "source": [
    "## Question 2\n",
    "### Part 1\n",
    "Let's generate a synthetic dataset for regression! It should have m = 150 data points and each has n = 75 dimensions (features).\n",
    "\n",
    "**(a)** Set the random seed to be 0."
   ]
  },
  {
   "cell_type": "code",
   "execution_count": 6,
   "id": "42e77179",
   "metadata": {},
   "outputs": [],
   "source": [
    "import numpy as np\n",
    "np.random.seed(0)"
   ]
  },
  {
   "cell_type": "markdown",
   "id": "93113a94",
   "metadata": {},
   "source": [
    "**(b)** Let $X\\in\\mathbb{R}^{m\\times n}$ be a random matrix using *numpy.random.rand()* function."
   ]
  },
  {
   "cell_type": "code",
   "execution_count": 7,
   "id": "67101e6e",
   "metadata": {},
   "outputs": [
    {
     "data": {
      "text/plain": [
       "array([[0.5488135 , 0.71518937, 0.60276338, ..., 0.97676109, 0.60484552,\n",
       "        0.73926358],\n",
       "       [0.03918779, 0.28280696, 0.12019656, ..., 0.91948261, 0.7142413 ,\n",
       "        0.99884701],\n",
       "       [0.1494483 , 0.86812606, 0.16249293, ..., 0.27354203, 0.79804683,\n",
       "        0.18563594],\n",
       "       ...,\n",
       "       [0.02972321, 0.96679304, 0.42879515, ..., 0.74254663, 0.05848812,\n",
       "        0.02318131],\n",
       "       [0.75361727, 0.12952377, 0.81188567, ..., 0.17014208, 0.26223898,\n",
       "        0.85816892],\n",
       "       [0.32394001, 0.88894006, 0.62976939, ..., 0.4188705 , 0.17694275,\n",
       "        0.11363943]])"
      ]
     },
     "metadata": {},
     "output_type": "display_data"
    }
   ],
   "source": [
    "m, n = 150, 75\n",
    "X = np.random.rand(m, n)\n",
    "display(X)"
   ]
  },
  {
   "cell_type": "markdown",
   "id": "5e28b6f2",
   "metadata": {},
   "source": [
    "**(c)** Set the first 10 components of $\\hat{\\beta}$ to be some random values between $-10$ and $10$, and all the other components to zero. \n",
    "\n",
    "Hint: Read what *numpy.random.rand()* generates, and how you generate random numbers in a different interval."
   ]
  },
  {
   "cell_type": "code",
   "execution_count": 8,
   "id": "d78abf2c",
   "metadata": {
    "scrolled": true
   },
   "outputs": [
    {
     "data": {
      "text/plain": [
       "array([-3.33907048, -4.30102186, -2.64543987, -8.47634449, -5.47961583,\n",
       "        0.30633366,  9.83226175, -1.68473976, -1.73815895, -4.31755851,\n",
       "        0.        ,  0.        ,  0.        ,  0.        ,  0.        ,\n",
       "        0.        ,  0.        ,  0.        ,  0.        ,  0.        ,\n",
       "        0.        ,  0.        ,  0.        ,  0.        ,  0.        ,\n",
       "        0.        ,  0.        ,  0.        ,  0.        ,  0.        ,\n",
       "        0.        ,  0.        ,  0.        ,  0.        ,  0.        ,\n",
       "        0.        ,  0.        ,  0.        ,  0.        ,  0.        ,\n",
       "        0.        ,  0.        ,  0.        ,  0.        ,  0.        ,\n",
       "        0.        ,  0.        ,  0.        ,  0.        ,  0.        ,\n",
       "        0.        ,  0.        ,  0.        ,  0.        ,  0.        ,\n",
       "        0.        ,  0.        ,  0.        ,  0.        ,  0.        ,\n",
       "        0.        ,  0.        ,  0.        ,  0.        ,  0.        ,\n",
       "        0.        ,  0.        ,  0.        ,  0.        ,  0.        ,\n",
       "        0.        ,  0.        ,  0.        ,  0.        ,  0.        ])"
      ]
     },
     "metadata": {},
     "output_type": "display_data"
    }
   ],
   "source": [
    "beta_hat = np.zeros(n)\n",
    "beta_hat[:10] = np.random.uniform(-10,10,10)\n",
    "display(beta_hat)"
   ]
  },
  {
   "cell_type": "markdown",
   "id": "a59d88fc",
   "metadata": {},
   "source": [
    "**(d)** Computer $Y=X\\hat{\\beta}+\\varepsilon$ where $\\varepsilon\\in\\mathbb{R}^{m\\times 1}$ is a random noise vector generated using *numpy.random.randn()* with mean 0 and standard deviation 0.1."
   ]
  },
  {
   "cell_type": "code",
   "execution_count": 9,
   "id": "f461acaf",
   "metadata": {},
   "outputs": [
    {
     "data": {
      "text/plain": [
       "array([-13.66479612,  -4.39562355,  -4.18526222, -18.31518361,\n",
       "       -10.10506674, -15.21647569, -10.26077889,  -8.05030539,\n",
       "        -7.61932897,  -8.40585834,  -9.58375603, -18.4171525 ,\n",
       "        -9.96504441,  -7.31944912, -10.74858777, -16.43834087,\n",
       "       -17.62400215, -11.24689894, -17.52470791, -18.35088157,\n",
       "       -12.11911244, -10.88958466,  -5.86392185,  -5.67323488,\n",
       "        -7.51632215,  -9.6974837 ,  -7.59934395,  -5.16669687,\n",
       "       -10.60097878, -23.66923268, -12.67354666, -15.67615523,\n",
       "       -15.69812543,  -8.55264571,  -8.8630824 , -20.97825028,\n",
       "       -19.0365018 , -10.16920262,  -8.60159322,  -2.26307849,\n",
       "       -12.83269445, -12.01093885, -14.18790248, -11.51250449,\n",
       "       -11.39605859,  -9.91851804, -13.07767105,  -9.69288562,\n",
       "       -12.59228483, -16.72859152, -19.37779607, -11.54191111,\n",
       "        -3.85581622,  -7.14135322,  -8.61098753, -12.98720609,\n",
       "        -4.31942858, -10.12955417, -15.01372514,  -7.95666542,\n",
       "       -13.82599984, -17.15871143,  -5.03397752,  -6.33728206,\n",
       "       -18.60996902, -16.09016205, -14.51983605,  -5.88866882,\n",
       "       -18.17973895, -11.87429097,  -6.18431299, -14.26896035,\n",
       "       -10.07864897,  -5.23606075, -11.67027542, -16.74798594,\n",
       "        -6.01389909,  -8.88642301,  -5.39879318, -14.33228672,\n",
       "       -14.59133804, -13.08870311,  -8.80146516, -14.5521172 ,\n",
       "       -17.45803472,  -6.44848109, -19.16737196,  -7.30720407,\n",
       "       -11.59280765, -19.80010597,  -9.37133137,  -5.44243776,\n",
       "       -14.85111603, -17.43338307,  -5.14943399,  -7.446661  ,\n",
       "        -7.57569537, -15.46241777, -12.83529622, -16.88542965,\n",
       "       -13.3780771 , -16.14187137, -17.63009789,  -6.40880593,\n",
       "        -7.95989873,  -4.7454907 ,  -9.07176129, -13.03298281,\n",
       "       -14.02424135,  -5.136486  , -14.64252794,  -9.62948117,\n",
       "       -12.57833758, -11.45631882, -10.0013485 , -16.47470934,\n",
       "       -20.68343155, -19.0091464 ,  -7.08883629, -11.67378629,\n",
       "       -11.32793745,  -9.93595179,  -7.05411054, -13.37578276,\n",
       "       -10.66130149, -10.80725276, -12.31741523,  -9.43833112,\n",
       "        -7.14478125, -13.43349014, -17.55712666,  -8.4057129 ,\n",
       "       -18.54547627, -13.27146487, -14.64963361, -19.2942727 ,\n",
       "       -11.15887178,  -2.94727518,  -8.86193241,  -7.88239816,\n",
       "        -8.84606156, -11.86195243,  -5.42510077, -11.99256183,\n",
       "       -14.28262482, -14.44290119, -18.19999896, -10.51067518,\n",
       "       -11.84732802, -15.28991051])"
      ]
     },
     "metadata": {},
     "output_type": "display_data"
    }
   ],
   "source": [
    "epsilon = np.random.normal(0,0.1,m)\n",
    "Y = X.dot(beta_hat) + epsilon\n",
    "display(Y)"
   ]
  },
  {
   "cell_type": "markdown",
   "id": "002e1f32",
   "metadata": {},
   "source": [
    "Note that the problem we generated here implicitly assume the interception (i.e., $\\beta_0$ in textbook) is 0. "
   ]
  },
  {
   "cell_type": "markdown",
   "id": "ae19417a",
   "metadata": {},
   "source": [
    "### Part 2\n",
    "We know the problem we generated above has a sparse solution. So we should solve it with lasso regression. Assume the user has the prior knowledge about the interception is 0. This we don't have to add the column of 1 in front of $X$.\n",
    "\n",
    "**(a)** Solve the lasso regression problem with $\\lambda=0.00001$."
   ]
  },
  {
   "cell_type": "code",
   "execution_count": 10,
   "id": "97661f6f",
   "metadata": {},
   "outputs": [
    {
     "data": {
      "text/html": [
       "<style>#sk-container-id-1 {color: black;}#sk-container-id-1 pre{padding: 0;}#sk-container-id-1 div.sk-toggleable {background-color: white;}#sk-container-id-1 label.sk-toggleable__label {cursor: pointer;display: block;width: 100%;margin-bottom: 0;padding: 0.3em;box-sizing: border-box;text-align: center;}#sk-container-id-1 label.sk-toggleable__label-arrow:before {content: \"▸\";float: left;margin-right: 0.25em;color: #696969;}#sk-container-id-1 label.sk-toggleable__label-arrow:hover:before {color: black;}#sk-container-id-1 div.sk-estimator:hover label.sk-toggleable__label-arrow:before {color: black;}#sk-container-id-1 div.sk-toggleable__content {max-height: 0;max-width: 0;overflow: hidden;text-align: left;background-color: #f0f8ff;}#sk-container-id-1 div.sk-toggleable__content pre {margin: 0.2em;color: black;border-radius: 0.25em;background-color: #f0f8ff;}#sk-container-id-1 input.sk-toggleable__control:checked~div.sk-toggleable__content {max-height: 200px;max-width: 100%;overflow: auto;}#sk-container-id-1 input.sk-toggleable__control:checked~label.sk-toggleable__label-arrow:before {content: \"▾\";}#sk-container-id-1 div.sk-estimator input.sk-toggleable__control:checked~label.sk-toggleable__label {background-color: #d4ebff;}#sk-container-id-1 div.sk-label input.sk-toggleable__control:checked~label.sk-toggleable__label {background-color: #d4ebff;}#sk-container-id-1 input.sk-hidden--visually {border: 0;clip: rect(1px 1px 1px 1px);clip: rect(1px, 1px, 1px, 1px);height: 1px;margin: -1px;overflow: hidden;padding: 0;position: absolute;width: 1px;}#sk-container-id-1 div.sk-estimator {font-family: monospace;background-color: #f0f8ff;border: 1px dotted black;border-radius: 0.25em;box-sizing: border-box;margin-bottom: 0.5em;}#sk-container-id-1 div.sk-estimator:hover {background-color: #d4ebff;}#sk-container-id-1 div.sk-parallel-item::after {content: \"\";width: 100%;border-bottom: 1px solid gray;flex-grow: 1;}#sk-container-id-1 div.sk-label:hover label.sk-toggleable__label {background-color: #d4ebff;}#sk-container-id-1 div.sk-serial::before {content: \"\";position: absolute;border-left: 1px solid gray;box-sizing: border-box;top: 0;bottom: 0;left: 50%;z-index: 0;}#sk-container-id-1 div.sk-serial {display: flex;flex-direction: column;align-items: center;background-color: white;padding-right: 0.2em;padding-left: 0.2em;position: relative;}#sk-container-id-1 div.sk-item {position: relative;z-index: 1;}#sk-container-id-1 div.sk-parallel {display: flex;align-items: stretch;justify-content: center;background-color: white;position: relative;}#sk-container-id-1 div.sk-item::before, #sk-container-id-1 div.sk-parallel-item::before {content: \"\";position: absolute;border-left: 1px solid gray;box-sizing: border-box;top: 0;bottom: 0;left: 50%;z-index: -1;}#sk-container-id-1 div.sk-parallel-item {display: flex;flex-direction: column;z-index: 1;position: relative;background-color: white;}#sk-container-id-1 div.sk-parallel-item:first-child::after {align-self: flex-end;width: 50%;}#sk-container-id-1 div.sk-parallel-item:last-child::after {align-self: flex-start;width: 50%;}#sk-container-id-1 div.sk-parallel-item:only-child::after {width: 0;}#sk-container-id-1 div.sk-dashed-wrapped {border: 1px dashed gray;margin: 0 0.4em 0.5em 0.4em;box-sizing: border-box;padding-bottom: 0.4em;background-color: white;}#sk-container-id-1 div.sk-label label {font-family: monospace;font-weight: bold;display: inline-block;line-height: 1.2em;}#sk-container-id-1 div.sk-label-container {text-align: center;}#sk-container-id-1 div.sk-container {/* jupyter's `normalize.less` sets `[hidden] { display: none; }` but bootstrap.min.css set `[hidden] { display: none !important; }` so we also need the `!important` here to be able to override the default hidden behavior on the sphinx rendered scikit-learn.org. See: https://github.com/scikit-learn/scikit-learn/issues/21755 */display: inline-block !important;position: relative;}#sk-container-id-1 div.sk-text-repr-fallback {display: none;}</style><div id=\"sk-container-id-1\" class=\"sk-top-container\"><div class=\"sk-text-repr-fallback\"><pre>Lasso(alpha=1e-05)</pre><b>In a Jupyter environment, please rerun this cell to show the HTML representation or trust the notebook. <br />On GitHub, the HTML representation is unable to render, please try loading this page with nbviewer.org.</b></div><div class=\"sk-container\" hidden><div class=\"sk-item\"><div class=\"sk-estimator sk-toggleable\"><input class=\"sk-toggleable__control sk-hidden--visually\" id=\"sk-estimator-id-1\" type=\"checkbox\" checked><label for=\"sk-estimator-id-1\" class=\"sk-toggleable__label sk-toggleable__label-arrow\">Lasso</label><div class=\"sk-toggleable__content\"><pre>Lasso(alpha=1e-05)</pre></div></div></div></div></div>"
      ],
      "text/plain": [
       "Lasso(alpha=1e-05)"
      ]
     },
     "execution_count": 10,
     "metadata": {},
     "output_type": "execute_result"
    }
   ],
   "source": [
    "from sklearn.linear_model import Lasso\n",
    "clf = Lasso(alpha=0.00001)\n",
    "clf.fit(X,Y)"
   ]
  },
  {
   "cell_type": "markdown",
   "id": "9a9af69b",
   "metadata": {},
   "source": [
    "**(b)** Use 10-folder cross validation to find the best regularization parameter between $0$ and $1$."
   ]
  },
  {
   "cell_type": "code",
   "execution_count": 11,
   "id": "534e7e30",
   "metadata": {
    "scrolled": true
   },
   "outputs": [
    {
     "name": "stdout",
     "output_type": "stream",
     "text": [
      "LASSO optimal λ =  0.002013987975951904\n"
     ]
    }
   ],
   "source": [
    "from sklearn.model_selection import GridSearchCV\n",
    "parameters = {'alpha': np.linspace(0.00001,1,500)}\n",
    "clf_cv = GridSearchCV(Lasso(), parameters, cv=10, n_jobs=-1)\n",
    "clf_cv.fit(X,Y)\n",
    "print(\"LASSO optimal λ = \",clf_cv.best_params_['alpha'])"
   ]
  },
  {
   "cell_type": "markdown",
   "id": "0ba47a3b",
   "metadata": {},
   "source": [
    "<font color = blue> opted for 0.00001 instead of 0 since the gridsearch reccomended linear regression and selected a 𝜆=0. </font>"
   ]
  },
  {
   "cell_type": "markdown",
   "id": "27541b16",
   "metadata": {},
   "source": [
    "**(c)** Solve the lasso regression problem again with the best regularization parameter."
   ]
  },
  {
   "cell_type": "code",
   "execution_count": 12,
   "id": "e9e82610",
   "metadata": {},
   "outputs": [],
   "source": [
    "clf_opt = Lasso(alpha=clf_cv.best_params_['alpha'])\n",
    "clf_opt.fit(X,Y)\n",
    "beta_est = clf_opt.coef_"
   ]
  },
  {
   "cell_type": "markdown",
   "id": "7a5e2e1a",
   "metadata": {},
   "source": [
    "**(d)** Compare the estimated $\\beta_{\\text{est}}$ with the ground truth $\\hat{\\beta}$ by computing $\\|\\beta_{\\text{est}}-\\hat{\\beta}\\|_2$. The distance should be small."
   ]
  },
  {
   "cell_type": "code",
   "execution_count": 13,
   "id": "adac480a",
   "metadata": {},
   "outputs": [
    {
     "data": {
      "text/plain": [
       "0.12586308466937807"
      ]
     },
     "metadata": {},
     "output_type": "display_data"
    }
   ],
   "source": [
    "display(np.linalg.norm(beta_est - beta_hat))"
   ]
  },
  {
   "cell_type": "markdown",
   "id": "23e96586",
   "metadata": {},
   "source": [
    "## Question 3\n",
    "In 1988, US cattle producers voted on whether or not to each pay a dollar per head towards the marketing campaigns of the American Beef Council. To understand the vote results, the Montana state cattlemen's association looked at the effect of the physical size of the farm and the value of the farms' gross revenue on voter preference. *beef.csv* consist of the vote results (YES in %), average SIZE of farm (in hundred acres), and average VAL of products sold annually by each farm (in thousand dollors) for each of Montana’s 56 counties.\n",
    "\n",
    "**(a)** Read the data file."
   ]
  },
  {
   "cell_type": "code",
   "execution_count": 14,
   "id": "c56c98bf",
   "metadata": {},
   "outputs": [
    {
     "data": {
      "text/html": [
       "<div>\n",
       "<style scoped>\n",
       "    .dataframe tbody tr th:only-of-type {\n",
       "        vertical-align: middle;\n",
       "    }\n",
       "\n",
       "    .dataframe tbody tr th {\n",
       "        vertical-align: top;\n",
       "    }\n",
       "\n",
       "    .dataframe thead th {\n",
       "        text-align: right;\n",
       "    }\n",
       "</style>\n",
       "<table border=\"1\" class=\"dataframe\">\n",
       "  <thead>\n",
       "    <tr style=\"text-align: right;\">\n",
       "      <th></th>\n",
       "      <th>YES</th>\n",
       "      <th>SIZE</th>\n",
       "      <th>VAL</th>\n",
       "    </tr>\n",
       "  </thead>\n",
       "  <tbody>\n",
       "    <tr>\n",
       "      <th>0</th>\n",
       "      <td>85.9</td>\n",
       "      <td>45.2</td>\n",
       "      <td>122</td>\n",
       "    </tr>\n",
       "    <tr>\n",
       "      <th>1</th>\n",
       "      <td>65.0</td>\n",
       "      <td>58.5</td>\n",
       "      <td>121</td>\n",
       "    </tr>\n",
       "    <tr>\n",
       "      <th>2</th>\n",
       "      <td>74.9</td>\n",
       "      <td>52.5</td>\n",
       "      <td>81</td>\n",
       "    </tr>\n",
       "    <tr>\n",
       "      <th>3</th>\n",
       "      <td>72.5</td>\n",
       "      <td>24.0</td>\n",
       "      <td>74</td>\n",
       "    </tr>\n",
       "    <tr>\n",
       "      <th>4</th>\n",
       "      <td>76.6</td>\n",
       "      <td>10.5</td>\n",
       "      <td>54</td>\n",
       "    </tr>\n",
       "    <tr>\n",
       "      <th>5</th>\n",
       "      <td>62.3</td>\n",
       "      <td>50.6</td>\n",
       "      <td>51</td>\n",
       "    </tr>\n",
       "    <tr>\n",
       "      <th>6</th>\n",
       "      <td>76.9</td>\n",
       "      <td>17.4</td>\n",
       "      <td>88</td>\n",
       "    </tr>\n",
       "    <tr>\n",
       "      <th>7</th>\n",
       "      <td>80.1</td>\n",
       "      <td>28.8</td>\n",
       "      <td>124</td>\n",
       "    </tr>\n",
       "    <tr>\n",
       "      <th>8</th>\n",
       "      <td>70.7</td>\n",
       "      <td>60.9</td>\n",
       "      <td>101</td>\n",
       "    </tr>\n",
       "    <tr>\n",
       "      <th>9</th>\n",
       "      <td>87.2</td>\n",
       "      <td>21.7</td>\n",
       "      <td>60</td>\n",
       "    </tr>\n",
       "    <tr>\n",
       "      <th>10</th>\n",
       "      <td>70.7</td>\n",
       "      <td>27.1</td>\n",
       "      <td>53</td>\n",
       "    </tr>\n",
       "    <tr>\n",
       "      <th>11</th>\n",
       "      <td>85.0</td>\n",
       "      <td>30.9</td>\n",
       "      <td>51</td>\n",
       "    </tr>\n",
       "    <tr>\n",
       "      <th>12</th>\n",
       "      <td>70.8</td>\n",
       "      <td>31.1</td>\n",
       "      <td>50</td>\n",
       "    </tr>\n",
       "    <tr>\n",
       "      <th>13</th>\n",
       "      <td>74.1</td>\n",
       "      <td>26.0</td>\n",
       "      <td>64</td>\n",
       "    </tr>\n",
       "    <tr>\n",
       "      <th>14</th>\n",
       "      <td>93.2</td>\n",
       "      <td>3.1</td>\n",
       "      <td>22</td>\n",
       "    </tr>\n",
       "    <tr>\n",
       "      <th>15</th>\n",
       "      <td>90.0</td>\n",
       "      <td>9.9</td>\n",
       "      <td>66</td>\n",
       "    </tr>\n",
       "    <tr>\n",
       "      <th>16</th>\n",
       "      <td>62.2</td>\n",
       "      <td>79.7</td>\n",
       "      <td>92</td>\n",
       "    </tr>\n",
       "    <tr>\n",
       "      <th>17</th>\n",
       "      <td>52.0</td>\n",
       "      <td>47.3</td>\n",
       "      <td>101</td>\n",
       "    </tr>\n",
       "    <tr>\n",
       "      <th>18</th>\n",
       "      <td>69.5</td>\n",
       "      <td>41.1</td>\n",
       "      <td>60</td>\n",
       "    </tr>\n",
       "    <tr>\n",
       "      <th>19</th>\n",
       "      <td>88.8</td>\n",
       "      <td>22.2</td>\n",
       "      <td>53</td>\n",
       "    </tr>\n",
       "    <tr>\n",
       "      <th>20</th>\n",
       "      <td>74.3</td>\n",
       "      <td>25.7</td>\n",
       "      <td>96</td>\n",
       "    </tr>\n",
       "    <tr>\n",
       "      <th>21</th>\n",
       "      <td>91.5</td>\n",
       "      <td>16.4</td>\n",
       "      <td>34</td>\n",
       "    </tr>\n",
       "    <tr>\n",
       "      <th>22</th>\n",
       "      <td>85.6</td>\n",
       "      <td>25.0</td>\n",
       "      <td>83</td>\n",
       "    </tr>\n",
       "    <tr>\n",
       "      <th>23</th>\n",
       "      <td>85.5</td>\n",
       "      <td>6.5</td>\n",
       "      <td>29</td>\n",
       "    </tr>\n",
       "    <tr>\n",
       "      <th>24</th>\n",
       "      <td>65.7</td>\n",
       "      <td>22.4</td>\n",
       "      <td>38</td>\n",
       "    </tr>\n",
       "    <tr>\n",
       "      <th>25</th>\n",
       "      <td>88.6</td>\n",
       "      <td>36.6</td>\n",
       "      <td>143</td>\n",
       "    </tr>\n",
       "    <tr>\n",
       "      <th>26</th>\n",
       "      <td>91.7</td>\n",
       "      <td>2.1</td>\n",
       "      <td>6</td>\n",
       "    </tr>\n",
       "    <tr>\n",
       "      <th>27</th>\n",
       "      <td>61.5</td>\n",
       "      <td>30.3</td>\n",
       "      <td>59</td>\n",
       "    </tr>\n",
       "    <tr>\n",
       "      <th>28</th>\n",
       "      <td>86.0</td>\n",
       "      <td>27.3</td>\n",
       "      <td>71</td>\n",
       "    </tr>\n",
       "    <tr>\n",
       "      <th>29</th>\n",
       "      <td>89.9</td>\n",
       "      <td>83.2</td>\n",
       "      <td>131</td>\n",
       "    </tr>\n",
       "    <tr>\n",
       "      <th>30</th>\n",
       "      <td>94.7</td>\n",
       "      <td>2.2</td>\n",
       "      <td>9</td>\n",
       "    </tr>\n",
       "    <tr>\n",
       "      <th>31</th>\n",
       "      <td>93.5</td>\n",
       "      <td>5.7</td>\n",
       "      <td>13</td>\n",
       "    </tr>\n",
       "    <tr>\n",
       "      <th>32</th>\n",
       "      <td>67.4</td>\n",
       "      <td>43.7</td>\n",
       "      <td>54</td>\n",
       "    </tr>\n",
       "    <tr>\n",
       "      <th>33</th>\n",
       "      <td>85.1</td>\n",
       "      <td>19.6</td>\n",
       "      <td>40</td>\n",
       "    </tr>\n",
       "    <tr>\n",
       "      <th>34</th>\n",
       "      <td>54.5</td>\n",
       "      <td>70.8</td>\n",
       "      <td>82</td>\n",
       "    </tr>\n",
       "    <tr>\n",
       "      <th>35</th>\n",
       "      <td>81.8</td>\n",
       "      <td>40.2</td>\n",
       "      <td>70</td>\n",
       "    </tr>\n",
       "    <tr>\n",
       "      <th>36</th>\n",
       "      <td>77.2</td>\n",
       "      <td>17.7</td>\n",
       "      <td>98</td>\n",
       "    </tr>\n",
       "    <tr>\n",
       "      <th>37</th>\n",
       "      <td>73.3</td>\n",
       "      <td>49.0</td>\n",
       "      <td>56</td>\n",
       "    </tr>\n",
       "    <tr>\n",
       "      <th>38</th>\n",
       "      <td>85.1</td>\n",
       "      <td>35.4</td>\n",
       "      <td>58</td>\n",
       "    </tr>\n",
       "    <tr>\n",
       "      <th>39</th>\n",
       "      <td>56.6</td>\n",
       "      <td>39.1</td>\n",
       "      <td>83</td>\n",
       "    </tr>\n",
       "    <tr>\n",
       "      <th>40</th>\n",
       "      <td>88.5</td>\n",
       "      <td>2.7</td>\n",
       "      <td>21</td>\n",
       "    </tr>\n",
       "    <tr>\n",
       "      <th>41</th>\n",
       "      <td>78.8</td>\n",
       "      <td>19.5</td>\n",
       "      <td>74</td>\n",
       "    </tr>\n",
       "    <tr>\n",
       "      <th>42</th>\n",
       "      <td>60.6</td>\n",
       "      <td>23.5</td>\n",
       "      <td>54</td>\n",
       "    </tr>\n",
       "    <tr>\n",
       "      <th>43</th>\n",
       "      <td>45.5</td>\n",
       "      <td>85.6</td>\n",
       "      <td>100</td>\n",
       "    </tr>\n",
       "    <tr>\n",
       "      <th>44</th>\n",
       "      <td>86.5</td>\n",
       "      <td>11.3</td>\n",
       "      <td>21</td>\n",
       "    </tr>\n",
       "    <tr>\n",
       "      <th>45</th>\n",
       "      <td>79.2</td>\n",
       "      <td>17.9</td>\n",
       "      <td>49</td>\n",
       "    </tr>\n",
       "    <tr>\n",
       "      <th>46</th>\n",
       "      <td>79.6</td>\n",
       "      <td>11.8</td>\n",
       "      <td>28</td>\n",
       "    </tr>\n",
       "    <tr>\n",
       "      <th>47</th>\n",
       "      <td>69.4</td>\n",
       "      <td>20.1</td>\n",
       "      <td>56</td>\n",
       "    </tr>\n",
       "    <tr>\n",
       "      <th>48</th>\n",
       "      <td>73.3</td>\n",
       "      <td>31.1</td>\n",
       "      <td>46</td>\n",
       "    </tr>\n",
       "    <tr>\n",
       "      <th>49</th>\n",
       "      <td>81.7</td>\n",
       "      <td>17.6</td>\n",
       "      <td>101</td>\n",
       "    </tr>\n",
       "    <tr>\n",
       "      <th>50</th>\n",
       "      <td>70.5</td>\n",
       "      <td>29.8</td>\n",
       "      <td>96</td>\n",
       "    </tr>\n",
       "    <tr>\n",
       "      <th>51</th>\n",
       "      <td>74.4</td>\n",
       "      <td>56.9</td>\n",
       "      <td>95</td>\n",
       "    </tr>\n",
       "    <tr>\n",
       "      <th>52</th>\n",
       "      <td>85.7</td>\n",
       "      <td>27.2</td>\n",
       "      <td>60</td>\n",
       "    </tr>\n",
       "    <tr>\n",
       "      <th>53</th>\n",
       "      <td>90.0</td>\n",
       "      <td>56.2</td>\n",
       "      <td>98</td>\n",
       "    </tr>\n",
       "    <tr>\n",
       "      <th>54</th>\n",
       "      <td>59.6</td>\n",
       "      <td>25.6</td>\n",
       "      <td>45</td>\n",
       "    </tr>\n",
       "    <tr>\n",
       "      <th>55</th>\n",
       "      <td>63.7</td>\n",
       "      <td>12.3</td>\n",
       "      <td>76</td>\n",
       "    </tr>\n",
       "  </tbody>\n",
       "</table>\n",
       "</div>"
      ],
      "text/plain": [
       "     YES  SIZE  VAL\n",
       "0   85.9  45.2  122\n",
       "1   65.0  58.5  121\n",
       "2   74.9  52.5   81\n",
       "3   72.5  24.0   74\n",
       "4   76.6  10.5   54\n",
       "5   62.3  50.6   51\n",
       "6   76.9  17.4   88\n",
       "7   80.1  28.8  124\n",
       "8   70.7  60.9  101\n",
       "9   87.2  21.7   60\n",
       "10  70.7  27.1   53\n",
       "11  85.0  30.9   51\n",
       "12  70.8  31.1   50\n",
       "13  74.1  26.0   64\n",
       "14  93.2   3.1   22\n",
       "15  90.0   9.9   66\n",
       "16  62.2  79.7   92\n",
       "17  52.0  47.3  101\n",
       "18  69.5  41.1   60\n",
       "19  88.8  22.2   53\n",
       "20  74.3  25.7   96\n",
       "21  91.5  16.4   34\n",
       "22  85.6  25.0   83\n",
       "23  85.5   6.5   29\n",
       "24  65.7  22.4   38\n",
       "25  88.6  36.6  143\n",
       "26  91.7   2.1    6\n",
       "27  61.5  30.3   59\n",
       "28  86.0  27.3   71\n",
       "29  89.9  83.2  131\n",
       "30  94.7   2.2    9\n",
       "31  93.5   5.7   13\n",
       "32  67.4  43.7   54\n",
       "33  85.1  19.6   40\n",
       "34  54.5  70.8   82\n",
       "35  81.8  40.2   70\n",
       "36  77.2  17.7   98\n",
       "37  73.3  49.0   56\n",
       "38  85.1  35.4   58\n",
       "39  56.6  39.1   83\n",
       "40  88.5   2.7   21\n",
       "41  78.8  19.5   74\n",
       "42  60.6  23.5   54\n",
       "43  45.5  85.6  100\n",
       "44  86.5  11.3   21\n",
       "45  79.2  17.9   49\n",
       "46  79.6  11.8   28\n",
       "47  69.4  20.1   56\n",
       "48  73.3  31.1   46\n",
       "49  81.7  17.6  101\n",
       "50  70.5  29.8   96\n",
       "51  74.4  56.9   95\n",
       "52  85.7  27.2   60\n",
       "53  90.0  56.2   98\n",
       "54  59.6  25.6   45\n",
       "55  63.7  12.3   76"
      ]
     },
     "metadata": {},
     "output_type": "display_data"
    }
   ],
   "source": [
    "beef = pd.read_csv('beef.csv')\n",
    "display(beef)"
   ]
  },
  {
   "cell_type": "markdown",
   "id": "f3251080",
   "metadata": {},
   "source": [
    "**(b)** Use Multivariate Linear Regression to fit YES with SIZE and log(VAL) as the regressors."
   ]
  },
  {
   "cell_type": "code",
   "execution_count": 15,
   "id": "8627e273",
   "metadata": {},
   "outputs": [
    {
     "data": {
      "text/html": [
       "<style>#sk-container-id-2 {color: black;}#sk-container-id-2 pre{padding: 0;}#sk-container-id-2 div.sk-toggleable {background-color: white;}#sk-container-id-2 label.sk-toggleable__label {cursor: pointer;display: block;width: 100%;margin-bottom: 0;padding: 0.3em;box-sizing: border-box;text-align: center;}#sk-container-id-2 label.sk-toggleable__label-arrow:before {content: \"▸\";float: left;margin-right: 0.25em;color: #696969;}#sk-container-id-2 label.sk-toggleable__label-arrow:hover:before {color: black;}#sk-container-id-2 div.sk-estimator:hover label.sk-toggleable__label-arrow:before {color: black;}#sk-container-id-2 div.sk-toggleable__content {max-height: 0;max-width: 0;overflow: hidden;text-align: left;background-color: #f0f8ff;}#sk-container-id-2 div.sk-toggleable__content pre {margin: 0.2em;color: black;border-radius: 0.25em;background-color: #f0f8ff;}#sk-container-id-2 input.sk-toggleable__control:checked~div.sk-toggleable__content {max-height: 200px;max-width: 100%;overflow: auto;}#sk-container-id-2 input.sk-toggleable__control:checked~label.sk-toggleable__label-arrow:before {content: \"▾\";}#sk-container-id-2 div.sk-estimator input.sk-toggleable__control:checked~label.sk-toggleable__label {background-color: #d4ebff;}#sk-container-id-2 div.sk-label input.sk-toggleable__control:checked~label.sk-toggleable__label {background-color: #d4ebff;}#sk-container-id-2 input.sk-hidden--visually {border: 0;clip: rect(1px 1px 1px 1px);clip: rect(1px, 1px, 1px, 1px);height: 1px;margin: -1px;overflow: hidden;padding: 0;position: absolute;width: 1px;}#sk-container-id-2 div.sk-estimator {font-family: monospace;background-color: #f0f8ff;border: 1px dotted black;border-radius: 0.25em;box-sizing: border-box;margin-bottom: 0.5em;}#sk-container-id-2 div.sk-estimator:hover {background-color: #d4ebff;}#sk-container-id-2 div.sk-parallel-item::after {content: \"\";width: 100%;border-bottom: 1px solid gray;flex-grow: 1;}#sk-container-id-2 div.sk-label:hover label.sk-toggleable__label {background-color: #d4ebff;}#sk-container-id-2 div.sk-serial::before {content: \"\";position: absolute;border-left: 1px solid gray;box-sizing: border-box;top: 0;bottom: 0;left: 50%;z-index: 0;}#sk-container-id-2 div.sk-serial {display: flex;flex-direction: column;align-items: center;background-color: white;padding-right: 0.2em;padding-left: 0.2em;position: relative;}#sk-container-id-2 div.sk-item {position: relative;z-index: 1;}#sk-container-id-2 div.sk-parallel {display: flex;align-items: stretch;justify-content: center;background-color: white;position: relative;}#sk-container-id-2 div.sk-item::before, #sk-container-id-2 div.sk-parallel-item::before {content: \"\";position: absolute;border-left: 1px solid gray;box-sizing: border-box;top: 0;bottom: 0;left: 50%;z-index: -1;}#sk-container-id-2 div.sk-parallel-item {display: flex;flex-direction: column;z-index: 1;position: relative;background-color: white;}#sk-container-id-2 div.sk-parallel-item:first-child::after {align-self: flex-end;width: 50%;}#sk-container-id-2 div.sk-parallel-item:last-child::after {align-self: flex-start;width: 50%;}#sk-container-id-2 div.sk-parallel-item:only-child::after {width: 0;}#sk-container-id-2 div.sk-dashed-wrapped {border: 1px dashed gray;margin: 0 0.4em 0.5em 0.4em;box-sizing: border-box;padding-bottom: 0.4em;background-color: white;}#sk-container-id-2 div.sk-label label {font-family: monospace;font-weight: bold;display: inline-block;line-height: 1.2em;}#sk-container-id-2 div.sk-label-container {text-align: center;}#sk-container-id-2 div.sk-container {/* jupyter's `normalize.less` sets `[hidden] { display: none; }` but bootstrap.min.css set `[hidden] { display: none !important; }` so we also need the `!important` here to be able to override the default hidden behavior on the sphinx rendered scikit-learn.org. See: https://github.com/scikit-learn/scikit-learn/issues/21755 */display: inline-block !important;position: relative;}#sk-container-id-2 div.sk-text-repr-fallback {display: none;}</style><div id=\"sk-container-id-2\" class=\"sk-top-container\"><div class=\"sk-text-repr-fallback\"><pre>LinearRegression()</pre><b>In a Jupyter environment, please rerun this cell to show the HTML representation or trust the notebook. <br />On GitHub, the HTML representation is unable to render, please try loading this page with nbviewer.org.</b></div><div class=\"sk-container\" hidden><div class=\"sk-item\"><div class=\"sk-estimator sk-toggleable\"><input class=\"sk-toggleable__control sk-hidden--visually\" id=\"sk-estimator-id-2\" type=\"checkbox\" checked><label for=\"sk-estimator-id-2\" class=\"sk-toggleable__label sk-toggleable__label-arrow\">LinearRegression</label><div class=\"sk-toggleable__content\"><pre>LinearRegression()</pre></div></div></div></div></div>"
      ],
      "text/plain": [
       "LinearRegression()"
      ]
     },
     "execution_count": 15,
     "metadata": {},
     "output_type": "execute_result"
    }
   ],
   "source": [
    "from sklearn.linear_model import LinearRegression\n",
    "\n",
    "beef['log(VAL)'] = np.log(beef['VAL'])\n",
    "\n",
    "reg = LinearRegression()\n",
    "reg.fit(beef[['SIZE','log(VAL)']], beef['YES'])"
   ]
  },
  {
   "cell_type": "markdown",
   "id": "74d34fc3",
   "metadata": {},
   "source": [
    "**(c)** Is this a good fit? Numerically check via a sutiable statistics test."
   ]
  },
  {
   "cell_type": "code",
   "execution_count": 16,
   "id": "f1f445aa",
   "metadata": {
    "scrolled": true
   },
   "outputs": [
    {
     "data": {
      "text/plain": [
       "0.26064628648318366"
      ]
     },
     "metadata": {},
     "output_type": "display_data"
    },
    {
     "data": {
      "text/plain": [
       "101.51795891319183"
      ]
     },
     "metadata": {},
     "output_type": "display_data"
    }
   ],
   "source": [
    "from sklearn.metrics import mean_squared_error\n",
    "from sklearn.metrics import r2_score\n",
    "\n",
    "y_pred = reg.predict(beef[['SIZE','log(VAL)']])\n",
    "\n",
    "display(r2_score(beef['YES'],y_pred))\n",
    "display(mean_squared_error(beef['YES'],y_pred))"
   ]
  },
  {
   "cell_type": "markdown",
   "id": "47c38298",
   "metadata": {},
   "source": [
    "<font color=blue> Based on the results with $R^2 = 0.2606$ and $\\text{MSE} = 101.5179$ means that 26.06% of the variance can be explained in the model. And without other models to compare the MSE would not yield any conclusions or indications."
   ]
  },
  {
   "cell_type": "markdown",
   "id": "c1212739",
   "metadata": {},
   "source": [
    "**(d)** In this dataset, what fact may potentially be a probelm for our regression analysis?\n",
    "\n",
    "Hint: Does the effect of SIZE change depending on log(VAL)?"
   ]
  },
  {
   "cell_type": "markdown",
   "id": "f77ed429",
   "metadata": {},
   "source": [
    "**Type your answer here**: The potential problem in this dataset could be the lack of an interaction term between 'SIZE' and 'log(VAL)' where if there were to be a significant interaction between these two, then the model might not accurately capture the underlying relationship between predictors and response variable. The use of the statsmodel packages and its enhanced regression data output could give insight into this as well as further testing with various models."
   ]
  }
 ],
 "metadata": {
  "kernelspec": {
   "display_name": "Python 3 (ipykernel)",
   "language": "python",
   "name": "python3"
  },
  "language_info": {
   "codemirror_mode": {
    "name": "ipython",
    "version": 3
   },
   "file_extension": ".py",
   "mimetype": "text/x-python",
   "name": "python",
   "nbconvert_exporter": "python",
   "pygments_lexer": "ipython3",
   "version": "3.11.4"
  }
 },
 "nbformat": 4,
 "nbformat_minor": 5
}
