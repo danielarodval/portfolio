{
 "cells": [
  {
   "cell_type": "code",
   "execution_count": 1,
   "id": "1f4b1135",
   "metadata": {},
   "outputs": [
    {
     "name": "stdout",
     "output_type": "stream",
     "text": [
      "   age          workclass  fnlwgt   education  education-num  \\\n",
      "0   39          State-gov   77516   Bachelors             13   \n",
      "1   50   Self-emp-not-inc   83311   Bachelors             13   \n",
      "2   38            Private  215646     HS-grad              9   \n",
      "3   53            Private  234721        11th              7   \n",
      "4   28            Private  338409   Bachelors             13   \n",
      "\n",
      "        marital-status          occupation    relationship    race      sex  \\\n",
      "0        Never-married        Adm-clerical   Not-in-family   White     Male   \n",
      "1   Married-civ-spouse     Exec-managerial         Husband   White     Male   \n",
      "2             Divorced   Handlers-cleaners   Not-in-family   White     Male   \n",
      "3   Married-civ-spouse   Handlers-cleaners         Husband   Black     Male   \n",
      "4   Married-civ-spouse      Prof-specialty            Wife   Black   Female   \n",
      "\n",
      "   capital-gain  capital-loss  hours-per-week  native-country  income  \n",
      "0          2174             0              40   United-States   <=50K  \n",
      "1             0             0              13   United-States   <=50K  \n",
      "2             0             0              40   United-States   <=50K  \n",
      "3             0             0              40   United-States   <=50K  \n",
      "4             0             0              40            Cuba   <=50K  \n"
     ]
    }
   ],
   "source": [
    "#%% Step 1 Imports data into pandas dataframe\n",
    "import pandas as pa\n",
    "\n",
    "col_names=['age', 'workclass', 'fnlwgt', 'education', 'education-num', 'marital-status', 'occupation', 'relationship', 'race', 'sex', 'capital-gain', 'capital-loss', 'hours-per-week', 'native-country', 'income']\n",
    "df = pa.read_table('C:/Users/danma/Documents/STA 4365/midterm/adult.data', sep=',', header=None, names=col_names)\n",
    "print(df.head())\n",
    "\n",
    "del col_names"
   ]
  },
  {
   "cell_type": "code",
   "execution_count": 2,
   "id": "86e34fd0",
   "metadata": {},
   "outputs": [
    {
     "name": "stdout",
     "output_type": "stream",
     "text": [
      "Test Size =  0.2 \n",
      "\n"
     ]
    }
   ],
   "source": [
    "#%% Step 2 splits data into x and y\n",
    "\n",
    "from sklearn.model_selection import train_test_split\n",
    "\n",
    "x = df.drop(['income'], axis=1)\n",
    "y = df.iloc[: , -1]\n",
    "#replace categorical last column data with 1 and 0\n",
    "y = y.replace('<=50K',0, regex=True)\n",
    "y = y.replace('>50K',1, regex=True)\n",
    "\n",
    "#formats x categorical data into integers for scaling\n",
    "from sklearn.preprocessing import OrdinalEncoder\n",
    "\n",
    "#converts x into integers\n",
    "ord_enc = OrdinalEncoder()\n",
    "x[\"workclass\"] = ord_enc.fit_transform(x[[\"workclass\"]])\n",
    "x[\"education\"] = ord_enc.fit_transform(x[[\"education\"]])\n",
    "x[\"marital-status\"] = ord_enc.fit_transform(x[[\"marital-status\"]])\n",
    "x[\"occupation\"] = ord_enc.fit_transform(x[[\"occupation\"]])\n",
    "x[\"relationship\"] = ord_enc.fit_transform(x[[\"relationship\"]])\n",
    "x[\"race\"] = ord_enc.fit_transform(x[[\"race\"]])\n",
    "x[\"sex\"] = ord_enc.fit_transform(x[[\"sex\"]])\n",
    "x[\"native-country\"] = ord_enc.fit_transform(x[[\"native-country\"]])\n",
    "\n",
    "#turns y into a 1-d array instead of a dataframe column\n",
    "y = y.to_numpy()\n",
    "y = y.ravel()\n",
    "y = y.astype('int')\n",
    "\n",
    "#splits into training and testing data\n",
    "TS = 0.2\n",
    "print(\"Test Size = \", TS, \"\\n\")\n",
    "x_train, x_test, y_train, y_test = train_test_split(x,y,test_size=TS, random_state=42)\n",
    "\n",
    "del ord_enc, df, x, y"
   ]
  },
  {
   "cell_type": "code",
   "execution_count": 3,
   "id": "954933ed",
   "metadata": {},
   "outputs": [],
   "source": [
    "#%% Step 3 scale and center columns\n",
    "\n",
    "from sklearn.preprocessing import StandardScaler\n",
    "\n",
    "#scaling for the final tests a.k.a. the TTS tests\n",
    "scalar = StandardScaler()\n",
    "scalar.fit(x_train)\n",
    "\n",
    "x_train = scalar.transform(x_train)\n",
    "x_test = scalar.transform(x_test)\n",
    "\n",
    "del scalar\n",
    "\n",
    "#import plotting and testing\n",
    "from sklearn.model_selection import GridSearchCV\n",
    "from sklearn import metrics\n",
    "from matplotlib import pyplot\n",
    "from sklearn.metrics import RocCurveDisplay"
   ]
  },
  {
   "cell_type": "code",
   "execution_count": 4,
   "id": "61712302",
   "metadata": {},
   "outputs": [
    {
     "name": "stdout",
     "output_type": "stream",
     "text": [
      "Linear SVM Results:\n"
     ]
    }
   ],
   "source": [
    "#%% Step 4 Linear Support Vector Machine\n",
    "print(\"Linear SVM Results:\")\n",
    "from sklearn.svm import SVC"
   ]
  },
  {
   "cell_type": "code",
   "execution_count": 5,
   "id": "aede35c6",
   "metadata": {},
   "outputs": [
    {
     "name": "stdout",
     "output_type": "stream",
     "text": [
      "Linear SVM Hyperparameters:\n",
      "Fitting 5 folds for each of 24 candidates, totalling 120 fits\n",
      "Best C: 0.1\n",
      "Best gamma: 1\n",
      "Best kernel: linear\n"
     ]
    }
   ],
   "source": [
    "#%% Step 4.1 Tune Hyperparameters for Linear Support Vector Machine\n",
    "print(\"Linear SVM Hyperparameters:\")\n",
    "#list hyperparameters that we want to tune\n",
    "# defining parameter range\n",
    "param_grid = {'C': [0.1, 1, 10, 100],\n",
    "              'gamma': [1, 0.1, 0.01, 0.001, 'scale', 'auto'],\n",
    "              'kernel': ['linear']}\n",
    "\n",
    "grid = GridSearchCV(SVC(), param_grid, verbose = 2, n_jobs=-1)\n",
    "\n",
    "# fitting the model for grid search\n",
    "best = grid.fit(x_train, y_train)\n",
    "#print the values of the best hyperparameters\n",
    "print('Best C:', best.best_estimator_.get_params()['C'])\n",
    "print('Best gamma:', best.best_estimator_.get_params()['gamma'])\n",
    "print('Best kernel:', best.best_estimator_.get_params()['kernel'])\n",
    "\n",
    "del param_grid, grid, best"
   ]
  },
  {
   "cell_type": "code",
   "execution_count": 6,
   "id": "6dd17564",
   "metadata": {},
   "outputs": [
    {
     "name": "stdout",
     "output_type": "stream",
     "text": [
      "Accuracy: 0.817\n"
     ]
    },
    {
     "data": {
      "image/png": "[encoded data removed]",
      "text/plain": [
       "<Figure size 432x288 with 1 Axes>"
      ]
     },
     "metadata": {
      "needs_background": "light"
     },
     "output_type": "display_data"
    },
    {
     "name": "stdout",
     "output_type": "stream",
     "text": [
      "AUC: 0.649 \n",
      "\n"
     ]
    }
   ],
   "source": [
    "#%% Step 4.2 Run model with best hyperparameters\n",
    "\n",
    "#fit the model\n",
    "lin_svm = SVC(kernel='linear', C=1, gamma=0.1)\n",
    "lin_svm.fit(x_train, y_train)\n",
    "\n",
    "#predict probabilities\n",
    "lin_svm_pred = lin_svm.predict(x_test)\n",
    "\n",
    "#print accuracy of the model\n",
    "print(\"Accuracy: %0.3f\" %lin_svm.score(x_test, y_test))\n",
    "\n",
    "#roc curve\n",
    "svc_disp = RocCurveDisplay.from_predictions(y_test, lin_svm_pred, name=\"Linear SVM ROC\")\n",
    "pyplot.show()\n",
    "\n",
    "#auc score\n",
    "fpr, tpr, threshold = metrics.roc_curve(y_test, lin_svm_pred)\n",
    "score = metrics.auc(fpr, tpr)\n",
    "print(\"AUC: %0.3f \\n\" %score)\n",
    "\n",
    "del lin_svm, lin_svm_pred, svc_disp, fpr, tpr, threshold, score"
   ]
  },
  {
   "cell_type": "code",
   "execution_count": 7,
   "id": "1f42cb63",
   "metadata": {},
   "outputs": [
    {
     "name": "stdout",
     "output_type": "stream",
     "text": [
      "Gaussian SVM Results:\n"
     ]
    }
   ],
   "source": [
    "#%% Step 5 Support Vector Machine with Gaussian Kernel\n",
    "print(\"Gaussian SVM Results:\")"
   ]
  },
  {
   "cell_type": "code",
   "execution_count": 8,
   "id": "9530fc49",
   "metadata": {},
   "outputs": [
    {
     "name": "stdout",
     "output_type": "stream",
     "text": [
      "Gaussian SVM Hyperparameters:\n",
      "Fitting 5 folds for each of 30 candidates, totalling 150 fits\n",
      "Best C: 1\n",
      "Best gamma: 0.1\n",
      "Best kernel: rbf\n"
     ]
    }
   ],
   "source": [
    "#%% Step 5.1 Tune Hyperparameters for Gaussian Support Vector Machine\n",
    "print(\"Gaussian SVM Hyperparameters:\")\n",
    "#list hyperparameters that we want to tune\n",
    "# defining parameter range\n",
    "param_grid = {'C': [0.1, 1, 10, 100, 250],\n",
    "              'gamma': [1, 0.1, 0.01, 0.001, 'scale', 'auto'],\n",
    "              'kernel': ['rbf']}\n",
    "\n",
    "#use gridsearch\n",
    "grid = GridSearchCV(SVC(), param_grid, verbose = 2, n_jobs=-1)\n",
    "\n",
    "# fitting the model for grid search\n",
    "best = grid.fit(x_train, y_train)\n",
    "#print the values of the best hyperparameters\n",
    "print('Best C:', best.best_estimator_.get_params()['C'])\n",
    "print('Best gamma:', best.best_estimator_.get_params()['gamma'])\n",
    "print('Best kernel:', best.best_estimator_.get_params()['kernel'])\n",
    "\n",
    "del param_grid, grid, best"
   ]
  },
  {
   "cell_type": "code",
   "execution_count": 9,
   "id": "8453b7e5",
   "metadata": {},
   "outputs": [
    {
     "name": "stdout",
     "output_type": "stream",
     "text": [
      "Accuracy: 0.851\n"
     ]
    },
    {
     "data": {
      "image/png": "[encoded data removed]",
      "text/plain": [
       "<Figure size 432x288 with 1 Axes>"
      ]
     },
     "metadata": {
      "needs_background": "light"
     },
     "output_type": "display_data"
    },
    {
     "name": "stdout",
     "output_type": "stream",
     "text": [
      "AUC: 0.748 \n",
      "\n"
     ]
    }
   ],
   "source": [
    "#%% 5.2 Run Model with best hyperparameters\n",
    "\n",
    "#fit the model\n",
    "gau_svm = SVC(kernel='rbf', C=1, gamma=0.1)\n",
    "gau_svm.fit(x_train, y_train)\n",
    "\n",
    "#predict probabilities\n",
    "gau_svm_pred = gau_svm.predict(x_test)\n",
    "\n",
    "#print accuracy of the model\n",
    "print(\"Accuracy: %0.3f\" %gau_svm.score(x_test, y_test))\n",
    "\n",
    "#roc curve\n",
    "svc_disp = RocCurveDisplay.from_predictions(y_test, gau_svm_pred, name=\"Linear SVM ROC\")\n",
    "pyplot.show()\n",
    "\n",
    "#auc score\n",
    "fpr, tpr, threshold = metrics.roc_curve(y_test, gau_svm_pred)\n",
    "score = metrics.auc(fpr, tpr)\n",
    "print(\"AUC: %0.3f \\n\" %score)\n",
    "\n",
    "del gau_svm, gau_svm_pred, svc_disp, fpr, tpr, threshold, score"
   ]
  },
  {
   "cell_type": "code",
   "execution_count": 10,
   "id": "8b353d4d",
   "metadata": {},
   "outputs": [
    {
     "name": "stdout",
     "output_type": "stream",
     "text": [
      "Random Forest Results:\n"
     ]
    }
   ],
   "source": [
    "#%% Step 6 Random Forest\n",
    "print(\"Random Forest Results:\")\n",
    "from sklearn.ensemble import RandomForestClassifier"
   ]
  },
  {
   "cell_type": "code",
   "execution_count": 12,
   "id": "63ebd1c0",
   "metadata": {},
   "outputs": [
    {
     "name": "stdout",
     "output_type": "stream",
     "text": [
      "Random Forest Hyperparameters:\n",
      "Fitting 5 folds for each of 1512 candidates, totalling 7560 fits\n",
      "Best bootstrap: True\n",
      "Best max_depth: 80\n",
      "Best max_features: sqrt\n",
      "Best min_samples_leaf: 5\n",
      "Best min_samples_split: 12\n",
      "Best n_estimators: 200\n"
     ]
    }
   ],
   "source": [
    "#%% Step 6.1 Tune Hyperparameters for Random Forest\n",
    "print(\"Random Forest Hyperparameters:\")\n",
    "#list hyperparameters that we want to tune\n",
    "#defining parameter range\n",
    "param_grid = {'bootstrap': [True],\n",
    "    'max_depth': [5, 10, 80, 90, 100, 110],\n",
    "    'max_features': [\"sqrt\", \"log2\"],\n",
    "    'min_samples_leaf': [3, 4, 5],\n",
    "    'min_samples_split': [8, 10, 12],\n",
    "    'n_estimators': [5, 6, 7, 8, 9, 10, 11, 12, 13, 15, 100, 200, 300, 1000]}\n",
    "\n",
    "grid = GridSearchCV(RandomForestClassifier(), param_grid, verbose=2, n_jobs=-1)\n",
    "\n",
    "# fitting the model for grid search\n",
    "best = grid.fit(x_train, y_train)\n",
    "#print the values of the best hyperparameters\n",
    "print('Best bootstrap:', best.best_estimator_.get_params()['bootstrap'])\n",
    "print('Best max_depth:', best.best_estimator_.get_params()['max_depth'])\n",
    "print('Best max_features:', best.best_estimator_.get_params()['max_features'])\n",
    "print('Best min_samples_leaf:', best.best_estimator_.get_params()['min_samples_leaf'])\n",
    "print('Best min_samples_split:', best.best_estimator_.get_params()['min_samples_split'])\n",
    "print('Best n_estimators:', best.best_estimator_.get_params()['n_estimators'])\n",
    "\n",
    "del param_grid, grid, best"
   ]
  },
  {
   "cell_type": "code",
   "execution_count": 13,
   "id": "75b0f28e",
   "metadata": {},
   "outputs": [
    {
     "name": "stdout",
     "output_type": "stream",
     "text": [
      "Accuracy: 0.866\n"
     ]
    },
    {
     "data": {
      "image/png": "[encoded data removed]",
      "text/plain": [
       "<Figure size 432x288 with 1 Axes>"
      ]
     },
     "metadata": {
      "needs_background": "light"
     },
     "output_type": "display_data"
    },
    {
     "name": "stdout",
     "output_type": "stream",
     "text": [
      "AUC: 0.783 \n",
      "\n"
     ]
    }
   ],
   "source": [
    "#%% Step 6.2 Run model with best hyperparameters\n",
    "\n",
    "#fit the model\n",
    "rf = RandomForestClassifier(bootstrap=True, max_depth=80, max_features=\"sqrt\", min_samples_leaf=5, min_samples_split=12, n_estimators=200)\n",
    "rf.fit(x_train,y_train)\n",
    "\n",
    "#predict probabilities\n",
    "rf_y_pred = rf.predict(x_test)\n",
    "\n",
    "#print accuracy of the model\n",
    "print(\"Accuracy: %0.3f\" %rf.score(x_test, y_test))\n",
    "\n",
    "#roc curve\n",
    "fpr, tpr, thresholds = metrics.roc_curve(y_test, rf_y_pred)\n",
    "roc_auc = metrics.auc(fpr, tpr)\n",
    "display = metrics.RocCurveDisplay(fpr=fpr, tpr=tpr, roc_auc=roc_auc, estimator_name='Random Forest ROC')\n",
    "display.plot()\n",
    "\n",
    "pyplot.show()\n",
    "\n",
    "#auc score\n",
    "print(\"AUC: %0.3f \\n\" %roc_auc)\n",
    "\n",
    "del rf, rf_y_pred, fpr, tpr, thresholds, roc_auc, display"
   ]
  },
  {
   "cell_type": "code",
   "execution_count": 14,
   "id": "aacc1278",
   "metadata": {},
   "outputs": [
    {
     "name": "stdout",
     "output_type": "stream",
     "text": [
      "Gradient Boosted Decision Tree\n"
     ]
    }
   ],
   "source": [
    "#%% Step 7 Gradient Boosted Decision Tree\n",
    "print(\"Gradient Boosted Decision Tree\")\n",
    "from sklearn.ensemble import GradientBoostingClassifier"
   ]
  },
  {
   "cell_type": "code",
   "execution_count": 16,
   "id": "ee4b6919",
   "metadata": {},
   "outputs": [
    {
     "name": "stdout",
     "output_type": "stream",
     "text": [
      "GradientBoosted Hyperparameters\n",
      "Fitting 5 folds for each of 384 candidates, totalling 1920 fits\n",
      "Best learning_rate: 0.02\n",
      "Best subsample: 0.9\n",
      "Best n_estimators: 500\n",
      "Best max_depth: 6\n"
     ]
    }
   ],
   "source": [
    "#%% Step 7.1 Tune Hyperparameters for Gradient Boosted Decision Tree Regression\n",
    "print(\"GradientBoosted Hyperparameters\")\n",
    "\n",
    "#List hyperparameters we want to tune\n",
    "param_grid = {'learning_rate': [0.01, 0.02, 0.03, 0.04],\n",
    "              'subsample': [0.9, 0.5, 0.2, 0.1],\n",
    "              'n_estimators': [100,200,300, 500, 1000, 1500],\n",
    "              'max_depth': [4,6,8,10]}\n",
    "\n",
    "#use gridsearch\n",
    "grid = GridSearchCV(GradientBoostingClassifier(), param_grid, verbose = 2, n_jobs=-1)\n",
    "# fitting the model for grid search\n",
    "best = grid.fit(x_train, y_train)\n",
    "#print the values of the best hyperparameters\n",
    "print('Best learning_rate:', best.best_estimator_.get_params()['learning_rate'])\n",
    "print('Best subsample:', best.best_estimator_.get_params()['subsample'])\n",
    "print('Best n_estimators:', best.best_estimator_.get_params()['n_estimators'])\n",
    "print('Best max_depth:', best.best_estimator_.get_params()['max_depth'])\n",
    "\n",
    "del param_grid, grid, best"
   ]
  },
  {
   "cell_type": "code",
   "execution_count": 17,
   "id": "1d10e27b",
   "metadata": {},
   "outputs": [
    {
     "name": "stdout",
     "output_type": "stream",
     "text": [
      "Accuracy: 0.878\n"
     ]
    },
    {
     "data": {
      "image/png": "[encoded data removed]",
      "text/plain": [
       "<Figure size 432x288 with 1 Axes>"
      ]
     },
     "metadata": {
      "needs_background": "light"
     },
     "output_type": "display_data"
    },
    {
     "name": "stdout",
     "output_type": "stream",
     "text": [
      "AUC: 0.930\n",
      "\n"
     ]
    }
   ],
   "source": [
    "#%% Step 7.2 Run the model with the best hyperparameters\n",
    "gb = GradientBoostingClassifier(learning_rate=.02, subsample=.9, n_estimators=500, max_depth=6)\n",
    "#fit the model\n",
    "gb.fit(x_train, y_train)\n",
    "#predict probabilities\n",
    "gb_pred = gb.predict_proba(x_test)\n",
    "# keep probabilities for the positive outcome only\n",
    "gb_pred = gb_pred[:, 1]\n",
    "#print accuracy of the model\n",
    "print(\"Accuracy: %0.3f\" %gb.score(x_test, y_test))\n",
    "# calculate roc curve\n",
    "fpr, tpr, thresholds = metrics.roc_curve(y_test, gb_pred)\n",
    "pyplot.plot(fpr, tpr, marker='.', label='Gradient Boosted ROC')\n",
    "# axis labels\n",
    "pyplot.xlabel('False Positive Rate')\n",
    "pyplot.ylabel('True Positive Rate')\n",
    "# show the legend\n",
    "pyplot.legend()\n",
    "# show the plot\n",
    "pyplot.show()\n",
    "\n",
    "# calculate AUC\n",
    "auc = metrics.roc_auc_score(y_test, gb_pred)\n",
    "print('AUC: %.3f\\n' % auc)\n",
    "\n",
    "del gb, gb_pred, fpr, tpr, thresholds, auc"
   ]
  },
  {
   "cell_type": "code",
   "execution_count": null,
   "id": "ce1d2cc2",
   "metadata": {},
   "outputs": [],
   "source": []
  }
 ],
 "metadata": {
  "kernelspec": {
   "display_name": "Python 3 (ipykernel)",
   "language": "python",
   "name": "python3"
  },
  "language_info": {
   "codemirror_mode": {
    "name": "ipython",
    "version": 3
   },
   "file_extension": ".py",
   "mimetype": "text/x-python",
   "name": "python",
   "nbconvert_exporter": "python",
   "pygments_lexer": "ipython3",
   "version": "3.9.7"
  }
 },
 "nbformat": 4,
 "nbformat_minor": 5
}
