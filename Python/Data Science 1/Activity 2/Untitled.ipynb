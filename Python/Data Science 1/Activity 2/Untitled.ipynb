{
 "cells": [
  {
   "cell_type": "markdown",
   "id": "cd0360ad",
   "metadata": {},
   "source": [
    "<h1 style=\"font-size:3rem;color:orange;\">ISC 4241 - Activity 1, Part 1</h1>"
   ]
  },
  {
   "cell_type": "markdown",
   "id": "001cd143",
   "metadata": {},
   "source": [
    "# Problem 1.1"
   ]
  },
  {
   "cell_type": "markdown",
   "id": "c9b07aa2",
   "metadata": {},
   "source": [
    "Read the EXCLE file “COVID_08312020.csv”"
   ]
  },
  {
   "cell_type": "code",
   "execution_count": 2,
   "id": "c0d0ab0d",
   "metadata": {},
   "outputs": [
    {
     "name": "stdout",
     "output_type": "stream",
     "text": [
      "DataFrame Output:\n",
      "                0            1             2            3            4  \\\n",
      "0        Country  Total Cases  Total Deaths  TOTCases_1M  TOTDeath_!M   \n",
      "1    Afghanistan        38162          1402          977           36   \n",
      "2        Albania         9380           280         3260           97   \n",
      "3         Angola         2624           107           79            3   \n",
      "4      Argentina       408426          8457         9023          187   \n",
      "..           ...          ...           ...          ...          ...   \n",
      "135    Venezuela        45868           381         1614           13   \n",
      "136      Vietnam         1040            32           11            0   \n",
      "137        Yemen         1953           564           65           19   \n",
      "138       Zambia        12025           287          651           16   \n",
      "139     Zimbabwe         6412           196          430           13   \n",
      "\n",
      "               5  \n",
      "0    TotalTested  \n",
      "1         102598  \n",
      "2          57618  \n",
      "3          64747  \n",
      "4        1242269  \n",
      "..           ...  \n",
      "135      1754575  \n",
      "136      1009145  \n",
      "137          120  \n",
      "138       114401  \n",
      "139       149748  \n",
      "\n",
      "[140 rows x 6 columns]\n"
     ]
    }
   ],
   "source": [
    "import pandas as pa;\n",
    "file_path = 'C:/Users/danma/Downloads/ISC 4241/Activity 1/COVID_08312020.csv'\n",
    "df = pa.read_csv(file_path, header=None)\n",
    "print(\"DataFrame Output:\\n\",df)"
   ]
  },
  {
   "cell_type": "markdown",
   "id": "3ea1437c",
   "metadata": {},
   "source": [
    "# Problem 1.5"
   ]
  },
  {
   "cell_type": "code",
   "execution_count": 9,
   "id": "fc1fe795",
   "metadata": {},
   "outputs": [
    {
     "name": "stdout",
     "output_type": "stream",
     "text": [
      "               1             2            3            4            5\n",
      "0    Total Cases  Total Deaths  TOTCases_1M  TOTDeath_!M  TotalTested\n",
      "1          38162          1402          977           36       102598\n",
      "2           9380           280         3260           97        57618\n",
      "3           2624           107           79            3        64747\n",
      "4         408426          8457         9023          187      1242269\n",
      "..           ...           ...          ...          ...          ...\n",
      "135        45868           381         1614           13      1754575\n",
      "136         1040            32           11            0      1009145\n",
      "137         1953           564           65           19          120\n",
      "138        12025           287          651           16       114401\n",
      "139         6412           196          430           13       149748\n",
      "\n",
      "[140 rows x 5 columns]\n",
      "Empty DataFrame\n",
      "Columns: []\n",
      "Index: []\n"
     ]
    }
   ],
   "source": [
    "print(df.iloc[: , 1:])\n",
    "print(df.iloc[: , 1:].corr())"
   ]
  }
 ],
 "metadata": {
  "kernelspec": {
   "display_name": "Python 3 (ipykernel)",
   "language": "python",
   "name": "python3"
  },
  "language_info": {
   "codemirror_mode": {
    "name": "ipython",
    "version": 3
   },
   "file_extension": ".py",
   "mimetype": "text/x-python",
   "name": "python",
   "nbconvert_exporter": "python",
   "pygments_lexer": "ipython3",
   "version": "3.9.12"
  }
 },
 "nbformat": 4,
 "nbformat_minor": 5
}
