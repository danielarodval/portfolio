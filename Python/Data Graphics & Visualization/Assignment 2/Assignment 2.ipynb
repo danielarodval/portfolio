{
 "cells": [
  {
   "cell_type": "markdown",
   "id": "bb6ab448",
   "metadata": {},
   "source": [
    "<h1 style=\"font-size:3rem;color:orange;\">Assignment 2: Data Preparation</h1>"
   ]
  },
  {
   "cell_type": "markdown",
   "id": "b877d208",
   "metadata": {},
   "source": [
    "#### List all the column names of Data Frame"
   ]
  },
  {
   "cell_type": "code",
   "execution_count": 1,
   "id": "d650ea35",
   "metadata": {},
   "outputs": [
    {
     "name": "stdout",
     "output_type": "stream",
     "text": [
      "Index(['year', 'datanum', 'serial', 'hhwt', 'gq', 'us2000c_serialno', 'pernum',\n",
      "       'perwt', 'us2000c_pnum', 'us2000c_sex', 'us2000c_age', 'us2000c_hispan',\n",
      "       'us2000c_race1', 'us2000c_marstat', 'us2000c_educ', 'us2000c_inctot'],\n",
      "      dtype='object')\n"
     ]
    }
   ],
   "source": [
    "import pandas as pd\n",
    "file_path = '2000_acs_sample.dta'\n",
    "df = pd.read_stata(file_path)\n",
    "print(df.columns)"
   ]
  },
  {
   "cell_type": "markdown",
   "id": "33e7a06f",
   "metadata": {},
   "source": [
    "#### List all the columns that have unique values: Apply unique method to each column and check whether its length = 1."
   ]
  },
  {
   "cell_type": "code",
   "execution_count": 2,
   "id": "c5089055",
   "metadata": {},
   "outputs": [
    {
     "name": "stdout",
     "output_type": "stream",
     "text": [
      "year\n",
      "datanum\n",
      "hhwt\n",
      "perwt\n"
     ]
    }
   ],
   "source": [
    "dropunique = []\n",
    "for (colName, colData) in df.iteritems():\n",
    "    if len(colData.unique()) == 1:\n",
    "        print(colName)\n",
    "        dropunique.append(colName)"
   ]
  },
  {
   "cell_type": "markdown",
   "id": "d19657b8",
   "metadata": {},
   "source": [
    "#### Drop all columns that have unique values: see: Drop Columns method"
   ]
  },
  {
   "cell_type": "code",
   "execution_count": 3,
   "id": "6ff1b4c1",
   "metadata": {},
   "outputs": [],
   "source": [
    "df = df.drop(dropunique, axis=1)"
   ]
  },
  {
   "cell_type": "markdown",
   "id": "7027a6f5",
   "metadata": {},
   "source": [
    "#### Additionally drop the following columns:   'us2000c_pnum', 'us2000c_serialno'"
   ]
  },
  {
   "cell_type": "code",
   "execution_count": 4,
   "id": "01a58f4f",
   "metadata": {},
   "outputs": [],
   "source": [
    "df = df.drop(['us2000c_pnum','us2000c_serialno'], axis=1)"
   ]
  },
  {
   "cell_type": "markdown",
   "id": "d0105f5e",
   "metadata": {},
   "source": [
    "#### Replace the column names as suggested below\n",
    "serial by household,\n",
    "pernum by person,\n",
    "us2000c_sex by sex,\n",
    "us2000c_age by age,\n",
    "us2000c_hispan by hispanic,\n",
    "us2000c_race1 by race,\n",
    "us2000c_marstat by marital_status,\n",
    "us2000c_educ by edu,\n",
    "us2000c_inctot by income"
   ]
  },
  {
   "cell_type": "code",
   "execution_count": 5,
   "id": "f9f2fd2f",
   "metadata": {},
   "outputs": [],
   "source": [
    "df = df.rename(columns={'serial':'household',\n",
    "'pernum':'person',\n",
    "'us2000c_sex':'sex',\n",
    "'us2000c_age':'age',\n",
    "'us2000c_hispan':'hispanic',\n",
    "'us2000c_race1':'race',\n",
    "'us2000c_marstat':'marital_status',\n",
    "'us2000c_educ':'edu',\n",
    "'us2000c_inctot':'income'})"
   ]
  },
  {
   "cell_type": "markdown",
   "id": "30d00c76",
   "metadata": {},
   "source": [
    "#### Print the information/summary of the columns of the resulting dataframe using info method of the data frame. "
   ]
  },
  {
   "cell_type": "code",
   "execution_count": 6,
   "id": "e4c38f27",
   "metadata": {},
   "outputs": [
    {
     "name": "stdout",
     "output_type": "stream",
     "text": [
      "<class 'pandas.core.frame.DataFrame'>\n",
      "Int64Index: 28172 entries, 0 to 28171\n",
      "Data columns (total 10 columns):\n",
      " #   Column          Non-Null Count  Dtype   \n",
      "---  ------          --------------  -----   \n",
      " 0   household       28172 non-null  float64 \n",
      " 1   gq              28172 non-null  category\n",
      " 2   person          28172 non-null  int16   \n",
      " 3   sex             28172 non-null  object  \n",
      " 4   age             28172 non-null  object  \n",
      " 5   hispanic        28172 non-null  object  \n",
      " 6   race            28172 non-null  object  \n",
      " 7   marital_status  28172 non-null  object  \n",
      " 8   edu             28172 non-null  object  \n",
      " 9   income          28172 non-null  object  \n",
      "dtypes: category(1), float64(1), int16(1), object(7)\n",
      "memory usage: 2.0+ MB\n",
      "None\n"
     ]
    }
   ],
   "source": [
    "print(df.info())"
   ]
  },
  {
   "cell_type": "markdown",
   "id": "edae01d7",
   "metadata": {},
   "source": [
    "#### Change the type of income column to number: See how to convert from object type to a numeric type.  Links to an external site.(Note: you may need errors=\"coerce\" option."
   ]
  },
  {
   "cell_type": "code",
   "execution_count": 7,
   "id": "07ffb652",
   "metadata": {},
   "outputs": [],
   "source": [
    "df['income'] = pd.to_numeric(df['income'],errors='coerce')"
   ]
  },
  {
   "cell_type": "markdown",
   "id": "109dd4f5",
   "metadata": {},
   "source": [
    "#### Replace the value in columns sex and marital_status by the actual value listed in the associated meta file."
   ]
  },
  {
   "cell_type": "code",
   "execution_count": 8,
   "id": "dbe81c0a",
   "metadata": {},
   "outputs": [],
   "source": [
    "df['sex'].replace('1','Male',inplace=True)\n",
    "df['sex'].replace('2','Female',inplace=True)\n",
    "\n",
    "df['marital_status'].replace('1','Now married',inplace=True)\n",
    "df['marital_status'].replace('2','Widowed',inplace=True)\n",
    "df['marital_status'].replace('3','Divorced',inplace=True)\n",
    "df['marital_status'].replace('4','Separated',inplace=True)\n",
    "df['marital_status'].replace('5','Never married (includes under 15 years)',inplace=True)"
   ]
  },
  {
   "cell_type": "markdown",
   "id": "4ff8a139",
   "metadata": {},
   "source": [
    "#### Replace the NA values in the income column by the mode value of the column."
   ]
  },
  {
   "cell_type": "code",
   "execution_count": 9,
   "id": "8e060e2c",
   "metadata": {},
   "outputs": [],
   "source": [
    "df = df.fillna({'income' : df['income'].mode()[0]})"
   ]
  },
  {
   "cell_type": "markdown",
   "id": "d5fe46f6",
   "metadata": {},
   "source": [
    "#### Print the resulting data frame."
   ]
  },
  {
   "cell_type": "code",
   "execution_count": 10,
   "id": "e5695ca7",
   "metadata": {
    "scrolled": false
   },
   "outputs": [
    {
     "name": "stdout",
     "output_type": "stream",
     "text": [
      "       household                                gq  person     sex age  \\\n",
      "0           37.0  Households under 1970 definition       1  Female  20   \n",
      "1           37.0  Households under 1970 definition       2  Female  19   \n",
      "2           37.0  Households under 1970 definition       3  Female  19   \n",
      "3          241.0  Households under 1970 definition       1  Female  50   \n",
      "4          242.0  Households under 1970 definition       1  Female  29   \n",
      "...          ...                               ...     ...     ...  ..   \n",
      "28167  1236624.0  Households under 1970 definition       1    Male  29   \n",
      "28168  1236624.0  Households under 1970 definition       2  Female  26   \n",
      "28169  1236756.0  Households under 1970 definition       1  Female  58   \n",
      "28170  1236756.0  Households under 1970 definition       2    Male  61   \n",
      "28171  1236779.0  Households under 1970 definition       1    Male  30   \n",
      "\n",
      "      hispanic race                           marital_status edu   income  \n",
      "0           01    1  Never married (includes under 15 years)  11  10000.0  \n",
      "1           01    1  Never married (includes under 15 years)  11   5300.0  \n",
      "2           01    2  Never married (includes under 15 years)  11   4700.0  \n",
      "3           01    1  Never married (includes under 15 years)  14  32500.0  \n",
      "4           01    1  Never married (includes under 15 years)  13  30000.0  \n",
      "...        ...  ...                                      ...  ..      ...  \n",
      "28167       01    1                              Now married  11  50100.0  \n",
      "28168       01    1                              Now married  09  12000.0  \n",
      "28169       01    1                              Now married  14  69800.0  \n",
      "28170       01    1                              Now married  14  40800.0  \n",
      "28171       01    3                                 Divorced  09  22110.0  \n",
      "\n",
      "[28172 rows x 10 columns]\n"
     ]
    }
   ],
   "source": [
    "print(df)"
   ]
  }
 ],
 "metadata": {
  "kernelspec": {
   "display_name": "Python 3 (ipykernel)",
   "language": "python",
   "name": "python3"
  },
  "language_info": {
   "codemirror_mode": {
    "name": "ipython",
    "version": 3
   },
   "file_extension": ".py",
   "mimetype": "text/x-python",
   "name": "python",
   "nbconvert_exporter": "python",
   "pygments_lexer": "ipython3",
   "version": "3.9.12"
  }
 },
 "nbformat": 4,
 "nbformat_minor": 5
}
