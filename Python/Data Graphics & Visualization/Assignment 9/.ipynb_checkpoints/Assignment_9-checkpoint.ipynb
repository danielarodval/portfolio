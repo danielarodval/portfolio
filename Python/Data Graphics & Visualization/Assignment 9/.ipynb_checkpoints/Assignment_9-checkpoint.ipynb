{
 "cells": [
  {
   "cell_type": "markdown",
   "id": "35a842fd",
   "metadata": {},
   "source": [
    "# Assignment 9"
   ]
  },
  {
   "cell_type": "markdown",
   "id": "0d764934",
   "metadata": {},
   "source": [
    "### Goal: Multi-dimensional visualization using Radar/Spider chart: <br><br> In this assignment, we will visualize changes in CO2 emission of different types of automobiles in 10 years intervals from 1992 to 2022.<br><br>The dimensions in this data are the different types of automobiles:  Sedan/Wagon, Pickup, Minivan/Van, Truck SUV, and Car SUV, the values are CO2 emission values of individual types of automobiles. <br><br>Details:"
   ]
  },
  {
   "cell_type": "markdown",
   "id": "903f2232",
   "metadata": {},
   "source": [
    "### Data Acquisition: Download Automobile Summary data from https://www.epa.gov/automotive-trends/explore-automotive-trends-data#SummaryDataLinks to an external site.<br><br>The data is available as CSV file. Load the data into a data frame. "
   ]
  },
  {
   "cell_type": "code",
   "execution_count": 79,
   "id": "9fe92627",
   "metadata": {},
   "outputs": [
    {
     "data": {
      "text/html": [
       "<div>\n",
       "<style scoped>\n",
       "    .dataframe tbody tr th:only-of-type {\n",
       "        vertical-align: middle;\n",
       "    }\n",
       "\n",
       "    .dataframe tbody tr th {\n",
       "        vertical-align: top;\n",
       "    }\n",
       "\n",
       "    .dataframe thead th {\n",
       "        text-align: right;\n",
       "    }\n",
       "</style>\n",
       "<table border=\"1\" class=\"dataframe\">\n",
       "  <thead>\n",
       "    <tr style=\"text-align: right;\">\n",
       "      <th></th>\n",
       "      <th>Model Year</th>\n",
       "      <th>Regulatory Class</th>\n",
       "      <th>Vehicle Type</th>\n",
       "      <th>Production Share</th>\n",
       "      <th>Real-World MPG</th>\n",
       "      <th>Real-World MPG_City</th>\n",
       "      <th>Real-World MPG_Hwy</th>\n",
       "      <th>Real-World CO2 (g/mi)</th>\n",
       "      <th>Real-World CO2_City (g/mi)</th>\n",
       "      <th>Real-World CO2_Hwy (g/mi)</th>\n",
       "      <th>Weight (lbs)</th>\n",
       "      <th>Horsepower (HP)</th>\n",
       "      <th>Footprint (sq. ft.)</th>\n",
       "    </tr>\n",
       "  </thead>\n",
       "  <tbody>\n",
       "    <tr>\n",
       "      <th>0</th>\n",
       "      <td>1975</td>\n",
       "      <td>All</td>\n",
       "      <td>All</td>\n",
       "      <td>1.000000</td>\n",
       "      <td>13.05970</td>\n",
       "      <td>12.01552</td>\n",
       "      <td>14.61167</td>\n",
       "      <td>680.59612</td>\n",
       "      <td>739.73800</td>\n",
       "      <td>608.31160</td>\n",
       "      <td>4060.399</td>\n",
       "      <td>137.3346</td>\n",
       "      <td>-</td>\n",
       "    </tr>\n",
       "    <tr>\n",
       "      <th>1</th>\n",
       "      <td>1975</td>\n",
       "      <td>Car</td>\n",
       "      <td>All Car</td>\n",
       "      <td>0.806646</td>\n",
       "      <td>13.45483</td>\n",
       "      <td>12.31413</td>\n",
       "      <td>15.17266</td>\n",
       "      <td>660.63740</td>\n",
       "      <td>721.82935</td>\n",
       "      <td>585.84724</td>\n",
       "      <td>4057.494</td>\n",
       "      <td>136.1964</td>\n",
       "      <td>-</td>\n",
       "    </tr>\n",
       "    <tr>\n",
       "      <th>2</th>\n",
       "      <td>1975</td>\n",
       "      <td>Car</td>\n",
       "      <td>Sedan/Wagon</td>\n",
       "      <td>0.805645</td>\n",
       "      <td>13.45833</td>\n",
       "      <td>12.31742</td>\n",
       "      <td>15.17643</td>\n",
       "      <td>660.46603</td>\n",
       "      <td>721.63673</td>\n",
       "      <td>585.70185</td>\n",
       "      <td>4057.565</td>\n",
       "      <td>136.2256</td>\n",
       "      <td>-</td>\n",
       "    </tr>\n",
       "    <tr>\n",
       "      <th>3</th>\n",
       "      <td>1975</td>\n",
       "      <td>Truck</td>\n",
       "      <td>All Truck</td>\n",
       "      <td>0.193354</td>\n",
       "      <td>11.63431</td>\n",
       "      <td>10.91165</td>\n",
       "      <td>12.65900</td>\n",
       "      <td>763.86134</td>\n",
       "      <td>814.45060</td>\n",
       "      <td>702.03002</td>\n",
       "      <td>4072.518</td>\n",
       "      <td>142.0826</td>\n",
       "      <td>-</td>\n",
       "    </tr>\n",
       "    <tr>\n",
       "      <th>4</th>\n",
       "      <td>1975</td>\n",
       "      <td>Truck</td>\n",
       "      <td>Pickup</td>\n",
       "      <td>0.131322</td>\n",
       "      <td>11.91476</td>\n",
       "      <td>11.07827</td>\n",
       "      <td>13.12613</td>\n",
       "      <td>745.88139</td>\n",
       "      <td>802.20090</td>\n",
       "      <td>677.04643</td>\n",
       "      <td>4011.977</td>\n",
       "      <td>140.9365</td>\n",
       "      <td>-</td>\n",
       "    </tr>\n",
       "    <tr>\n",
       "      <th>...</th>\n",
       "      <td>...</td>\n",
       "      <td>...</td>\n",
       "      <td>...</td>\n",
       "      <td>...</td>\n",
       "      <td>...</td>\n",
       "      <td>...</td>\n",
       "      <td>...</td>\n",
       "      <td>...</td>\n",
       "      <td>...</td>\n",
       "      <td>...</td>\n",
       "      <td>...</td>\n",
       "      <td>...</td>\n",
       "      <td>...</td>\n",
       "    </tr>\n",
       "    <tr>\n",
       "      <th>379</th>\n",
       "      <td>Prelim. 2022</td>\n",
       "      <td>All</td>\n",
       "      <td>All</td>\n",
       "      <td>-</td>\n",
       "      <td>26.35965</td>\n",
       "      <td>23.17949</td>\n",
       "      <td>29.40284</td>\n",
       "      <td>330.81160</td>\n",
       "      <td>377.18480</td>\n",
       "      <td>295.82831</td>\n",
       "      <td>4328.963</td>\n",
       "      <td>272.3535</td>\n",
       "      <td>51.67437</td>\n",
       "    </tr>\n",
       "    <tr>\n",
       "      <th>380</th>\n",
       "      <td>Prelim. 2022</td>\n",
       "      <td>Truck</td>\n",
       "      <td>Minivan/Van</td>\n",
       "      <td>-</td>\n",
       "      <td>25.59317</td>\n",
       "      <td>22.10621</td>\n",
       "      <td>29.04996</td>\n",
       "      <td>344.29378</td>\n",
       "      <td>398.02669</td>\n",
       "      <td>303.75842</td>\n",
       "      <td>4557.279</td>\n",
       "      <td>245.0592</td>\n",
       "      <td>56.21571</td>\n",
       "    </tr>\n",
       "    <tr>\n",
       "      <th>381</th>\n",
       "      <td>Prelim. 2022</td>\n",
       "      <td>Truck</td>\n",
       "      <td>Truck SUV</td>\n",
       "      <td>-</td>\n",
       "      <td>24.75038</td>\n",
       "      <td>21.90441</td>\n",
       "      <td>27.43990</td>\n",
       "      <td>354.13291</td>\n",
       "      <td>400.54552</td>\n",
       "      <td>319.11989</td>\n",
       "      <td>4534.261</td>\n",
       "      <td>268.1756</td>\n",
       "      <td>50.02365</td>\n",
       "    </tr>\n",
       "    <tr>\n",
       "      <th>382</th>\n",
       "      <td>Prelim. 2022</td>\n",
       "      <td>Truck</td>\n",
       "      <td>All Truck</td>\n",
       "      <td>-</td>\n",
       "      <td>23.40912</td>\n",
       "      <td>20.60126</td>\n",
       "      <td>26.09186</td>\n",
       "      <td>375.92690</td>\n",
       "      <td>427.58585</td>\n",
       "      <td>336.95612</td>\n",
       "      <td>4713.739</td>\n",
       "      <td>284.8583</td>\n",
       "      <td>54.37582</td>\n",
       "    </tr>\n",
       "    <tr>\n",
       "      <th>383</th>\n",
       "      <td>Prelim. 2022</td>\n",
       "      <td>Truck</td>\n",
       "      <td>Pickup</td>\n",
       "      <td>-</td>\n",
       "      <td>20.06288</td>\n",
       "      <td>17.49366</td>\n",
       "      <td>22.56268</td>\n",
       "      <td>442.43019</td>\n",
       "      <td>508.03215</td>\n",
       "      <td>392.94099</td>\n",
       "      <td>5239.220</td>\n",
       "      <td>339.0876</td>\n",
       "      <td>65.91698</td>\n",
       "    </tr>\n",
       "  </tbody>\n",
       "</table>\n",
       "<p>384 rows × 13 columns</p>\n",
       "</div>"
      ],
      "text/plain": [
       "       Model Year Regulatory Class Vehicle Type Production Share  \\\n",
       "0            1975              All          All         1.000000   \n",
       "1            1975              Car      All Car         0.806646   \n",
       "2            1975              Car  Sedan/Wagon         0.805645   \n",
       "3            1975            Truck    All Truck         0.193354   \n",
       "4            1975            Truck       Pickup         0.131322   \n",
       "..            ...              ...          ...              ...   \n",
       "379  Prelim. 2022              All          All                -   \n",
       "380  Prelim. 2022            Truck  Minivan/Van                -   \n",
       "381  Prelim. 2022            Truck    Truck SUV                -   \n",
       "382  Prelim. 2022            Truck    All Truck                -   \n",
       "383  Prelim. 2022            Truck       Pickup                -   \n",
       "\n",
       "     Real-World MPG  Real-World MPG_City  Real-World MPG_Hwy  \\\n",
       "0          13.05970             12.01552            14.61167   \n",
       "1          13.45483             12.31413            15.17266   \n",
       "2          13.45833             12.31742            15.17643   \n",
       "3          11.63431             10.91165            12.65900   \n",
       "4          11.91476             11.07827            13.12613   \n",
       "..              ...                  ...                 ...   \n",
       "379        26.35965             23.17949            29.40284   \n",
       "380        25.59317             22.10621            29.04996   \n",
       "381        24.75038             21.90441            27.43990   \n",
       "382        23.40912             20.60126            26.09186   \n",
       "383        20.06288             17.49366            22.56268   \n",
       "\n",
       "     Real-World CO2 (g/mi)  Real-World CO2_City (g/mi)  \\\n",
       "0                680.59612                   739.73800   \n",
       "1                660.63740                   721.82935   \n",
       "2                660.46603                   721.63673   \n",
       "3                763.86134                   814.45060   \n",
       "4                745.88139                   802.20090   \n",
       "..                     ...                         ...   \n",
       "379              330.81160                   377.18480   \n",
       "380              344.29378                   398.02669   \n",
       "381              354.13291                   400.54552   \n",
       "382              375.92690                   427.58585   \n",
       "383              442.43019                   508.03215   \n",
       "\n",
       "     Real-World CO2_Hwy (g/mi)  Weight (lbs)  Horsepower (HP)  \\\n",
       "0                    608.31160      4060.399         137.3346   \n",
       "1                    585.84724      4057.494         136.1964   \n",
       "2                    585.70185      4057.565         136.2256   \n",
       "3                    702.03002      4072.518         142.0826   \n",
       "4                    677.04643      4011.977         140.9365   \n",
       "..                         ...           ...              ...   \n",
       "379                  295.82831      4328.963         272.3535   \n",
       "380                  303.75842      4557.279         245.0592   \n",
       "381                  319.11989      4534.261         268.1756   \n",
       "382                  336.95612      4713.739         284.8583   \n",
       "383                  392.94099      5239.220         339.0876   \n",
       "\n",
       "    Footprint (sq. ft.)  \n",
       "0                     -  \n",
       "1                     -  \n",
       "2                     -  \n",
       "3                     -  \n",
       "4                     -  \n",
       "..                  ...  \n",
       "379            51.67437  \n",
       "380            56.21571  \n",
       "381            50.02365  \n",
       "382            54.37582  \n",
       "383            65.91698  \n",
       "\n",
       "[384 rows x 13 columns]"
      ]
     },
     "execution_count": 79,
     "metadata": {},
     "output_type": "execute_result"
    }
   ],
   "source": [
    "import pandas as pd\n",
    "import numpy as np\n",
    "import plotly.express as px\n",
    "\n",
    "df = pd.read_csv('table_export.csv')\n",
    "df"
   ]
  },
  {
   "cell_type": "markdown",
   "id": "3259ca7c",
   "metadata": {},
   "source": [
    "### Data Processing: Create a subset of the dataset that contains the Model Year in the set [1992, 2002, 2012, 2022], and Vehicle Type in the set ['Sedan/Wagon', 'Pickup', 'Minivan/Van', 'Truck SUV', 'Car SUV']."
   ]
  },
  {
   "cell_type": "code",
   "execution_count": 80,
   "id": "6b54a55e",
   "metadata": {},
   "outputs": [
    {
     "data": {
      "text/html": [
       "<div>\n",
       "<style scoped>\n",
       "    .dataframe tbody tr th:only-of-type {\n",
       "        vertical-align: middle;\n",
       "    }\n",
       "\n",
       "    .dataframe tbody tr th {\n",
       "        vertical-align: top;\n",
       "    }\n",
       "\n",
       "    .dataframe thead th {\n",
       "        text-align: right;\n",
       "    }\n",
       "</style>\n",
       "<table border=\"1\" class=\"dataframe\">\n",
       "  <thead>\n",
       "    <tr style=\"text-align: right;\">\n",
       "      <th></th>\n",
       "      <th>Model Year</th>\n",
       "      <th>Regulatory Class</th>\n",
       "      <th>Vehicle Type</th>\n",
       "      <th>Production Share</th>\n",
       "      <th>Real-World MPG</th>\n",
       "      <th>Real-World MPG_City</th>\n",
       "      <th>Real-World MPG_Hwy</th>\n",
       "      <th>Real-World CO2 (g/mi)</th>\n",
       "      <th>Real-World CO2_City (g/mi)</th>\n",
       "      <th>Real-World CO2_Hwy (g/mi)</th>\n",
       "      <th>Weight (lbs)</th>\n",
       "      <th>Horsepower (HP)</th>\n",
       "      <th>Footprint (sq. ft.)</th>\n",
       "    </tr>\n",
       "  </thead>\n",
       "  <tbody>\n",
       "    <tr>\n",
       "      <th>138</th>\n",
       "      <td>1992</td>\n",
       "      <td>Car</td>\n",
       "      <td>Sedan/Wagon</td>\n",
       "      <td>0.666086</td>\n",
       "      <td>23.06995</td>\n",
       "      <td>19.95943</td>\n",
       "      <td>27.47112</td>\n",
       "      <td>385.24953</td>\n",
       "      <td>445.28566</td>\n",
       "      <td>323.53032</td>\n",
       "      <td>3239.880</td>\n",
       "      <td>140.5106</td>\n",
       "      <td>-</td>\n",
       "    </tr>\n",
       "    <tr>\n",
       "      <th>376</th>\n",
       "      <td>2022</td>\n",
       "      <td>Car</td>\n",
       "      <td>Sedan/Wagon</td>\n",
       "      <td>-</td>\n",
       "      <td>33.71184</td>\n",
       "      <td>29.17329</td>\n",
       "      <td>38.19438</td>\n",
       "      <td>253.95467</td>\n",
       "      <td>295.33058</td>\n",
       "      <td>222.74126</td>\n",
       "      <td>3628.309</td>\n",
       "      <td>243.0523</td>\n",
       "      <td>47.16722</td>\n",
       "    </tr>\n",
       "    <tr>\n",
       "      <th>298</th>\n",
       "      <td>2012</td>\n",
       "      <td>Car</td>\n",
       "      <td>Sedan/Wagon</td>\n",
       "      <td>0.549736</td>\n",
       "      <td>27.59971</td>\n",
       "      <td>23.27884</td>\n",
       "      <td>32.09360</td>\n",
       "      <td>322.10411</td>\n",
       "      <td>381.91993</td>\n",
       "      <td>276.97990</td>\n",
       "      <td>3451.780</td>\n",
       "      <td>188.7913</td>\n",
       "      <td>45.44823</td>\n",
       "    </tr>\n",
       "    <tr>\n",
       "      <th>218</th>\n",
       "      <td>2002</td>\n",
       "      <td>Car</td>\n",
       "      <td>Sedan/Wagon</td>\n",
       "      <td>0.515107</td>\n",
       "      <td>23.08460</td>\n",
       "      <td>19.42998</td>\n",
       "      <td>27.23154</td>\n",
       "      <td>385.11456</td>\n",
       "      <td>457.54616</td>\n",
       "      <td>326.47198</td>\n",
       "      <td>3391.217</td>\n",
       "      <td>172.9148</td>\n",
       "      <td>-</td>\n",
       "    </tr>\n",
       "    <tr>\n",
       "      <th>301</th>\n",
       "      <td>2012</td>\n",
       "      <td>Truck</td>\n",
       "      <td>Pickup</td>\n",
       "      <td>0.100867</td>\n",
       "      <td>17.20749</td>\n",
       "      <td>14.58427</td>\n",
       "      <td>19.90889</td>\n",
       "      <td>516.46123</td>\n",
       "      <td>609.35496</td>\n",
       "      <td>446.38350</td>\n",
       "      <td>5334.678</td>\n",
       "      <td>316.8917</td>\n",
       "      <td>64.31795</td>\n",
       "    </tr>\n",
       "    <tr>\n",
       "      <th>221</th>\n",
       "      <td>2002</td>\n",
       "      <td>Truck</td>\n",
       "      <td>Pickup</td>\n",
       "      <td>0.147705</td>\n",
       "      <td>15.75266</td>\n",
       "      <td>13.76730</td>\n",
       "      <td>17.83204</td>\n",
       "      <td>564.15882</td>\n",
       "      <td>645.51495</td>\n",
       "      <td>498.37265</td>\n",
       "      <td>4689.839</td>\n",
       "      <td>226.2520</td>\n",
       "      <td>-</td>\n",
       "    </tr>\n",
       "    <tr>\n",
       "      <th>383</th>\n",
       "      <td>2022</td>\n",
       "      <td>Truck</td>\n",
       "      <td>Pickup</td>\n",
       "      <td>-</td>\n",
       "      <td>20.06288</td>\n",
       "      <td>17.49366</td>\n",
       "      <td>22.56268</td>\n",
       "      <td>442.43019</td>\n",
       "      <td>508.03215</td>\n",
       "      <td>392.94099</td>\n",
       "      <td>5239.220</td>\n",
       "      <td>339.0876</td>\n",
       "      <td>65.91698</td>\n",
       "    </tr>\n",
       "    <tr>\n",
       "      <th>140</th>\n",
       "      <td>1992</td>\n",
       "      <td>Truck</td>\n",
       "      <td>Pickup</td>\n",
       "      <td>0.151158</td>\n",
       "      <td>17.48087</td>\n",
       "      <td>15.54243</td>\n",
       "      <td>20.04642</td>\n",
       "      <td>508.47858</td>\n",
       "      <td>571.89705</td>\n",
       "      <td>443.40180</td>\n",
       "      <td>3976.449</td>\n",
       "      <td>150.6981</td>\n",
       "      <td>-</td>\n",
       "    </tr>\n",
       "    <tr>\n",
       "      <th>222</th>\n",
       "      <td>2002</td>\n",
       "      <td>Truck</td>\n",
       "      <td>Minivan/Van</td>\n",
       "      <td>0.077147</td>\n",
       "      <td>18.69997</td>\n",
       "      <td>15.87208</td>\n",
       "      <td>21.85229</td>\n",
       "      <td>475.24129</td>\n",
       "      <td>559.91414</td>\n",
       "      <td>406.68509</td>\n",
       "      <td>4393.857</td>\n",
       "      <td>199.4496</td>\n",
       "      <td>-</td>\n",
       "    </tr>\n",
       "    <tr>\n",
       "      <th>141</th>\n",
       "      <td>1992</td>\n",
       "      <td>Truck</td>\n",
       "      <td>Minivan/Van</td>\n",
       "      <td>0.100328</td>\n",
       "      <td>17.92191</td>\n",
       "      <td>15.94818</td>\n",
       "      <td>20.52874</td>\n",
       "      <td>495.91014</td>\n",
       "      <td>557.28442</td>\n",
       "      <td>432.93642</td>\n",
       "      <td>4151.208</td>\n",
       "      <td>151.9530</td>\n",
       "      <td>-</td>\n",
       "    </tr>\n",
       "    <tr>\n",
       "      <th>303</th>\n",
       "      <td>2012</td>\n",
       "      <td>Truck</td>\n",
       "      <td>Minivan/Van</td>\n",
       "      <td>0.049244</td>\n",
       "      <td>21.26883</td>\n",
       "      <td>17.72060</td>\n",
       "      <td>25.05315</td>\n",
       "      <td>417.84159</td>\n",
       "      <td>501.50662</td>\n",
       "      <td>354.72587</td>\n",
       "      <td>4441.761</td>\n",
       "      <td>254.1958</td>\n",
       "      <td>54.75999</td>\n",
       "    </tr>\n",
       "    <tr>\n",
       "      <th>380</th>\n",
       "      <td>2022</td>\n",
       "      <td>Truck</td>\n",
       "      <td>Minivan/Van</td>\n",
       "      <td>-</td>\n",
       "      <td>25.59317</td>\n",
       "      <td>22.10621</td>\n",
       "      <td>29.04996</td>\n",
       "      <td>344.29378</td>\n",
       "      <td>398.02669</td>\n",
       "      <td>303.75842</td>\n",
       "      <td>4557.279</td>\n",
       "      <td>245.0592</td>\n",
       "      <td>56.21571</td>\n",
       "    </tr>\n",
       "    <tr>\n",
       "      <th>381</th>\n",
       "      <td>2022</td>\n",
       "      <td>Truck</td>\n",
       "      <td>Truck SUV</td>\n",
       "      <td>-</td>\n",
       "      <td>24.75038</td>\n",
       "      <td>21.90441</td>\n",
       "      <td>27.43990</td>\n",
       "      <td>354.13291</td>\n",
       "      <td>400.54552</td>\n",
       "      <td>319.11989</td>\n",
       "      <td>4534.261</td>\n",
       "      <td>268.1756</td>\n",
       "      <td>50.02365</td>\n",
       "    </tr>\n",
       "    <tr>\n",
       "      <th>142</th>\n",
       "      <td>1992</td>\n",
       "      <td>Truck</td>\n",
       "      <td>Truck SUV</td>\n",
       "      <td>0.062497</td>\n",
       "      <td>16.20331</td>\n",
       "      <td>14.45837</td>\n",
       "      <td>18.49312</td>\n",
       "      <td>548.46809</td>\n",
       "      <td>614.66124</td>\n",
       "      <td>480.55714</td>\n",
       "      <td>4203.692</td>\n",
       "      <td>169.5920</td>\n",
       "      <td>-</td>\n",
       "    </tr>\n",
       "    <tr>\n",
       "      <th>300</th>\n",
       "      <td>2012</td>\n",
       "      <td>Truck</td>\n",
       "      <td>Truck SUV</td>\n",
       "      <td>0.206068</td>\n",
       "      <td>20.00681</td>\n",
       "      <td>17.06347</td>\n",
       "      <td>22.99968</td>\n",
       "      <td>444.93342</td>\n",
       "      <td>521.68201</td>\n",
       "      <td>387.03537</td>\n",
       "      <td>4639.557</td>\n",
       "      <td>260.5694</td>\n",
       "      <td>49.66824</td>\n",
       "    </tr>\n",
       "    <tr>\n",
       "      <th>220</th>\n",
       "      <td>2002</td>\n",
       "      <td>Truck</td>\n",
       "      <td>Truck SUV</td>\n",
       "      <td>0.222654</td>\n",
       "      <td>16.30933</td>\n",
       "      <td>14.11631</td>\n",
       "      <td>18.65377</td>\n",
       "      <td>544.90294</td>\n",
       "      <td>629.55527</td>\n",
       "      <td>476.41834</td>\n",
       "      <td>4636.362</td>\n",
       "      <td>228.6712</td>\n",
       "      <td>-</td>\n",
       "    </tr>\n",
       "    <tr>\n",
       "      <th>143</th>\n",
       "      <td>1992</td>\n",
       "      <td>Car</td>\n",
       "      <td>Car SUV</td>\n",
       "      <td>0.019931</td>\n",
       "      <td>17.84349</td>\n",
       "      <td>16.06389</td>\n",
       "      <td>20.12662</td>\n",
       "      <td>498.05274</td>\n",
       "      <td>553.22828</td>\n",
       "      <td>441.55461</td>\n",
       "      <td>3712.507</td>\n",
       "      <td>152.6120</td>\n",
       "      <td>-</td>\n",
       "    </tr>\n",
       "    <tr>\n",
       "      <th>302</th>\n",
       "      <td>2012</td>\n",
       "      <td>Car</td>\n",
       "      <td>Car SUV</td>\n",
       "      <td>0.094084</td>\n",
       "      <td>23.29446</td>\n",
       "      <td>19.82097</td>\n",
       "      <td>26.84315</td>\n",
       "      <td>381.46382</td>\n",
       "      <td>448.32175</td>\n",
       "      <td>331.02714</td>\n",
       "      <td>3915.148</td>\n",
       "      <td>210.6364</td>\n",
       "      <td>46.84717</td>\n",
       "    </tr>\n",
       "    <tr>\n",
       "      <th>378</th>\n",
       "      <td>2022</td>\n",
       "      <td>Car</td>\n",
       "      <td>Car SUV</td>\n",
       "      <td>-</td>\n",
       "      <td>32.38793</td>\n",
       "      <td>29.25306</td>\n",
       "      <td>35.23655</td>\n",
       "      <td>261.70942</td>\n",
       "      <td>291.74199</td>\n",
       "      <td>239.05328</td>\n",
       "      <td>3832.524</td>\n",
       "      <td>269.6559</td>\n",
       "      <td>47.34132</td>\n",
       "    </tr>\n",
       "    <tr>\n",
       "      <th>223</th>\n",
       "      <td>2002</td>\n",
       "      <td>Car</td>\n",
       "      <td>Car SUV</td>\n",
       "      <td>0.037387</td>\n",
       "      <td>19.30479</td>\n",
       "      <td>16.74756</td>\n",
       "      <td>22.02409</td>\n",
       "      <td>460.35213</td>\n",
       "      <td>530.64452</td>\n",
       "      <td>403.51278</td>\n",
       "      <td>3747.361</td>\n",
       "      <td>179.0031</td>\n",
       "      <td>-</td>\n",
       "    </tr>\n",
       "  </tbody>\n",
       "</table>\n",
       "</div>"
      ],
      "text/plain": [
       "     Model Year Regulatory Class Vehicle Type Production Share  \\\n",
       "138        1992              Car  Sedan/Wagon         0.666086   \n",
       "376        2022              Car  Sedan/Wagon                -   \n",
       "298        2012              Car  Sedan/Wagon         0.549736   \n",
       "218        2002              Car  Sedan/Wagon         0.515107   \n",
       "301        2012            Truck       Pickup         0.100867   \n",
       "221        2002            Truck       Pickup         0.147705   \n",
       "383        2022            Truck       Pickup                -   \n",
       "140        1992            Truck       Pickup         0.151158   \n",
       "222        2002            Truck  Minivan/Van         0.077147   \n",
       "141        1992            Truck  Minivan/Van         0.100328   \n",
       "303        2012            Truck  Minivan/Van         0.049244   \n",
       "380        2022            Truck  Minivan/Van                -   \n",
       "381        2022            Truck    Truck SUV                -   \n",
       "142        1992            Truck    Truck SUV         0.062497   \n",
       "300        2012            Truck    Truck SUV         0.206068   \n",
       "220        2002            Truck    Truck SUV         0.222654   \n",
       "143        1992              Car      Car SUV         0.019931   \n",
       "302        2012              Car      Car SUV         0.094084   \n",
       "378        2022              Car      Car SUV                -   \n",
       "223        2002              Car      Car SUV         0.037387   \n",
       "\n",
       "     Real-World MPG  Real-World MPG_City  Real-World MPG_Hwy  \\\n",
       "138        23.06995             19.95943            27.47112   \n",
       "376        33.71184             29.17329            38.19438   \n",
       "298        27.59971             23.27884            32.09360   \n",
       "218        23.08460             19.42998            27.23154   \n",
       "301        17.20749             14.58427            19.90889   \n",
       "221        15.75266             13.76730            17.83204   \n",
       "383        20.06288             17.49366            22.56268   \n",
       "140        17.48087             15.54243            20.04642   \n",
       "222        18.69997             15.87208            21.85229   \n",
       "141        17.92191             15.94818            20.52874   \n",
       "303        21.26883             17.72060            25.05315   \n",
       "380        25.59317             22.10621            29.04996   \n",
       "381        24.75038             21.90441            27.43990   \n",
       "142        16.20331             14.45837            18.49312   \n",
       "300        20.00681             17.06347            22.99968   \n",
       "220        16.30933             14.11631            18.65377   \n",
       "143        17.84349             16.06389            20.12662   \n",
       "302        23.29446             19.82097            26.84315   \n",
       "378        32.38793             29.25306            35.23655   \n",
       "223        19.30479             16.74756            22.02409   \n",
       "\n",
       "     Real-World CO2 (g/mi)  Real-World CO2_City (g/mi)  \\\n",
       "138              385.24953                   445.28566   \n",
       "376              253.95467                   295.33058   \n",
       "298              322.10411                   381.91993   \n",
       "218              385.11456                   457.54616   \n",
       "301              516.46123                   609.35496   \n",
       "221              564.15882                   645.51495   \n",
       "383              442.43019                   508.03215   \n",
       "140              508.47858                   571.89705   \n",
       "222              475.24129                   559.91414   \n",
       "141              495.91014                   557.28442   \n",
       "303              417.84159                   501.50662   \n",
       "380              344.29378                   398.02669   \n",
       "381              354.13291                   400.54552   \n",
       "142              548.46809                   614.66124   \n",
       "300              444.93342                   521.68201   \n",
       "220              544.90294                   629.55527   \n",
       "143              498.05274                   553.22828   \n",
       "302              381.46382                   448.32175   \n",
       "378              261.70942                   291.74199   \n",
       "223              460.35213                   530.64452   \n",
       "\n",
       "     Real-World CO2_Hwy (g/mi)  Weight (lbs)  Horsepower (HP)  \\\n",
       "138                  323.53032      3239.880         140.5106   \n",
       "376                  222.74126      3628.309         243.0523   \n",
       "298                  276.97990      3451.780         188.7913   \n",
       "218                  326.47198      3391.217         172.9148   \n",
       "301                  446.38350      5334.678         316.8917   \n",
       "221                  498.37265      4689.839         226.2520   \n",
       "383                  392.94099      5239.220         339.0876   \n",
       "140                  443.40180      3976.449         150.6981   \n",
       "222                  406.68509      4393.857         199.4496   \n",
       "141                  432.93642      4151.208         151.9530   \n",
       "303                  354.72587      4441.761         254.1958   \n",
       "380                  303.75842      4557.279         245.0592   \n",
       "381                  319.11989      4534.261         268.1756   \n",
       "142                  480.55714      4203.692         169.5920   \n",
       "300                  387.03537      4639.557         260.5694   \n",
       "220                  476.41834      4636.362         228.6712   \n",
       "143                  441.55461      3712.507         152.6120   \n",
       "302                  331.02714      3915.148         210.6364   \n",
       "378                  239.05328      3832.524         269.6559   \n",
       "223                  403.51278      3747.361         179.0031   \n",
       "\n",
       "    Footprint (sq. ft.)  \n",
       "138                   -  \n",
       "376            47.16722  \n",
       "298            45.44823  \n",
       "218                   -  \n",
       "301            64.31795  \n",
       "221                   -  \n",
       "383            65.91698  \n",
       "140                   -  \n",
       "222                   -  \n",
       "141                   -  \n",
       "303            54.75999  \n",
       "380            56.21571  \n",
       "381            50.02365  \n",
       "142                   -  \n",
       "300            49.66824  \n",
       "220                   -  \n",
       "143                   -  \n",
       "302            46.84717  \n",
       "378            47.34132  \n",
       "223                   -  "
      ]
     },
     "execution_count": 80,
     "metadata": {},
     "output_type": "execute_result"
    }
   ],
   "source": [
    "df.loc[df['Model Year'].str.contains('2022'),'Model Year'] = 2022\n",
    "df['Model Year'] = df['Model Year'].astype(int)\n",
    "\n",
    "df_sub = df[df['Model Year'].isin([1992, 2002, 2012, 2022])]\n",
    "\n",
    "df_sub = df_sub[df_sub['Vehicle Type'].isin(['Sedan/Wagon', 'Pickup', 'Minivan/Van', 'Truck SUV', 'Car SUV'])]\n",
    "\n",
    "df_sub = df_sub.sort_values(by='Vehicle Type', key=lambda column: column.map(lambda e: ['Sedan/Wagon', 'Pickup', 'Minivan/Van', 'Truck SUV', 'Car SUV'].index(e)))\n",
    "df_sub"
   ]
  },
  {
   "cell_type": "markdown",
   "id": "4095fda0",
   "metadata": {},
   "source": [
    "### Data Visualization: Create a Radar plot using Plotly Express line_polar with \"Real-World CO2 (g/mi)\" as the parameter rad,  \"Vehicle Type\" as the parameter theta, and \"Model Year\" as the parameter color."
   ]
  },
  {
   "cell_type": "code",
   "execution_count": 82,
   "id": "8752d7fe",
   "metadata": {},
   "outputs": [
    {
     "name": "stderr",
     "output_type": "stream",
     "text": [
      "C:\\Users\\danma\\anaconda3\\lib\\site-packages\\plotly\\express\\_core.py:271: FutureWarning:\n",
      "\n",
      "The frame.append method is deprecated and will be removed from pandas in a future version. Use pandas.concat instead.\n",
      "\n",
      "C:\\Users\\danma\\anaconda3\\lib\\site-packages\\plotly\\express\\_core.py:271: FutureWarning:\n",
      "\n",
      "The frame.append method is deprecated and will be removed from pandas in a future version. Use pandas.concat instead.\n",
      "\n",
      "C:\\Users\\danma\\anaconda3\\lib\\site-packages\\plotly\\express\\_core.py:271: FutureWarning:\n",
      "\n",
      "The frame.append method is deprecated and will be removed from pandas in a future version. Use pandas.concat instead.\n",
      "\n",
      "C:\\Users\\danma\\anaconda3\\lib\\site-packages\\plotly\\express\\_core.py:271: FutureWarning:\n",
      "\n",
      "The frame.append method is deprecated and will be removed from pandas in a future version. Use pandas.concat instead.\n",
      "\n"
     ]
    },
    {
     "data": {
      "application/vnd.plotly.v1+json": {
       "config": {
        "plotlyServerURL": "https://plot.ly"
       },
       "data": [
        {
         "hovertemplate": "Model Year=1992<br>Real-World CO2 (g/mi)=%{r}<br>Vehicle Type=%{theta}<extra></extra>",
         "legendgroup": "1992",
         "line": {
          "color": "#636efa",
          "dash": "solid"
         },
         "marker": {
          "symbol": "circle"
         },
         "mode": "lines",
         "name": "1992",
         "r": [
          385.24953,
          508.47858,
          495.91014,
          548.46809,
          498.05274,
          385.24953
         ],
         "showlegend": true,
         "subplot": "polar",
         "theta": [
          "Sedan/Wagon",
          "Pickup",
          "Minivan/Van",
          "Truck SUV",
          "Car SUV",
          "Sedan/Wagon"
         ],
         "type": "scatterpolar"
        },
        {
         "hovertemplate": "Model Year=2002<br>Real-World CO2 (g/mi)=%{r}<br>Vehicle Type=%{theta}<extra></extra>",
         "legendgroup": "2002",
         "line": {
          "color": "#EF553B",
          "dash": "solid"
         },
         "marker": {
          "symbol": "circle"
         },
         "mode": "lines",
         "name": "2002",
         "r": [
          385.11456,
          564.15882,
          475.24129,
          544.90294,
          460.35213,
          385.11456
         ],
         "showlegend": true,
         "subplot": "polar",
         "theta": [
          "Sedan/Wagon",
          "Pickup",
          "Minivan/Van",
          "Truck SUV",
          "Car SUV",
          "Sedan/Wagon"
         ],
         "type": "scatterpolar"
        },
        {
         "hovertemplate": "Model Year=2012<br>Real-World CO2 (g/mi)=%{r}<br>Vehicle Type=%{theta}<extra></extra>",
         "legendgroup": "2012",
         "line": {
          "color": "#00cc96",
          "dash": "solid"
         },
         "marker": {
          "symbol": "circle"
         },
         "mode": "lines",
         "name": "2012",
         "r": [
          322.10411,
          516.46123,
          417.84159,
          444.93342,
          381.46382,
          322.10411
         ],
         "showlegend": true,
         "subplot": "polar",
         "theta": [
          "Sedan/Wagon",
          "Pickup",
          "Minivan/Van",
          "Truck SUV",
          "Car SUV",
          "Sedan/Wagon"
         ],
         "type": "scatterpolar"
        },
        {
         "hovertemplate": "Model Year=2022<br>Real-World CO2 (g/mi)=%{r}<br>Vehicle Type=%{theta}<extra></extra>",
         "legendgroup": "2022",
         "line": {
          "color": "#ab63fa",
          "dash": "solid"
         },
         "marker": {
          "symbol": "circle"
         },
         "mode": "lines",
         "name": "2022",
         "r": [
          253.95467,
          442.43019,
          344.29378,
          354.13291,
          261.70942,
          253.95467
         ],
         "showlegend": true,
         "subplot": "polar",
         "theta": [
          "Sedan/Wagon",
          "Pickup",
          "Minivan/Van",
          "Truck SUV",
          "Car SUV",
          "Sedan/Wagon"
         ],
         "type": "scatterpolar"
        }
       ],
       "layout": {
        "legend": {
         "title": {
          "text": "Model Year"
         },
         "tracegroupgap": 0
        },
        "polar": {
         "angularaxis": {
          "direction": "clockwise",
          "rotation": 90
         },
         "domain": {
          "x": [
           0,
           1
          ],
          "y": [
           0,
           1
          ]
         }
        },
        "template": {
         "data": {
          "bar": [
           {
            "error_x": {
             "color": "#2a3f5f"
            },
            "error_y": {
             "color": "#2a3f5f"
            },
            "marker": {
             "line": {
              "color": "#E5ECF6",
              "width": 0.5
             },
             "pattern": {
              "fillmode": "overlay",
              "size": 10,
              "solidity": 0.2
             }
            },
            "type": "bar"
           }
          ],
          "barpolar": [
           {
            "marker": {
             "line": {
              "color": "#E5ECF6",
              "width": 0.5
             },
             "pattern": {
              "fillmode": "overlay",
              "size": 10,
              "solidity": 0.2
             }
            },
            "type": "barpolar"
           }
          ],
          "carpet": [
           {
            "aaxis": {
             "endlinecolor": "#2a3f5f",
             "gridcolor": "white",
             "linecolor": "white",
             "minorgridcolor": "white",
             "startlinecolor": "#2a3f5f"
            },
            "baxis": {
             "endlinecolor": "#2a3f5f",
             "gridcolor": "white",
             "linecolor": "white",
             "minorgridcolor": "white",
             "startlinecolor": "#2a3f5f"
            },
            "type": "carpet"
           }
          ],
          "choropleth": [
           {
            "colorbar": {
             "outlinewidth": 0,
             "ticks": ""
            },
            "type": "choropleth"
           }
          ],
          "contour": [
           {
            "colorbar": {
             "outlinewidth": 0,
             "ticks": ""
            },
            "colorscale": [
             [
              0,
              "#0d0887"
             ],
             [
              0.1111111111111111,
              "#46039f"
             ],
             [
              0.2222222222222222,
              "#7201a8"
             ],
             [
              0.3333333333333333,
              "#9c179e"
             ],
             [
              0.4444444444444444,
              "#bd3786"
             ],
             [
              0.5555555555555556,
              "#d8576b"
             ],
             [
              0.6666666666666666,
              "#ed7953"
             ],
             [
              0.7777777777777778,
              "#fb9f3a"
             ],
             [
              0.8888888888888888,
              "#fdca26"
             ],
             [
              1,
              "#f0f921"
             ]
            ],
            "type": "contour"
           }
          ],
          "contourcarpet": [
           {
            "colorbar": {
             "outlinewidth": 0,
             "ticks": ""
            },
            "type": "contourcarpet"
           }
          ],
          "heatmap": [
           {
            "colorbar": {
             "outlinewidth": 0,
             "ticks": ""
            },
            "colorscale": [
             [
              0,
              "#0d0887"
             ],
             [
              0.1111111111111111,
              "#46039f"
             ],
             [
              0.2222222222222222,
              "#7201a8"
             ],
             [
              0.3333333333333333,
              "#9c179e"
             ],
             [
              0.4444444444444444,
              "#bd3786"
             ],
             [
              0.5555555555555556,
              "#d8576b"
             ],
             [
              0.6666666666666666,
              "#ed7953"
             ],
             [
              0.7777777777777778,
              "#fb9f3a"
             ],
             [
              0.8888888888888888,
              "#fdca26"
             ],
             [
              1,
              "#f0f921"
             ]
            ],
            "type": "heatmap"
           }
          ],
          "heatmapgl": [
           {
            "colorbar": {
             "outlinewidth": 0,
             "ticks": ""
            },
            "colorscale": [
             [
              0,
              "#0d0887"
             ],
             [
              0.1111111111111111,
              "#46039f"
             ],
             [
              0.2222222222222222,
              "#7201a8"
             ],
             [
              0.3333333333333333,
              "#9c179e"
             ],
             [
              0.4444444444444444,
              "#bd3786"
             ],
             [
              0.5555555555555556,
              "#d8576b"
             ],
             [
              0.6666666666666666,
              "#ed7953"
             ],
             [
              0.7777777777777778,
              "#fb9f3a"
             ],
             [
              0.8888888888888888,
              "#fdca26"
             ],
             [
              1,
              "#f0f921"
             ]
            ],
            "type": "heatmapgl"
           }
          ],
          "histogram": [
           {
            "marker": {
             "pattern": {
              "fillmode": "overlay",
              "size": 10,
              "solidity": 0.2
             }
            },
            "type": "histogram"
           }
          ],
          "histogram2d": [
           {
            "colorbar": {
             "outlinewidth": 0,
             "ticks": ""
            },
            "colorscale": [
             [
              0,
              "#0d0887"
             ],
             [
              0.1111111111111111,
              "#46039f"
             ],
             [
              0.2222222222222222,
              "#7201a8"
             ],
             [
              0.3333333333333333,
              "#9c179e"
             ],
             [
              0.4444444444444444,
              "#bd3786"
             ],
             [
              0.5555555555555556,
              "#d8576b"
             ],
             [
              0.6666666666666666,
              "#ed7953"
             ],
             [
              0.7777777777777778,
              "#fb9f3a"
             ],
             [
              0.8888888888888888,
              "#fdca26"
             ],
             [
              1,
              "#f0f921"
             ]
            ],
            "type": "histogram2d"
           }
          ],
          "histogram2dcontour": [
           {
            "colorbar": {
             "outlinewidth": 0,
             "ticks": ""
            },
            "colorscale": [
             [
              0,
              "#0d0887"
             ],
             [
              0.1111111111111111,
              "#46039f"
             ],
             [
              0.2222222222222222,
              "#7201a8"
             ],
             [
              0.3333333333333333,
              "#9c179e"
             ],
             [
              0.4444444444444444,
              "#bd3786"
             ],
             [
              0.5555555555555556,
              "#d8576b"
             ],
             [
              0.6666666666666666,
              "#ed7953"
             ],
             [
              0.7777777777777778,
              "#fb9f3a"
             ],
             [
              0.8888888888888888,
              "#fdca26"
             ],
             [
              1,
              "#f0f921"
             ]
            ],
            "type": "histogram2dcontour"
           }
          ],
          "mesh3d": [
           {
            "colorbar": {
             "outlinewidth": 0,
             "ticks": ""
            },
            "type": "mesh3d"
           }
          ],
          "parcoords": [
           {
            "line": {
             "colorbar": {
              "outlinewidth": 0,
              "ticks": ""
             }
            },
            "type": "parcoords"
           }
          ],
          "pie": [
           {
            "automargin": true,
            "type": "pie"
           }
          ],
          "scatter": [
           {
            "fillpattern": {
             "fillmode": "overlay",
             "size": 10,
             "solidity": 0.2
            },
            "type": "scatter"
           }
          ],
          "scatter3d": [
           {
            "line": {
             "colorbar": {
              "outlinewidth": 0,
              "ticks": ""
             }
            },
            "marker": {
             "colorbar": {
              "outlinewidth": 0,
              "ticks": ""
             }
            },
            "type": "scatter3d"
           }
          ],
          "scattercarpet": [
           {
            "marker": {
             "colorbar": {
              "outlinewidth": 0,
              "ticks": ""
             }
            },
            "type": "scattercarpet"
           }
          ],
          "scattergeo": [
           {
            "marker": {
             "colorbar": {
              "outlinewidth": 0,
              "ticks": ""
             }
            },
            "type": "scattergeo"
           }
          ],
          "scattergl": [
           {
            "marker": {
             "colorbar": {
              "outlinewidth": 0,
              "ticks": ""
             }
            },
            "type": "scattergl"
           }
          ],
          "scattermapbox": [
           {
            "marker": {
             "colorbar": {
              "outlinewidth": 0,
              "ticks": ""
             }
            },
            "type": "scattermapbox"
           }
          ],
          "scatterpolar": [
           {
            "marker": {
             "colorbar": {
              "outlinewidth": 0,
              "ticks": ""
             }
            },
            "type": "scatterpolar"
           }
          ],
          "scatterpolargl": [
           {
            "marker": {
             "colorbar": {
              "outlinewidth": 0,
              "ticks": ""
             }
            },
            "type": "scatterpolargl"
           }
          ],
          "scatterternary": [
           {
            "marker": {
             "colorbar": {
              "outlinewidth": 0,
              "ticks": ""
             }
            },
            "type": "scatterternary"
           }
          ],
          "surface": [
           {
            "colorbar": {
             "outlinewidth": 0,
             "ticks": ""
            },
            "colorscale": [
             [
              0,
              "#0d0887"
             ],
             [
              0.1111111111111111,
              "#46039f"
             ],
             [
              0.2222222222222222,
              "#7201a8"
             ],
             [
              0.3333333333333333,
              "#9c179e"
             ],
             [
              0.4444444444444444,
              "#bd3786"
             ],
             [
              0.5555555555555556,
              "#d8576b"
             ],
             [
              0.6666666666666666,
              "#ed7953"
             ],
             [
              0.7777777777777778,
              "#fb9f3a"
             ],
             [
              0.8888888888888888,
              "#fdca26"
             ],
             [
              1,
              "#f0f921"
             ]
            ],
            "type": "surface"
           }
          ],
          "table": [
           {
            "cells": {
             "fill": {
              "color": "#EBF0F8"
             },
             "line": {
              "color": "white"
             }
            },
            "header": {
             "fill": {
              "color": "#C8D4E3"
             },
             "line": {
              "color": "white"
             }
            },
            "type": "table"
           }
          ]
         },
         "layout": {
          "annotationdefaults": {
           "arrowcolor": "#2a3f5f",
           "arrowhead": 0,
           "arrowwidth": 1
          },
          "autotypenumbers": "strict",
          "coloraxis": {
           "colorbar": {
            "outlinewidth": 0,
            "ticks": ""
           }
          },
          "colorscale": {
           "diverging": [
            [
             0,
             "#8e0152"
            ],
            [
             0.1,
             "#c51b7d"
            ],
            [
             0.2,
             "#de77ae"
            ],
            [
             0.3,
             "#f1b6da"
            ],
            [
             0.4,
             "#fde0ef"
            ],
            [
             0.5,
             "#f7f7f7"
            ],
            [
             0.6,
             "#e6f5d0"
            ],
            [
             0.7,
             "#b8e186"
            ],
            [
             0.8,
             "#7fbc41"
            ],
            [
             0.9,
             "#4d9221"
            ],
            [
             1,
             "#276419"
            ]
           ],
           "sequential": [
            [
             0,
             "#0d0887"
            ],
            [
             0.1111111111111111,
             "#46039f"
            ],
            [
             0.2222222222222222,
             "#7201a8"
            ],
            [
             0.3333333333333333,
             "#9c179e"
            ],
            [
             0.4444444444444444,
             "#bd3786"
            ],
            [
             0.5555555555555556,
             "#d8576b"
            ],
            [
             0.6666666666666666,
             "#ed7953"
            ],
            [
             0.7777777777777778,
             "#fb9f3a"
            ],
            [
             0.8888888888888888,
             "#fdca26"
            ],
            [
             1,
             "#f0f921"
            ]
           ],
           "sequentialminus": [
            [
             0,
             "#0d0887"
            ],
            [
             0.1111111111111111,
             "#46039f"
            ],
            [
             0.2222222222222222,
             "#7201a8"
            ],
            [
             0.3333333333333333,
             "#9c179e"
            ],
            [
             0.4444444444444444,
             "#bd3786"
            ],
            [
             0.5555555555555556,
             "#d8576b"
            ],
            [
             0.6666666666666666,
             "#ed7953"
            ],
            [
             0.7777777777777778,
             "#fb9f3a"
            ],
            [
             0.8888888888888888,
             "#fdca26"
            ],
            [
             1,
             "#f0f921"
            ]
           ]
          },
          "colorway": [
           "#636efa",
           "#EF553B",
           "#00cc96",
           "#ab63fa",
           "#FFA15A",
           "#19d3f3",
           "#FF6692",
           "#B6E880",
           "#FF97FF",
           "#FECB52"
          ],
          "font": {
           "color": "#2a3f5f"
          },
          "geo": {
           "bgcolor": "white",
           "lakecolor": "white",
           "landcolor": "#E5ECF6",
           "showlakes": true,
           "showland": true,
           "subunitcolor": "white"
          },
          "hoverlabel": {
           "align": "left"
          },
          "hovermode": "closest",
          "mapbox": {
           "style": "light"
          },
          "paper_bgcolor": "white",
          "plot_bgcolor": "#E5ECF6",
          "polar": {
           "angularaxis": {
            "gridcolor": "white",
            "linecolor": "white",
            "ticks": ""
           },
           "bgcolor": "#E5ECF6",
           "radialaxis": {
            "gridcolor": "white",
            "linecolor": "white",
            "ticks": ""
           }
          },
          "scene": {
           "xaxis": {
            "backgroundcolor": "#E5ECF6",
            "gridcolor": "white",
            "gridwidth": 2,
            "linecolor": "white",
            "showbackground": true,
            "ticks": "",
            "zerolinecolor": "white"
           },
           "yaxis": {
            "backgroundcolor": "#E5ECF6",
            "gridcolor": "white",
            "gridwidth": 2,
            "linecolor": "white",
            "showbackground": true,
            "ticks": "",
            "zerolinecolor": "white"
           },
           "zaxis": {
            "backgroundcolor": "#E5ECF6",
            "gridcolor": "white",
            "gridwidth": 2,
            "linecolor": "white",
            "showbackground": true,
            "ticks": "",
            "zerolinecolor": "white"
           }
          },
          "shapedefaults": {
           "line": {
            "color": "#2a3f5f"
           }
          },
          "ternary": {
           "aaxis": {
            "gridcolor": "white",
            "linecolor": "white",
            "ticks": ""
           },
           "baxis": {
            "gridcolor": "white",
            "linecolor": "white",
            "ticks": ""
           },
           "bgcolor": "#E5ECF6",
           "caxis": {
            "gridcolor": "white",
            "linecolor": "white",
            "ticks": ""
           }
          },
          "title": {
           "x": 0.05
          },
          "xaxis": {
           "automargin": true,
           "gridcolor": "white",
           "linecolor": "white",
           "ticks": "",
           "title": {
            "standoff": 15
           },
           "zerolinecolor": "white",
           "zerolinewidth": 2
          },
          "yaxis": {
           "automargin": true,
           "gridcolor": "white",
           "linecolor": "white",
           "ticks": "",
           "title": {
            "standoff": 15
           },
           "zerolinecolor": "white",
           "zerolinewidth": 2
          }
         }
        },
        "title": {
         "text": "plot of car Real-World CO2 (g/mi) over the years"
        }
       }
      },
      "text/html": [
       "<div>                            <div id=\"455ae7f5-6dcc-4a1f-a61c-3f75ec0cb7f6\" class=\"plotly-graph-div\" style=\"height:525px; width:100%;\"></div>            <script type=\"text/javascript\">                require([\"plotly\"], function(Plotly) {                    window.PLOTLYENV=window.PLOTLYENV || {};                                    if (document.getElementById(\"455ae7f5-6dcc-4a1f-a61c-3f75ec0cb7f6\")) {                    Plotly.newPlot(                        \"455ae7f5-6dcc-4a1f-a61c-3f75ec0cb7f6\",                        [{\"hovertemplate\":\"Model Year=1992<br>Real-World CO2 (g/mi)=%{r}<br>Vehicle Type=%{theta}<extra></extra>\",\"legendgroup\":\"1992\",\"line\":{\"color\":\"#636efa\",\"dash\":\"solid\"},\"marker\":{\"symbol\":\"circle\"},\"mode\":\"lines\",\"name\":\"1992\",\"r\":[385.24953,508.47858,495.91014,548.46809,498.05274,385.24953],\"showlegend\":true,\"subplot\":\"polar\",\"theta\":[\"Sedan/Wagon\",\"Pickup\",\"Minivan/Van\",\"Truck SUV\",\"Car SUV\",\"Sedan/Wagon\"],\"type\":\"scatterpolar\"},{\"hovertemplate\":\"Model Year=2002<br>Real-World CO2 (g/mi)=%{r}<br>Vehicle Type=%{theta}<extra></extra>\",\"legendgroup\":\"2002\",\"line\":{\"color\":\"#EF553B\",\"dash\":\"solid\"},\"marker\":{\"symbol\":\"circle\"},\"mode\":\"lines\",\"name\":\"2002\",\"r\":[385.11456,564.15882,475.24129,544.90294,460.35213,385.11456],\"showlegend\":true,\"subplot\":\"polar\",\"theta\":[\"Sedan/Wagon\",\"Pickup\",\"Minivan/Van\",\"Truck SUV\",\"Car SUV\",\"Sedan/Wagon\"],\"type\":\"scatterpolar\"},{\"hovertemplate\":\"Model Year=2012<br>Real-World CO2 (g/mi)=%{r}<br>Vehicle Type=%{theta}<extra></extra>\",\"legendgroup\":\"2012\",\"line\":{\"color\":\"#00cc96\",\"dash\":\"solid\"},\"marker\":{\"symbol\":\"circle\"},\"mode\":\"lines\",\"name\":\"2012\",\"r\":[322.10411,516.46123,417.84159,444.93342,381.46382,322.10411],\"showlegend\":true,\"subplot\":\"polar\",\"theta\":[\"Sedan/Wagon\",\"Pickup\",\"Minivan/Van\",\"Truck SUV\",\"Car SUV\",\"Sedan/Wagon\"],\"type\":\"scatterpolar\"},{\"hovertemplate\":\"Model Year=2022<br>Real-World CO2 (g/mi)=%{r}<br>Vehicle Type=%{theta}<extra></extra>\",\"legendgroup\":\"2022\",\"line\":{\"color\":\"#ab63fa\",\"dash\":\"solid\"},\"marker\":{\"symbol\":\"circle\"},\"mode\":\"lines\",\"name\":\"2022\",\"r\":[253.95467,442.43019,344.29378,354.13291,261.70942,253.95467],\"showlegend\":true,\"subplot\":\"polar\",\"theta\":[\"Sedan/Wagon\",\"Pickup\",\"Minivan/Van\",\"Truck SUV\",\"Car SUV\",\"Sedan/Wagon\"],\"type\":\"scatterpolar\"}],                        {\"template\":{\"data\":{\"histogram2dcontour\":[{\"type\":\"histogram2dcontour\",\"colorbar\":{\"outlinewidth\":0,\"ticks\":\"\"},\"colorscale\":[[0.0,\"#0d0887\"],[0.1111111111111111,\"#46039f\"],[0.2222222222222222,\"#7201a8\"],[0.3333333333333333,\"#9c179e\"],[0.4444444444444444,\"#bd3786\"],[0.5555555555555556,\"#d8576b\"],[0.6666666666666666,\"#ed7953\"],[0.7777777777777778,\"#fb9f3a\"],[0.8888888888888888,\"#fdca26\"],[1.0,\"#f0f921\"]]}],\"choropleth\":[{\"type\":\"choropleth\",\"colorbar\":{\"outlinewidth\":0,\"ticks\":\"\"}}],\"histogram2d\":[{\"type\":\"histogram2d\",\"colorbar\":{\"outlinewidth\":0,\"ticks\":\"\"},\"colorscale\":[[0.0,\"#0d0887\"],[0.1111111111111111,\"#46039f\"],[0.2222222222222222,\"#7201a8\"],[0.3333333333333333,\"#9c179e\"],[0.4444444444444444,\"#bd3786\"],[0.5555555555555556,\"#d8576b\"],[0.6666666666666666,\"#ed7953\"],[0.7777777777777778,\"#fb9f3a\"],[0.8888888888888888,\"#fdca26\"],[1.0,\"#f0f921\"]]}],\"heatmap\":[{\"type\":\"heatmap\",\"colorbar\":{\"outlinewidth\":0,\"ticks\":\"\"},\"colorscale\":[[0.0,\"#0d0887\"],[0.1111111111111111,\"#46039f\"],[0.2222222222222222,\"#7201a8\"],[0.3333333333333333,\"#9c179e\"],[0.4444444444444444,\"#bd3786\"],[0.5555555555555556,\"#d8576b\"],[0.6666666666666666,\"#ed7953\"],[0.7777777777777778,\"#fb9f3a\"],[0.8888888888888888,\"#fdca26\"],[1.0,\"#f0f921\"]]}],\"heatmapgl\":[{\"type\":\"heatmapgl\",\"colorbar\":{\"outlinewidth\":0,\"ticks\":\"\"},\"colorscale\":[[0.0,\"#0d0887\"],[0.1111111111111111,\"#46039f\"],[0.2222222222222222,\"#7201a8\"],[0.3333333333333333,\"#9c179e\"],[0.4444444444444444,\"#bd3786\"],[0.5555555555555556,\"#d8576b\"],[0.6666666666666666,\"#ed7953\"],[0.7777777777777778,\"#fb9f3a\"],[0.8888888888888888,\"#fdca26\"],[1.0,\"#f0f921\"]]}],\"contourcarpet\":[{\"type\":\"contourcarpet\",\"colorbar\":{\"outlinewidth\":0,\"ticks\":\"\"}}],\"contour\":[{\"type\":\"contour\",\"colorbar\":{\"outlinewidth\":0,\"ticks\":\"\"},\"colorscale\":[[0.0,\"#0d0887\"],[0.1111111111111111,\"#46039f\"],[0.2222222222222222,\"#7201a8\"],[0.3333333333333333,\"#9c179e\"],[0.4444444444444444,\"#bd3786\"],[0.5555555555555556,\"#d8576b\"],[0.6666666666666666,\"#ed7953\"],[0.7777777777777778,\"#fb9f3a\"],[0.8888888888888888,\"#fdca26\"],[1.0,\"#f0f921\"]]}],\"surface\":[{\"type\":\"surface\",\"colorbar\":{\"outlinewidth\":0,\"ticks\":\"\"},\"colorscale\":[[0.0,\"#0d0887\"],[0.1111111111111111,\"#46039f\"],[0.2222222222222222,\"#7201a8\"],[0.3333333333333333,\"#9c179e\"],[0.4444444444444444,\"#bd3786\"],[0.5555555555555556,\"#d8576b\"],[0.6666666666666666,\"#ed7953\"],[0.7777777777777778,\"#fb9f3a\"],[0.8888888888888888,\"#fdca26\"],[1.0,\"#f0f921\"]]}],\"mesh3d\":[{\"type\":\"mesh3d\",\"colorbar\":{\"outlinewidth\":0,\"ticks\":\"\"}}],\"scatter\":[{\"fillpattern\":{\"fillmode\":\"overlay\",\"size\":10,\"solidity\":0.2},\"type\":\"scatter\"}],\"parcoords\":[{\"type\":\"parcoords\",\"line\":{\"colorbar\":{\"outlinewidth\":0,\"ticks\":\"\"}}}],\"scatterpolargl\":[{\"type\":\"scatterpolargl\",\"marker\":{\"colorbar\":{\"outlinewidth\":0,\"ticks\":\"\"}}}],\"bar\":[{\"error_x\":{\"color\":\"#2a3f5f\"},\"error_y\":{\"color\":\"#2a3f5f\"},\"marker\":{\"line\":{\"color\":\"#E5ECF6\",\"width\":0.5},\"pattern\":{\"fillmode\":\"overlay\",\"size\":10,\"solidity\":0.2}},\"type\":\"bar\"}],\"scattergeo\":[{\"type\":\"scattergeo\",\"marker\":{\"colorbar\":{\"outlinewidth\":0,\"ticks\":\"\"}}}],\"scatterpolar\":[{\"type\":\"scatterpolar\",\"marker\":{\"colorbar\":{\"outlinewidth\":0,\"ticks\":\"\"}}}],\"histogram\":[{\"marker\":{\"pattern\":{\"fillmode\":\"overlay\",\"size\":10,\"solidity\":0.2}},\"type\":\"histogram\"}],\"scattergl\":[{\"type\":\"scattergl\",\"marker\":{\"colorbar\":{\"outlinewidth\":0,\"ticks\":\"\"}}}],\"scatter3d\":[{\"type\":\"scatter3d\",\"line\":{\"colorbar\":{\"outlinewidth\":0,\"ticks\":\"\"}},\"marker\":{\"colorbar\":{\"outlinewidth\":0,\"ticks\":\"\"}}}],\"scattermapbox\":[{\"type\":\"scattermapbox\",\"marker\":{\"colorbar\":{\"outlinewidth\":0,\"ticks\":\"\"}}}],\"scatterternary\":[{\"type\":\"scatterternary\",\"marker\":{\"colorbar\":{\"outlinewidth\":0,\"ticks\":\"\"}}}],\"scattercarpet\":[{\"type\":\"scattercarpet\",\"marker\":{\"colorbar\":{\"outlinewidth\":0,\"ticks\":\"\"}}}],\"carpet\":[{\"aaxis\":{\"endlinecolor\":\"#2a3f5f\",\"gridcolor\":\"white\",\"linecolor\":\"white\",\"minorgridcolor\":\"white\",\"startlinecolor\":\"#2a3f5f\"},\"baxis\":{\"endlinecolor\":\"#2a3f5f\",\"gridcolor\":\"white\",\"linecolor\":\"white\",\"minorgridcolor\":\"white\",\"startlinecolor\":\"#2a3f5f\"},\"type\":\"carpet\"}],\"table\":[{\"cells\":{\"fill\":{\"color\":\"#EBF0F8\"},\"line\":{\"color\":\"white\"}},\"header\":{\"fill\":{\"color\":\"#C8D4E3\"},\"line\":{\"color\":\"white\"}},\"type\":\"table\"}],\"barpolar\":[{\"marker\":{\"line\":{\"color\":\"#E5ECF6\",\"width\":0.5},\"pattern\":{\"fillmode\":\"overlay\",\"size\":10,\"solidity\":0.2}},\"type\":\"barpolar\"}],\"pie\":[{\"automargin\":true,\"type\":\"pie\"}]},\"layout\":{\"autotypenumbers\":\"strict\",\"colorway\":[\"#636efa\",\"#EF553B\",\"#00cc96\",\"#ab63fa\",\"#FFA15A\",\"#19d3f3\",\"#FF6692\",\"#B6E880\",\"#FF97FF\",\"#FECB52\"],\"font\":{\"color\":\"#2a3f5f\"},\"hovermode\":\"closest\",\"hoverlabel\":{\"align\":\"left\"},\"paper_bgcolor\":\"white\",\"plot_bgcolor\":\"#E5ECF6\",\"polar\":{\"bgcolor\":\"#E5ECF6\",\"angularaxis\":{\"gridcolor\":\"white\",\"linecolor\":\"white\",\"ticks\":\"\"},\"radialaxis\":{\"gridcolor\":\"white\",\"linecolor\":\"white\",\"ticks\":\"\"}},\"ternary\":{\"bgcolor\":\"#E5ECF6\",\"aaxis\":{\"gridcolor\":\"white\",\"linecolor\":\"white\",\"ticks\":\"\"},\"baxis\":{\"gridcolor\":\"white\",\"linecolor\":\"white\",\"ticks\":\"\"},\"caxis\":{\"gridcolor\":\"white\",\"linecolor\":\"white\",\"ticks\":\"\"}},\"coloraxis\":{\"colorbar\":{\"outlinewidth\":0,\"ticks\":\"\"}},\"colorscale\":{\"sequential\":[[0.0,\"#0d0887\"],[0.1111111111111111,\"#46039f\"],[0.2222222222222222,\"#7201a8\"],[0.3333333333333333,\"#9c179e\"],[0.4444444444444444,\"#bd3786\"],[0.5555555555555556,\"#d8576b\"],[0.6666666666666666,\"#ed7953\"],[0.7777777777777778,\"#fb9f3a\"],[0.8888888888888888,\"#fdca26\"],[1.0,\"#f0f921\"]],\"sequentialminus\":[[0.0,\"#0d0887\"],[0.1111111111111111,\"#46039f\"],[0.2222222222222222,\"#7201a8\"],[0.3333333333333333,\"#9c179e\"],[0.4444444444444444,\"#bd3786\"],[0.5555555555555556,\"#d8576b\"],[0.6666666666666666,\"#ed7953\"],[0.7777777777777778,\"#fb9f3a\"],[0.8888888888888888,\"#fdca26\"],[1.0,\"#f0f921\"]],\"diverging\":[[0,\"#8e0152\"],[0.1,\"#c51b7d\"],[0.2,\"#de77ae\"],[0.3,\"#f1b6da\"],[0.4,\"#fde0ef\"],[0.5,\"#f7f7f7\"],[0.6,\"#e6f5d0\"],[0.7,\"#b8e186\"],[0.8,\"#7fbc41\"],[0.9,\"#4d9221\"],[1,\"#276419\"]]},\"xaxis\":{\"gridcolor\":\"white\",\"linecolor\":\"white\",\"ticks\":\"\",\"title\":{\"standoff\":15},\"zerolinecolor\":\"white\",\"automargin\":true,\"zerolinewidth\":2},\"yaxis\":{\"gridcolor\":\"white\",\"linecolor\":\"white\",\"ticks\":\"\",\"title\":{\"standoff\":15},\"zerolinecolor\":\"white\",\"automargin\":true,\"zerolinewidth\":2},\"scene\":{\"xaxis\":{\"backgroundcolor\":\"#E5ECF6\",\"gridcolor\":\"white\",\"linecolor\":\"white\",\"showbackground\":true,\"ticks\":\"\",\"zerolinecolor\":\"white\",\"gridwidth\":2},\"yaxis\":{\"backgroundcolor\":\"#E5ECF6\",\"gridcolor\":\"white\",\"linecolor\":\"white\",\"showbackground\":true,\"ticks\":\"\",\"zerolinecolor\":\"white\",\"gridwidth\":2},\"zaxis\":{\"backgroundcolor\":\"#E5ECF6\",\"gridcolor\":\"white\",\"linecolor\":\"white\",\"showbackground\":true,\"ticks\":\"\",\"zerolinecolor\":\"white\",\"gridwidth\":2}},\"shapedefaults\":{\"line\":{\"color\":\"#2a3f5f\"}},\"annotationdefaults\":{\"arrowcolor\":\"#2a3f5f\",\"arrowhead\":0,\"arrowwidth\":1},\"geo\":{\"bgcolor\":\"white\",\"landcolor\":\"#E5ECF6\",\"subunitcolor\":\"white\",\"showland\":true,\"showlakes\":true,\"lakecolor\":\"white\"},\"title\":{\"x\":0.05},\"mapbox\":{\"style\":\"light\"}}},\"polar\":{\"domain\":{\"x\":[0.0,1.0],\"y\":[0.0,1.0]},\"angularaxis\":{\"direction\":\"clockwise\",\"rotation\":90}},\"legend\":{\"title\":{\"text\":\"Model Year\"},\"tracegroupgap\":0},\"title\":{\"text\":\"plot of car Real-World CO2 (g/mi) over the years\"}},                        {\"responsive\": true}                    ).then(function(){\n",
       "                            \n",
       "var gd = document.getElementById('455ae7f5-6dcc-4a1f-a61c-3f75ec0cb7f6');\n",
       "var x = new MutationObserver(function (mutations, observer) {{\n",
       "        var display = window.getComputedStyle(gd).display;\n",
       "        if (!display || display === 'none') {{\n",
       "            console.log([gd, 'removed!']);\n",
       "            Plotly.purge(gd);\n",
       "            observer.disconnect();\n",
       "        }}\n",
       "}});\n",
       "\n",
       "// Listen for the removal of the full notebook cells\n",
       "var notebookContainer = gd.closest('#notebook-container');\n",
       "if (notebookContainer) {{\n",
       "    x.observe(notebookContainer, {childList: true});\n",
       "}}\n",
       "\n",
       "// Listen for the clearing of the current output cell\n",
       "var outputEl = gd.closest('.output');\n",
       "if (outputEl) {{\n",
       "    x.observe(outputEl, {childList: true});\n",
       "}}\n",
       "\n",
       "                        })                };                });            </script>        </div>"
      ]
     },
     "metadata": {},
     "output_type": "display_data"
    }
   ],
   "source": [
    "fig = px.line_polar(df_sub, r='Real-World CO2 (g/mi)', theta='Vehicle Type', color='Model Year', line_close=True,\n",
    "                   title=\"plot of car Real-World CO2 (g/mi) over the years\",\n",
    "                   category_orders={'Model Year':[1992,2002,2012,2022]})\n",
    "fig.show()"
   ]
  }
 ],
 "metadata": {
  "kernelspec": {
   "display_name": "Python 3 (ipykernel)",
   "language": "python",
   "name": "python3"
  },
  "language_info": {
   "codemirror_mode": {
    "name": "ipython",
    "version": 3
   },
   "file_extension": ".py",
   "mimetype": "text/x-python",
   "name": "python",
   "nbconvert_exporter": "python",
   "pygments_lexer": "ipython3",
   "version": "3.9.12"
  }
 },
 "nbformat": 4,
 "nbformat_minor": 5
}
