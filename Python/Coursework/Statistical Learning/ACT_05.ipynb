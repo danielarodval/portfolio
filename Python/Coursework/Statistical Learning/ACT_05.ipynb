{
 "cells": [
  {
   "cell_type": "markdown",
   "id": "2c12ff82",
   "metadata": {},
   "source": [
    "# ACT 05"
   ]
  },
  {
   "cell_type": "markdown",
   "id": "705f706e",
   "metadata": {},
   "source": [
    "## Problem 1 (20 Points) Bagging for decision trees\n",
    "Problem 1 (20 Points) Bagging for decision trees\n",
    "DO K = 1 to 20;"
   ]
  },
  {
   "cell_type": "markdown",
   "id": "ba16342d",
   "metadata": {},
   "source": [
    "### STEP 01: Randomly select a sample of size 1,460 with replacement."
   ]
  },
  {
   "cell_type": "markdown",
   "id": "83c03249",
   "metadata": {},
   "source": [
    "### STEP 02: Build a decision trees model to predict the “HousePrice” "
   ]
  },
  {
   "cell_type": "markdown",
   "id": "9c3178c3",
   "metadata": {},
   "source": [
    "### "
   ]
  },
  {
   "cell_type": "markdown",
   "id": "83163dd5",
   "metadata": {},
   "source": [
    "### STEP 01: Randomly select a sample of size 1,460 with replacement."
   ]
  },
  {
   "cell_type": "markdown",
   "id": "7dc13c56",
   "metadata": {},
   "source": [
    "### STEP 01: Randomly select a sample of size 1,460 with replacement."
   ]
  },
  {
   "cell_type": "markdown",
   "id": "284f5e5b",
   "metadata": {},
   "source": [
    "### STEP 01: Randomly select a sample of size 1,460 with replacement."
   ]
  },
  {
   "cell_type": "markdown",
   "id": "39643f3f",
   "metadata": {},
   "source": [
    "### STEP 01: Randomly select a sample of size 1,460 with replacement."
   ]
  }
 ],
 "metadata": {
  "kernelspec": {
   "display_name": "Python 3 (ipykernel)",
   "language": "python",
   "name": "python3"
  },
  "language_info": {
   "codemirror_mode": {
    "name": "ipython",
    "version": 3
   },
   "file_extension": ".py",
   "mimetype": "text/x-python",
   "name": "python",
   "nbconvert_exporter": "python",
   "pygments_lexer": "ipython3",
   "version": "3.9.12"
  }
 },
 "nbformat": 4,
 "nbformat_minor": 5
}
