{
 "cells": [
  {
   "cell_type": "markdown",
   "metadata": {
    "id": "DtW1hBS7xYyO"
   },
   "source": [
    "<h1 style=\"font-size:3rem;color:orange;\">ISC 4241 - Activity 1, Part 1</h1>"
   ]
  },
  {
   "cell_type": "markdown",
   "metadata": {
    "id": "erLNTRB9xaQE"
   },
   "source": [
    "# Problem 1.1"
   ]
  },
  {
   "cell_type": "code",
   "execution_count": 5,
   "metadata": {
    "id": "ijxpP4WArO5l"
   },
   "outputs": [],
   "source": [
    "import pandas as pd\n",
    "import matplotlib.pyplot as plt\n",
    "import seaborn as sns\n",
    "import statistics\n"
   ]
  },
  {
   "cell_type": "code",
   "execution_count": 6,
   "metadata": {
    "id": "laaILkVCr6C_"
   },
   "outputs": [],
   "source": [
    "covid = pd.read_csv('COVID_08312020.csv')"
   ]
  },
  {
   "cell_type": "code",
   "execution_count": 7,
   "metadata": {
    "colab": {
     "base_uri": "https://localhost:8080/",
     "height": 363
    },
    "id": "jKbKQRLFsAoZ",
    "outputId": "23d70566-6f07-4893-a795-4b6411d29b86"
   },
   "outputs": [
    {
     "data": {
      "text/html": [
       "\n",
       "  <div id=\"df-49d826ab-3e62-49f8-91db-783a758b9c6e\">\n",
       "    <div class=\"colab-df-container\">\n",
       "      <div>\n",
       "<style scoped>\n",
       "    .dataframe tbody tr th:only-of-type {\n",
       "        vertical-align: middle;\n",
       "    }\n",
       "\n",
       "    .dataframe tbody tr th {\n",
       "        vertical-align: top;\n",
       "    }\n",
       "\n",
       "    .dataframe thead th {\n",
       "        text-align: right;\n",
       "    }\n",
       "</style>\n",
       "<table border=\"1\" class=\"dataframe\">\n",
       "  <thead>\n",
       "    <tr style=\"text-align: right;\">\n",
       "      <th></th>\n",
       "      <th>Country</th>\n",
       "      <th>Total Cases</th>\n",
       "      <th>Total Deaths</th>\n",
       "      <th>TOTCases_1M</th>\n",
       "      <th>TOTDeath_!M</th>\n",
       "      <th>TotalTested</th>\n",
       "    </tr>\n",
       "  </thead>\n",
       "  <tbody>\n",
       "    <tr>\n",
       "      <th>0</th>\n",
       "      <td>Afghanistan</td>\n",
       "      <td>38162</td>\n",
       "      <td>1402</td>\n",
       "      <td>977</td>\n",
       "      <td>36</td>\n",
       "      <td>102598</td>\n",
       "    </tr>\n",
       "    <tr>\n",
       "      <th>1</th>\n",
       "      <td>Albania</td>\n",
       "      <td>9380</td>\n",
       "      <td>280</td>\n",
       "      <td>3260</td>\n",
       "      <td>97</td>\n",
       "      <td>57618</td>\n",
       "    </tr>\n",
       "    <tr>\n",
       "      <th>2</th>\n",
       "      <td>Angola</td>\n",
       "      <td>2624</td>\n",
       "      <td>107</td>\n",
       "      <td>79</td>\n",
       "      <td>3</td>\n",
       "      <td>64747</td>\n",
       "    </tr>\n",
       "    <tr>\n",
       "      <th>3</th>\n",
       "      <td>Argentina</td>\n",
       "      <td>408426</td>\n",
       "      <td>8457</td>\n",
       "      <td>9023</td>\n",
       "      <td>187</td>\n",
       "      <td>1242269</td>\n",
       "    </tr>\n",
       "    <tr>\n",
       "      <th>4</th>\n",
       "      <td>Armenia</td>\n",
       "      <td>43750</td>\n",
       "      <td>877</td>\n",
       "      <td>14760</td>\n",
       "      <td>296</td>\n",
       "      <td>205450</td>\n",
       "    </tr>\n",
       "    <tr>\n",
       "      <th>5</th>\n",
       "      <td>Australia</td>\n",
       "      <td>25670</td>\n",
       "      <td>611</td>\n",
       "      <td>1005</td>\n",
       "      <td>24</td>\n",
       "      <td>6167592</td>\n",
       "    </tr>\n",
       "    <tr>\n",
       "      <th>6</th>\n",
       "      <td>Austria</td>\n",
       "      <td>27166</td>\n",
       "      <td>733</td>\n",
       "      <td>3013</td>\n",
       "      <td>81</td>\n",
       "      <td>1172092</td>\n",
       "    </tr>\n",
       "    <tr>\n",
       "      <th>7</th>\n",
       "      <td>Azerbaijan</td>\n",
       "      <td>36309</td>\n",
       "      <td>531</td>\n",
       "      <td>3576</td>\n",
       "      <td>52</td>\n",
       "      <td>917027</td>\n",
       "    </tr>\n",
       "    <tr>\n",
       "      <th>8</th>\n",
       "      <td>Bahrain</td>\n",
       "      <td>51574</td>\n",
       "      <td>189</td>\n",
       "      <td>30150</td>\n",
       "      <td>110</td>\n",
       "      <td>1100729</td>\n",
       "    </tr>\n",
       "    <tr>\n",
       "      <th>9</th>\n",
       "      <td>Bangladesh</td>\n",
       "      <td>310822</td>\n",
       "      <td>4248</td>\n",
       "      <td>1884</td>\n",
       "      <td>26</td>\n",
       "      <td>1537749</td>\n",
       "    </tr>\n",
       "  </tbody>\n",
       "</table>\n",
       "</div>\n",
       "      <button class=\"colab-df-convert\" onclick=\"convertToInteractive('df-49d826ab-3e62-49f8-91db-783a758b9c6e')\"\n",
       "              title=\"Convert this dataframe to an interactive table.\"\n",
       "              style=\"display:none;\">\n",
       "        \n",
       "  <svg xmlns=\"http://www.w3.org/2000/svg\" height=\"24px\"viewBox=\"0 0 24 24\"\n",
       "       width=\"24px\">\n",
       "    <path d=\"M0 0h24v24H0V0z\" fill=\"none\"/>\n",
       "    <path d=\"M18.56 5.44l.94 2.06.94-2.06 2.06-.94-2.06-.94-.94-2.06-.94 2.06-2.06.94zm-11 1L8.5 8.5l.94-2.06 2.06-.94-2.06-.94L8.5 2.5l-.94 2.06-2.06.94zm10 10l.94 2.06.94-2.06 2.06-.94-2.06-.94-.94-2.06-.94 2.06-2.06.94z\"/><path d=\"M17.41 7.96l-1.37-1.37c-.4-.4-.92-.59-1.43-.59-.52 0-1.04.2-1.43.59L10.3 9.45l-7.72 7.72c-.78.78-.78 2.05 0 2.83L4 21.41c.39.39.9.59 1.41.59.51 0 1.02-.2 1.41-.59l7.78-7.78 2.81-2.81c.8-.78.8-2.07 0-2.86zM5.41 20L4 18.59l7.72-7.72 1.47 1.35L5.41 20z\"/>\n",
       "  </svg>\n",
       "      </button>\n",
       "      \n",
       "  <style>\n",
       "    .colab-df-container {\n",
       "      display:flex;\n",
       "      flex-wrap:wrap;\n",
       "      gap: 12px;\n",
       "    }\n",
       "\n",
       "    .colab-df-convert {\n",
       "      background-color: #E8F0FE;\n",
       "      border: none;\n",
       "      border-radius: 50%;\n",
       "      cursor: pointer;\n",
       "      display: none;\n",
       "      fill: #1967D2;\n",
       "      height: 32px;\n",
       "      padding: 0 0 0 0;\n",
       "      width: 32px;\n",
       "    }\n",
       "\n",
       "    .colab-df-convert:hover {\n",
       "      background-color: #E2EBFA;\n",
       "      box-shadow: 0px 1px 2px rgba(60, 64, 67, 0.3), 0px 1px 3px 1px rgba(60, 64, 67, 0.15);\n",
       "      fill: #174EA6;\n",
       "    }\n",
       "\n",
       "    [theme=dark] .colab-df-convert {\n",
       "      background-color: #3B4455;\n",
       "      fill: #D2E3FC;\n",
       "    }\n",
       "\n",
       "    [theme=dark] .colab-df-convert:hover {\n",
       "      background-color: #434B5C;\n",
       "      box-shadow: 0px 1px 3px 1px rgba(0, 0, 0, 0.15);\n",
       "      filter: drop-shadow(0px 1px 2px rgba(0, 0, 0, 0.3));\n",
       "      fill: #FFFFFF;\n",
       "    }\n",
       "  </style>\n",
       "\n",
       "      <script>\n",
       "        const buttonEl =\n",
       "          document.querySelector('#df-49d826ab-3e62-49f8-91db-783a758b9c6e button.colab-df-convert');\n",
       "        buttonEl.style.display =\n",
       "          google.colab.kernel.accessAllowed ? 'block' : 'none';\n",
       "\n",
       "        async function convertToInteractive(key) {\n",
       "          const element = document.querySelector('#df-49d826ab-3e62-49f8-91db-783a758b9c6e');\n",
       "          const dataTable =\n",
       "            await google.colab.kernel.invokeFunction('convertToInteractive',\n",
       "                                                     [key], {});\n",
       "          if (!dataTable) return;\n",
       "\n",
       "          const docLinkHtml = 'Like what you see? Visit the ' +\n",
       "            '<a target=\"_blank\" href=https://colab.research.google.com/notebooks/data_table.ipynb>data table notebook</a>'\n",
       "            + ' to learn more about interactive tables.';\n",
       "          element.innerHTML = '';\n",
       "          dataTable['output_type'] = 'display_data';\n",
       "          await google.colab.output.renderOutput(dataTable, element);\n",
       "          const docLink = document.createElement('div');\n",
       "          docLink.innerHTML = docLinkHtml;\n",
       "          element.appendChild(docLink);\n",
       "        }\n",
       "      </script>\n",
       "    </div>\n",
       "  </div>\n",
       "  "
      ],
      "text/plain": [
       "       Country  Total Cases  Total Deaths  TOTCases_1M  TOTDeath_!M  \\\n",
       "0  Afghanistan        38162          1402          977           36   \n",
       "1      Albania         9380           280         3260           97   \n",
       "2       Angola         2624           107           79            3   \n",
       "3    Argentina       408426          8457         9023          187   \n",
       "4      Armenia        43750           877        14760          296   \n",
       "5    Australia        25670           611         1005           24   \n",
       "6      Austria        27166           733         3013           81   \n",
       "7   Azerbaijan        36309           531         3576           52   \n",
       "8      Bahrain        51574           189        30150          110   \n",
       "9   Bangladesh       310822          4248         1884           26   \n",
       "\n",
       "   TotalTested  \n",
       "0       102598  \n",
       "1        57618  \n",
       "2        64747  \n",
       "3      1242269  \n",
       "4       205450  \n",
       "5      6167592  \n",
       "6      1172092  \n",
       "7       917027  \n",
       "8      1100729  \n",
       "9      1537749  "
      ]
     },
     "execution_count": 7,
     "metadata": {},
     "output_type": "execute_result"
    }
   ],
   "source": [
    "covid.head(10)"
   ]
  },
  {
   "cell_type": "markdown",
   "metadata": {
    "id": "0Cjp_IExxh2o"
   },
   "source": [
    "# Problem 1.2"
   ]
  },
  {
   "cell_type": "code",
   "execution_count": 8,
   "metadata": {
    "colab": {
     "base_uri": "https://localhost:8080/",
     "height": 647
    },
    "id": "Wwqf8LCasC-w",
    "outputId": "734ac678-3417-4f3c-d9c0-1e5e448c812c"
   },
   "outputs": [
    {
     "data": {
      "image/png": "[encoded data removed]",
      "text/plain": [
       "<Figure size 432x288 with 1 Axes>"
      ]
     },
     "metadata": {
      "needs_background": "light"
     },
     "output_type": "display_data"
    },
    {
     "data": {
      "text/plain": [
       "<seaborn.axisgrid.FacetGrid at 0x7f60eb8de410>"
      ]
     },
     "execution_count": 8,
     "metadata": {},
     "output_type": "execute_result"
    },
    {
     "data": {
      "image/png": "[encoded data removed]",
      "text/plain": [
       "<Figure size 360x360 with 1 Axes>"
      ]
     },
     "metadata": {
      "needs_background": "light"
     },
     "output_type": "display_data"
    }
   ],
   "source": [
    "plt.scatter(covid['Total Cases'], covid['Total Deaths'])\n",
    "plt.show()\n",
    "sns.lmplot(x='Total Cases', y='Total Deaths', data=covid)"
   ]
  },
  {
   "cell_type": "markdown",
   "metadata": {
    "id": "81y0fKRax_Fg"
   },
   "source": [
    "# Problem 1.3"
   ]
  },
  {
   "cell_type": "code",
   "execution_count": 9,
   "metadata": {
    "colab": {
     "base_uri": "https://localhost:8080/",
     "height": 634
    },
    "id": "AGhOoj96-074",
    "outputId": "140907c4-c883-4c50-9afc-23515d1fb30a"
   },
   "outputs": [
    {
     "data": {
      "image/png": "[encoded data removed]",
      "text/plain": [
       "<Figure size 432x288 with 1 Axes>"
      ]
     },
     "metadata": {
      "needs_background": "light"
     },
     "output_type": "display_data"
    },
    {
     "data": {
      "text/plain": [
       "<seaborn.axisgrid.FacetGrid at 0x7f60eb86add0>"
      ]
     },
     "execution_count": 9,
     "metadata": {},
     "output_type": "execute_result"
    },
    {
     "data": {
      "image/png": "[encoded data removed]",
      "text/plain": [
       "<Figure size 360x360 with 1 Axes>"
      ]
     },
     "metadata": {
      "needs_background": "light"
     },
     "output_type": "display_data"
    }
   ],
   "source": [
    "plt.scatter(covid['TOTCases_1M'], covid['TOTDeath_!M'])\n",
    "plt.show()\n",
    "sns.lmplot(x='TOTCases_1M', y='TOTDeath_!M', data=covid)"
   ]
  },
  {
   "cell_type": "markdown",
   "metadata": {
    "id": "hzwA_ChsyFcS"
   },
   "source": [
    "# Problem 1.4"
   ]
  },
  {
   "cell_type": "code",
   "execution_count": 37,
   "metadata": {
    "id": "n-p35AWfCmWl"
   },
   "outputs": [],
   "source": [
    "from numpy import minimum\n",
    "mean = [covid['Total Cases'].mean(), covid['Total Deaths'].mean(), covid['TOTCases_1M'].mean(), covid['TOTDeath_!M'].mean(), covid['TotalTested'].mean()]\n",
    "mean = [round(item,3) for item in mean]\n",
    "\n",
    "median = [covid['Total Cases'].median(), covid['Total Deaths'].median(), covid['TOTCases_1M'].median(), covid['TOTDeath_!M'].median(), covid['TotalTested'].median()]\n",
    "min1 = [covid['Total Cases'].min() , covid['Total Deaths'].min(), covid['TOTCases_1M'].min(), covid['TOTDeath_!M'].min(), covid['TotalTested'].min()]\n",
    "max1 = [max(covid['Total Cases']) , max(covid['Total Deaths']), max(covid['TOTCases_1M']), max(covid['TOTDeath_!M']), max(covid['TotalTested'])]\n",
    "\n",
    "std = [statistics.stdev(covid['Total Cases']), statistics.stdev(covid['Total Deaths']), statistics.stdev(covid['TOTCases_1M']), statistics.stdev(covid['TOTDeath_!M']), statistics.stdev(covid['TotalTested'])]\n",
    "std = [round(item,3) for item in std]\n",
    "\n",
    "var = [statistics.variance(covid['Total Cases']), statistics.variance(covid['Total Deaths']), statistics.variance(covid['TOTCases_1M']), statistics.variance(covid['TOTDeath_!M']), statistics.variance(covid['TotalTested'])]\n",
    "var = [round(item,3) for item in var]\n",
    "\n",
    "skew = [covid['Total Cases'].skew(skipna=True), covid['Total Deaths'].skew(skipna=True), covid['TOTCases_1M'].skew(skipna=True), covid['TOTDeath_!M'].skew(skipna=True), covid['TotalTested'].skew(skipna=True)]\n",
    "skew = [round(item,3) for item in skew]"
   ]
  },
  {
   "cell_type": "code",
   "execution_count": 38,
   "metadata": {
    "colab": {
     "base_uri": "https://localhost:8080/",
     "height": 206
    },
    "id": "6QJ3WKCjrRgy",
    "outputId": "acbd3015-45a2-40dc-9ad5-d81caf25866c"
   },
   "outputs": [
    {
     "data": {
      "text/html": [
       "\n",
       "  <div id=\"df-5e08a34b-8746-4286-8a85-462dc009d7a9\">\n",
       "    <div class=\"colab-df-container\">\n",
       "      <div>\n",
       "<style scoped>\n",
       "    .dataframe tbody tr th:only-of-type {\n",
       "        vertical-align: middle;\n",
       "    }\n",
       "\n",
       "    .dataframe tbody tr th {\n",
       "        vertical-align: top;\n",
       "    }\n",
       "\n",
       "    .dataframe thead th {\n",
       "        text-align: right;\n",
       "    }\n",
       "</style>\n",
       "<table border=\"1\" class=\"dataframe\">\n",
       "  <thead>\n",
       "    <tr style=\"text-align: right;\">\n",
       "      <th></th>\n",
       "      <th>mean</th>\n",
       "      <th>median</th>\n",
       "      <th>minimum</th>\n",
       "      <th>maximum</th>\n",
       "      <th>variance</th>\n",
       "      <th>standard deviation</th>\n",
       "      <th>skewness</th>\n",
       "    </tr>\n",
       "  </thead>\n",
       "  <tbody>\n",
       "    <tr>\n",
       "      <th>Total Cases</th>\n",
       "      <td>181486.137</td>\n",
       "      <td>24367.0</td>\n",
       "      <td>355</td>\n",
       "      <td>6173236</td>\n",
       "      <td>4.767454e+11</td>\n",
       "      <td>6.904675e+05</td>\n",
       "      <td>6.836</td>\n",
       "    </tr>\n",
       "    <tr>\n",
       "      <th>Total Deaths</th>\n",
       "      <td>6091.115</td>\n",
       "      <td>411.0</td>\n",
       "      <td>1</td>\n",
       "      <td>187224</td>\n",
       "      <td>4.393447e+08</td>\n",
       "      <td>2.096055e+04</td>\n",
       "      <td>6.343</td>\n",
       "    </tr>\n",
       "    <tr>\n",
       "      <th>TOTCases_1M</th>\n",
       "      <td>4177.388</td>\n",
       "      <td>1789.0</td>\n",
       "      <td>11</td>\n",
       "      <td>42230</td>\n",
       "      <td>3.814673e+07</td>\n",
       "      <td>6.176304e+03</td>\n",
       "      <td>3.066</td>\n",
       "    </tr>\n",
       "    <tr>\n",
       "      <th>TOTDeath_!M</th>\n",
       "      <td>115.187</td>\n",
       "      <td>34.0</td>\n",
       "      <td>0</td>\n",
       "      <td>871</td>\n",
       "      <td>3.215569e+04</td>\n",
       "      <td>1.793200e+02</td>\n",
       "      <td>2.229</td>\n",
       "    </tr>\n",
       "    <tr>\n",
       "      <th>TotalTested</th>\n",
       "      <td>3141261.633</td>\n",
       "      <td>404944.0</td>\n",
       "      <td>120</td>\n",
       "      <td>90410000</td>\n",
       "      <td>1.280726e+14</td>\n",
       "      <td>1.131691e+07</td>\n",
       "      <td>6.328</td>\n",
       "    </tr>\n",
       "  </tbody>\n",
       "</table>\n",
       "</div>\n",
       "      <button class=\"colab-df-convert\" onclick=\"convertToInteractive('df-5e08a34b-8746-4286-8a85-462dc009d7a9')\"\n",
       "              title=\"Convert this dataframe to an interactive table.\"\n",
       "              style=\"display:none;\">\n",
       "        \n",
       "  <svg xmlns=\"http://www.w3.org/2000/svg\" height=\"24px\"viewBox=\"0 0 24 24\"\n",
       "       width=\"24px\">\n",
       "    <path d=\"M0 0h24v24H0V0z\" fill=\"none\"/>\n",
       "    <path d=\"M18.56 5.44l.94 2.06.94-2.06 2.06-.94-2.06-.94-.94-2.06-.94 2.06-2.06.94zm-11 1L8.5 8.5l.94-2.06 2.06-.94-2.06-.94L8.5 2.5l-.94 2.06-2.06.94zm10 10l.94 2.06.94-2.06 2.06-.94-2.06-.94-.94-2.06-.94 2.06-2.06.94z\"/><path d=\"M17.41 7.96l-1.37-1.37c-.4-.4-.92-.59-1.43-.59-.52 0-1.04.2-1.43.59L10.3 9.45l-7.72 7.72c-.78.78-.78 2.05 0 2.83L4 21.41c.39.39.9.59 1.41.59.51 0 1.02-.2 1.41-.59l7.78-7.78 2.81-2.81c.8-.78.8-2.07 0-2.86zM5.41 20L4 18.59l7.72-7.72 1.47 1.35L5.41 20z\"/>\n",
       "  </svg>\n",
       "      </button>\n",
       "      \n",
       "  <style>\n",
       "    .colab-df-container {\n",
       "      display:flex;\n",
       "      flex-wrap:wrap;\n",
       "      gap: 12px;\n",
       "    }\n",
       "\n",
       "    .colab-df-convert {\n",
       "      background-color: #E8F0FE;\n",
       "      border: none;\n",
       "      border-radius: 50%;\n",
       "      cursor: pointer;\n",
       "      display: none;\n",
       "      fill: #1967D2;\n",
       "      height: 32px;\n",
       "      padding: 0 0 0 0;\n",
       "      width: 32px;\n",
       "    }\n",
       "\n",
       "    .colab-df-convert:hover {\n",
       "      background-color: #E2EBFA;\n",
       "      box-shadow: 0px 1px 2px rgba(60, 64, 67, 0.3), 0px 1px 3px 1px rgba(60, 64, 67, 0.15);\n",
       "      fill: #174EA6;\n",
       "    }\n",
       "\n",
       "    [theme=dark] .colab-df-convert {\n",
       "      background-color: #3B4455;\n",
       "      fill: #D2E3FC;\n",
       "    }\n",
       "\n",
       "    [theme=dark] .colab-df-convert:hover {\n",
       "      background-color: #434B5C;\n",
       "      box-shadow: 0px 1px 3px 1px rgba(0, 0, 0, 0.15);\n",
       "      filter: drop-shadow(0px 1px 2px rgba(0, 0, 0, 0.3));\n",
       "      fill: #FFFFFF;\n",
       "    }\n",
       "  </style>\n",
       "\n",
       "      <script>\n",
       "        const buttonEl =\n",
       "          document.querySelector('#df-5e08a34b-8746-4286-8a85-462dc009d7a9 button.colab-df-convert');\n",
       "        buttonEl.style.display =\n",
       "          google.colab.kernel.accessAllowed ? 'block' : 'none';\n",
       "\n",
       "        async function convertToInteractive(key) {\n",
       "          const element = document.querySelector('#df-5e08a34b-8746-4286-8a85-462dc009d7a9');\n",
       "          const dataTable =\n",
       "            await google.colab.kernel.invokeFunction('convertToInteractive',\n",
       "                                                     [key], {});\n",
       "          if (!dataTable) return;\n",
       "\n",
       "          const docLinkHtml = 'Like what you see? Visit the ' +\n",
       "            '<a target=\"_blank\" href=https://colab.research.google.com/notebooks/data_table.ipynb>data table notebook</a>'\n",
       "            + ' to learn more about interactive tables.';\n",
       "          element.innerHTML = '';\n",
       "          dataTable['output_type'] = 'display_data';\n",
       "          await google.colab.output.renderOutput(dataTable, element);\n",
       "          const docLink = document.createElement('div');\n",
       "          docLink.innerHTML = docLinkHtml;\n",
       "          element.appendChild(docLink);\n",
       "        }\n",
       "      </script>\n",
       "    </div>\n",
       "  </div>\n",
       "  "
      ],
      "text/plain": [
       "                     mean    median  minimum   maximum      variance  \\\n",
       "Total Cases    181486.137   24367.0      355   6173236  4.767454e+11   \n",
       "Total Deaths     6091.115     411.0        1    187224  4.393447e+08   \n",
       "TOTCases_1M      4177.388    1789.0       11     42230  3.814673e+07   \n",
       "TOTDeath_!M       115.187      34.0        0       871  3.215569e+04   \n",
       "TotalTested   3141261.633  404944.0      120  90410000  1.280726e+14   \n",
       "\n",
       "              standard deviation  skewness  \n",
       "Total Cases         6.904675e+05     6.836  \n",
       "Total Deaths        2.096055e+04     6.343  \n",
       "TOTCases_1M         6.176304e+03     3.066  \n",
       "TOTDeath_!M         1.793200e+02     2.229  \n",
       "TotalTested         1.131691e+07     6.328  "
      ]
     },
     "execution_count": 38,
     "metadata": {},
     "output_type": "execute_result"
    }
   ],
   "source": [
    "data = [mean, median, min1, max1, std, var, skew]\n",
    "data\n",
    "df = pd.DataFrame({\n",
    "            'mean' : mean,\n",
    "             'median': median,\n",
    "              'minimum': min1,\n",
    "              'maximum': max1,\n",
    "              'variance': var,\n",
    "              'standard deviation': std,\n",
    "              'skewness': skew\n",
    "              \n",
    "}, index= ['Total Cases', 'Total Deaths', 'TOTCases_1M', 'TOTDeath_!M', 'TotalTested'])\n",
    "\n",
    "df"
   ]
  },
  {
   "cell_type": "markdown",
   "metadata": {
    "id": "PCMq5SOY1zVe"
   },
   "source": [
    "Note for Output: Variance and Standard Deviation are rounded to 3 decimal places but the whole number is too large to fit in table output."
   ]
  },
  {
   "cell_type": "markdown",
   "metadata": {
    "id": "4Iw0siv3yH1Y"
   },
   "source": [
    "# Problem 1.5"
   ]
  },
  {
   "cell_type": "code",
   "execution_count": 14,
   "metadata": {
    "colab": {
     "base_uri": "https://localhost:8080/"
    },
    "id": "_J1QrVXJyKXg",
    "outputId": "6a3284bf-b3bd-418e-f1eb-d1833348c64e"
   },
   "outputs": [
    {
     "name": "stdout",
     "output_type": "stream",
     "text": [
      "\n",
      "Pearson Correlation Coefficient on Columns\n",
      "              Total Cases  Total Deaths  TOTCases_1M  TOTDeath_!M  TotalTested\n",
      "Total Cases      1.000000      0.940320     0.306869     0.361500     0.659495\n",
      "Total Deaths     0.940320      1.000000     0.310425     0.525759     0.620081\n",
      "TOTCases_1M      0.306869      0.310425     1.000000     0.524348     0.129914\n",
      "TOTDeath_!M      0.361500      0.525759     0.524348     1.000000     0.190367\n",
      "TotalTested      0.659495      0.620081     0.129914     0.190367     1.000000\n",
      "\n",
      "Spearman Correlation Coefficient on Columns\n",
      "              Total Cases  Total Deaths  TOTCases_1M  TOTDeath_!M  TotalTested\n",
      "Total Cases      1.000000      0.919164     0.735747     0.719670     0.736226\n",
      "Total Deaths     0.919164      1.000000     0.643341     0.794517     0.668932\n",
      "TOTCases_1M      0.735747      0.643341     1.000000     0.889098     0.456534\n",
      "TOTDeath_!M      0.719670      0.794517     0.889098     1.000000     0.448563\n",
      "TotalTested      0.736226      0.668932     0.456534     0.448563     1.000000\n"
     ]
    }
   ],
   "source": [
    "print('\\nPearson Correlation Coefficient on Columns')\n",
    "print(covid.iloc[: , 1:].corr(method='pearson'))\n",
    "print('\\nSpearman Correlation Coefficient on Columns')\n",
    "print(covid.iloc[: , 1:].corr(method='spearman'))"
   ]
  }
 ],
 "metadata": {
  "colab": {
   "collapsed_sections": [],
   "provenance": []
  },
  "kernelspec": {
   "display_name": "Python 3 (ipykernel)",
   "language": "python",
   "name": "python3"
  },
  "language_info": {
   "codemirror_mode": {
    "name": "ipython",
    "version": 3
   },
   "file_extension": ".py",
   "mimetype": "text/x-python",
   "name": "python",
   "nbconvert_exporter": "python",
   "pygments_lexer": "ipython3",
   "version": "3.9.12"
  }
 },
 "nbformat": 4,
 "nbformat_minor": 1
}
