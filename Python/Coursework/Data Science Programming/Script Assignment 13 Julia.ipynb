{
 "cells": [
  {
   "cell_type": "markdown",
   "metadata": {},
   "source": [
    "# Assignment 1: Basic Array Operations"
   ]
  },
  {
   "cell_type": "markdown",
   "metadata": {},
   "source": [
    "## Julia Task:\n",
    "  - Create an empty array.\n",
    "  - Add the numbers 1 to 5 to the array.\n",
    "  - Slice the array to get the first three elements."
   ]
  },
  {
   "cell_type": "code",
   "execution_count": 3,
   "metadata": {},
   "outputs": [
    {
     "data": {
      "text/plain": [
       "5-element Vector{Int64}:\n",
       " 1\n",
       " 2\n",
       " 3\n",
       " 4\n",
       " 5"
      ]
     },
     "metadata": {},
     "output_type": "display_data"
    },
    {
     "data": {
      "text/plain": [
       "3-element Vector{Int64}:\n",
       " 1\n",
       " 2\n",
       " 3"
      ]
     },
     "metadata": {},
     "output_type": "display_data"
    }
   ],
   "source": [
    "arr = Int[]\n",
    "append!(arr, 1:5)\n",
    "display(arr)\n",
    "\n",
    "slice = arr[1:3]\n",
    "display(slice)"
   ]
  },
  {
   "cell_type": "markdown",
   "metadata": {},
   "source": [
    "# Assignment 2: Custom Type/Class Definition"
   ]
  },
  {
   "cell_type": "markdown",
   "metadata": {},
   "source": [
    "## Julia Task:\n",
    "  - Define a class 'Person' with attributes 'name' and 'age'.\n",
    "  - Create an instance of 'Person'."
   ]
  },
  {
   "cell_type": "code",
   "execution_count": 5,
   "metadata": {},
   "outputs": [
    {
     "data": {
      "text/plain": [
       "Person(\"Daniel Rodriguez\", 23)"
      ]
     },
     "metadata": {},
     "output_type": "display_data"
    }
   ],
   "source": [
    "struct Person\n",
    "    name::String\n",
    "    age::Int\n",
    "end\n",
    "\n",
    "me = Person(\"Daniel Rodriguez\", 23)\n",
    "display(me)"
   ]
  },
  {
   "cell_type": "markdown",
   "metadata": {},
   "source": [
    "# Assignment 3: File I/O Operations"
   ]
  },
  {
   "cell_type": "markdown",
   "metadata": {},
   "source": [
    "## Julia Task:\n",
    "  - Write \"Hello, World!\" to a text file."
   ]
  },
  {
   "cell_type": "code",
   "execution_count": 6,
   "metadata": {},
   "outputs": [
    {
     "data": {
      "text/plain": [
       "13"
      ]
     },
     "metadata": {},
     "output_type": "display_data"
    }
   ],
   "source": [
    "open(\"hello.txt\", \"w\") do file\n",
    "    write(file, \"Hello, World!\")\n",
    "end"
   ]
  },
  {
   "cell_type": "markdown",
   "metadata": {},
   "source": [
    "# Assignment 4: Fibonacci Sequence with Function"
   ]
  },
  {
   "cell_type": "markdown",
   "metadata": {},
   "source": [
    "## Julia Task:\n",
    "  - Write a function to calculate the nth Fibonacci number.\n",
    "  - Use recursion in the function."
   ]
  },
  {
   "cell_type": "code",
   "execution_count": 7,
   "metadata": {},
   "outputs": [
    {
     "data": {
      "text/plain": [
       "5"
      ]
     },
     "metadata": {},
     "output_type": "display_data"
    }
   ],
   "source": [
    "function fibonacci(n)\n",
    "    if n <= 1\n",
    "        return n\n",
    "    else\n",
    "        return fibonacci(n-1) + fibonacci(n-2)\n",
    "    end\n",
    "end\n",
    "\n",
    "n = 5\n",
    "result = fibonacci(n)\n",
    "display(result)"
   ]
  },
  {
   "cell_type": "markdown",
   "metadata": {},
   "source": [
    "# Assignment 5: Data Visualization"
   ]
  },
  {
   "cell_type": "markdown",
   "metadata": {},
   "source": [
    "## Julia Task:\n",
    "  - Use Plots.jl to plot a similar line graph of the same mathematical function."
   ]
  },
  {
   "cell_type": "code",
   "execution_count": 9,
   "metadata": {},
   "outputs": [
    {
     "data": {
      "image/png": "[encoded data removed]",
      "image/svg+xml": [
       "<?xml version=\"1.0\" encoding=\"utf-8\"?>\n",
       "<svg xmlns=\"http://www.w3.org/2000/svg\" xmlns:xlink=\"http://www.w3.org/1999/xlink\" width=\"600\" height=\"400\" viewBox=\"0 0 2400 1600\">\n",
       "<defs>\n",
       "  <clipPath id=\"clip860\">\n",
       "    <rect x=\"0\" y=\"0\" width=\"2400\" height=\"1600\"/>\n",
       "  </clipPath>\n",
       "</defs>\n",
       "<path clip-path=\"url(#clip860)\" d=\"M0 1600 L2400 1600 L2400 0 L0 0  Z\" fill=\"#ffffff\" fill-rule=\"evenodd\" fill-opacity=\"1\"/>\n",
       "<defs>\n",
       "  <clipPath id=\"clip861\">\n",
       "    <rect x=\"480\" y=\"0\" width=\"1681\" height=\"1600\"/>\n",
       "  </clipPath>\n",
       "</defs>\n",
       "<path clip-path=\"url(#clip860)\" d=\"M141.853 1486.45 L2352.76 1486.45 L2352.76 47.2441 L141.853 47.2441  Z\" fill=\"#ffffff\" fill-rule=\"evenodd\" fill-opacity=\"1\"/>\n",
       "<defs>\n",
       "  <clipPath id=\"clip862\">\n",
       "    <rect x=\"141\" y=\"47\" width=\"2212\" height=\"1440\"/>\n",
       "  </clipPath>\n",
       "</defs>\n",
       "<polyline clip-path=\"url(#clip862)\" style=\"stroke:#000000; stroke-linecap:round; stroke-linejoin:round; stroke-width:2; stroke-opacity:0.1; fill:none\" points=\"204.426,1486.45 204.426,47.2441 \"/>\n",
       "<polyline clip-path=\"url(#clip862)\" style=\"stroke:#000000; stroke-linecap:round; stroke-linejoin:round; stroke-width:2; stroke-opacity:0.1; fill:none\" points=\"667.927,1486.45 667.927,47.2441 \"/>\n",
       "<polyline clip-path=\"url(#clip862)\" style=\"stroke:#000000; stroke-linecap:round; stroke-linejoin:round; stroke-width:2; stroke-opacity:0.1; fill:none\" points=\"1131.43,1486.45 1131.43,47.2441 \"/>\n",
       "<polyline clip-path=\"url(#clip862)\" style=\"stroke:#000000; stroke-linecap:round; stroke-linejoin:round; stroke-width:2; stroke-opacity:0.1; fill:none\" points=\"1594.93,1486.45 1594.93,47.2441 \"/>\n",
       "<polyline clip-path=\"url(#clip862)\" style=\"stroke:#000000; stroke-linecap:round; stroke-linejoin:round; stroke-width:2; stroke-opacity:0.1; fill:none\" points=\"2058.43,1486.45 2058.43,47.2441 \"/>\n",
       "<polyline clip-path=\"url(#clip860)\" style=\"stroke:#000000; stroke-linecap:round; stroke-linejoin:round; stroke-width:4; stroke-opacity:1; fill:none\" points=\"141.853,1486.45 2352.76,1486.45 \"/>\n",
       "<polyline clip-path=\"url(#clip860)\" style=\"stroke:#000000; stroke-linecap:round; stroke-linejoin:round; stroke-width:4; stroke-opacity:1; fill:none\" points=\"204.426,1486.45 204.426,1467.55 \"/>\n",
       "<polyline clip-path=\"url(#clip860)\" style=\"stroke:#000000; stroke-linecap:round; stroke-linejoin:round; stroke-width:4; stroke-opacity:1; fill:none\" points=\"667.927,1486.45 667.927,1467.55 \"/>\n",
       "<polyline clip-path=\"url(#clip860)\" style=\"stroke:#000000; stroke-linecap:round; stroke-linejoin:round; stroke-width:4; stroke-opacity:1; fill:none\" points=\"1131.43,1486.45 1131.43,1467.55 \"/>\n",
       "<polyline clip-path=\"url(#clip860)\" style=\"stroke:#000000; stroke-linecap:round; stroke-linejoin:round; stroke-width:4; stroke-opacity:1; fill:none\" points=\"1594.93,1486.45 1594.93,1467.55 \"/>\n",
       "<polyline clip-path=\"url(#clip860)\" style=\"stroke:#000000; stroke-linecap:round; stroke-linejoin:round; stroke-width:4; stroke-opacity:1; fill:none\" points=\"2058.43,1486.45 2058.43,1467.55 \"/>\n",
       "<path clip-path=\"url(#clip860)\" d=\"M204.426 1517.37 Q200.815 1517.37 198.986 1520.93 Q197.18 1524.47 197.18 1531.6 Q197.18 1538.71 198.986 1542.27 Q200.815 1545.82 204.426 1545.82 Q208.06 1545.82 209.865 1542.27 Q211.694 1538.71 211.694 1531.6 Q211.694 1524.47 209.865 1520.93 Q208.06 1517.37 204.426 1517.37 M204.426 1513.66 Q210.236 1513.66 213.291 1518.27 Q216.37 1522.85 216.37 1531.6 Q216.37 1540.33 213.291 1544.94 Q210.236 1549.52 204.426 1549.52 Q198.616 1549.52 195.537 1544.94 Q192.481 1540.33 192.481 1531.6 Q192.481 1522.85 195.537 1518.27 Q198.616 1513.66 204.426 1513.66 Z\" fill=\"#000000\" fill-rule=\"nonzero\" fill-opacity=\"1\" /><path clip-path=\"url(#clip860)\" d=\"M662.58 1544.91 L678.9 1544.91 L678.9 1548.85 L656.955 1548.85 L656.955 1544.91 Q659.617 1542.16 664.201 1537.53 Q668.807 1532.88 669.988 1531.53 Q672.233 1529.01 673.112 1527.27 Q674.015 1525.51 674.015 1523.82 Q674.015 1521.07 672.071 1519.33 Q670.15 1517.6 667.048 1517.6 Q664.849 1517.6 662.395 1518.36 Q659.964 1519.13 657.187 1520.68 L657.187 1515.95 Q660.011 1514.82 662.464 1514.24 Q664.918 1513.66 666.955 1513.66 Q672.325 1513.66 675.52 1516.35 Q678.714 1519.03 678.714 1523.52 Q678.714 1525.65 677.904 1527.57 Q677.117 1529.47 675.011 1532.07 Q674.432 1532.74 671.33 1535.95 Q668.228 1539.15 662.58 1544.91 Z\" fill=\"#000000\" fill-rule=\"nonzero\" fill-opacity=\"1\" /><path clip-path=\"url(#clip860)\" d=\"M1134.44 1518.36 L1122.63 1536.81 L1134.44 1536.81 L1134.44 1518.36 M1133.21 1514.29 L1139.09 1514.29 L1139.09 1536.81 L1144.02 1536.81 L1144.02 1540.7 L1139.09 1540.7 L1139.09 1548.85 L1134.44 1548.85 L1134.44 1540.7 L1118.84 1540.7 L1118.84 1536.19 L1133.21 1514.29 Z\" fill=\"#000000\" fill-rule=\"nonzero\" fill-opacity=\"1\" /><path clip-path=\"url(#clip860)\" d=\"M1595.34 1529.7 Q1592.19 1529.7 1590.34 1531.86 Q1588.51 1534.01 1588.51 1537.76 Q1588.51 1541.49 1590.34 1543.66 Q1592.19 1545.82 1595.34 1545.82 Q1598.48 1545.82 1600.31 1543.66 Q1602.16 1541.49 1602.16 1537.76 Q1602.16 1534.01 1600.31 1531.86 Q1598.48 1529.7 1595.34 1529.7 M1604.62 1515.05 L1604.62 1519.31 Q1602.86 1518.48 1601.05 1518.04 Q1599.27 1517.6 1597.51 1517.6 Q1592.88 1517.6 1590.43 1520.72 Q1588 1523.85 1587.65 1530.17 Q1589.02 1528.15 1591.08 1527.09 Q1593.14 1526 1595.61 1526 Q1600.82 1526 1603.83 1529.17 Q1606.86 1532.32 1606.86 1537.76 Q1606.86 1543.08 1603.72 1546.3 Q1600.57 1549.52 1595.34 1549.52 Q1589.34 1549.52 1586.17 1544.94 Q1583 1540.33 1583 1531.6 Q1583 1523.41 1586.89 1518.55 Q1590.78 1513.66 1597.33 1513.66 Q1599.09 1513.66 1600.87 1514.01 Q1602.67 1514.36 1604.62 1515.05 Z\" fill=\"#000000\" fill-rule=\"nonzero\" fill-opacity=\"1\" /><path clip-path=\"url(#clip860)\" d=\"M2058.43 1532.44 Q2055.1 1532.44 2053.18 1534.22 Q2051.28 1536 2051.28 1539.13 Q2051.28 1542.25 2053.18 1544.03 Q2055.1 1545.82 2058.43 1545.82 Q2061.77 1545.82 2063.69 1544.03 Q2065.61 1542.23 2065.61 1539.13 Q2065.61 1536 2063.69 1534.22 Q2061.79 1532.44 2058.43 1532.44 M2053.76 1530.45 Q2050.75 1529.7 2049.06 1527.64 Q2047.39 1525.58 2047.39 1522.62 Q2047.39 1518.48 2050.33 1516.07 Q2053.29 1513.66 2058.43 1513.66 Q2063.59 1513.66 2066.53 1516.07 Q2069.47 1518.48 2069.47 1522.62 Q2069.47 1525.58 2067.78 1527.64 Q2066.12 1529.7 2063.13 1530.45 Q2066.51 1531.23 2068.39 1533.52 Q2070.28 1535.82 2070.28 1539.13 Q2070.28 1544.15 2067.21 1546.83 Q2064.15 1549.52 2058.43 1549.52 Q2052.71 1549.52 2049.64 1546.83 Q2046.58 1544.15 2046.58 1539.13 Q2046.58 1535.82 2048.48 1533.52 Q2050.38 1531.23 2053.76 1530.45 M2052.04 1523.06 Q2052.04 1525.75 2053.71 1527.25 Q2055.4 1528.76 2058.43 1528.76 Q2061.44 1528.76 2063.13 1527.25 Q2064.84 1525.75 2064.84 1523.06 Q2064.84 1520.38 2063.13 1518.87 Q2061.44 1517.37 2058.43 1517.37 Q2055.4 1517.37 2053.71 1518.87 Q2052.04 1520.38 2052.04 1523.06 Z\" fill=\"#000000\" fill-rule=\"nonzero\" fill-opacity=\"1\" /><polyline clip-path=\"url(#clip862)\" style=\"stroke:#000000; stroke-linecap:round; stroke-linejoin:round; stroke-width:2; stroke-opacity:0.1; fill:none\" points=\"141.853,1445.72 2352.76,1445.72 \"/>\n",
       "<polyline clip-path=\"url(#clip862)\" style=\"stroke:#000000; stroke-linecap:round; stroke-linejoin:round; stroke-width:2; stroke-opacity:0.1; fill:none\" points=\"141.853,1110.47 2352.76,1110.47 \"/>\n",
       "<polyline clip-path=\"url(#clip862)\" style=\"stroke:#000000; stroke-linecap:round; stroke-linejoin:round; stroke-width:2; stroke-opacity:0.1; fill:none\" points=\"141.853,775.227 2352.76,775.227 \"/>\n",
       "<polyline clip-path=\"url(#clip862)\" style=\"stroke:#000000; stroke-linecap:round; stroke-linejoin:round; stroke-width:2; stroke-opacity:0.1; fill:none\" points=\"141.853,439.983 2352.76,439.983 \"/>\n",
       "<polyline clip-path=\"url(#clip862)\" style=\"stroke:#000000; stroke-linecap:round; stroke-linejoin:round; stroke-width:2; stroke-opacity:0.1; fill:none\" points=\"141.853,104.738 2352.76,104.738 \"/>\n",
       "<polyline clip-path=\"url(#clip860)\" style=\"stroke:#000000; stroke-linecap:round; stroke-linejoin:round; stroke-width:4; stroke-opacity:1; fill:none\" points=\"141.853,1486.45 141.853,47.2441 \"/>\n",
       "<polyline clip-path=\"url(#clip860)\" style=\"stroke:#000000; stroke-linecap:round; stroke-linejoin:round; stroke-width:4; stroke-opacity:1; fill:none\" points=\"141.853,1445.72 160.751,1445.72 \"/>\n",
       "<polyline clip-path=\"url(#clip860)\" style=\"stroke:#000000; stroke-linecap:round; stroke-linejoin:round; stroke-width:4; stroke-opacity:1; fill:none\" points=\"141.853,1110.47 160.751,1110.47 \"/>\n",
       "<polyline clip-path=\"url(#clip860)\" style=\"stroke:#000000; stroke-linecap:round; stroke-linejoin:round; stroke-width:4; stroke-opacity:1; fill:none\" points=\"141.853,775.227 160.751,775.227 \"/>\n",
       "<polyline clip-path=\"url(#clip860)\" style=\"stroke:#000000; stroke-linecap:round; stroke-linejoin:round; stroke-width:4; stroke-opacity:1; fill:none\" points=\"141.853,439.983 160.751,439.983 \"/>\n",
       "<polyline clip-path=\"url(#clip860)\" style=\"stroke:#000000; stroke-linecap:round; stroke-linejoin:round; stroke-width:4; stroke-opacity:1; fill:none\" points=\"141.853,104.738 160.751,104.738 \"/>\n",
       "<path clip-path=\"url(#clip860)\" d=\"M93.9086 1431.51 Q90.2975 1431.51 88.4688 1435.08 Q86.6632 1438.62 86.6632 1445.75 Q86.6632 1452.86 88.4688 1456.42 Q90.2975 1459.96 93.9086 1459.96 Q97.5428 1459.96 99.3483 1456.42 Q101.177 1452.86 101.177 1445.75 Q101.177 1438.62 99.3483 1435.08 Q97.5428 1431.51 93.9086 1431.51 M93.9086 1427.81 Q99.7187 1427.81 102.774 1432.42 Q105.853 1437 105.853 1445.75 Q105.853 1454.48 102.774 1459.08 Q99.7187 1463.67 93.9086 1463.67 Q88.0984 1463.67 85.0197 1459.08 Q81.9642 1454.48 81.9642 1445.75 Q81.9642 1437 85.0197 1432.42 Q88.0984 1427.81 93.9086 1427.81 Z\" fill=\"#000000\" fill-rule=\"nonzero\" fill-opacity=\"1\" /><path clip-path=\"url(#clip860)\" d=\"M57.7745 1123.82 L74.0939 1123.82 L74.0939 1127.75 L52.1495 1127.75 L52.1495 1123.82 Q54.8115 1121.06 59.3949 1116.43 Q64.0013 1111.78 65.1819 1110.44 Q67.4272 1107.91 68.3068 1106.18 Q69.2096 1104.42 69.2096 1102.73 Q69.2096 1099.97 67.2652 1098.24 Q65.3439 1096.5 62.2421 1096.5 Q60.043 1096.5 57.5893 1097.27 Q55.1588 1098.03 52.381 1099.58 L52.381 1094.86 Q55.2051 1093.72 57.6588 1093.15 Q60.1124 1092.57 62.1495 1092.57 Q67.5198 1092.57 70.7142 1095.25 Q73.9087 1097.94 73.9087 1102.43 Q73.9087 1104.56 73.0985 1106.48 Q72.3115 1108.38 70.205 1110.97 Q69.6263 1111.64 66.5245 1114.86 Q63.4226 1118.05 57.7745 1123.82 Z\" fill=\"#000000\" fill-rule=\"nonzero\" fill-opacity=\"1\" /><path clip-path=\"url(#clip860)\" d=\"M93.9086 1096.27 Q90.2975 1096.27 88.4688 1099.83 Q86.6632 1103.38 86.6632 1110.51 Q86.6632 1117.61 88.4688 1121.18 Q90.2975 1124.72 93.9086 1124.72 Q97.5428 1124.72 99.3483 1121.18 Q101.177 1117.61 101.177 1110.51 Q101.177 1103.38 99.3483 1099.83 Q97.5428 1096.27 93.9086 1096.27 M93.9086 1092.57 Q99.7187 1092.57 102.774 1097.17 Q105.853 1101.76 105.853 1110.51 Q105.853 1119.23 102.774 1123.84 Q99.7187 1128.42 93.9086 1128.42 Q88.0984 1128.42 85.0197 1123.84 Q81.9642 1119.23 81.9642 1110.51 Q81.9642 1101.76 85.0197 1097.17 Q88.0984 1092.57 93.9086 1092.57 Z\" fill=\"#000000\" fill-rule=\"nonzero\" fill-opacity=\"1\" /><path clip-path=\"url(#clip860)\" d=\"M66.5939 762.021 L54.7884 780.47 L66.5939 780.47 L66.5939 762.021 M65.367 757.947 L71.2466 757.947 L71.2466 780.47 L76.1772 780.47 L76.1772 784.359 L71.2466 784.359 L71.2466 792.507 L66.5939 792.507 L66.5939 784.359 L50.9921 784.359 L50.9921 779.845 L65.367 757.947 Z\" fill=\"#000000\" fill-rule=\"nonzero\" fill-opacity=\"1\" /><path clip-path=\"url(#clip860)\" d=\"M93.9086 761.026 Q90.2975 761.026 88.4688 764.591 Q86.6632 768.132 86.6632 775.262 Q86.6632 782.368 88.4688 785.933 Q90.2975 789.475 93.9086 789.475 Q97.5428 789.475 99.3483 785.933 Q101.177 782.368 101.177 775.262 Q101.177 768.132 99.3483 764.591 Q97.5428 761.026 93.9086 761.026 M93.9086 757.322 Q99.7187 757.322 102.774 761.929 Q105.853 766.512 105.853 775.262 Q105.853 783.989 102.774 788.595 Q99.7187 793.178 93.9086 793.178 Q88.0984 793.178 85.0197 788.595 Q81.9642 783.989 81.9642 775.262 Q81.9642 766.512 85.0197 761.929 Q88.0984 757.322 93.9086 757.322 Z\" fill=\"#000000\" fill-rule=\"nonzero\" fill-opacity=\"1\" /><path clip-path=\"url(#clip860)\" d=\"M64.3254 438.119 Q61.1773 438.119 59.3254 440.272 Q57.4967 442.425 57.4967 446.175 Q57.4967 449.902 59.3254 452.078 Q61.1773 454.23 64.3254 454.23 Q67.4735 454.23 69.3022 452.078 Q71.1541 449.902 71.1541 446.175 Q71.1541 442.425 69.3022 440.272 Q67.4735 438.119 64.3254 438.119 M73.6077 423.467 L73.6077 427.726 Q71.8485 426.893 70.0429 426.453 Q68.2606 426.013 66.5013 426.013 Q61.8717 426.013 59.418 429.138 Q56.9875 432.263 56.6402 438.582 Q58.006 436.568 60.0662 435.504 Q62.1263 434.416 64.6032 434.416 Q69.8115 434.416 72.8207 437.587 Q75.8531 440.735 75.8531 446.175 Q75.8531 451.499 72.705 454.717 Q69.5568 457.934 64.3254 457.934 Q58.33 457.934 55.1588 453.351 Q51.9875 448.744 51.9875 440.018 Q51.9875 431.823 55.8764 426.962 Q59.7652 422.078 66.3161 422.078 Q68.0754 422.078 69.8578 422.425 Q71.6633 422.772 73.6077 423.467 Z\" fill=\"#000000\" fill-rule=\"nonzero\" fill-opacity=\"1\" /><path clip-path=\"url(#clip860)\" d=\"M93.9086 425.781 Q90.2975 425.781 88.4688 429.346 Q86.6632 432.888 86.6632 440.018 Q86.6632 447.124 88.4688 450.689 Q90.2975 454.23 93.9086 454.23 Q97.5428 454.23 99.3483 450.689 Q101.177 447.124 101.177 440.018 Q101.177 432.888 99.3483 429.346 Q97.5428 425.781 93.9086 425.781 M93.9086 422.078 Q99.7187 422.078 102.774 426.684 Q105.853 431.268 105.853 440.018 Q105.853 448.744 102.774 453.351 Q99.7187 457.934 93.9086 457.934 Q88.0984 457.934 85.0197 453.351 Q81.9642 448.744 81.9642 440.018 Q81.9642 431.268 85.0197 426.684 Q88.0984 422.078 93.9086 422.078 Z\" fill=\"#000000\" fill-rule=\"nonzero\" fill-opacity=\"1\" /><path clip-path=\"url(#clip860)\" d=\"M63.7467 105.607 Q60.4134 105.607 58.4921 107.389 Q56.5939 109.171 56.5939 112.296 Q56.5939 115.421 58.4921 117.204 Q60.4134 118.986 63.7467 118.986 Q67.08 118.986 69.0013 117.204 Q70.9226 115.398 70.9226 112.296 Q70.9226 109.171 69.0013 107.389 Q67.1032 105.607 63.7467 105.607 M59.0708 103.616 Q56.0615 102.875 54.3717 100.815 Q52.7051 98.7547 52.7051 95.7918 Q52.7051 91.6483 55.6449 89.2409 Q58.6078 86.8335 63.7467 86.8335 Q68.9087 86.8335 71.8485 89.2409 Q74.7883 91.6483 74.7883 95.7918 Q74.7883 98.7547 73.0985 100.815 Q71.4318 102.875 68.4457 103.616 Q71.8253 104.403 73.7003 106.694 Q75.5985 108.986 75.5985 112.296 Q75.5985 117.319 72.5198 120.005 Q69.4642 122.69 63.7467 122.69 Q58.0291 122.69 54.9504 120.005 Q51.8949 117.319 51.8949 112.296 Q51.8949 108.986 53.793 106.694 Q55.6912 104.403 59.0708 103.616 M57.3578 96.2316 Q57.3578 98.9168 59.0245 100.421 Q60.7143 101.926 63.7467 101.926 Q66.7559 101.926 68.4457 100.421 Q70.1587 98.9168 70.1587 96.2316 Q70.1587 93.5464 68.4457 92.0418 Q66.7559 90.5372 63.7467 90.5372 Q60.7143 90.5372 59.0245 92.0418 Q57.3578 93.5464 57.3578 96.2316 Z\" fill=\"#000000\" fill-rule=\"nonzero\" fill-opacity=\"1\" /><path clip-path=\"url(#clip860)\" d=\"M93.9086 90.5372 Q90.2975 90.5372 88.4688 94.102 Q86.6632 97.6436 86.6632 104.773 Q86.6632 111.88 88.4688 115.444 Q90.2975 118.986 93.9086 118.986 Q97.5428 118.986 99.3483 115.444 Q101.177 111.88 101.177 104.773 Q101.177 97.6436 99.3483 94.102 Q97.5428 90.5372 93.9086 90.5372 M93.9086 86.8335 Q99.7187 86.8335 102.774 91.44 Q105.853 96.0233 105.853 104.773 Q105.853 113.5 102.774 118.106 Q99.7187 122.69 93.9086 122.69 Q88.0984 122.69 85.0197 118.106 Q81.9642 113.5 81.9642 104.773 Q81.9642 96.0233 85.0197 91.44 Q88.0984 86.8335 93.9086 86.8335 Z\" fill=\"#000000\" fill-rule=\"nonzero\" fill-opacity=\"1\" /><polyline clip-path=\"url(#clip862)\" style=\"stroke:#009af9; stroke-linecap:round; stroke-linejoin:round; stroke-width:4; stroke-opacity:1; fill:none\" points=\"204.426,1445.72 436.177,1428.95 667.927,1378.67 899.678,1294.86 1131.43,1177.52 1363.18,1026.66 1594.93,842.276 1826.68,624.367 2058.43,372.934 2290.18,87.9763 \"/>\n",
       "<path clip-path=\"url(#clip860)\" d=\"M215.55 198.898 L489.07 198.898 L489.07 95.2176 L215.55 95.2176  Z\" fill=\"#ffffff\" fill-rule=\"evenodd\" fill-opacity=\"1\"/>\n",
       "<polyline clip-path=\"url(#clip860)\" style=\"stroke:#000000; stroke-linecap:round; stroke-linejoin:round; stroke-width:4; stroke-opacity:1; fill:none\" points=\"215.55,198.898 489.07,198.898 489.07,95.2176 215.55,95.2176 215.55,198.898 \"/>\n",
       "<polyline clip-path=\"url(#clip860)\" style=\"stroke:#009af9; stroke-linecap:round; stroke-linejoin:round; stroke-width:4; stroke-opacity:1; fill:none\" points=\"240.115,147.058 387.509,147.058 \"/>\n",
       "<path clip-path=\"url(#clip860)\" d=\"M425.917 166.745 Q424.111 171.375 422.398 172.787 Q420.685 174.199 417.815 174.199 L414.412 174.199 L414.412 170.634 L416.912 170.634 Q418.672 170.634 419.644 169.8 Q420.616 168.967 421.797 165.865 L422.56 163.921 L412.074 138.412 L416.588 138.412 L424.69 158.689 L432.792 138.412 L437.306 138.412 L425.917 166.745 Z\" fill=\"#000000\" fill-rule=\"nonzero\" fill-opacity=\"1\" /><path clip-path=\"url(#clip860)\" d=\"M444.597 160.402 L452.236 160.402 L452.236 134.037 L443.926 135.703 L443.926 131.444 L452.19 129.778 L456.866 129.778 L456.866 160.402 L464.505 160.402 L464.505 164.338 L444.597 164.338 L444.597 160.402 Z\" fill=\"#000000\" fill-rule=\"nonzero\" fill-opacity=\"1\" /></svg>\n"
      ],
      "text/html": [
       "<?xml version=\"1.0\" encoding=\"utf-8\"?>\n",
       "<svg xmlns=\"http://www.w3.org/2000/svg\" xmlns:xlink=\"http://www.w3.org/1999/xlink\" width=\"600\" height=\"400\" viewBox=\"0 0 2400 1600\">\n",
       "<defs>\n",
       "  <clipPath id=\"clip910\">\n",
       "    <rect x=\"0\" y=\"0\" width=\"2400\" height=\"1600\"/>\n",
       "  </clipPath>\n",
       "</defs>\n",
       "<path clip-path=\"url(#clip910)\" d=\"M0 1600 L2400 1600 L2400 0 L0 0  Z\" fill=\"#ffffff\" fill-rule=\"evenodd\" fill-opacity=\"1\"/>\n",
       "<defs>\n",
       "  <clipPath id=\"clip911\">\n",
       "    <rect x=\"480\" y=\"0\" width=\"1681\" height=\"1600\"/>\n",
       "  </clipPath>\n",
       "</defs>\n",
       "<path clip-path=\"url(#clip910)\" d=\"M141.853 1486.45 L2352.76 1486.45 L2352.76 47.2441 L141.853 47.2441  Z\" fill=\"#ffffff\" fill-rule=\"evenodd\" fill-opacity=\"1\"/>\n",
       "<defs>\n",
       "  <clipPath id=\"clip912\">\n",
       "    <rect x=\"141\" y=\"47\" width=\"2212\" height=\"1440\"/>\n",
       "  </clipPath>\n",
       "</defs>\n",
       "<polyline clip-path=\"url(#clip912)\" style=\"stroke:#000000; stroke-linecap:round; stroke-linejoin:round; stroke-width:2; stroke-opacity:0.1; fill:none\" points=\"204.426,1486.45 204.426,47.2441 \"/>\n",
       "<polyline clip-path=\"url(#clip912)\" style=\"stroke:#000000; stroke-linecap:round; stroke-linejoin:round; stroke-width:2; stroke-opacity:0.1; fill:none\" points=\"667.927,1486.45 667.927,47.2441 \"/>\n",
       "<polyline clip-path=\"url(#clip912)\" style=\"stroke:#000000; stroke-linecap:round; stroke-linejoin:round; stroke-width:2; stroke-opacity:0.1; fill:none\" points=\"1131.43,1486.45 1131.43,47.2441 \"/>\n",
       "<polyline clip-path=\"url(#clip912)\" style=\"stroke:#000000; stroke-linecap:round; stroke-linejoin:round; stroke-width:2; stroke-opacity:0.1; fill:none\" points=\"1594.93,1486.45 1594.93,47.2441 \"/>\n",
       "<polyline clip-path=\"url(#clip912)\" style=\"stroke:#000000; stroke-linecap:round; stroke-linejoin:round; stroke-width:2; stroke-opacity:0.1; fill:none\" points=\"2058.43,1486.45 2058.43,47.2441 \"/>\n",
       "<polyline clip-path=\"url(#clip910)\" style=\"stroke:#000000; stroke-linecap:round; stroke-linejoin:round; stroke-width:4; stroke-opacity:1; fill:none\" points=\"141.853,1486.45 2352.76,1486.45 \"/>\n",
       "<polyline clip-path=\"url(#clip910)\" style=\"stroke:#000000; stroke-linecap:round; stroke-linejoin:round; stroke-width:4; stroke-opacity:1; fill:none\" points=\"204.426,1486.45 204.426,1467.55 \"/>\n",
       "<polyline clip-path=\"url(#clip910)\" style=\"stroke:#000000; stroke-linecap:round; stroke-linejoin:round; stroke-width:4; stroke-opacity:1; fill:none\" points=\"667.927,1486.45 667.927,1467.55 \"/>\n",
       "<polyline clip-path=\"url(#clip910)\" style=\"stroke:#000000; stroke-linecap:round; stroke-linejoin:round; stroke-width:4; stroke-opacity:1; fill:none\" points=\"1131.43,1486.45 1131.43,1467.55 \"/>\n",
       "<polyline clip-path=\"url(#clip910)\" style=\"stroke:#000000; stroke-linecap:round; stroke-linejoin:round; stroke-width:4; stroke-opacity:1; fill:none\" points=\"1594.93,1486.45 1594.93,1467.55 \"/>\n",
       "<polyline clip-path=\"url(#clip910)\" style=\"stroke:#000000; stroke-linecap:round; stroke-linejoin:round; stroke-width:4; stroke-opacity:1; fill:none\" points=\"2058.43,1486.45 2058.43,1467.55 \"/>\n",
       "<path clip-path=\"url(#clip910)\" d=\"M204.426 1517.37 Q200.815 1517.37 198.986 1520.93 Q197.18 1524.47 197.18 1531.6 Q197.18 1538.71 198.986 1542.27 Q200.815 1545.82 204.426 1545.82 Q208.06 1545.82 209.865 1542.27 Q211.694 1538.71 211.694 1531.6 Q211.694 1524.47 209.865 1520.93 Q208.06 1517.37 204.426 1517.37 M204.426 1513.66 Q210.236 1513.66 213.291 1518.27 Q216.37 1522.85 216.37 1531.6 Q216.37 1540.33 213.291 1544.94 Q210.236 1549.52 204.426 1549.52 Q198.616 1549.52 195.537 1544.94 Q192.481 1540.33 192.481 1531.6 Q192.481 1522.85 195.537 1518.27 Q198.616 1513.66 204.426 1513.66 Z\" fill=\"#000000\" fill-rule=\"nonzero\" fill-opacity=\"1\" /><path clip-path=\"url(#clip910)\" d=\"M662.58 1544.91 L678.9 1544.91 L678.9 1548.85 L656.955 1548.85 L656.955 1544.91 Q659.617 1542.16 664.201 1537.53 Q668.807 1532.88 669.988 1531.53 Q672.233 1529.01 673.112 1527.27 Q674.015 1525.51 674.015 1523.82 Q674.015 1521.07 672.071 1519.33 Q670.15 1517.6 667.048 1517.6 Q664.849 1517.6 662.395 1518.36 Q659.964 1519.13 657.187 1520.68 L657.187 1515.95 Q660.011 1514.82 662.464 1514.24 Q664.918 1513.66 666.955 1513.66 Q672.325 1513.66 675.52 1516.35 Q678.714 1519.03 678.714 1523.52 Q678.714 1525.65 677.904 1527.57 Q677.117 1529.47 675.011 1532.07 Q674.432 1532.74 671.33 1535.95 Q668.228 1539.15 662.58 1544.91 Z\" fill=\"#000000\" fill-rule=\"nonzero\" fill-opacity=\"1\" /><path clip-path=\"url(#clip910)\" d=\"M1134.44 1518.36 L1122.63 1536.81 L1134.44 1536.81 L1134.44 1518.36 M1133.21 1514.29 L1139.09 1514.29 L1139.09 1536.81 L1144.02 1536.81 L1144.02 1540.7 L1139.09 1540.7 L1139.09 1548.85 L1134.44 1548.85 L1134.44 1540.7 L1118.84 1540.7 L1118.84 1536.19 L1133.21 1514.29 Z\" fill=\"#000000\" fill-rule=\"nonzero\" fill-opacity=\"1\" /><path clip-path=\"url(#clip910)\" d=\"M1595.34 1529.7 Q1592.19 1529.7 1590.34 1531.86 Q1588.51 1534.01 1588.51 1537.76 Q1588.51 1541.49 1590.34 1543.66 Q1592.19 1545.82 1595.34 1545.82 Q1598.48 1545.82 1600.31 1543.66 Q1602.16 1541.49 1602.16 1537.76 Q1602.16 1534.01 1600.31 1531.86 Q1598.48 1529.7 1595.34 1529.7 M1604.62 1515.05 L1604.62 1519.31 Q1602.86 1518.48 1601.05 1518.04 Q1599.27 1517.6 1597.51 1517.6 Q1592.88 1517.6 1590.43 1520.72 Q1588 1523.85 1587.65 1530.17 Q1589.02 1528.15 1591.08 1527.09 Q1593.14 1526 1595.61 1526 Q1600.82 1526 1603.83 1529.17 Q1606.86 1532.32 1606.86 1537.76 Q1606.86 1543.08 1603.72 1546.3 Q1600.57 1549.52 1595.34 1549.52 Q1589.34 1549.52 1586.17 1544.94 Q1583 1540.33 1583 1531.6 Q1583 1523.41 1586.89 1518.55 Q1590.78 1513.66 1597.33 1513.66 Q1599.09 1513.66 1600.87 1514.01 Q1602.67 1514.36 1604.62 1515.05 Z\" fill=\"#000000\" fill-rule=\"nonzero\" fill-opacity=\"1\" /><path clip-path=\"url(#clip910)\" d=\"M2058.43 1532.44 Q2055.1 1532.44 2053.18 1534.22 Q2051.28 1536 2051.28 1539.13 Q2051.28 1542.25 2053.18 1544.03 Q2055.1 1545.82 2058.43 1545.82 Q2061.77 1545.82 2063.69 1544.03 Q2065.61 1542.23 2065.61 1539.13 Q2065.61 1536 2063.69 1534.22 Q2061.79 1532.44 2058.43 1532.44 M2053.76 1530.45 Q2050.75 1529.7 2049.06 1527.64 Q2047.39 1525.58 2047.39 1522.62 Q2047.39 1518.48 2050.33 1516.07 Q2053.29 1513.66 2058.43 1513.66 Q2063.59 1513.66 2066.53 1516.07 Q2069.47 1518.48 2069.47 1522.62 Q2069.47 1525.58 2067.78 1527.64 Q2066.12 1529.7 2063.13 1530.45 Q2066.51 1531.23 2068.39 1533.52 Q2070.28 1535.82 2070.28 1539.13 Q2070.28 1544.15 2067.21 1546.83 Q2064.15 1549.52 2058.43 1549.52 Q2052.71 1549.52 2049.64 1546.83 Q2046.58 1544.15 2046.58 1539.13 Q2046.58 1535.82 2048.48 1533.52 Q2050.38 1531.23 2053.76 1530.45 M2052.04 1523.06 Q2052.04 1525.75 2053.71 1527.25 Q2055.4 1528.76 2058.43 1528.76 Q2061.44 1528.76 2063.13 1527.25 Q2064.84 1525.75 2064.84 1523.06 Q2064.84 1520.38 2063.13 1518.87 Q2061.44 1517.37 2058.43 1517.37 Q2055.4 1517.37 2053.71 1518.87 Q2052.04 1520.38 2052.04 1523.06 Z\" fill=\"#000000\" fill-rule=\"nonzero\" fill-opacity=\"1\" /><polyline clip-path=\"url(#clip912)\" style=\"stroke:#000000; stroke-linecap:round; stroke-linejoin:round; stroke-width:2; stroke-opacity:0.1; fill:none\" points=\"141.853,1445.72 2352.76,1445.72 \"/>\n",
       "<polyline clip-path=\"url(#clip912)\" style=\"stroke:#000000; stroke-linecap:round; stroke-linejoin:round; stroke-width:2; stroke-opacity:0.1; fill:none\" points=\"141.853,1110.47 2352.76,1110.47 \"/>\n",
       "<polyline clip-path=\"url(#clip912)\" style=\"stroke:#000000; stroke-linecap:round; stroke-linejoin:round; stroke-width:2; stroke-opacity:0.1; fill:none\" points=\"141.853,775.227 2352.76,775.227 \"/>\n",
       "<polyline clip-path=\"url(#clip912)\" style=\"stroke:#000000; stroke-linecap:round; stroke-linejoin:round; stroke-width:2; stroke-opacity:0.1; fill:none\" points=\"141.853,439.983 2352.76,439.983 \"/>\n",
       "<polyline clip-path=\"url(#clip912)\" style=\"stroke:#000000; stroke-linecap:round; stroke-linejoin:round; stroke-width:2; stroke-opacity:0.1; fill:none\" points=\"141.853,104.738 2352.76,104.738 \"/>\n",
       "<polyline clip-path=\"url(#clip910)\" style=\"stroke:#000000; stroke-linecap:round; stroke-linejoin:round; stroke-width:4; stroke-opacity:1; fill:none\" points=\"141.853,1486.45 141.853,47.2441 \"/>\n",
       "<polyline clip-path=\"url(#clip910)\" style=\"stroke:#000000; stroke-linecap:round; stroke-linejoin:round; stroke-width:4; stroke-opacity:1; fill:none\" points=\"141.853,1445.72 160.751,1445.72 \"/>\n",
       "<polyline clip-path=\"url(#clip910)\" style=\"stroke:#000000; stroke-linecap:round; stroke-linejoin:round; stroke-width:4; stroke-opacity:1; fill:none\" points=\"141.853,1110.47 160.751,1110.47 \"/>\n",
       "<polyline clip-path=\"url(#clip910)\" style=\"stroke:#000000; stroke-linecap:round; stroke-linejoin:round; stroke-width:4; stroke-opacity:1; fill:none\" points=\"141.853,775.227 160.751,775.227 \"/>\n",
       "<polyline clip-path=\"url(#clip910)\" style=\"stroke:#000000; stroke-linecap:round; stroke-linejoin:round; stroke-width:4; stroke-opacity:1; fill:none\" points=\"141.853,439.983 160.751,439.983 \"/>\n",
       "<polyline clip-path=\"url(#clip910)\" style=\"stroke:#000000; stroke-linecap:round; stroke-linejoin:round; stroke-width:4; stroke-opacity:1; fill:none\" points=\"141.853,104.738 160.751,104.738 \"/>\n",
       "<path clip-path=\"url(#clip910)\" d=\"M93.9086 1431.51 Q90.2975 1431.51 88.4688 1435.08 Q86.6632 1438.62 86.6632 1445.75 Q86.6632 1452.86 88.4688 1456.42 Q90.2975 1459.96 93.9086 1459.96 Q97.5428 1459.96 99.3483 1456.42 Q101.177 1452.86 101.177 1445.75 Q101.177 1438.62 99.3483 1435.08 Q97.5428 1431.51 93.9086 1431.51 M93.9086 1427.81 Q99.7187 1427.81 102.774 1432.42 Q105.853 1437 105.853 1445.75 Q105.853 1454.48 102.774 1459.08 Q99.7187 1463.67 93.9086 1463.67 Q88.0984 1463.67 85.0197 1459.08 Q81.9642 1454.48 81.9642 1445.75 Q81.9642 1437 85.0197 1432.42 Q88.0984 1427.81 93.9086 1427.81 Z\" fill=\"#000000\" fill-rule=\"nonzero\" fill-opacity=\"1\" /><path clip-path=\"url(#clip910)\" d=\"M57.7745 1123.82 L74.0939 1123.82 L74.0939 1127.75 L52.1495 1127.75 L52.1495 1123.82 Q54.8115 1121.06 59.3949 1116.43 Q64.0013 1111.78 65.1819 1110.44 Q67.4272 1107.91 68.3068 1106.18 Q69.2096 1104.42 69.2096 1102.73 Q69.2096 1099.97 67.2652 1098.24 Q65.3439 1096.5 62.2421 1096.5 Q60.043 1096.5 57.5893 1097.27 Q55.1588 1098.03 52.381 1099.58 L52.381 1094.86 Q55.2051 1093.72 57.6588 1093.15 Q60.1124 1092.57 62.1495 1092.57 Q67.5198 1092.57 70.7142 1095.25 Q73.9087 1097.94 73.9087 1102.43 Q73.9087 1104.56 73.0985 1106.48 Q72.3115 1108.38 70.205 1110.97 Q69.6263 1111.64 66.5245 1114.86 Q63.4226 1118.05 57.7745 1123.82 Z\" fill=\"#000000\" fill-rule=\"nonzero\" fill-opacity=\"1\" /><path clip-path=\"url(#clip910)\" d=\"M93.9086 1096.27 Q90.2975 1096.27 88.4688 1099.83 Q86.6632 1103.38 86.6632 1110.51 Q86.6632 1117.61 88.4688 1121.18 Q90.2975 1124.72 93.9086 1124.72 Q97.5428 1124.72 99.3483 1121.18 Q101.177 1117.61 101.177 1110.51 Q101.177 1103.38 99.3483 1099.83 Q97.5428 1096.27 93.9086 1096.27 M93.9086 1092.57 Q99.7187 1092.57 102.774 1097.17 Q105.853 1101.76 105.853 1110.51 Q105.853 1119.23 102.774 1123.84 Q99.7187 1128.42 93.9086 1128.42 Q88.0984 1128.42 85.0197 1123.84 Q81.9642 1119.23 81.9642 1110.51 Q81.9642 1101.76 85.0197 1097.17 Q88.0984 1092.57 93.9086 1092.57 Z\" fill=\"#000000\" fill-rule=\"nonzero\" fill-opacity=\"1\" /><path clip-path=\"url(#clip910)\" d=\"M66.5939 762.021 L54.7884 780.47 L66.5939 780.47 L66.5939 762.021 M65.367 757.947 L71.2466 757.947 L71.2466 780.47 L76.1772 780.47 L76.1772 784.359 L71.2466 784.359 L71.2466 792.507 L66.5939 792.507 L66.5939 784.359 L50.9921 784.359 L50.9921 779.845 L65.367 757.947 Z\" fill=\"#000000\" fill-rule=\"nonzero\" fill-opacity=\"1\" /><path clip-path=\"url(#clip910)\" d=\"M93.9086 761.026 Q90.2975 761.026 88.4688 764.591 Q86.6632 768.132 86.6632 775.262 Q86.6632 782.368 88.4688 785.933 Q90.2975 789.475 93.9086 789.475 Q97.5428 789.475 99.3483 785.933 Q101.177 782.368 101.177 775.262 Q101.177 768.132 99.3483 764.591 Q97.5428 761.026 93.9086 761.026 M93.9086 757.322 Q99.7187 757.322 102.774 761.929 Q105.853 766.512 105.853 775.262 Q105.853 783.989 102.774 788.595 Q99.7187 793.178 93.9086 793.178 Q88.0984 793.178 85.0197 788.595 Q81.9642 783.989 81.9642 775.262 Q81.9642 766.512 85.0197 761.929 Q88.0984 757.322 93.9086 757.322 Z\" fill=\"#000000\" fill-rule=\"nonzero\" fill-opacity=\"1\" /><path clip-path=\"url(#clip910)\" d=\"M64.3254 438.119 Q61.1773 438.119 59.3254 440.272 Q57.4967 442.425 57.4967 446.175 Q57.4967 449.902 59.3254 452.078 Q61.1773 454.23 64.3254 454.23 Q67.4735 454.23 69.3022 452.078 Q71.1541 449.902 71.1541 446.175 Q71.1541 442.425 69.3022 440.272 Q67.4735 438.119 64.3254 438.119 M73.6077 423.467 L73.6077 427.726 Q71.8485 426.893 70.0429 426.453 Q68.2606 426.013 66.5013 426.013 Q61.8717 426.013 59.418 429.138 Q56.9875 432.263 56.6402 438.582 Q58.006 436.568 60.0662 435.504 Q62.1263 434.416 64.6032 434.416 Q69.8115 434.416 72.8207 437.587 Q75.8531 440.735 75.8531 446.175 Q75.8531 451.499 72.705 454.717 Q69.5568 457.934 64.3254 457.934 Q58.33 457.934 55.1588 453.351 Q51.9875 448.744 51.9875 440.018 Q51.9875 431.823 55.8764 426.962 Q59.7652 422.078 66.3161 422.078 Q68.0754 422.078 69.8578 422.425 Q71.6633 422.772 73.6077 423.467 Z\" fill=\"#000000\" fill-rule=\"nonzero\" fill-opacity=\"1\" /><path clip-path=\"url(#clip910)\" d=\"M93.9086 425.781 Q90.2975 425.781 88.4688 429.346 Q86.6632 432.888 86.6632 440.018 Q86.6632 447.124 88.4688 450.689 Q90.2975 454.23 93.9086 454.23 Q97.5428 454.23 99.3483 450.689 Q101.177 447.124 101.177 440.018 Q101.177 432.888 99.3483 429.346 Q97.5428 425.781 93.9086 425.781 M93.9086 422.078 Q99.7187 422.078 102.774 426.684 Q105.853 431.268 105.853 440.018 Q105.853 448.744 102.774 453.351 Q99.7187 457.934 93.9086 457.934 Q88.0984 457.934 85.0197 453.351 Q81.9642 448.744 81.9642 440.018 Q81.9642 431.268 85.0197 426.684 Q88.0984 422.078 93.9086 422.078 Z\" fill=\"#000000\" fill-rule=\"nonzero\" fill-opacity=\"1\" /><path clip-path=\"url(#clip910)\" d=\"M63.7467 105.607 Q60.4134 105.607 58.4921 107.389 Q56.5939 109.171 56.5939 112.296 Q56.5939 115.421 58.4921 117.204 Q60.4134 118.986 63.7467 118.986 Q67.08 118.986 69.0013 117.204 Q70.9226 115.398 70.9226 112.296 Q70.9226 109.171 69.0013 107.389 Q67.1032 105.607 63.7467 105.607 M59.0708 103.616 Q56.0615 102.875 54.3717 100.815 Q52.7051 98.7547 52.7051 95.7918 Q52.7051 91.6483 55.6449 89.2409 Q58.6078 86.8335 63.7467 86.8335 Q68.9087 86.8335 71.8485 89.2409 Q74.7883 91.6483 74.7883 95.7918 Q74.7883 98.7547 73.0985 100.815 Q71.4318 102.875 68.4457 103.616 Q71.8253 104.403 73.7003 106.694 Q75.5985 108.986 75.5985 112.296 Q75.5985 117.319 72.5198 120.005 Q69.4642 122.69 63.7467 122.69 Q58.0291 122.69 54.9504 120.005 Q51.8949 117.319 51.8949 112.296 Q51.8949 108.986 53.793 106.694 Q55.6912 104.403 59.0708 103.616 M57.3578 96.2316 Q57.3578 98.9168 59.0245 100.421 Q60.7143 101.926 63.7467 101.926 Q66.7559 101.926 68.4457 100.421 Q70.1587 98.9168 70.1587 96.2316 Q70.1587 93.5464 68.4457 92.0418 Q66.7559 90.5372 63.7467 90.5372 Q60.7143 90.5372 59.0245 92.0418 Q57.3578 93.5464 57.3578 96.2316 Z\" fill=\"#000000\" fill-rule=\"nonzero\" fill-opacity=\"1\" /><path clip-path=\"url(#clip910)\" d=\"M93.9086 90.5372 Q90.2975 90.5372 88.4688 94.102 Q86.6632 97.6436 86.6632 104.773 Q86.6632 111.88 88.4688 115.444 Q90.2975 118.986 93.9086 118.986 Q97.5428 118.986 99.3483 115.444 Q101.177 111.88 101.177 104.773 Q101.177 97.6436 99.3483 94.102 Q97.5428 90.5372 93.9086 90.5372 M93.9086 86.8335 Q99.7187 86.8335 102.774 91.44 Q105.853 96.0233 105.853 104.773 Q105.853 113.5 102.774 118.106 Q99.7187 122.69 93.9086 122.69 Q88.0984 122.69 85.0197 118.106 Q81.9642 113.5 81.9642 104.773 Q81.9642 96.0233 85.0197 91.44 Q88.0984 86.8335 93.9086 86.8335 Z\" fill=\"#000000\" fill-rule=\"nonzero\" fill-opacity=\"1\" /><polyline clip-path=\"url(#clip912)\" style=\"stroke:#009af9; stroke-linecap:round; stroke-linejoin:round; stroke-width:4; stroke-opacity:1; fill:none\" points=\"204.426,1445.72 436.177,1428.95 667.927,1378.67 899.678,1294.86 1131.43,1177.52 1363.18,1026.66 1594.93,842.276 1826.68,624.367 2058.43,372.934 2290.18,87.9763 \"/>\n",
       "<path clip-path=\"url(#clip910)\" d=\"M215.55 198.898 L489.07 198.898 L489.07 95.2176 L215.55 95.2176  Z\" fill=\"#ffffff\" fill-rule=\"evenodd\" fill-opacity=\"1\"/>\n",
       "<polyline clip-path=\"url(#clip910)\" style=\"stroke:#000000; stroke-linecap:round; stroke-linejoin:round; stroke-width:4; stroke-opacity:1; fill:none\" points=\"215.55,198.898 489.07,198.898 489.07,95.2176 215.55,95.2176 215.55,198.898 \"/>\n",
       "<polyline clip-path=\"url(#clip910)\" style=\"stroke:#009af9; stroke-linecap:round; stroke-linejoin:round; stroke-width:4; stroke-opacity:1; fill:none\" points=\"240.115,147.058 387.509,147.058 \"/>\n",
       "<path clip-path=\"url(#clip910)\" d=\"M425.917 166.745 Q424.111 171.375 422.398 172.787 Q420.685 174.199 417.815 174.199 L414.412 174.199 L414.412 170.634 L416.912 170.634 Q418.672 170.634 419.644 169.8 Q420.616 168.967 421.797 165.865 L422.56 163.921 L412.074 138.412 L416.588 138.412 L424.69 158.689 L432.792 138.412 L437.306 138.412 L425.917 166.745 Z\" fill=\"#000000\" fill-rule=\"nonzero\" fill-opacity=\"1\" /><path clip-path=\"url(#clip910)\" d=\"M444.597 160.402 L452.236 160.402 L452.236 134.037 L443.926 135.703 L443.926 131.444 L452.19 129.778 L456.866 129.778 L456.866 160.402 L464.505 160.402 L464.505 164.338 L444.597 164.338 L444.597 160.402 Z\" fill=\"#000000\" fill-rule=\"nonzero\" fill-opacity=\"1\" /></svg>\n"
      ]
     },
     "metadata": {},
     "output_type": "display_data"
    }
   ],
   "source": [
    "using Plots\n",
    "x = 0:9\n",
    "y = [i^2 for i in x]\n",
    "plot(x, y)"
   ]
  }
 ],
 "metadata": {
  "kernelspec": {
   "display_name": "Julia 1.9.3",
   "language": "julia",
   "name": "julia-1.9"
  },
  "language_info": {
   "file_extension": ".jl",
   "mimetype": "application/julia",
   "name": "julia",
   "version": "1.9.3"
  }
 },
 "nbformat": 4,
 "nbformat_minor": 2
}
