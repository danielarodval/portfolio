{
 "cells": [
  {
   "cell_type": "markdown",
   "id": "1e05646b",
   "metadata": {},
   "source": [
    "# Script Assignment 3\n",
    "## COP 4283 \n",
    "### Fall 2023"
   ]
  },
  {
   "cell_type": "markdown",
   "id": "512f874b",
   "metadata": {},
   "source": [
    "## Use the movie lens dataset and address the following functions:"
   ]
  },
  {
   "cell_type": "markdown",
   "id": "1a5a9231",
   "metadata": {},
   "source": [
    "### Transform Titles lowercase to uppercase and uppercase to lowercase. - 1 point"
   ]
  },
  {
   "cell_type": "code",
   "execution_count": 1,
   "id": "495fea64",
   "metadata": {
    "scrolled": false
   },
   "outputs": [
    {
     "name": "stdout",
     "output_type": "stream",
     "text": [
      "Uppercase\n"
     ]
    },
    {
     "data": {
      "text/plain": [
       "0                         TOY STORY (1995)\n",
       "1                           JUMANJI (1995)\n",
       "2                  GRUMPIER OLD MEN (1995)\n",
       "3                 WAITING TO EXHALE (1995)\n",
       "4       FATHER OF THE BRIDE PART II (1995)\n",
       "                       ...                \n",
       "3878               MEET THE PARENTS (2000)\n",
       "3879            REQUIEM FOR A DREAM (2000)\n",
       "3880                      TIGERLAND (2000)\n",
       "3881               TWO FAMILY HOUSE (2000)\n",
       "3882                 CONTENDER, THE (2000)\n",
       "Name: movie_title, Length: 3883, dtype: object"
      ]
     },
     "metadata": {},
     "output_type": "display_data"
    },
    {
     "name": "stdout",
     "output_type": "stream",
     "text": [
      "Lowercase\n"
     ]
    },
    {
     "data": {
      "text/plain": [
       "0                         toy story (1995)\n",
       "1                           jumanji (1995)\n",
       "2                  grumpier old men (1995)\n",
       "3                 waiting to exhale (1995)\n",
       "4       father of the bride part ii (1995)\n",
       "                       ...                \n",
       "3878               meet the parents (2000)\n",
       "3879            requiem for a dream (2000)\n",
       "3880                      tigerland (2000)\n",
       "3881               two family house (2000)\n",
       "3882                 contender, the (2000)\n",
       "Name: movie_title, Length: 3883, dtype: object"
      ]
     },
     "metadata": {},
     "output_type": "display_data"
    }
   ],
   "source": [
    "import pandas as pd\n",
    "df = pd.read_csv('datasets/movielens/movies.dat',delimiter='::',engine='python',names=['movie_id','movie_title','movie_genre'])\n",
    "print(\"Uppercase\")\n",
    "display(df['movie_title'].str.upper())\n",
    "print(\"Lowercase\")\n",
    "display(df['movie_title'].str.lower())"
   ]
  },
  {
   "cell_type": "markdown",
   "id": "476d2229",
   "metadata": {},
   "source": [
    "### Replace movie id with any number between 99 to 999 (use conditions as needed) - 1 point"
   ]
  },
  {
   "cell_type": "code",
   "execution_count": 2,
   "id": "2302ee71",
   "metadata": {},
   "outputs": [
    {
     "data": {
      "text/html": [
       "<div>\n",
       "<style scoped>\n",
       "    .dataframe tbody tr th:only-of-type {\n",
       "        vertical-align: middle;\n",
       "    }\n",
       "\n",
       "    .dataframe tbody tr th {\n",
       "        vertical-align: top;\n",
       "    }\n",
       "\n",
       "    .dataframe thead th {\n",
       "        text-align: right;\n",
       "    }\n",
       "</style>\n",
       "<table border=\"1\" class=\"dataframe\">\n",
       "  <thead>\n",
       "    <tr style=\"text-align: right;\">\n",
       "      <th></th>\n",
       "      <th>movie_id</th>\n",
       "      <th>movie_title</th>\n",
       "      <th>movie_genre</th>\n",
       "    </tr>\n",
       "  </thead>\n",
       "  <tbody>\n",
       "    <tr>\n",
       "      <th>0</th>\n",
       "      <td>979</td>\n",
       "      <td>Toy Story (1995)</td>\n",
       "      <td>Animation|Children's|Comedy</td>\n",
       "    </tr>\n",
       "    <tr>\n",
       "      <th>1</th>\n",
       "      <td>274</td>\n",
       "      <td>Jumanji (1995)</td>\n",
       "      <td>Adventure|Children's|Fantasy</td>\n",
       "    </tr>\n",
       "    <tr>\n",
       "      <th>2</th>\n",
       "      <td>498</td>\n",
       "      <td>Grumpier Old Men (1995)</td>\n",
       "      <td>Comedy|Romance</td>\n",
       "    </tr>\n",
       "    <tr>\n",
       "      <th>3</th>\n",
       "      <td>932</td>\n",
       "      <td>Waiting to Exhale (1995)</td>\n",
       "      <td>Comedy|Drama</td>\n",
       "    </tr>\n",
       "    <tr>\n",
       "      <th>4</th>\n",
       "      <td>497</td>\n",
       "      <td>Father of the Bride Part II (1995)</td>\n",
       "      <td>Comedy</td>\n",
       "    </tr>\n",
       "    <tr>\n",
       "      <th>...</th>\n",
       "      <td>...</td>\n",
       "      <td>...</td>\n",
       "      <td>...</td>\n",
       "    </tr>\n",
       "    <tr>\n",
       "      <th>3878</th>\n",
       "      <td>915</td>\n",
       "      <td>Meet the Parents (2000)</td>\n",
       "      <td>Comedy</td>\n",
       "    </tr>\n",
       "    <tr>\n",
       "      <th>3879</th>\n",
       "      <td>660</td>\n",
       "      <td>Requiem for a Dream (2000)</td>\n",
       "      <td>Drama</td>\n",
       "    </tr>\n",
       "    <tr>\n",
       "      <th>3880</th>\n",
       "      <td>353</td>\n",
       "      <td>Tigerland (2000)</td>\n",
       "      <td>Drama</td>\n",
       "    </tr>\n",
       "    <tr>\n",
       "      <th>3881</th>\n",
       "      <td>443</td>\n",
       "      <td>Two Family House (2000)</td>\n",
       "      <td>Drama</td>\n",
       "    </tr>\n",
       "    <tr>\n",
       "      <th>3882</th>\n",
       "      <td>484</td>\n",
       "      <td>Contender, The (2000)</td>\n",
       "      <td>Drama|Thriller</td>\n",
       "    </tr>\n",
       "  </tbody>\n",
       "</table>\n",
       "<p>3883 rows × 3 columns</p>\n",
       "</div>"
      ],
      "text/plain": [
       "      movie_id                         movie_title  \\\n",
       "0          979                    Toy Story (1995)   \n",
       "1          274                      Jumanji (1995)   \n",
       "2          498             Grumpier Old Men (1995)   \n",
       "3          932            Waiting to Exhale (1995)   \n",
       "4          497  Father of the Bride Part II (1995)   \n",
       "...        ...                                 ...   \n",
       "3878       915             Meet the Parents (2000)   \n",
       "3879       660          Requiem for a Dream (2000)   \n",
       "3880       353                    Tigerland (2000)   \n",
       "3881       443             Two Family House (2000)   \n",
       "3882       484               Contender, The (2000)   \n",
       "\n",
       "                       movie_genre  \n",
       "0      Animation|Children's|Comedy  \n",
       "1     Adventure|Children's|Fantasy  \n",
       "2                   Comedy|Romance  \n",
       "3                     Comedy|Drama  \n",
       "4                           Comedy  \n",
       "...                            ...  \n",
       "3878                        Comedy  \n",
       "3879                         Drama  \n",
       "3880                         Drama  \n",
       "3881                         Drama  \n",
       "3882                Drama|Thriller  \n",
       "\n",
       "[3883 rows x 3 columns]"
      ]
     },
     "metadata": {},
     "output_type": "display_data"
    }
   ],
   "source": [
    "from random import randint\n",
    "df['movie_id'] = df.groupby('movie_id')['movie_id'].transform(lambda x: randint(99,999))\n",
    "display(df)"
   ]
  },
  {
   "cell_type": "markdown",
   "id": "a08df5d2",
   "metadata": {},
   "source": [
    "### Finds the first match on Genres - 1 point\n",
    "find animation children's or comedy in the data."
   ]
  },
  {
   "cell_type": "code",
   "execution_count": 3,
   "id": "84a86352",
   "metadata": {
    "scrolled": false
   },
   "outputs": [
    {
     "data": {
      "text/html": [
       "<div>\n",
       "<style scoped>\n",
       "    .dataframe tbody tr th:only-of-type {\n",
       "        vertical-align: middle;\n",
       "    }\n",
       "\n",
       "    .dataframe tbody tr th {\n",
       "        vertical-align: top;\n",
       "    }\n",
       "\n",
       "    .dataframe thead th {\n",
       "        text-align: right;\n",
       "    }\n",
       "</style>\n",
       "<table border=\"1\" class=\"dataframe\">\n",
       "  <thead>\n",
       "    <tr style=\"text-align: right;\">\n",
       "      <th></th>\n",
       "      <th>movie_id</th>\n",
       "      <th>movie_title</th>\n",
       "      <th>movie_genre</th>\n",
       "      <th>first_genre</th>\n",
       "    </tr>\n",
       "  </thead>\n",
       "  <tbody>\n",
       "    <tr>\n",
       "      <th>0</th>\n",
       "      <td>979</td>\n",
       "      <td>Toy Story (1995)</td>\n",
       "      <td>Animation|Children's|Comedy</td>\n",
       "      <td>Animation</td>\n",
       "    </tr>\n",
       "    <tr>\n",
       "      <th>12</th>\n",
       "      <td>342</td>\n",
       "      <td>Balto (1995)</td>\n",
       "      <td>Animation|Children's</td>\n",
       "      <td>Animation</td>\n",
       "    </tr>\n",
       "    <tr>\n",
       "      <th>47</th>\n",
       "      <td>418</td>\n",
       "      <td>Pocahontas (1995)</td>\n",
       "      <td>Animation|Children's|Musical|Romance</td>\n",
       "      <td>Animation</td>\n",
       "    </tr>\n",
       "    <tr>\n",
       "      <th>236</th>\n",
       "      <td>955</td>\n",
       "      <td>Goofy Movie, A (1995)</td>\n",
       "      <td>Animation|Children's|Comedy|Romance</td>\n",
       "      <td>Animation</td>\n",
       "    </tr>\n",
       "    <tr>\n",
       "      <th>241</th>\n",
       "      <td>407</td>\n",
       "      <td>Gumby: The Movie (1995)</td>\n",
       "      <td>Animation|Children's</td>\n",
       "      <td>Animation</td>\n",
       "    </tr>\n",
       "    <tr>\n",
       "      <th>...</th>\n",
       "      <td>...</td>\n",
       "      <td>...</td>\n",
       "      <td>...</td>\n",
       "      <td>...</td>\n",
       "    </tr>\n",
       "    <tr>\n",
       "      <th>3685</th>\n",
       "      <td>646</td>\n",
       "      <td>Adventures of Rocky and Bullwinkle, The (2000)</td>\n",
       "      <td>Animation|Children's|Comedy</td>\n",
       "      <td>Animation</td>\n",
       "    </tr>\n",
       "    <tr>\n",
       "      <th>3690</th>\n",
       "      <td>788</td>\n",
       "      <td>Fun and Fancy Free (1947)</td>\n",
       "      <td>Animation|Children's|Musical</td>\n",
       "      <td>Animation</td>\n",
       "    </tr>\n",
       "    <tr>\n",
       "      <th>3706</th>\n",
       "      <td>586</td>\n",
       "      <td>Make Mine Music (1946)</td>\n",
       "      <td>Animation|Children's|Musical</td>\n",
       "      <td>Animation</td>\n",
       "    </tr>\n",
       "    <tr>\n",
       "      <th>3707</th>\n",
       "      <td>253</td>\n",
       "      <td>Melody Time (1948)</td>\n",
       "      <td>Animation|Children's|Musical</td>\n",
       "      <td>Animation</td>\n",
       "    </tr>\n",
       "    <tr>\n",
       "      <th>3730</th>\n",
       "      <td>236</td>\n",
       "      <td>Pokémon the Movie 2000 (2000)</td>\n",
       "      <td>Animation|Children's</td>\n",
       "      <td>Animation</td>\n",
       "    </tr>\n",
       "  </tbody>\n",
       "</table>\n",
       "<p>90 rows × 4 columns</p>\n",
       "</div>"
      ],
      "text/plain": [
       "      movie_id                                     movie_title  \\\n",
       "0          979                                Toy Story (1995)   \n",
       "12         342                                    Balto (1995)   \n",
       "47         418                               Pocahontas (1995)   \n",
       "236        955                           Goofy Movie, A (1995)   \n",
       "241        407                         Gumby: The Movie (1995)   \n",
       "...        ...                                             ...   \n",
       "3685       646  Adventures of Rocky and Bullwinkle, The (2000)   \n",
       "3690       788                       Fun and Fancy Free (1947)   \n",
       "3706       586                          Make Mine Music (1946)   \n",
       "3707       253                              Melody Time (1948)   \n",
       "3730       236                   Pokémon the Movie 2000 (2000)   \n",
       "\n",
       "                               movie_genre first_genre  \n",
       "0              Animation|Children's|Comedy   Animation  \n",
       "12                    Animation|Children's   Animation  \n",
       "47    Animation|Children's|Musical|Romance   Animation  \n",
       "236    Animation|Children's|Comedy|Romance   Animation  \n",
       "241                   Animation|Children's   Animation  \n",
       "...                                    ...         ...  \n",
       "3685           Animation|Children's|Comedy   Animation  \n",
       "3690          Animation|Children's|Musical   Animation  \n",
       "3706          Animation|Children's|Musical   Animation  \n",
       "3707          Animation|Children's|Musical   Animation  \n",
       "3730                  Animation|Children's   Animation  \n",
       "\n",
       "[90 rows x 4 columns]"
      ]
     },
     "metadata": {},
     "output_type": "display_data"
    }
   ],
   "source": [
    "df['first_genre'] = df['movie_genre'].apply(lambda x: x.split('|')[0] if '|' in x else x)\n",
    "display(df[df['first_genre'].str.contains('Animation')])"
   ]
  },
  {
   "cell_type": "markdown",
   "id": "a2662792",
   "metadata": {},
   "source": [
    "### Substitute comedy genres with horror - 1 point\n",
    "use subsitute"
   ]
  },
  {
   "cell_type": "code",
   "execution_count": 4,
   "id": "66f936dd",
   "metadata": {},
   "outputs": [
    {
     "data": {
      "text/html": [
       "<div>\n",
       "<style scoped>\n",
       "    .dataframe tbody tr th:only-of-type {\n",
       "        vertical-align: middle;\n",
       "    }\n",
       "\n",
       "    .dataframe tbody tr th {\n",
       "        vertical-align: top;\n",
       "    }\n",
       "\n",
       "    .dataframe thead th {\n",
       "        text-align: right;\n",
       "    }\n",
       "</style>\n",
       "<table border=\"1\" class=\"dataframe\">\n",
       "  <thead>\n",
       "    <tr style=\"text-align: right;\">\n",
       "      <th></th>\n",
       "      <th>movie_id</th>\n",
       "      <th>movie_title</th>\n",
       "      <th>movie_genre</th>\n",
       "      <th>first_genre</th>\n",
       "    </tr>\n",
       "  </thead>\n",
       "  <tbody>\n",
       "    <tr>\n",
       "      <th>0</th>\n",
       "      <td>979</td>\n",
       "      <td>Toy Story (1995)</td>\n",
       "      <td>Animation|Children's|Horror</td>\n",
       "      <td>Animation</td>\n",
       "    </tr>\n",
       "    <tr>\n",
       "      <th>1</th>\n",
       "      <td>274</td>\n",
       "      <td>Jumanji (1995)</td>\n",
       "      <td>Adventure|Children's|Fantasy</td>\n",
       "      <td>Adventure</td>\n",
       "    </tr>\n",
       "    <tr>\n",
       "      <th>2</th>\n",
       "      <td>498</td>\n",
       "      <td>Grumpier Old Men (1995)</td>\n",
       "      <td>Horror|Romance</td>\n",
       "      <td>Comedy</td>\n",
       "    </tr>\n",
       "    <tr>\n",
       "      <th>3</th>\n",
       "      <td>932</td>\n",
       "      <td>Waiting to Exhale (1995)</td>\n",
       "      <td>Horror|Drama</td>\n",
       "      <td>Comedy</td>\n",
       "    </tr>\n",
       "    <tr>\n",
       "      <th>4</th>\n",
       "      <td>497</td>\n",
       "      <td>Father of the Bride Part II (1995)</td>\n",
       "      <td>Horror</td>\n",
       "      <td>Comedy</td>\n",
       "    </tr>\n",
       "    <tr>\n",
       "      <th>...</th>\n",
       "      <td>...</td>\n",
       "      <td>...</td>\n",
       "      <td>...</td>\n",
       "      <td>...</td>\n",
       "    </tr>\n",
       "    <tr>\n",
       "      <th>3878</th>\n",
       "      <td>915</td>\n",
       "      <td>Meet the Parents (2000)</td>\n",
       "      <td>Horror</td>\n",
       "      <td>Comedy</td>\n",
       "    </tr>\n",
       "    <tr>\n",
       "      <th>3879</th>\n",
       "      <td>660</td>\n",
       "      <td>Requiem for a Dream (2000)</td>\n",
       "      <td>Drama</td>\n",
       "      <td>Drama</td>\n",
       "    </tr>\n",
       "    <tr>\n",
       "      <th>3880</th>\n",
       "      <td>353</td>\n",
       "      <td>Tigerland (2000)</td>\n",
       "      <td>Drama</td>\n",
       "      <td>Drama</td>\n",
       "    </tr>\n",
       "    <tr>\n",
       "      <th>3881</th>\n",
       "      <td>443</td>\n",
       "      <td>Two Family House (2000)</td>\n",
       "      <td>Drama</td>\n",
       "      <td>Drama</td>\n",
       "    </tr>\n",
       "    <tr>\n",
       "      <th>3882</th>\n",
       "      <td>484</td>\n",
       "      <td>Contender, The (2000)</td>\n",
       "      <td>Drama|Thriller</td>\n",
       "      <td>Drama</td>\n",
       "    </tr>\n",
       "  </tbody>\n",
       "</table>\n",
       "<p>3883 rows × 4 columns</p>\n",
       "</div>"
      ],
      "text/plain": [
       "      movie_id                         movie_title  \\\n",
       "0          979                    Toy Story (1995)   \n",
       "1          274                      Jumanji (1995)   \n",
       "2          498             Grumpier Old Men (1995)   \n",
       "3          932            Waiting to Exhale (1995)   \n",
       "4          497  Father of the Bride Part II (1995)   \n",
       "...        ...                                 ...   \n",
       "3878       915             Meet the Parents (2000)   \n",
       "3879       660          Requiem for a Dream (2000)   \n",
       "3880       353                    Tigerland (2000)   \n",
       "3881       443             Two Family House (2000)   \n",
       "3882       484               Contender, The (2000)   \n",
       "\n",
       "                       movie_genre first_genre  \n",
       "0      Animation|Children's|Horror   Animation  \n",
       "1     Adventure|Children's|Fantasy   Adventure  \n",
       "2                   Horror|Romance      Comedy  \n",
       "3                     Horror|Drama      Comedy  \n",
       "4                           Horror      Comedy  \n",
       "...                            ...         ...  \n",
       "3878                        Horror      Comedy  \n",
       "3879                         Drama       Drama  \n",
       "3880                         Drama       Drama  \n",
       "3881                         Drama       Drama  \n",
       "3882                Drama|Thriller       Drama  \n",
       "\n",
       "[3883 rows x 4 columns]"
      ]
     },
     "metadata": {},
     "output_type": "display_data"
    }
   ],
   "source": [
    "df['movie_genre'] = df['movie_genre'].str.replace('Comedy','Horror',regex=True)\n",
    "display(df)"
   ]
  },
  {
   "cell_type": "markdown",
   "id": "ee4b40ef",
   "metadata": {},
   "source": [
    "### Split Genre by the prefix - 1 point\n",
    "refer to ch07 code prefix"
   ]
  },
  {
   "cell_type": "code",
   "execution_count": 5,
   "id": "d61b78aa",
   "metadata": {
    "scrolled": true
   },
   "outputs": [
    {
     "data": {
      "text/html": [
       "<div>\n",
       "<style scoped>\n",
       "    .dataframe tbody tr th:only-of-type {\n",
       "        vertical-align: middle;\n",
       "    }\n",
       "\n",
       "    .dataframe tbody tr th {\n",
       "        vertical-align: top;\n",
       "    }\n",
       "\n",
       "    .dataframe thead th {\n",
       "        text-align: right;\n",
       "    }\n",
       "</style>\n",
       "<table border=\"1\" class=\"dataframe\">\n",
       "  <thead>\n",
       "    <tr style=\"text-align: right;\">\n",
       "      <th></th>\n",
       "      <th>movie_id</th>\n",
       "      <th>movie_title</th>\n",
       "      <th>movie_genre</th>\n",
       "      <th>first_genre</th>\n",
       "      <th>split_genre</th>\n",
       "    </tr>\n",
       "  </thead>\n",
       "  <tbody>\n",
       "    <tr>\n",
       "      <th>0</th>\n",
       "      <td>979</td>\n",
       "      <td>Toy Story (1995)</td>\n",
       "      <td>Animation|Children's|Horror</td>\n",
       "      <td>Animation</td>\n",
       "      <td>[Animation, Children's, Horror]</td>\n",
       "    </tr>\n",
       "    <tr>\n",
       "      <th>1</th>\n",
       "      <td>274</td>\n",
       "      <td>Jumanji (1995)</td>\n",
       "      <td>Adventure|Children's|Fantasy</td>\n",
       "      <td>Adventure</td>\n",
       "      <td>[Adventure, Children's, Fantasy]</td>\n",
       "    </tr>\n",
       "    <tr>\n",
       "      <th>2</th>\n",
       "      <td>498</td>\n",
       "      <td>Grumpier Old Men (1995)</td>\n",
       "      <td>Horror|Romance</td>\n",
       "      <td>Comedy</td>\n",
       "      <td>[Horror, Romance]</td>\n",
       "    </tr>\n",
       "    <tr>\n",
       "      <th>3</th>\n",
       "      <td>932</td>\n",
       "      <td>Waiting to Exhale (1995)</td>\n",
       "      <td>Horror|Drama</td>\n",
       "      <td>Comedy</td>\n",
       "      <td>[Horror, Drama]</td>\n",
       "    </tr>\n",
       "    <tr>\n",
       "      <th>4</th>\n",
       "      <td>497</td>\n",
       "      <td>Father of the Bride Part II (1995)</td>\n",
       "      <td>Horror</td>\n",
       "      <td>Comedy</td>\n",
       "      <td>[Horror]</td>\n",
       "    </tr>\n",
       "    <tr>\n",
       "      <th>...</th>\n",
       "      <td>...</td>\n",
       "      <td>...</td>\n",
       "      <td>...</td>\n",
       "      <td>...</td>\n",
       "      <td>...</td>\n",
       "    </tr>\n",
       "    <tr>\n",
       "      <th>3878</th>\n",
       "      <td>915</td>\n",
       "      <td>Meet the Parents (2000)</td>\n",
       "      <td>Horror</td>\n",
       "      <td>Comedy</td>\n",
       "      <td>[Horror]</td>\n",
       "    </tr>\n",
       "    <tr>\n",
       "      <th>3879</th>\n",
       "      <td>660</td>\n",
       "      <td>Requiem for a Dream (2000)</td>\n",
       "      <td>Drama</td>\n",
       "      <td>Drama</td>\n",
       "      <td>[Drama]</td>\n",
       "    </tr>\n",
       "    <tr>\n",
       "      <th>3880</th>\n",
       "      <td>353</td>\n",
       "      <td>Tigerland (2000)</td>\n",
       "      <td>Drama</td>\n",
       "      <td>Drama</td>\n",
       "      <td>[Drama]</td>\n",
       "    </tr>\n",
       "    <tr>\n",
       "      <th>3881</th>\n",
       "      <td>443</td>\n",
       "      <td>Two Family House (2000)</td>\n",
       "      <td>Drama</td>\n",
       "      <td>Drama</td>\n",
       "      <td>[Drama]</td>\n",
       "    </tr>\n",
       "    <tr>\n",
       "      <th>3882</th>\n",
       "      <td>484</td>\n",
       "      <td>Contender, The (2000)</td>\n",
       "      <td>Drama|Thriller</td>\n",
       "      <td>Drama</td>\n",
       "      <td>[Drama, Thriller]</td>\n",
       "    </tr>\n",
       "  </tbody>\n",
       "</table>\n",
       "<p>3883 rows × 5 columns</p>\n",
       "</div>"
      ],
      "text/plain": [
       "      movie_id                         movie_title  \\\n",
       "0          979                    Toy Story (1995)   \n",
       "1          274                      Jumanji (1995)   \n",
       "2          498             Grumpier Old Men (1995)   \n",
       "3          932            Waiting to Exhale (1995)   \n",
       "4          497  Father of the Bride Part II (1995)   \n",
       "...        ...                                 ...   \n",
       "3878       915             Meet the Parents (2000)   \n",
       "3879       660          Requiem for a Dream (2000)   \n",
       "3880       353                    Tigerland (2000)   \n",
       "3881       443             Two Family House (2000)   \n",
       "3882       484               Contender, The (2000)   \n",
       "\n",
       "                       movie_genre first_genre  \\\n",
       "0      Animation|Children's|Horror   Animation   \n",
       "1     Adventure|Children's|Fantasy   Adventure   \n",
       "2                   Horror|Romance      Comedy   \n",
       "3                     Horror|Drama      Comedy   \n",
       "4                           Horror      Comedy   \n",
       "...                            ...         ...   \n",
       "3878                        Horror      Comedy   \n",
       "3879                         Drama       Drama   \n",
       "3880                         Drama       Drama   \n",
       "3881                         Drama       Drama   \n",
       "3882                Drama|Thriller       Drama   \n",
       "\n",
       "                           split_genre  \n",
       "0      [Animation, Children's, Horror]  \n",
       "1     [Adventure, Children's, Fantasy]  \n",
       "2                    [Horror, Romance]  \n",
       "3                      [Horror, Drama]  \n",
       "4                             [Horror]  \n",
       "...                                ...  \n",
       "3878                          [Horror]  \n",
       "3879                           [Drama]  \n",
       "3880                           [Drama]  \n",
       "3881                           [Drama]  \n",
       "3882                 [Drama, Thriller]  \n",
       "\n",
       "[3883 rows x 5 columns]"
      ]
     },
     "metadata": {},
     "output_type": "display_data"
    }
   ],
   "source": [
    "df['split_genre'] = df['movie_genre'].apply(lambda x: x.split('|'))\n",
    "display(df)"
   ]
  },
  {
   "cell_type": "markdown",
   "id": "962ade0e",
   "metadata": {},
   "source": [
    "## Using regular expression "
   ]
  },
  {
   "cell_type": "markdown",
   "id": "cb33e1b2",
   "metadata": {},
   "source": [
    "### 1. Provide a regular expression that may be used to extract complete email addresses. Use my email id ramya.akula@ucf.edu "
   ]
  },
  {
   "cell_type": "code",
   "execution_count": 6,
   "id": "4608ddd8",
   "metadata": {},
   "outputs": [
    {
     "data": {
      "text/plain": [
       "['ramya.akula@ucf.edu']"
      ]
     },
     "execution_count": 6,
     "metadata": {},
     "output_type": "execute_result"
    }
   ],
   "source": [
    "import re\n",
    "prompt = \"Provide a regular expression that may be used to extract complete email addresses. Use my email id ramya.akula@ucf.edu \"\n",
    "email_pattern = r\"[a-zA-Z0-9._%+-]+@[a-zA-Z0-9.-]+\\.[a-zA-Z]{2,3}\"\n",
    "re.findall(email_pattern, prompt)"
   ]
  },
  {
   "cell_type": "markdown",
   "id": "d73d5a27",
   "metadata": {},
   "source": [
    "### 2. This time write a regex to get only the part of the email before the \"@\" sign and include the \"@\" sign."
   ]
  },
  {
   "cell_type": "code",
   "execution_count": 7,
   "id": "ffb65a07",
   "metadata": {},
   "outputs": [
    {
     "data": {
      "text/plain": [
       "['ramya.akula@']"
      ]
     },
     "execution_count": 7,
     "metadata": {},
     "output_type": "execute_result"
    }
   ],
   "source": [
    "prefix_pattern = r\"[a-zA-Z0-9._%+-]+@\"\n",
    "re.findall(prefix_pattern, prompt)"
   ]
  },
  {
   "cell_type": "markdown",
   "id": "18db600e",
   "metadata": {},
   "source": [
    "### 3. This time write a regex to get only the part of the email after the \"@\" sign and exclude the \"@\" sign."
   ]
  },
  {
   "cell_type": "code",
   "execution_count": 8,
   "id": "66488f3c",
   "metadata": {},
   "outputs": [
    {
     "data": {
      "text/plain": [
       "['ucf.edu']"
      ]
     },
     "execution_count": 8,
     "metadata": {},
     "output_type": "execute_result"
    }
   ],
   "source": [
    "suffix_pattern = r\"(?<=@)[a-zA-Z0-9.-]+\\.[a-zA-Z]{2,3}\"\n",
    "re.findall(suffix_pattern, prompt)"
   ]
  },
  {
   "cell_type": "markdown",
   "id": "430a5c77",
   "metadata": {},
   "source": [
    "### 4. Find the words with exactly 8 letters using regex. '''Au pays parfume que le soleil caresse, J'ai connu, sous un dais d'arbres tout empourpres Et de palmiers d'ou pleut sur les yeux la paresse, Une dame creole aux charmes ignores.'''"
   ]
  },
  {
   "cell_type": "code",
   "execution_count": 9,
   "id": "7b40dda7",
   "metadata": {},
   "outputs": [
    {
     "data": {
      "text/plain": [
       "['palmiers']"
      ]
     },
     "execution_count": 9,
     "metadata": {},
     "output_type": "execute_result"
    }
   ],
   "source": [
    "prompt = \"Au pays parfume que le soleil caresse, J'ai connu, sous un dais d'arbres tout empourpres Et de palmiers d'ou pleut sur les yeux la paresse, Une dame creole aux charmes ignores.\"\n",
    "eight_letter_words = r\"\\b[a-zA-Z]{8}\\b\"\n",
    "re.findall(eight_letter_words, prompt)"
   ]
  },
  {
   "cell_type": "markdown",
   "id": "a579a361",
   "metadata": {},
   "source": [
    "### 5. You are given stock prices for related financial tickers. (Symbols representing companies in the stock market). Find a way to extract the tickers mentioned in the report. i.e.: TSLA, NFLX ...\"\"\"Some of the prices were as following TSLA:749.50, ORCL: 50.50, GE: 10.90, MSFT: 170.50, BIDU: 121.40. As the macroeconomic developments continue we will update the prices. \"\"\""
   ]
  },
  {
   "cell_type": "code",
   "execution_count": 10,
   "id": "cce91251",
   "metadata": {},
   "outputs": [
    {
     "data": {
      "text/plain": [
       "['TSLA', 'ORCL', 'GE', 'MSFT', 'BIDU']"
      ]
     },
     "execution_count": 10,
     "metadata": {},
     "output_type": "execute_result"
    }
   ],
   "source": [
    "prompt = \"Some of the prices were as following TSLA:749.50, ORCL: 50.50, GE: 10.90, MSFT: 170.50, BIDU: 121.40. As the macroeconomic developments continue we will update the prices.\"\n",
    "ticker_pattern = r\"\\b[A-Z]{2,5}\\b\"\n",
    "re.findall(ticker_pattern, prompt)"
   ]
  }
 ],
 "metadata": {
  "kernelspec": {
   "display_name": "Python 3 (ipykernel)",
   "language": "python",
   "name": "python3"
  },
  "language_info": {
   "codemirror_mode": {
    "name": "ipython",
    "version": 3
   },
   "file_extension": ".py",
   "mimetype": "text/x-python",
   "name": "python",
   "nbconvert_exporter": "python",
   "pygments_lexer": "ipython3",
   "version": "3.9.12"
  }
 },
 "nbformat": 4,
 "nbformat_minor": 5
}
