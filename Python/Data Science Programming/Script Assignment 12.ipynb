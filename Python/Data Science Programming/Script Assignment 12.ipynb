{
 "cells": [
  {
   "cell_type": "markdown",
   "metadata": {},
   "source": [
    "## Install Julia and Relevant Packages"
   ]
  },
  {
   "cell_type": "code",
   "execution_count": 4,
   "metadata": {},
   "outputs": [],
   "source": [
    "using CSV\n",
    "using DataFrames\n",
    "using GLM\n",
    "using Statistics"
   ]
  },
  {
   "cell_type": "markdown",
   "metadata": {},
   "source": [
    "## Data Loading and Processing"
   ]
  },
  {
   "cell_type": "code",
   "execution_count": 7,
   "metadata": {},
   "outputs": [
    {
     "data": {
      "text/plain": [
       "30-element Vector{Float64}:\n",
       " -1.647089319316488\n",
       " -1.533496952467075\n",
       " -1.4199045856176622\n",
       " -1.3063122187682492\n",
       " -1.1927198519188362\n",
       " -1.0791274850694232\n",
       " -0.9655351182200103\n",
       " -0.8519427513705973\n",
       " -0.7383503845211843\n",
       " -0.6247580176717713\n",
       "  ⋮\n",
       "  0.7383503845211843\n",
       "  0.8519427513705973\n",
       "  0.9655351182200103\n",
       "  1.0791274850694232\n",
       "  1.1927198519188362\n",
       "  1.3063122187682492\n",
       "  1.4199045856176622\n",
       "  1.533496952467075\n",
       "  1.647089319316488"
      ]
     },
     "metadata": {},
     "output_type": "display_data"
    },
    {
     "data": {
      "text/plain": [
       "30-element Vector{Int64}:\n",
       " 300000\n",
       " 310000\n",
       " 320000\n",
       " 330000\n",
       " 340000\n",
       " 350000\n",
       " 360000\n",
       " 370000\n",
       " 380000\n",
       " 390000\n",
       "      ⋮\n",
       " 510000\n",
       " 520000\n",
       " 530000\n",
       " 540000\n",
       " 550000\n",
       " 560000\n",
       " 570000\n",
       " 580000\n",
       " 590000"
      ]
     },
     "metadata": {},
     "output_type": "display_data"
    }
   ],
   "source": [
    "df = CSV.read(\"house_prices.csv\", DataFrame)\n",
    "\n",
    "df[!,:Size] = (df[!,:Size] .- mean(df[!,:Size])) ./ std(df[!,:Size])\n",
    "\n",
    "features = df[!,:Size]\n",
    "labels = df[!,:Price]\n",
    "\n",
    "display(features)\n",
    "display(labels)"
   ]
  },
  {
   "cell_type": "markdown",
   "metadata": {},
   "source": [
    "## Model Building and Training"
   ]
  },
  {
   "cell_type": "code",
   "execution_count": 8,
   "metadata": {},
   "outputs": [
    {
     "data": {
      "text/plain": [
       "30×2 Matrix{Float64}:\n",
       " 1.0  -1.64709\n",
       " 1.0  -1.5335\n",
       " 1.0  -1.4199\n",
       " 1.0  -1.30631\n",
       " 1.0  -1.19272\n",
       " 1.0  -1.07913\n",
       " 1.0  -0.965535\n",
       " 1.0  -0.851943\n",
       " 1.0  -0.73835\n",
       " 1.0  -0.624758\n",
       " ⋮    \n",
       " 1.0   0.73835\n",
       " 1.0   0.851943\n",
       " 1.0   0.965535\n",
       " 1.0   1.07913\n",
       " 1.0   1.19272\n",
       " 1.0   1.30631\n",
       " 1.0   1.4199\n",
       " 1.0   1.5335\n",
       " 1.0   1.64709"
      ]
     },
     "metadata": {},
     "output_type": "display_data"
    },
    {
     "data": {
      "text/plain": [
       "LinearModel{GLM.LmResp{Vector{Float64}}, GLM.DensePredChol{Float64, LinearAlgebra.CholeskyPivoted{Float64, Matrix{Float64}, Vector{Int64}}}}:\n",
       "\n",
       "Coefficients:\n",
       "───────────────────────────────────────────────────────────────────────────────\n",
       "       Coef.   Std. Error                     t  Pr(>|t|)  Lower 95%  Upper 95%\n",
       "───────────────────────────────────────────────────────────────────────────────\n",
       "x1  445000.0  1.28597e-11  34604101581029564.00    <1e-99   445000.0   445000.0\n",
       "x2   88034.1  1.30796e-11   6730646631664252.00    <1e-99    88034.1    88034.1\n",
       "───────────────────────────────────────────────────────────────────────────────\n"
      ]
     },
     "metadata": {},
     "output_type": "display_data"
    }
   ],
   "source": [
    "prep = hcat(ones(size(features)), features)\n",
    "display(prep)\n",
    "\n",
    "model = lm(prep, labels)\n",
    "display(model)"
   ]
  },
  {
   "cell_type": "markdown",
   "metadata": {},
   "source": [
    "## Model Evaluation"
   ]
  },
  {
   "cell_type": "code",
   "execution_count": 12,
   "metadata": {},
   "outputs": [
    {
     "name": "stdout",
     "output_type": "stream",
     "text": [
      "Mean Squard Error: 4.6304467783235086e-21\n"
     ]
    }
   ],
   "source": [
    "pred = predict(model, prep)\n",
    "mse = mean((labels - pred) .^ 2)\n",
    "println(\"Mean Squared Error: $mse\")"
   ]
  },
  {
   "cell_type": "markdown",
   "metadata": {},
   "source": [
    "## Report"
   ]
  },
  {
   "cell_type": "markdown",
   "metadata": {},
   "source": [
    "### Methodology\n",
    "The methodology used was outlined in the assignment and commenced with the creation of a synthetic dataset named **house_prices.csv**, containing two columns: **Size** (in square feet) and **Price**. The dataset comprised 30 rows of sample data representing a linear relationship between house size and price.\n",
    "\n",
    "Which was then loading using the **CSV** and **DataFrames** packages for Julia then normalized on the **Size** feature to ensure better model performance. This was done via subtracting the mean and dividing by the standard deviation.\n",
    "\n",
    "After normalization the dataset was then split into **features** and **labels** to then load into the **GLM** package for creating and training a linear regression model.\n",
    "\n",
    "```julia\n",
    "using CSV, DataFrames, GLM\n",
    "\n",
    "# Load and process data\n",
    "data = CSV.read(\"house_prices.csv\", DataFrame)\n",
    "data[!, :Size] = (data[!, :Size] .- mean(data[!, :Size])) ./ std(data[!, :Size])\n",
    "features = data[!, :Size]\n",
    "labels = data[!, :Price]\n",
    "\n",
    "# Prepare data for the model\n",
    "prep = hcat(ones(size(features)), features)\n",
    "\n",
    "# Model building and training\n",
    "model = lm(prep, labels)\n",
    "\n",
    "# Model evaluation\n",
    "pred = predict(model, prep)\n",
    "mse = mean((labels - pred) .^ 2)\n",
    "```\n",
    "\n",
    "### Findings\n",
    "The linear regression model's coefficients were as follows:\n",
    "- Intercept (x1): 445,000\n",
    "- Slope (x2): 88,034.1\n",
    "\n",
    "With the model performance being evaluated using the mean squared error, which was found to be approximately 4.63e-21. The MSE indicates a very high level of accuracy.\n",
    "\n",
    "### Challenges\n",
    "Challenges faced include the creation of the dataset itself, which after fiddling on Excel was found that online tools are far superior and less manual. Then followed by data normalization which I have not encountered yet in Julia but promptly enjoyed the integration of the math symbols inline with the dataframes and more. Of course syntax errors were prevalent but were swiftly resolved as the Visual Studio IDE has the tips in the terminal to ensure quick reconciliation.\n",
    "\n",
    "## Conclusion\n",
    "The linear regression model demonstrated high accuracy in predicting house prices based on house size. The exercise provided valuable insights into data processing, model creation, and evaluation in Julia. The challenges faced were effectively addressed, enhancing the understanding of Julia's data handling and machine learning capabilities."
   ]
  }
 ],
 "metadata": {
  "kernelspec": {
   "display_name": "Julia 1.9.3",
   "language": "julia",
   "name": "julia-1.9"
  },
  "language_info": {
   "file_extension": ".jl",
   "mimetype": "application/julia",
   "name": "julia",
   "version": "1.9.3"
  }
 },
 "nbformat": 4,
 "nbformat_minor": 2
}
