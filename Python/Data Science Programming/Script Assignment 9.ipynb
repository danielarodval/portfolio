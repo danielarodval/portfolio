{
 "cells": [
  {
   "cell_type": "markdown",
   "id": "6cbd87bc",
   "metadata": {},
   "source": [
    "Instead of examining the model answer, write your own vectorized version of the score. Assume the data is stored in an n Å~ 3 matrix where each row contains\n",
    "\n",
    "one combination of slots to be scored.\n",
    "\n",
    "You can use the version of the score that treats diamonds as wild or the version of the score that doesn’t. However, the model answer will use the version treating diamonds as wild."
   ]
  },
  {
   "cell_type": "code",
   "execution_count": 3,
   "id": "4cd4ebd2",
   "metadata": {},
   "outputs": [
    {
     "data": {
      "text/html": [
       "<ol class=list-inline>\n",
       "\t<li>4</li>\n",
       "\t<li>0</li>\n",
       "\t<li>4</li>\n",
       "\t<li>2</li>\n",
       "\t<li>2</li>\n",
       "</ol>\n"
      ],
      "text/latex": [
       "\\begin{enumerate*}\n",
       "\\item 4\n",
       "\\item 0\n",
       "\\item 4\n",
       "\\item 2\n",
       "\\item 2\n",
       "\\end{enumerate*}\n"
      ],
      "text/markdown": [
       "1. 4\n",
       "2. 0\n",
       "3. 4\n",
       "4. 2\n",
       "5. 2\n",
       "\n",
       "\n"
      ],
      "text/plain": [
       "[1] 4 0 4 2 2"
      ]
     },
     "metadata": {},
     "output_type": "display_data"
    }
   ],
   "source": [
    "score_slots <- function(slots_matrix){\n",
    "    symbols <- c(\"DD\", \"7\", \"BBB\", \"BB\", \"B\", \"C\", \"0\")\n",
    "    payouts <- list('DD' = 2, '7' = 100, 'BBB' = 40, 'BB' = 25, 'B' = 10, 'C' = 2, '0' = 0, 'MixedBars' = 5)\n",
    "    \n",
    "    diamond_counts <- rowSums(slots_matrix == \"DD\")\n",
    "    \n",
    "    scores <- numeric(nrow(slots_matrix))\n",
    "    \n",
    "    for(i in 1:nrow(slots_matrix)){\n",
    "        row_symbols <- slots_matrix[i, ]\n",
    "        \n",
    "        for(sym in symbols){\n",
    "            if(sum(row_symbols == sym) + diamond_counts[i] == 3){\n",
    "                scores[i] <- payouts[[sym]]\n",
    "                if(sym == \"DD\"){\n",
    "                    scores[i] <- scores[i] * diamond_counts[i]\n",
    "                }\n",
    "                break\n",
    "            }\n",
    "        }\n",
    "        if(scores[i] == 0 && sum(row_symbols %in% c(\"BBB\", \"BB\", \"B\")) + diamond_counts[i] == 3){\n",
    "            scores[i] <- payouts[[\"MixedBars\"]]\n",
    "        }\n",
    "        \n",
    "        if(scores[i] == 0 && sum(row_symbols == \"C\") + diamond_counts[i] >= 1){\n",
    "            scores[i] <- payouts[[\"C\"]] * (sum(row_symbols == \"C\") + diamond_counts[i])\n",
    "        }\n",
    "    }\n",
    "    return(scores)\n",
    "}\n",
    "\n",
    "slots_matrix <- matrix(c(\"DD\", \"7\", \"BBB\", \"BB\", \"B\", \"C\", \"0\", \"DD\", \"DD\", \"7\", \"BB\", \"B\", \"C\", \"0\", \"DD\"), ncol = 3)\n",
    "score_slots(slots_matrix)"
   ]
  }
 ],
 "metadata": {
  "kernelspec": {
   "display_name": "R",
   "language": "R",
   "name": "ir"
  },
  "language_info": {
   "codemirror_mode": "r",
   "file_extension": ".r",
   "mimetype": "text/x-r-source",
   "name": "R",
   "pygments_lexer": "r",
   "version": "3.6.1"
  }
 },
 "nbformat": 4,
 "nbformat_minor": 5
}
