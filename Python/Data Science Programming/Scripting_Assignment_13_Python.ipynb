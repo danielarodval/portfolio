{
 "cells": [
  {
   "cell_type": "markdown",
   "id": "ef247922",
   "metadata": {},
   "source": [
    "Assignment 1: Basic Array Operations"
   ]
  },
  {
   "cell_type": "code",
   "execution_count": 1,
   "id": "9fa44538",
   "metadata": {},
   "outputs": [
    {
     "name": "stdout",
     "output_type": "stream",
     "text": [
      "Original array: [1, 2, 3, 4, 5]\n",
      "Sliced array: [1, 2, 3]\n"
     ]
    }
   ],
   "source": [
    "arr = []\n",
    "\n",
    "for i in range(1, 6):\n",
    "    arr.append(i)\n",
    "    \n",
    "sliced_arr = arr[:3]\n",
    "\n",
    "#Checking the values in the original array vs the slice\n",
    "print(\"Original array:\", arr)\n",
    "print(\"Sliced array:\", sliced_arr)"
   ]
  },
  {
   "cell_type": "markdown",
   "id": "6292c9d7",
   "metadata": {},
   "source": [
    "Assignment 2: Custom Type/Class Definition"
   ]
  },
  {
   "cell_type": "code",
   "execution_count": 2,
   "id": "99883c9f",
   "metadata": {},
   "outputs": [
    {
     "name": "stdout",
     "output_type": "stream",
     "text": [
      "Person's name: Mir Khan\n",
      "Person's age: 30\n"
     ]
    }
   ],
   "source": [
    "#Python object creation\n",
    "class Person:\n",
    "    def __init__(self, name, age):\n",
    "        self.name = name\n",
    "        self.age = age\n",
    "\n",
    "person_instance = Person(name=\"Mir Khan\", age=30)\n",
    "\n",
    "# printing the persons attributes\n",
    "print(\"Person's name:\", person_instance.name)\n",
    "print(\"Person's age:\", person_instance.age)\n"
   ]
  },
  {
   "cell_type": "markdown",
   "id": "353991c0",
   "metadata": {},
   "source": [
    "Assignment 3: File I/O Operations"
   ]
  },
  {
   "cell_type": "code",
   "execution_count": 3,
   "id": "70d29b23",
   "metadata": {},
   "outputs": [
    {
     "name": "stdout",
     "output_type": "stream",
     "text": [
      "Content from the file: Hello, World!\n"
     ]
    }
   ],
   "source": [
    "#creating the file then reading from it\n",
    "with open(\"hello_world_python.txt\", \"w\") as file:\n",
    "    file.write(\"Hello, World!\")\n",
    "\n",
    "with open(\"hello_world.txt\", \"r\") as file:\n",
    "    content = file.read()\n",
    "    print(\"Content from the file:\", content)\n"
   ]
  },
  {
   "cell_type": "markdown",
   "id": "375c70e1",
   "metadata": {},
   "source": [
    "Assignment 4: Fibonacci Sequence with Function"
   ]
  },
  {
   "cell_type": "code",
   "execution_count": 4,
   "id": "3cc1537c",
   "metadata": {},
   "outputs": [
    {
     "name": "stdout",
     "output_type": "stream",
     "text": [
      "The 6th Fibonacci number is: 8\n"
     ]
    }
   ],
   "source": [
    "#since the sequence goes 1,1,2,3,5... this is the function we should use\n",
    "def fibonacci_recursive(n):\n",
    "    if n <= 0:\n",
    "        return \"Input must be a positive integer\"\n",
    "    elif n == 1 or n ==2:\n",
    "        return 1\n",
    "    else:\n",
    "        return fibonacci_recursive(n - 1) + fibonacci_recursive(n - 2)\n",
    "\n",
    "#Testing the function\n",
    "n = 6\n",
    "result = fibonacci_recursive(n)\n",
    "print(f\"The {n}th Fibonacci number is: {result}\")\n"
   ]
  },
  {
   "cell_type": "markdown",
   "id": "c5c655fe",
   "metadata": {},
   "source": [
    "Assignment 5: Data Visualization"
   ]
  },
  {
   "cell_type": "code",
   "execution_count": 5,
   "id": "77356011",
   "metadata": {},
   "outputs": [
    {
     "data": {
      "image/png": "[encoded data removed]",
      "text/plain": [
       "<Figure size 432x288 with 1 Axes>"
      ]
     },
     "metadata": {
      "needs_background": "light"
     },
     "output_type": "display_data"
    }
   ],
   "source": [
    "import matplotlib.pyplot as plt\n",
    "import numpy as np\n",
    "\n",
    "x = np.linspace(-5, 5, 100)\n",
    "y = x**2\n",
    "\n",
    "plt.plot(x, y, label='y = x^2')\n",
    "plt.xlabel('x')\n",
    "plt.ylabel('y')\n",
    "plt.title('Line Graph of y = x^2')\n",
    "plt.legend()\n",
    "plt.grid(True)\n",
    "plt.show()\n"
   ]
  },
  {
   "cell_type": "code",
   "execution_count": null,
   "id": "ed6c33c5",
   "metadata": {},
   "outputs": [],
   "source": []
  }
 ],
 "metadata": {
  "kernelspec": {
   "display_name": "Python 3 (ipykernel)",
   "language": "python",
   "name": "python3"
  },
  "language_info": {
   "codemirror_mode": {
    "name": "ipython",
    "version": 3
   },
   "file_extension": ".py",
   "mimetype": "text/x-python",
   "name": "python",
   "nbconvert_exporter": "python",
   "pygments_lexer": "ipython3",
   "version": "3.9.12"
  }
 },
 "nbformat": 4,
 "nbformat_minor": 5
}
