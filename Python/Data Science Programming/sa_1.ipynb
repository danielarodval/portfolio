{
 "cells": [
  {
   "cell_type": "markdown",
   "id": "c8f04c42",
   "metadata": {},
   "source": [
    "## CH02"
   ]
  },
  {
   "cell_type": "markdown",
   "id": "121e841c",
   "metadata": {},
   "source": [
    "### 1)"
   ]
  },
  {
   "cell_type": "code",
   "execution_count": 1,
   "id": "ac507ed2",
   "metadata": {},
   "outputs": [
    {
     "data": {
      "text/plain": [
       "[1, 2, 3]"
      ]
     },
     "execution_count": 1,
     "metadata": {},
     "output_type": "execute_result"
    }
   ],
   "source": [
    "a = [1, 2, 3]\n",
    "b = a\n",
    "b"
   ]
  },
  {
   "cell_type": "markdown",
   "id": "05f0d466",
   "metadata": {},
   "source": [
    "The script above is creating an array/list with 3 values and then setting another variable equal to the variable storing said array/list."
   ]
  },
  {
   "cell_type": "markdown",
   "id": "20261d52",
   "metadata": {},
   "source": [
    "### 2)"
   ]
  },
  {
   "cell_type": "code",
   "execution_count": 2,
   "id": "9091b630",
   "metadata": {},
   "outputs": [
    {
     "data": {
      "text/plain": [
       "[1, 2, 3, 4]"
      ]
     },
     "execution_count": 2,
     "metadata": {},
     "output_type": "execute_result"
    }
   ],
   "source": [
    "a.append(4)\n",
    "b"
   ]
  },
  {
   "cell_type": "markdown",
   "id": "4bd25b7a",
   "metadata": {},
   "source": [
    "The script above is appending a value to original list a, and since b is equal to list a it is reflecting the appended value."
   ]
  },
  {
   "cell_type": "markdown",
   "id": "9899be22",
   "metadata": {},
   "source": [
    "### 3)"
   ]
  },
  {
   "cell_type": "code",
   "execution_count": 3,
   "id": "0ebe0fad",
   "metadata": {},
   "outputs": [
    {
     "data": {
      "text/plain": [
       "[1, 2, 3, 4]"
      ]
     },
     "execution_count": 3,
     "metadata": {},
     "output_type": "execute_result"
    }
   ],
   "source": [
    "def append_element(some_list, element):\n",
    "    some_list.append(element)\n",
    "\n",
    "data = [1, 2, 3]\n",
    "append_element(data, 4)\n",
    "data"
   ]
  },
  {
   "cell_type": "markdown",
   "id": "6bad5fa6",
   "metadata": {},
   "source": [
    "The script above is defining a function append_element which appends a value to a given list, in this case the list data and appending value 4."
   ]
  },
  {
   "cell_type": "markdown",
   "id": "d42ba053",
   "metadata": {},
   "source": [
    "### 4)"
   ]
  },
  {
   "cell_type": "code",
   "execution_count": 4,
   "id": "80a229a0",
   "metadata": {},
   "outputs": [
    {
     "data": {
      "text/plain": [
       "1.5"
      ]
     },
     "execution_count": 4,
     "metadata": {},
     "output_type": "execute_result"
    }
   ],
   "source": [
    "3 / 2"
   ]
  },
  {
   "cell_type": "markdown",
   "id": "69060509",
   "metadata": {},
   "source": [
    "The script above is dividing the int value of 3 with the int value of 2."
   ]
  },
  {
   "cell_type": "markdown",
   "id": "c24fb63a",
   "metadata": {},
   "source": [
    "### 5)"
   ]
  },
  {
   "cell_type": "code",
   "execution_count": 5,
   "id": "63debc67",
   "metadata": {},
   "outputs": [
    {
     "name": "stdout",
     "output_type": "stream",
     "text": [
      "5.6\n"
     ]
    }
   ],
   "source": [
    "a = 5.6\n",
    "s = str(a)\n",
    "print(s)"
   ]
  },
  {
   "cell_type": "markdown",
   "id": "11ed1ce7",
   "metadata": {},
   "source": [
    "The script above is setting variable a to 5.6 and setting variable s to the string conversion of 5.6 so it would be stored as '5.6'."
   ]
  },
  {
   "cell_type": "markdown",
   "id": "279c525c",
   "metadata": {},
   "source": [
    "## CH03"
   ]
  },
  {
   "cell_type": "markdown",
   "id": "55ccf728",
   "metadata": {},
   "source": [
    "### 1)"
   ]
  },
  {
   "cell_type": "code",
   "execution_count": 6,
   "id": "894b7b07",
   "metadata": {},
   "outputs": [
    {
     "data": {
      "text/plain": [
       "{1, 2, 3, 4, 5, 6, 7, 8}"
      ]
     },
     "execution_count": 6,
     "metadata": {},
     "output_type": "execute_result"
    }
   ],
   "source": [
    "a = {1, 2, 3, 4, 5}\n",
    "b = {3, 4, 5, 6, 7, 8}\n",
    "a.union(b)\n",
    "a | b"
   ]
  },
  {
   "cell_type": "markdown",
   "id": "7d659d16",
   "metadata": {},
   "source": [
    "The script above is creating two dicts a and b, then with the | operator is getting the union of the two resulting in eah occurring value from either dict, returning a new dict with all values that occurred in a and b without duplicates."
   ]
  },
  {
   "cell_type": "markdown",
   "id": "c2d27006",
   "metadata": {},
   "source": [
    "### 2)"
   ]
  },
  {
   "cell_type": "code",
   "execution_count": 7,
   "id": "0bdb5cab",
   "metadata": {},
   "outputs": [
    {
     "data": {
      "text/plain": [
       "[2, 3, 7, 5]"
      ]
     },
     "execution_count": 7,
     "metadata": {},
     "output_type": "execute_result"
    }
   ],
   "source": [
    "seq = [7, 2, 3, 7, 5, 6, 0, 1]\n",
    "seq[1:5]"
   ]
  },
  {
   "cell_type": "markdown",
   "id": "098c8e32",
   "metadata": {},
   "source": [
    "The script above is creating a list called seq and then using the brackets 1:5 selecting the second item in the list to the sixth since the list index starts at 0. So index 1 to index 5."
   ]
  },
  {
   "cell_type": "markdown",
   "id": "409ea7c2",
   "metadata": {},
   "source": [
    "### 3)"
   ]
  },
  {
   "cell_type": "code",
   "execution_count": 8,
   "id": "f953142c",
   "metadata": {},
   "outputs": [
    {
     "data": {
      "text/plain": [
       "[7, 2, 3, 6, 3, 6, 0, 1]"
      ]
     },
     "execution_count": 8,
     "metadata": {},
     "output_type": "execute_result"
    }
   ],
   "source": [
    "seq[3:5] = [6, 3]\n",
    "seq"
   ]
  },
  {
   "cell_type": "markdown",
   "id": "d3c804e7",
   "metadata": {},
   "source": [
    "The script above is setting the seq list starting at index 3 equal to the list values, this is only calling index position 3 and 4, since it is 3 to 5 but not including 5. This now places the values of list [6,3] into the index positions 3 and 4."
   ]
  },
  {
   "cell_type": "markdown",
   "id": "7a1e7f46",
   "metadata": {},
   "source": [
    "### 4)"
   ]
  },
  {
   "cell_type": "code",
   "execution_count": 12,
   "id": "92cc7c4d",
   "metadata": {},
   "outputs": [
    {
     "data": {
      "text/plain": [
       "[6, 3, 6, 0, 1]"
      ]
     },
     "execution_count": 12,
     "metadata": {},
     "output_type": "execute_result"
    }
   ],
   "source": [
    "seq[:5]\n",
    "seq[3:]"
   ]
  },
  {
   "cell_type": "markdown",
   "id": "d00633c8",
   "metadata": {},
   "source": [
    "The script above is selecting in two different ways, the first [:5] is selecting the first 5 elements of the list seq, starting from 0 up until 5. The second [3:] is selecting everything after the first 3 elements of the list seq"
   ]
  },
  {
   "cell_type": "markdown",
   "id": "fb4416da",
   "metadata": {},
   "source": [
    "### 5)"
   ]
  },
  {
   "cell_type": "code",
   "execution_count": 10,
   "id": "a873f7ea",
   "metadata": {},
   "outputs": [
    {
     "data": {
      "text/plain": [
       "[7, 3, 3, 0]"
      ]
     },
     "execution_count": 10,
     "metadata": {},
     "output_type": "execute_result"
    }
   ],
   "source": [
    "seq[::2]"
   ]
  },
  {
   "cell_type": "markdown",
   "id": "db1f792c",
   "metadata": {},
   "source": [
    "The script above is "
   ]
  }
 ],
 "metadata": {
  "kernelspec": {
   "display_name": "Python 3 (ipykernel)",
   "language": "python",
   "name": "python3"
  },
  "language_info": {
   "codemirror_mode": {
    "name": "ipython",
    "version": 3
   },
   "file_extension": ".py",
   "mimetype": "text/x-python",
   "name": "python",
   "nbconvert_exporter": "python",
   "pygments_lexer": "ipython3",
   "version": "3.9.12"
  }
 },
 "nbformat": 4,
 "nbformat_minor": 5
}
