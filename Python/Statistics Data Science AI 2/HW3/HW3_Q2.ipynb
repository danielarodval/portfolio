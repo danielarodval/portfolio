{
 "cells": [
  {
   "cell_type": "markdown",
   "id": "656b7b0c",
   "metadata": {},
   "source": [
    "<h1 style=\"font-size:3rem;color:orange;\">Homework 3</h1>"
   ]
  },
  {
   "cell_type": "markdown",
   "id": "ae5e1ca2",
   "metadata": {},
   "source": [
    "# Problem 2"
   ]
  },
  {
   "cell_type": "markdown",
   "id": "402e50f5",
   "metadata": {},
   "source": [
    "### 10. In this problem, you will generate simulated data, and then perform PCA and K-means clustering on the data. "
   ]
  },
  {
   "cell_type": "markdown",
   "id": "e1381ca5",
   "metadata": {},
   "source": [
    "(a) Generate a simulated data set with 20 observations in each of three classes (i.e., 60 observations total), and 50 variables. Hint: There are several functions in R that you can use to generate data. One example is the rnorm() function; runif() is another option. Be sure to add a mean shift to the observations in each class so that there are three distinct classes. "
   ]
  },
  {
   "cell_type": "code",
   "execution_count": 28,
   "id": "8ea06543",
   "metadata": {},
   "outputs": [
    {
     "name": "stdout",
     "output_type": "stream",
     "text": [
      "Head of DataFrame 1:\n",
      "          0         1         2         3         4         5         6   \\\n",
      "0 -0.046741  2.014021  1.624853  -0.52038 -0.383157  0.004045 -0.542218   \n",
      "1  0.348215 -1.638005 -0.423099  0.338112  1.899693  0.296986 -0.004129   \n",
      "2 -0.126225  0.068778  0.518311  0.868168  0.022857  0.233042  2.669853   \n",
      "3  1.791834  2.349753   1.21318  0.348062 -0.236852 -0.544592  1.007884   \n",
      "4  0.589848  1.122629  0.328796 -1.141019   0.94302 -0.778264  1.028219   \n",
      "\n",
      "         7         8         9   ...        41        42        43        44  \\\n",
      "0 -0.457654   1.16644 -0.419229  ...  0.290762  0.705153 -0.765765  0.339847   \n",
      "1 -0.440813 -0.232753  0.276957  ...  0.694805  0.900209  1.934013  1.327063   \n",
      "2  1.314419  0.629228  1.335013  ...  1.542554  0.817948  -1.80135  0.673176   \n",
      "3  0.237882 -0.635815 -0.405539  ... -0.606356  0.242795  0.564811  0.348057   \n",
      "4 -0.018781  0.757675  -0.40887  ... -1.163415  -2.23992 -1.310834  -0.15553   \n",
      "\n",
      "         45        46        47        48        49       0   \n",
      "0 -0.337068  0.097134  2.232637  0.457435 -0.984582  class_1  \n",
      "1  0.608502  1.217888  0.089142 -0.856354  0.242964  class_1  \n",
      "2 -1.643163  -0.35492 -0.183951 -1.330318 -0.490867  class_1  \n",
      "3  0.838604 -0.341157   0.92311  0.611027 -0.460785  class_1  \n",
      "4  0.949011 -0.261335 -2.451253 -0.196916  1.224495  class_1  \n",
      "\n",
      "[5 rows x 51 columns] \n",
      "Shape: (20, 51)\n",
      "Head of DataFrame 2:\n",
      "          0         1         2         3         4         5         6   \\\n",
      "0 -1.074881  0.252431  1.256368   0.76047  0.555589  0.588326  2.067908   \n",
      "1 -1.005064  0.091804 -0.322605  3.166429   1.70897  0.350598  0.886197   \n",
      "2  0.641183 -0.122137  1.730323 -0.925502  1.154276 -0.190753  1.384349   \n",
      "3  0.808331 -0.707144  -0.34448   0.56159  1.731804  2.100701   0.57444   \n",
      "4  0.666671   1.08168 -0.089099  0.972498  2.311407  1.303702  0.532197   \n",
      "\n",
      "         7         8         9   ...        41        42        43        44  \\\n",
      "0  0.845415  0.498036   0.23684  ...  0.982208  1.074455    1.2492  0.268712   \n",
      "1  1.551406   1.04449 -2.305031  ...  0.484896  0.493001  0.822765  0.850608   \n",
      "2  3.067496 -0.325406 -0.076925  ...  1.192344  2.121763   1.19597  0.733777   \n",
      "3  0.331552  0.291189  1.251048  ...  0.010283  1.543562  1.564834 -0.563214   \n",
      "4  0.605735  0.669188  2.899236  ...  1.333261 -0.380272  1.318081  0.907545   \n",
      "\n",
      "         45        46        47        48        49       0   \n",
      "0  0.694017 -0.294471  -0.19184  1.179574  0.963512  class_2  \n",
      "1   1.05979 -0.621181  0.602883  1.531714  0.165815  class_2  \n",
      "2 -0.674243  0.142841  0.390637 -0.824424 -0.261074  class_2  \n",
      "3  1.323751  1.768941  1.762621  1.223961  0.955863  class_2  \n",
      "4 -0.270443  1.376548  1.297154  0.416233  0.633907  class_2  \n",
      "\n",
      "[5 rows x 51 columns] \n",
      "Shape: (20, 51)\n",
      "Head of DataFrame 3:\n",
      "          0         1         2         3         4         5         6   \\\n",
      "0  2.161199 -1.454001  1.800856  1.522415  1.497121  2.946695 -0.035496   \n",
      "1  0.811885  0.711134  1.131431  2.756063  1.411908  0.759845  1.252774   \n",
      "2  0.225012  0.286907  1.448646   0.02514  2.990427  1.052003  2.007076   \n",
      "3  1.501507  1.160019 -0.316993  1.869498  1.939887 -0.004463 -0.203009   \n",
      "4  0.826633  1.038638  3.363862  1.963877  1.160826 -0.357186  0.419585   \n",
      "\n",
      "         7         8         9   ...        41        42        43        44  \\\n",
      "0  1.104787   1.22198  0.997308  ...  2.271701   0.02408 -0.100642  2.066368   \n",
      "1   1.01008   1.25039  1.010848  ...   0.86542  1.417404  2.474926  1.158949   \n",
      "2  0.806454  2.971724  0.694282  ... -0.032736  0.561878  1.382129   1.58364   \n",
      "3  2.699134  0.213838  0.805442  ...   1.37556  1.775066  0.655925  1.477986   \n",
      "4  1.619435  1.480627  0.439959  ...  1.854946  2.921694  1.562058  2.291857   \n",
      "\n",
      "         45        46        47        48        49       0   \n",
      "0  2.442956  2.377422  1.442077  1.863395  1.819757  class_3  \n",
      "1  2.327229  0.839175    2.3219  0.206433   2.23944  class_3  \n",
      "2  2.536606  1.301196  0.478029  0.160889  1.246909  class_3  \n",
      "3 -0.544471  0.635087  2.738505  1.761215  1.421511  class_3  \n",
      "4  1.518134  3.240158  2.126751  1.990263  0.399432  class_3  \n",
      "\n",
      "[5 rows x 51 columns] \n",
      "Shape: (20, 51)\n",
      "Head of X:\n",
      "           0         1         2         3         4         5         6  \\\n",
      "0 -0.046741  2.014021  1.624853  -0.52038 -0.383157  0.004045 -0.542218   \n",
      "1  0.348215 -1.638005 -0.423099  0.338112  1.899693  0.296986 -0.004129   \n",
      "2 -0.126225  0.068778  0.518311  0.868168  0.022857  0.233042  2.669853   \n",
      "3  1.791834  2.349753   1.21318  0.348062 -0.236852 -0.544592  1.007884   \n",
      "4  0.589848  1.122629  0.328796 -1.141019   0.94302 -0.778264  1.028219   \n",
      "\n",
      "          7         8         9  ...        41        42        43        44  \\\n",
      "0 -0.457654   1.16644 -0.419229  ...  0.290762  0.705153 -0.765765  0.339847   \n",
      "1 -0.440813 -0.232753  0.276957  ...  0.694805  0.900209  1.934013  1.327063   \n",
      "2  1.314419  0.629228  1.335013  ...  1.542554  0.817948  -1.80135  0.673176   \n",
      "3  0.237882 -0.635815 -0.405539  ... -0.606356  0.242795  0.564811  0.348057   \n",
      "4 -0.018781  0.757675  -0.40887  ... -1.163415  -2.23992 -1.310834  -0.15553   \n",
      "\n",
      "         45        46        47        48        49 observation  \n",
      "0 -0.337068  0.097134  2.232637  0.457435 -0.984582     class_1  \n",
      "1  0.608502  1.217888  0.089142 -0.856354  0.242964     class_1  \n",
      "2 -1.643163  -0.35492 -0.183951 -1.330318 -0.490867     class_1  \n",
      "3  0.838604 -0.341157   0.92311  0.611027 -0.460785     class_1  \n",
      "4  0.949011 -0.261335 -2.451253 -0.196916  1.224495     class_1  \n",
      "\n",
      "[5 rows x 51 columns] \n",
      "Shape: (60, 51)\n"
     ]
    }
   ],
   "source": [
    "#%% Genereating a simulated data set with 60 observations\n",
    "\n",
    "import pandas as pd\n",
    "import numpy as np\n",
    "\n",
    "#creates 50 columns\n",
    "col = [1]*50\n",
    "#randomly generates 20 normalized rows per column\n",
    "arrays_1 = [np.random.normal(loc=0, scale=c, size=(20)) for c in col]\n",
    "#creates dataframe from numpy arrays\n",
    "df_1 = pd.DataFrame.from_dict(arrays_1)\n",
    "#transposes to create a 20 observation/row 50 variable/column dataframe\n",
    "#adds a classifier column to identify what class observation it is from\n",
    "listtype = ['class_1']*20\n",
    "dftype = pd.DataFrame(listtype).transpose()\n",
    "#add to original dataframe\n",
    "df_1 = pd.concat([df_1,dftype])\n",
    "#transposes to create a 20 observation 50 variable dataframe\n",
    "df_1 = df_1.transpose()\n",
    "print(\"Head of DataFrame 1:\\n\",df_1.head(),\"\\nShape:\",df_1.shape)\n",
    "del arrays_1, listtype, dftype\n",
    "#repeat 2 times with different meanshifts/loc\n",
    "arrays_2 = [np.random.normal(loc=0.7, scale=c, size=(20)) for c in col]\n",
    "df_2 = pd.DataFrame.from_dict(arrays_2)\n",
    "\n",
    "listtype = ['class_2']*20\n",
    "dftype = pd.DataFrame(listtype).transpose()\n",
    "df_2 = pd.concat([df_2,dftype])\n",
    "df_2 = df_2.transpose()\n",
    "print(\"Head of DataFrame 2:\\n\",df_2.head(),\"\\nShape:\",df_2.shape)\n",
    "del arrays_2, listtype, dftype\n",
    "arrays_3 = [np.random.normal(loc=1.4, scale=c, size=(20)) for c in col]\n",
    "df_3 = pd.DataFrame.from_dict(arrays_3)\n",
    "\n",
    "listtype = ['class_3']*20\n",
    "dftype = pd.DataFrame(listtype).transpose()\n",
    "df_3 = pd.concat([df_3,dftype])\n",
    "df_3 = df_3.transpose()\n",
    "print(\"Head of DataFrame 3:\\n\",df_3.head(),\"\\nShape:\",df_3.shape)\n",
    "del arrays_3, listtype, dftype\n",
    "\n",
    "df = pd.concat([df_1,df_2,df_3]).reset_index(drop=True)\n",
    "df = df.set_axis([*df.columns[:-1], 'observation'], axis=1, inplace=False)\n",
    "\n",
    "print(\"Head of X:\\n\",df.head(),\"\\nShape:\",df.shape)\n",
    "del df_1, df_2, df_3, col"
   ]
  },
  {
   "cell_type": "markdown",
   "id": "f5f5c412",
   "metadata": {},
   "source": [
    "(b) Perform PCA on the 60 observations and plot the first two principal component score vectors. Use a different color to indicate the observations in each of the three classes. If the three classes appear separated in this plot, then continue to part (c). If not, then return to part (a) and modify the simulation so that there is greater separation between the three classes. Do not continue to part (c) until the three classes show at least some separation in the first two principal component score vectors. "
   ]
  },
  {
   "cell_type": "code",
   "execution_count": 29,
   "id": "1e5f3306",
   "metadata": {},
   "outputs": [
    {
     "data": {
      "image/png": "[encoded data removed]",
      "text/plain": [
       "<Figure size 576x576 with 1 Axes>"
      ]
     },
     "metadata": {
      "needs_background": "light"
     },
     "output_type": "display_data"
    }
   ],
   "source": [
    "#%% Perform PCA on the 60 observations and plot\n",
    "\n",
    "from sklearn.decomposition import PCA\n",
    "import matplotlib.pyplot as plt\n",
    "\n",
    "#separating out the features\n",
    "X = df.iloc[: , :50]\n",
    "\n",
    "#separating out the target\n",
    "y = df.loc[:,['observation']].values\n",
    "\n",
    "pca = PCA(n_components=50)\n",
    "\n",
    "principalComponents = pca.fit_transform(X)\n",
    "principalDf = pd.DataFrame(principalComponents)\n",
    "\n",
    "finalDf = pd.concat([principalDf, df[['observation']]], axis = 1)\n",
    "\n",
    "fig = plt.figure(figsize = (8,8))\n",
    "ax = fig.add_subplot(1,1,1) \n",
    "ax.set_xlabel('Principal Component 1', fontsize = 15)\n",
    "ax.set_ylabel('Principal Component 2', fontsize = 15)\n",
    "ax.set_title('2 component PCA', fontsize = 20)\n",
    "\n",
    "targets = ['class_1', 'class_2', 'class_3']\n",
    "colors = ['r', 'g', 'b']\n",
    "for target, color in zip(targets,colors):\n",
    "    indicesToKeep = finalDf['observation'] == target\n",
    "    ax.scatter(finalDf.loc[indicesToKeep, 0]\n",
    "               , finalDf.loc[indicesToKeep, 1]\n",
    "               , c = color\n",
    "               , s = 50)\n",
    "ax.legend(targets)\n",
    "ax.grid()\n",
    "\n",
    "del principalComponents, ax, color, colors, fig, indicesToKeep, pca, principalDf, target, targets"
   ]
  },
  {
   "cell_type": "markdown",
   "id": "b79ddebe",
   "metadata": {},
   "source": [
    "(c) Perform K-means clustering of the observations with K = 3. How well do the clusters that you obtained in K-means clustering compared to the true class labels? Hint: You can use the table() function in R to compare the true class labels to the class labels obtained by clustering. Be careful how you interpret the results: K-means clustering will arbitrarily number the clusters, so you cannot simply check whether the true class labels and clustering labels are the same. "
   ]
  },
  {
   "cell_type": "code",
   "execution_count": 37,
   "id": "2bf07be4",
   "metadata": {
    "scrolled": true
   },
   "outputs": [
    {
     "name": "stdout",
     "output_type": "stream",
     "text": [
      "cluster\n",
      " [2 2 2 2 2 2 2 2 2 2 2 2 2 2 2 2 2 2 2 2 0 0 0 0 0 0 0 0 0 0 0 0 0 0 0 0 0\n",
      " 0 0 0 1 1 1 1 1 1 1 1 1 1 1 1 1 1 1 1 1 1 1 1] \n",
      "\n",
      "true_class   0   1   2\n",
      "cluster               \n",
      "0            0  20   0\n",
      "1            0   0  20\n",
      "2           20   0   0\n"
     ]
    }
   ],
   "source": [
    "#%% Perfrom K-means clustering k=3\n",
    "from sklearn.cluster import KMeans\n",
    "\n",
    "kmeans = KMeans(n_clusters=3, random_state=0).fit(X)\n",
    "true_class = np.array(['0']*20 + ['1']*20 + ['2']*20, dtype=int)\n",
    "cluster = kmeans.labels_\n",
    "print(\"cluster\\n\",cluster,\"\\n\")\n",
    "tab = pd.crosstab(cluster, true_class, rownames = ['cluster'], colnames = ['true_class']);\n",
    "print(tab)\n",
    "del kmeans, true_class, cluster, tab"
   ]
  },
  {
   "cell_type": "markdown",
   "id": "86ae52bc",
   "metadata": {},
   "source": [
    "<b style=\"font-size:1.5rem;color:red;\">All are perfectly clustered.</b>"
   ]
  },
  {
   "cell_type": "markdown",
   "id": "2511b910",
   "metadata": {},
   "source": [
    "(d) Perform K-means clustering with K = 2. Describe your results. "
   ]
  },
  {
   "cell_type": "code",
   "execution_count": 38,
   "id": "ddae8584",
   "metadata": {
    "scrolled": false
   },
   "outputs": [
    {
     "name": "stdout",
     "output_type": "stream",
     "text": [
      "cluster\n",
      " [1 1 1 1 1 1 1 1 1 1 1 1 1 1 1 1 1 1 1 1 1 0 0 1 0 0 0 1 1 1 1 0 0 1 1 0 1\n",
      " 0 0 1 0 0 0 0 0 0 0 0 0 0 0 0 0 0 0 0 0 0 0 0] \n",
      "\n",
      "true_class   0   1   2\n",
      "cluster               \n",
      "0            0  10  20\n",
      "1           20  10   0\n"
     ]
    }
   ],
   "source": [
    "#%% Perfrom K-means clustering k=2\n",
    "from sklearn.cluster import KMeans\n",
    "\n",
    "kmeans = KMeans(n_clusters=2, random_state=0).fit(X)\n",
    "true_class = np.array(['0']*20 + ['1']*20 + ['2']*20, dtype=int)\n",
    "cluster = kmeans.labels_\n",
    "print(\"cluster\\n\",cluster,\"\\n\")\n",
    "tab = pd.crosstab(cluster, true_class, rownames = ['cluster'], colnames = ['true_class']);\n",
    "print(tab)\n",
    "del kmeans, true_class, cluster, tab"
   ]
  },
  {
   "cell_type": "markdown",
   "id": "701b508c",
   "metadata": {},
   "source": [
    "<b style=\"font-size:1.5rem;color:red;\">The middle, class_2, is forced into the wrong class while the ends, class_1 and class_3, are correctly classified as extremes.</b>"
   ]
  },
  {
   "cell_type": "markdown",
   "id": "dd6c1c1f",
   "metadata": {},
   "source": [
    "(e) Now perform K-means clustering with K = 4 and describe your results. "
   ]
  },
  {
   "cell_type": "code",
   "execution_count": 39,
   "id": "bc6e6678",
   "metadata": {
    "scrolled": true
   },
   "outputs": [
    {
     "name": "stdout",
     "output_type": "stream",
     "text": [
      "cluster\n",
      " [0 3 1 3 0 3 3 0 3 3 3 0 3 3 0 0 0 3 3 3 1 1 1 1 1 2 1 1 1 1 1 1 1 1 1 1 1\n",
      " 1 1 1 2 2 2 2 2 2 2 2 2 2 2 2 2 2 2 2 2 2 2 2] \n",
      "\n",
      "true_class   0   1   2\n",
      "cluster               \n",
      "0            7   0   0\n",
      "1            1  19   0\n",
      "2            0   1  20\n",
      "3           12   0   0\n"
     ]
    }
   ],
   "source": [
    "#%% Perfrom K-means clustering k=4\n",
    "from sklearn.cluster import KMeans\n",
    "\n",
    "kmeans = KMeans(n_clusters=4, random_state=0).fit(X)\n",
    "true_class = np.array(['0']*20 + ['1']*20 + ['2']*20, dtype=int)\n",
    "cluster = kmeans.labels_\n",
    "print(\"cluster\\n\",cluster,\"\\n\")\n",
    "tab = pd.crosstab(cluster, true_class, rownames = ['cluster'], colnames = ['true_class']);\n",
    "print(tab)\n",
    "del kmeans, true_class, cluster, tab"
   ]
  },
  {
   "cell_type": "markdown",
   "id": "90d4601b",
   "metadata": {},
   "source": [
    "<b style=\"font-size:1.5rem;color:red;\">One of the classes, class_1, is split between 3 classes, class_3 is correctly classified, class_2 is nearly correctly classified.</b>"
   ]
  },
  {
   "cell_type": "markdown",
   "id": "4d00fff5",
   "metadata": {},
   "source": [
    "(f) Now perform K-means clustering with K = 3 on the first two principal component score vectors, rather than on the raw data. That is, perform K-means clustering on the 60 × 2 matrix of which the first column is the first principal component score vector, and the second column is the second principal component score vector. Comment on the results."
   ]
  },
  {
   "cell_type": "code",
   "execution_count": 40,
   "id": "6fda6c1e",
   "metadata": {
    "scrolled": true
   },
   "outputs": [
    {
     "name": "stdout",
     "output_type": "stream",
     "text": [
      "cluster\n",
      " [2 2 2 2 2 2 2 2 2 2 2 2 2 2 2 2 2 2 2 2 1 1 1 1 1 1 1 1 1 1 1 1 1 1 1 1 1\n",
      " 1 1 1 0 0 0 0 0 0 0 0 0 0 0 0 0 0 0 0 0 0 0 0] \n",
      "\n",
      "true_class   0   1   2\n",
      "cluster               \n",
      "0            0   0  20\n",
      "1            0  20   0\n",
      "2           20   0   0\n"
     ]
    }
   ],
   "source": [
    "#%% Perform K-means clustering on principal component score vectors.\n",
    "from sklearn.cluster import KMeans\n",
    "\n",
    "princ2 = finalDf.iloc[: , :2]\n",
    "kmeans = KMeans(n_clusters=3, random_state=0).fit(princ2)\n",
    "true_class = np.array(['0']*20 + ['1']*20 + ['2']*20, dtype=int)\n",
    "cluster = kmeans.labels_\n",
    "print(\"cluster\\n\",cluster,\"\\n\")\n",
    "tab = pd.crosstab(cluster, true_class, rownames = ['cluster'], colnames = ['true_class']);\n",
    "print(tab)\n",
    "del kmeans, true_class, cluster, tab, princ2"
   ]
  },
  {
   "cell_type": "markdown",
   "id": "2a13ec4b",
   "metadata": {},
   "source": [
    "<b style=\"font-size:1.5rem;color:red;\">All are perfectly clustered, the PCA carries requisite information.</b>"
   ]
  },
  {
   "cell_type": "markdown",
   "id": "b5a2a3d3",
   "metadata": {},
   "source": [
    "(g) Using the scale() function, perform K-means clustering with K = 3 on the data after scaling each variable to have standard deviation one. How do these results compare to those obtained in (b)? Explain."
   ]
  },
  {
   "cell_type": "code",
   "execution_count": 41,
   "id": "03d7afb3",
   "metadata": {
    "scrolled": true
   },
   "outputs": [
    {
     "name": "stdout",
     "output_type": "stream",
     "text": [
      "[2 2 2 2 2 2 2 2 2 2 2 2 2 2 2 2 2 2 2 2 0 0 0 0 0 0 0 0 0 0 0 0 0 0 0 0 0\n",
      " 0 0 0 1 1 1 1 1 1 1 1 1 1 1 1 1 1 1 1 1 1 1 1] \n",
      "\n",
      "true_class   0   1   2\n",
      "cluster               \n",
      "0            0  20   0\n",
      "1            0   0  20\n",
      "2           20   0   0\n"
     ]
    }
   ],
   "source": [
    "#%%  Perform K-means clustering after scaling each variable\n",
    "from sklearn.preprocessing import scale\n",
    "from sklearn.cluster import KMeans\n",
    "\n",
    "kmeans = KMeans(n_clusters=3, random_state=0).fit(scale(X))\n",
    "true_class = np.array(['0']*20 + ['1']*20 + ['2']*20, dtype=int)\n",
    "cluster = kmeans.labels_\n",
    "print(cluster,\"\\n\")\n",
    "tab = pd.crosstab(cluster, true_class, rownames = ['cluster'], colnames = ['true_class']);\n",
    "print(tab)\n",
    "del kmeans, true_class, cluster, tab"
   ]
  },
  {
   "cell_type": "markdown",
   "id": "a3d34539",
   "metadata": {},
   "source": [
    "<b style=\"font-size:1.5rem;color:red;\">Same result as in part (b), scaling does not change the results as the original data was normalized to begin with.</b>"
   ]
  }
 ],
 "metadata": {
  "kernelspec": {
   "display_name": "Python 3 (ipykernel)",
   "language": "python",
   "name": "python3"
  },
  "language_info": {
   "codemirror_mode": {
    "name": "ipython",
    "version": 3
   },
   "file_extension": ".py",
   "mimetype": "text/x-python",
   "name": "python",
   "nbconvert_exporter": "python",
   "pygments_lexer": "ipython3",
   "version": "3.9.12"
  }
 },
 "nbformat": 4,
 "nbformat_minor": 5
}
