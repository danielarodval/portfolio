{
 "cells": [
  {
   "cell_type": "markdown",
   "id": "ac5a1d21",
   "metadata": {},
   "source": [
    "<h1 style=\"font-size:3rem;color:orange;\">Final</h1>"
   ]
  },
  {
   "cell_type": "markdown",
   "id": "c752693e",
   "metadata": {},
   "source": [
    "# Problem 1"
   ]
  },
  {
   "cell_type": "markdown",
   "id": "344faa04",
   "metadata": {},
   "source": [
    "In this problem, you will investigate the stock market dataset Weekly included with the ISLRv2 textbook. You can load the data by using the command\n",
    "library(ISLR2) (you might need to use install.packages(ISLR2) if this is the first time you have used\n",
    "this library) and then simply calling the variable Weekly, which is a dataframe with the data. The response\n",
    "variable is Direction, which is a binary variable indicating whether the stock moved up or down from its\n",
    "previous weekly closing price at the end of the week. The predictor columns give the year, volume which\n",
    "indicates the number of trades, and lag variables which indicate the change in price over the lag time period.\n",
    "For example, Lag2 gives the change in price over the week that occurred two weeks prior to the current week."
   ]
  },
  {
   "cell_type": "code",
   "execution_count": 1,
   "id": "be9ce1d9",
   "metadata": {},
   "outputs": [
    {
     "name": "stdout",
     "output_type": "stream",
     "text": [
      "DataFrame Output:\n",
      "       Year   Lag1   Lag2   Lag3   Lag4   Lag5    Volume  Today Direction\n",
      "0     1990  0.816  1.572 -3.936 -0.229 -3.484  0.154976 -0.270      Down\n",
      "1     1990 -0.270  0.816  1.572 -3.936 -0.229  0.148574 -2.576      Down\n",
      "2     1990 -2.576 -0.270  0.816  1.572 -3.936  0.159837  3.514        Up\n",
      "3     1990  3.514 -2.576 -0.270  0.816  1.572  0.161630  0.712        Up\n",
      "4     1990  0.712  3.514 -2.576 -0.270  0.816  0.153728  1.178        Up\n",
      "...    ...    ...    ...    ...    ...    ...       ...    ...       ...\n",
      "1084  2010 -0.861  0.043 -2.173  3.599  0.015  3.205160  2.969        Up\n",
      "1085  2010  2.969 -0.861  0.043 -2.173  3.599  4.242568  1.281        Up\n",
      "1086  2010  1.281  2.969 -0.861  0.043 -2.173  4.835082  0.283        Up\n",
      "1087  2010  0.283  1.281  2.969 -0.861  0.043  4.454044  1.034        Up\n",
      "1088  2010  1.034  0.283  1.281  2.969 -0.861  2.707105  0.069        Up\n",
      "\n",
      "[1089 rows x 9 columns]\n",
      "\n",
      "X Column Output:\n",
      "       Year   Lag1   Lag2   Lag3   Lag4   Lag5    Volume  Today\n",
      "0     1990  0.816  1.572 -3.936 -0.229 -3.484  0.154976 -0.270\n",
      "1     1990 -0.270  0.816  1.572 -3.936 -0.229  0.148574 -2.576\n",
      "2     1990 -2.576 -0.270  0.816  1.572 -3.936  0.159837  3.514\n",
      "3     1990  3.514 -2.576 -0.270  0.816  1.572  0.161630  0.712\n",
      "4     1990  0.712  3.514 -2.576 -0.270  0.816  0.153728  1.178\n",
      "...    ...    ...    ...    ...    ...    ...       ...    ...\n",
      "1084  2010 -0.861  0.043 -2.173  3.599  0.015  3.205160  2.969\n",
      "1085  2010  2.969 -0.861  0.043 -2.173  3.599  4.242568  1.281\n",
      "1086  2010  1.281  2.969 -0.861  0.043 -2.173  4.835082  0.283\n",
      "1087  2010  0.283  1.281  2.969 -0.861  0.043  4.454044  1.034\n",
      "1088  2010  1.034  0.283  1.281  2.969 -0.861  2.707105  0.069\n",
      "\n",
      "[1089 rows x 8 columns]\n",
      "\n",
      "Y Column Output:\n",
      " 0       0\n",
      "1       0\n",
      "2       1\n",
      "3       1\n",
      "4       1\n",
      "       ..\n",
      "1084    1\n",
      "1085    1\n",
      "1086    1\n",
      "1087    1\n",
      "1088    1\n",
      "Name: Direction, Length: 1089, dtype: int64\n"
     ]
    }
   ],
   "source": [
    "#%% Import and Split Data\n",
    "import pandas as pa;\n",
    "\n",
    "file_path = 'C:/Users/danma/Desktop/Personal Documents/UCF/STA 4365/final/Weekly.csv'\n",
    "df = pa.read_csv(file_path)\n",
    "\n",
    "print(\"DataFrame Output:\\n\",df)\n",
    "\n",
    "x = df.drop(['Direction'], axis=1)\n",
    "y = df.iloc[: , -1]\n",
    "#replace categorical last column data with 1 and 0\n",
    "y = y.replace('Down',0, regex=True)\n",
    "y = y.replace('Up',1, regex=True)\n",
    "\n",
    "print(\"\\nX Column Output:\\n\",x)\n",
    "\n",
    "print(\"\\nY Column Output:\\n\",y)"
   ]
  },
  {
   "cell_type": "markdown",
   "id": "10c8d132",
   "metadata": {},
   "source": [
    "Prepare the data by splitting into training and validation sets. Scale the columns of the training data to\n",
    "have mean 0 and variance 1. Scale the validation features using the mean and standard deviation of the\n",
    "training data."
   ]
  },
  {
   "cell_type": "code",
   "execution_count": 2,
   "id": "78e4e044",
   "metadata": {
    "scrolled": true
   },
   "outputs": [
    {
     "name": "stdout",
     "output_type": "stream",
     "text": [
      "Scaled Training Data:\n",
      " [[ 1.69374287  0.35924019  0.04010814 ... -0.44545269  0.71872221\n",
      "  -0.02860225]\n",
      " [ 0.53434573 -0.17809434  0.02029894 ... -0.01678251 -0.12615049\n",
      "  -0.68140879]\n",
      " [ 0.53434573  0.17450573  1.19696556 ... -1.64328464 -0.01737696\n",
      "   1.45149769]\n",
      " ...\n",
      " [ 1.03123022  0.59128971  0.01853812 ... -0.95531702  0.41272063\n",
      "   0.01523649]\n",
      " [ 0.03746125 -0.5771866   0.64450891 ... -0.43759519 -0.19615432\n",
      "   1.42371869]\n",
      " [ 0.53434573 -1.54940826  3.21838461 ... -0.43104728 -0.13676985\n",
      "   0.71318391]]\n"
     ]
    }
   ],
   "source": [
    "#%% Further Split and Scale Data\n",
    "from sklearn.model_selection import train_test_split as TTS\n",
    "\n",
    "x_train, x_test, y_train, y_test = TTS(x,y,test_size=.2, random_state=0)\n",
    "\n",
    "from sklearn.preprocessing import StandardScaler\n",
    "\n",
    "scalar = StandardScaler()\n",
    "scalar.fit(x_train)\n",
    "\n",
    "x_train = scalar.transform(x_train)\n",
    "x_test = scalar.transform(x_test)\n",
    "\n",
    "print(\"Scaled Training Data:\\n\",x_train)"
   ]
  },
  {
   "cell_type": "markdown",
   "id": "aaae9f83",
   "metadata": {},
   "source": [
    "Learn the following models to predict the binary outcome:"
   ]
  },
  {
   "cell_type": "markdown",
   "id": "e095ae4b",
   "metadata": {},
   "source": [
    "### Naive Bayes"
   ]
  },
  {
   "cell_type": "code",
   "execution_count": 3,
   "id": "34ca946d",
   "metadata": {},
   "outputs": [],
   "source": [
    "#%% Naive Bayes\n",
    "from sklearn.naive_bayes import GaussianNB\n",
    "\n",
    "gnb = GaussianNB()\n",
    "gnb.fit(x_train,y_train)\n",
    "\n",
    "gnb_pred = gnb.predict(x_test)\n",
    "gnb_prob = gnb.predict_proba(x_test)"
   ]
  },
  {
   "cell_type": "markdown",
   "id": "04b27c9e",
   "metadata": {},
   "source": [
    "For each model (except Naive Bayes), report the final hyper-parameters that you decide to use. You can\n",
    "either use cross-validation to tune the hyper-parameters or tune by examining the accuracy on the validation\n",
    "set. Train each model on the training data. Evaluate each model on testing data by reporting the accuracy\n",
    "and plotting an ROC curve for each model using the validation data."
   ]
  },
  {
   "cell_type": "code",
   "execution_count": 4,
   "id": "6164704d",
   "metadata": {},
   "outputs": [
    {
     "name": "stdout",
     "output_type": "stream",
     "text": [
      "Accuracy: 0.950\n"
     ]
    },
    {
     "data": {
      "image/png": "[encoded data removed]",
      "text/plain": [
       "<Figure size 432x288 with 1 Axes>"
      ]
     },
     "metadata": {
      "needs_background": "light"
     },
     "output_type": "display_data"
    }
   ],
   "source": [
    "#%% Naives Bayes Results\n",
    "from sklearn.metrics import accuracy_score\n",
    "gnb_score = accuracy_score(y_test, gnb_pred)\n",
    "print(\"Accuracy: %.03f\" %gnb_score)\n",
    "\n",
    "from sklearn.metrics import RocCurveDisplay\n",
    "from matplotlib import pyplot\n",
    "\n",
    "gnb_disp = RocCurveDisplay.from_predictions(y_test, gnb_prob[:,1], name=\"Naive Bayes ROC\")\n",
    "pyplot.show()"
   ]
  },
  {
   "cell_type": "markdown",
   "id": "27761c15",
   "metadata": {},
   "source": [
    "### Support Vector Machine with Linear Kernel"
   ]
  },
  {
   "cell_type": "code",
   "execution_count": 5,
   "id": "54776e2f",
   "metadata": {},
   "outputs": [
    {
     "name": "stdout",
     "output_type": "stream",
     "text": [
      "Fitting 5 folds for each of 25 candidates, totalling 125 fits\n",
      "Support Vector Machine with Linear Hyperparameters:\n",
      "\n",
      "C: 100\n",
      "gamma: 1\n"
     ]
    }
   ],
   "source": [
    "#%% Support Vector Machine with Linear\n",
    "from sklearn.svm import SVC\n",
    "\n",
    "# Tuning\n",
    "from sklearn.model_selection import GridSearchCV\n",
    "\n",
    "svm_param_grid = {'C': [0.1, 1, 10, 100, 1000],\n",
    "              'gamma': [1, 0.1, 0.01, 0.001, 0.0001]}\n",
    "\n",
    "svm_grid = GridSearchCV(SVC(kernel='linear', probability=True), svm_param_grid, refit = True, verbose = 3, n_jobs=-1)\n",
    "best_svm = svm_grid.fit(x_train, y_train)\n",
    "\n",
    "svm_C = best_svm.best_estimator_.get_params()['C']\n",
    "svm_gamma = best_svm.best_estimator_.get_params()['gamma']\n",
    "\n",
    "print(\"Support Vector Machine with Linear Hyperparameters:\\n\")\n",
    "print(\"C:\", svm_C)\n",
    "print(\"gamma:\", svm_gamma)\n",
    "\n",
    "#final fit\n",
    "svm = SVC(kernel='linear', probability=True, C=svm_C, gamma=svm_gamma)\n",
    "\n",
    "svm.fit(x_train,y_train)\n",
    "\n",
    "svm_pred = svm.predict(x_test)\n",
    "svm_prob = svm.predict_proba(x_test)"
   ]
  },
  {
   "cell_type": "markdown",
   "id": "a7eb9032",
   "metadata": {},
   "source": [
    "For each model (except Naive Bayes), report the final hyper-parameters that you decide to use. You can\n",
    "either use cross-validation to tune the hyper-parameters or tune by examining the accuracy on the validation\n",
    "set. Train each model on the training data. Evaluate each model on testing data by reporting the accuracy\n",
    "and plotting an ROC curve for each model using the validation data."
   ]
  },
  {
   "cell_type": "code",
   "execution_count": 6,
   "id": "a5bad0f9",
   "metadata": {},
   "outputs": [
    {
     "name": "stdout",
     "output_type": "stream",
     "text": [
      "Accuracy: 0.995\n"
     ]
    },
    {
     "data": {
      "image/png": "[encoded data removed]",
      "text/plain": [
       "<Figure size 432x288 with 1 Axes>"
      ]
     },
     "metadata": {
      "needs_background": "light"
     },
     "output_type": "display_data"
    }
   ],
   "source": [
    "#%% Support Vector Machine with Linear Kernel Results\n",
    "from sklearn.metrics import accuracy_score\n",
    "svm_score = accuracy_score(y_test, svm_pred)\n",
    "print(\"Accuracy: %.03f\" %svm_score)\n",
    "\n",
    "from sklearn.metrics import RocCurveDisplay\n",
    "from matplotlib import pyplot\n",
    "\n",
    "svm_disp = RocCurveDisplay.from_predictions(y_test, svm_prob[:,1], name= \"Support Vector Machine with Linear Kernel\")\n",
    "pyplot.show()"
   ]
  },
  {
   "cell_type": "markdown",
   "id": "96b486bf",
   "metadata": {},
   "source": [
    "### Random Forest"
   ]
  },
  {
   "cell_type": "code",
   "execution_count": 7,
   "id": "3994d687",
   "metadata": {},
   "outputs": [
    {
     "name": "stdout",
     "output_type": "stream",
     "text": [
      "Fitting 5 folds for each of 3861 candidates, totalling 19305 fits\n",
      "Random Forest Hyperparameters:\n",
      "\n",
      "n_estimators: 100\n",
      "max_depth: 10\n",
      "max_features: log2\n",
      "min_samples_split: 2\n",
      "min_samples_leaf: 1\n"
     ]
    }
   ],
   "source": [
    "#%% Random Forest\n",
    "from sklearn.ensemble import RandomForestClassifier\n",
    "\n",
    "# Tuning\n",
    "from sklearn.model_selection import GridSearchCV\n",
    "\n",
    "rf_param_grid = {'n_estimators': [5,10,50,100,200,400,600,800,1000,1200,1400,1600,1800],\n",
    "              'max_depth': [10,20,30,40,50,60,70,80,90,100,None],\n",
    "              'max_features': ['log2', 'auto', 'sqrt'],\n",
    "              'min_samples_split': [2,5,7],\n",
    "              'min_samples_leaf': [1,2,4]}\n",
    " \n",
    "rf_grid = GridSearchCV(RandomForestClassifier(), rf_param_grid, refit=True, verbose=3, n_jobs=-1)\n",
    "best_rf = rf_grid.fit(x_train, y_train)\n",
    "\n",
    "rf_n_estimators = best_rf.best_estimator_.get_params()['n_estimators']\n",
    "rf_max_depth = best_rf.best_estimator_.get_params()['max_depth']\n",
    "rf_max_features = best_rf.best_estimator_.get_params()['max_features']\n",
    "rf_min_samples_split = best_rf.best_estimator_.get_params()['min_samples_split']\n",
    "rf_min_samples_leaf = best_rf.best_estimator_.get_params()['min_samples_leaf']\n",
    "\n",
    "print(\"Random Forest Hyperparameters:\\n\")\n",
    "print(\"n_estimators:\", rf_n_estimators)\n",
    "print(\"max_depth:\", rf_max_depth)\n",
    "print(\"max_features:\", rf_max_features)\n",
    "print(\"min_samples_split:\", rf_min_samples_split)\n",
    "print(\"min_samples_leaf:\", rf_min_samples_leaf)\n",
    "\n",
    "#final fit\n",
    "rf = RandomForestClassifier(n_estimators=rf_n_estimators, max_depth=rf_max_depth, max_features=rf_max_features, min_samples_split=rf_min_samples_split, min_samples_leaf=rf_min_samples_leaf)\n",
    "rf.fit(x_train,y_train)\n",
    "\n",
    "rf_pred = rf.predict(x_test)\n",
    "rf_prob = rf.predict_proba(x_test)"
   ]
  },
  {
   "cell_type": "markdown",
   "id": "3d1d62ad",
   "metadata": {},
   "source": [
    "For each model (except Naive Bayes), report the final hyper-parameters that you decide to use. You can\n",
    "either use cross-validation to tune the hyper-parameters or tune by examining the accuracy on the validation\n",
    "set. Train each model on the training data. Evaluate each model on testing data by reporting the accuracy\n",
    "and plotting an ROC curve for each model using the validation data."
   ]
  },
  {
   "cell_type": "code",
   "execution_count": 8,
   "id": "40ec4890",
   "metadata": {},
   "outputs": [
    {
     "name": "stdout",
     "output_type": "stream",
     "text": [
      "Accuracy: 1.000\n"
     ]
    },
    {
     "data": {
      "image/png": "[encoded data removed]",
      "text/plain": [
       "<Figure size 432x288 with 1 Axes>"
      ]
     },
     "metadata": {
      "needs_background": "light"
     },
     "output_type": "display_data"
    }
   ],
   "source": [
    "#%% Random Forest Results\n",
    "from sklearn.metrics import accuracy_score\n",
    "rf_score = accuracy_score(y_test, rf_pred)\n",
    "print(\"Accuracy: %.03f\" %rf_score)\n",
    "\n",
    "from sklearn.metrics import RocCurveDisplay\n",
    "from matplotlib import pyplot\n",
    "\n",
    "rf_disp = RocCurveDisplay.from_predictions(y_test, rf_prob[:,1], name= \"Random Forest\")\n",
    "pyplot.show()"
   ]
  },
  {
   "cell_type": "markdown",
   "id": "94470947",
   "metadata": {},
   "source": [
    "### Gradient Boosted Decision Tree"
   ]
  },
  {
   "cell_type": "code",
   "execution_count": 9,
   "id": "85b1515e",
   "metadata": {},
   "outputs": [
    {
     "name": "stdout",
     "output_type": "stream",
     "text": [
      "Fitting 5 folds for each of 448 candidates, totalling 2240 fits\n",
      "Gradient Boosted Decision Tree Hyperparameters:\n",
      "\n",
      "learning_rate: 0.01\n",
      "subsample: 0.5\n",
      "n_estimators: 100\n",
      "max_depth: 4\n"
     ]
    }
   ],
   "source": [
    "#%% Gradient Boosted Decision Tree\n",
    "from sklearn.ensemble import GradientBoostingClassifier\n",
    "\n",
    "#tuning\n",
    "from sklearn.model_selection import GridSearchCV\n",
    "\n",
    "gb_param_grid = {'learning_rate': [0.01, 0.02, 0.03, 0.04],\n",
    "              'subsample': [0.9, 0.5, 0.2, 0.1],\n",
    "              'n_estimators': [100,200,300,500,750,1000,1500],\n",
    "              'max_depth': [4,6,8,10]}\n",
    "\n",
    "gb_grid = GridSearchCV(GradientBoostingClassifier(), gb_param_grid, refit=True, verbose=3, n_jobs=-1)\n",
    "best_gb = gb_grid.fit(x_train, y_train)\n",
    "\n",
    "gb_learning_rate = best_gb.best_estimator_.get_params()['learning_rate']\n",
    "gb_subsample = best_gb.best_estimator_.get_params()['subsample']\n",
    "gb_n_estimators = best_gb.best_estimator_.get_params()['n_estimators']\n",
    "gb_max_depth = best_gb.best_estimator_.get_params()['max_depth']\n",
    "\n",
    "print(\"Gradient Boosted Decision Tree Hyperparameters:\\n\")\n",
    "print(\"learning_rate:\", gb_learning_rate)\n",
    "print(\"subsample:\", gb_subsample)\n",
    "print(\"n_estimators:\", gb_n_estimators)\n",
    "print(\"max_depth:\", gb_max_depth)\n",
    "\n",
    "#final fit\n",
    "gb = GradientBoostingClassifier(learning_rate=gb_learning_rate, subsample=gb_subsample, n_estimators=gb_n_estimators, max_depth=gb_max_depth)\n",
    "gb.fit(x_train, y_train)\n",
    "\n",
    "gb_pred = gb.predict(x_test)\n",
    "gb_prob = gb.predict_proba(x_test)"
   ]
  },
  {
   "cell_type": "markdown",
   "id": "733264e1",
   "metadata": {},
   "source": [
    "For each model (except Naive Bayes), report the final hyper-parameters that you decide to use. You can\n",
    "either use cross-validation to tune the hyper-parameters or tune by examining the accuracy on the validation\n",
    "set. Train each model on the training data. Evaluate each model on testing data by reporting the accuracy\n",
    "and plotting an ROC curve for each model using the validation data."
   ]
  },
  {
   "cell_type": "code",
   "execution_count": 10,
   "id": "13402c57",
   "metadata": {},
   "outputs": [
    {
     "name": "stdout",
     "output_type": "stream",
     "text": [
      "Accuracy: 1.000\n"
     ]
    },
    {
     "data": {
      "image/png": "[encoded data removed]",
      "text/plain": [
       "<Figure size 432x288 with 1 Axes>"
      ]
     },
     "metadata": {
      "needs_background": "light"
     },
     "output_type": "display_data"
    }
   ],
   "source": [
    "#%% Gradient Boosted Decision Tree Results\n",
    "from sklearn.metrics import accuracy_score\n",
    "gb_score = accuracy_score(y_test, gb_pred)\n",
    "print(\"Accuracy: %.03f\" %gb_score)\n",
    "\n",
    "from sklearn.metrics import RocCurveDisplay\n",
    "from matplotlib import pyplot\n",
    "\n",
    "gb_disp = RocCurveDisplay.from_predictions(y_test, gb_prob[:,1], name=\"Gradient Boosted Decision Tree\")\n",
    "pyplot.show()"
   ]
  }
 ],
 "metadata": {
  "kernelspec": {
   "display_name": "Python 3 (ipykernel)",
   "language": "python",
   "name": "python3"
  },
  "language_info": {
   "codemirror_mode": {
    "name": "ipython",
    "version": 3
   },
   "file_extension": ".py",
   "mimetype": "text/x-python",
   "name": "python",
   "nbconvert_exporter": "python",
   "pygments_lexer": "ipython3",
   "version": "3.9.12"
  }
 },
 "nbformat": 4,
 "nbformat_minor": 5
}
