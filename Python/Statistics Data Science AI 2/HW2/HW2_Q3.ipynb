{
 "cells": [
  {
   "cell_type": "markdown",
   "id": "7c7ffd31",
   "metadata": {},
   "source": [
    "<h1 style=\"font-size:3rem;color:orange;\">Homework 2</h1"
   ]
  },
  {
   "cell_type": "markdown",
   "id": "6dfc27a0",
   "metadata": {},
   "source": [
    "# Problem 3"
   ]
  },
  {
   "cell_type": "code",
   "execution_count": 17,
   "id": "aaa92a7b",
   "metadata": {},
   "outputs": [
    {
     "data": {
      "text/plain": [
       "'\\nSpyder Editor\\n\\nThis is a temporary script file.\\n'"
      ]
     },
     "execution_count": 17,
     "metadata": {},
     "output_type": "execute_result"
    }
   ],
   "source": [
    "# -*- coding: utf-8 -*-\n",
    "\"\"\"\n",
    "Spyder Editor\n",
    "\n",
    "This is a temporary script file.\n",
    "\"\"\""
   ]
  },
  {
   "cell_type": "code",
   "execution_count": 2,
   "id": "eeb0c6ec",
   "metadata": {},
   "outputs": [
    {
     "name": "stdout",
     "output_type": "stream",
     "text": [
      "   md_TPSA  md_SAacc  md_H-050  md_MLOGP  md_RDCHI  md_GATS1p  md_nN  \\\n",
      "0     0.00       0.0         0     2.419     1.225      0.667      0   \n",
      "1     0.00       0.0         0     2.638     1.401      0.632      0   \n",
      "2     9.23      11.0         0     5.799     2.930      0.486      0   \n",
      "3     9.23      11.0         0     5.453     2.887      0.495      0   \n",
      "4     9.23      11.0         0     4.068     2.758      0.695      0   \n",
      "\n",
      "   md_C-040  qr_LC50  \n",
      "0         0    3.740  \n",
      "1         0    4.330  \n",
      "2         0    7.019  \n",
      "3         0    6.723  \n",
      "4         0    5.979  \n"
     ]
    }
   ],
   "source": [
    "#%% Step 1- imports data into dataframe\n",
    "import pandas as pa;\n",
    "import timeit;\n",
    "\n",
    "col_names=['md_TPSA', 'md_SAacc', 'md_H-050', 'md_MLOGP', 'md_RDCHI', 'md_GATS1p', 'md_nN', 'md_C-040', 'qr_LC50']\n",
    "df = pa.read_table('C:/Users/danma/Documents/STA 4365/HW2/qsar_aquatic_toxicity.csv', sep=';', header=None, names=col_names)\n",
    "print(df.head())\n",
    "col_names.remove('qr_LC50')\n",
    "col_names = [elem.replace('md_', '') for elem in col_names]"
   ]
  },
  {
   "cell_type": "code",
   "execution_count": 3,
   "id": "b83ae3b1",
   "metadata": {},
   "outputs": [
    {
     "name": "stdout",
     "output_type": "stream",
     "text": [
      "Test Size =  0.1 \n",
      "\n"
     ]
    }
   ],
   "source": [
    "#%% Step 2 - splits data into x and y\n",
    "\n",
    "from sklearn.model_selection import train_test_split as TTS\n",
    "\n",
    "x = df.filter(regex='md')\n",
    "y = df.filter(regex='qr')\n",
    "#turns y into a 1-d array instead of a dataframe column\n",
    "y = y.to_numpy()\n",
    "y = y.ravel()\n",
    "\n",
    "#splits into training and test data\n",
    "TS = 0.1 #for tuning\n",
    "print(\"Test Size = \", TS, \"\\n\")\n",
    "x_train, x_test, y_train, y_test = TTS(x,y,test_size=TS, random_state=42)\n",
    "\n",
    "del df #clear data for variable explorer"
   ]
  },
  {
   "cell_type": "code",
   "execution_count": 4,
   "id": "30fd1141",
   "metadata": {},
   "outputs": [],
   "source": [
    "#%% Step 3 scale and center columns\n",
    "\n",
    "from sklearn.preprocessing import StandardScaler\n",
    "\n",
    "scalar = StandardScaler()\n",
    "scalar.fit(x_train)\n",
    "\n",
    "x_train = scalar.transform(x_train)\n",
    "x_test = scalar.transform(x_test)\n",
    "del scalar #clear data for variable explorer\n",
    "\n",
    "#To tune hyperparameters for each model, you can either use cross-validation\n",
    "#or hand-tune by examining the model performance for reasonable values of the\n",
    "#hyper-parameters\n",
    "\n",
    "#Apply your models to the test set. Reoprt MSE along with R^2 for each model\n",
    "#Report the most meaningful predictors\n",
    "from sklearn.metrics import mean_squared_error, r2_score\n",
    "from sklearn.model_selection import GridSearchCV\n",
    "from matplotlib import pyplot"
   ]
  },
  {
   "cell_type": "code",
   "execution_count": 5,
   "id": "341229bd",
   "metadata": {},
   "outputs": [
    {
     "name": "stdout",
     "output_type": "stream",
     "text": [
      "Linear Regression Results:\n"
     ]
    }
   ],
   "source": [
    "#%% Step 4 Linear Regression\n",
    "print(\"Linear Regression Results:\")\n",
    "from sklearn.linear_model import LinearRegression\n",
    "\n",
    "#Need to tune hyperparameters for better results (R^2 should .7-.9)\n"
   ]
  },
  {
   "cell_type": "code",
   "execution_count": 6,
   "id": "dfee53d3",
   "metadata": {},
   "outputs": [
    {
     "name": "stdout",
     "output_type": "stream",
     "text": [
      "Lin Reg Hyperparameters:\n",
      "Fitting 10 folds for each of 8 candidates, totalling 80 fits\n",
      "Best fit_intercept: True\n",
      "Best normalize: False\n",
      "Best copy_X: True\n",
      "Time: 0.24 \n",
      "\n"
     ]
    }
   ],
   "source": [
    "#%% Step 4.1 Tune Hyperparameters for Linear Regression\n",
    "start = timeit.default_timer()\n",
    "#List Hyperparameters that we want to tune\n",
    "print('Lin Reg Hyperparameters:')\n",
    "fit_intercept=[True,False]\n",
    "normalize=[True,False]\n",
    "copy_X=[True,False]\n",
    "#Convert to dictionary\n",
    "reg_hyperparameters = {'fit_intercept':fit_intercept, 'normalize':normalize, 'copy_X':copy_X}\n",
    "#Create new reg object\n",
    "reg_2 = LinearRegression()\n",
    "#use gridsearch\n",
    "reg_gs = GridSearchCV(reg_2, reg_hyperparameters, cv=10, verbose=1)\n",
    "#Fit the model\n",
    "best_reg = reg_gs.fit(x,y)\n",
    "#print the values of the best hyperparameters\n",
    "print('Best fit_intercept:', best_reg.best_estimator_.get_params()['fit_intercept'])\n",
    "print('Best normalize:', best_reg.best_estimator_.get_params()['normalize'])\n",
    "print('Best copy_X:', best_reg.best_estimator_.get_params()['copy_X'])\n",
    "\n",
    "#clear variables for variable explorer\n",
    "del fit_intercept, normalize, copy_X, reg_hyperparameters, reg_2, reg_gs, best_reg\n",
    "\n",
    "stop = timeit.default_timer()\n",
    "print('Time: %.2f' %(stop-start), '\\n')"
   ]
  },
  {
   "cell_type": "code",
   "execution_count": 7,
   "id": "e5adb13b",
   "metadata": {},
   "outputs": [
    {
     "name": "stdout",
     "output_type": "stream",
     "text": [
      "MSE: 1.63\n",
      "R²: 0.37 \n",
      "\n"
     ]
    },
    {
     "data": {
      "image/png": "[encoded data removed]",
      "text/plain": [
       "<Figure size 432x288 with 1 Axes>"
      ]
     },
     "metadata": {
      "needs_background": "light"
     },
     "output_type": "display_data"
    }
   ],
   "source": [
    "#%% Step 4.2 Run model with best hyperparameters\n",
    "reg = LinearRegression(fit_intercept=True, normalize=False,copy_X=True).fit(x_train, y_train)\n",
    "\n",
    "reg_y_pred = reg.predict(x_test)\n",
    "\n",
    "print(\"MSE: %.2f\" %mean_squared_error(y_test, reg_y_pred))\n",
    "print(\"R\\u00b2: %.2f \\n\" %r2_score(y_test, reg_y_pred))\n",
    "\n",
    "# get importance\n",
    "importance = reg.coef_\n",
    "# plot feature importance\n",
    "pyplot.bar([x for x in range(len(importance))], importance)\n",
    "pyplot.xticks(ticks=range(len(importance)), labels=col_names, rotation='vertical')\n",
    "pyplot.title(\"Linear Regression Feature Importance\")\n",
    "pyplot.show()\n",
    "#clear variables for variable explorer\n",
    "del reg, reg_y_pred, importance\n"
   ]
  },
  {
   "cell_type": "code",
   "execution_count": 8,
   "id": "cd82ad0a",
   "metadata": {},
   "outputs": [
    {
     "name": "stdout",
     "output_type": "stream",
     "text": [
      "KNN Regression Results:\n"
     ]
    }
   ],
   "source": [
    "#%% Step 5 KNN Regression\n",
    "print(\"KNN Regression Results:\")\n",
    "from sklearn.neighbors import KNeighborsRegressor"
   ]
  },
  {
   "cell_type": "code",
   "execution_count": 9,
   "id": "c4763b0a",
   "metadata": {},
   "outputs": [
    {
     "name": "stdout",
     "output_type": "stream",
     "text": [
      "KNN Hyperparameters:\n",
      "Fitting 10 folds for each of 18 candidates, totalling 180 fits\n",
      "Best leaf_size: 2\n",
      "Best p: 1\n",
      "Best n_neighbors: 3\n",
      "Time: 0.53 \n",
      "\n"
     ]
    }
   ],
   "source": [
    "#%% Step 5.1 Tune HyperParameters for KNN Regression\n",
    "start = timeit.default_timer()\n",
    "#List Hyperparameters that we want to tune\n",
    "print('KNN Hyperparameters:')\n",
    "leaf_size = list(range(1,4))#tested with 1-50\n",
    "n_neighbors = list(range(1,4))#tested with 1-50\n",
    "p=[1,2]\n",
    "#Convert to dictionary\n",
    "knn_hyperparameters = dict(leaf_size=leaf_size,n_neighbors=n_neighbors,p=p)\n",
    "#Create new KNN object\n",
    "knn_2 = KNeighborsRegressor()\n",
    "#use gridsearch\n",
    "knn_gs = GridSearchCV(knn_2, knn_hyperparameters, cv=10, verbose=1)\n",
    "#Fit the model\n",
    "best_knn = knn_gs.fit(x,y)\n",
    "#print the values of the best hyperparameters\n",
    "print('Best leaf_size:', best_knn.best_estimator_.get_params()['leaf_size'])\n",
    "print('Best p:', best_knn.best_estimator_.get_params()['p'])\n",
    "print('Best n_neighbors:', best_knn.best_estimator_.get_params()['n_neighbors'])\n",
    "\n",
    "#clear variables for variable explorer\n",
    "del leaf_size, n_neighbors, p, knn_hyperparameters, knn_2, knn_gs, best_knn\n",
    "\n",
    "stop = timeit.default_timer()\n",
    "print('Time: %.2f' %(stop-start), '\\n')"
   ]
  },
  {
   "cell_type": "code",
   "execution_count": 10,
   "id": "988a0e5a",
   "metadata": {},
   "outputs": [
    {
     "name": "stdout",
     "output_type": "stream",
     "text": [
      "MSE: 1.97\n",
      "R²: 0.24 \n",
      "\n"
     ]
    }
   ],
   "source": [
    "#%% Step 5.2 Run model with best hyperparameters\n",
    "knn = KNeighborsRegressor(n_neighbors=3, leaf_size=2, p=1)\n",
    "\n",
    "knn.fit(x_train, y_train)\n",
    "\n",
    "knn_y_predict = knn.predict(x_test)\n",
    "\n",
    "print(\"MSE: %.2f\" %mean_squared_error(y_test, knn_y_predict))\n",
    "print(\"R\\u00b2: %.2f \\n\" %r2_score(y_test, knn_y_predict))\n",
    "\n",
    "#no feature importance graphing for knn\n",
    "\n",
    "#clear variables for variable explorer\n",
    "del knn, knn_y_predict"
   ]
  },
  {
   "cell_type": "code",
   "execution_count": 11,
   "id": "3bbb371c",
   "metadata": {},
   "outputs": [
    {
     "name": "stdout",
     "output_type": "stream",
     "text": [
      "Random Forest Results:\n"
     ]
    }
   ],
   "source": [
    "#%% Step 6 Random Forest Regression\n",
    "print(\"Random Forest Results:\")\n",
    "from sklearn.ensemble import RandomForestRegressor"
   ]
  },
  {
   "cell_type": "code",
   "execution_count": 12,
   "id": "4c279be3",
   "metadata": {},
   "outputs": [
    {
     "name": "stdout",
     "output_type": "stream",
     "text": [
      "RandomForest Hyperparameters\n",
      "Fitting 10 folds for each of 16 candidates, totalling 160 fits\n",
      "Best n_estimators: 50\n",
      "Best max_depth: 100\n",
      "Best max_features: log2\n",
      "Best min_samples_leaf: 2\n",
      "Best min_samples_split: 2\n",
      "Time: 3.71 \n",
      "\n"
     ]
    }
   ],
   "source": [
    "#%% Step 6.1 Tune Hyperparameters for Random Forest Regression\n",
    "start = timeit.default_timer()#original run took 20955.3 seconds to cross validate\n",
    "#List hyperparameters we want to tune\n",
    "print('RandomForest Hyperparameters')\n",
    "#n_estimators = [10,50,100,200,400,600,800,1000,1200,1400,1600,1800]#original run\n",
    "n_estimators=[50,100]\n",
    "#max_depth = [10,20,30,40,50,60,70,80,90,100,None]#original run\n",
    "max_depth = [90,100]\n",
    "#max_features = ['log2', 'auto', 'sqrt']\n",
    "max_features = ['log2']\n",
    "#min_samples_leaf = [1,2,4]\n",
    "min_samples_leaf = [1,2]\n",
    "#min_samples_split = [2,5,7]\n",
    "min_samples_split = [2,5]\n",
    "#convert to dictionary\n",
    "rf_hyperparameters = dict(n_estimators=n_estimators, max_depth=max_depth, max_features=max_features, min_samples_leaf=min_samples_leaf,min_samples_split=min_samples_split)\n",
    "#create new rf object\n",
    "rf_2 = RandomForestRegressor()\n",
    "#use gridsearch\n",
    "rf_gs = GridSearchCV(rf_2, rf_hyperparameters, cv=10, n_jobs=-1, verbose=1)\n",
    "#fit the model\n",
    "best_rf = rf_gs.fit(x,y)\n",
    "#print the values of the best hyperparameters\n",
    "print('Best n_estimators:', best_rf.best_estimator_.get_params()['n_estimators'])\n",
    "print('Best max_depth:', best_rf.best_estimator_.get_params()['max_depth'])\n",
    "print('Best max_features:', best_rf.best_estimator_.get_params()['max_features'])\n",
    "print('Best min_samples_leaf:', best_rf.best_estimator_.get_params()['min_samples_leaf'])\n",
    "print('Best min_samples_split:', best_rf.best_estimator_.get_params()['min_samples_split'])\n",
    "\n",
    "del n_estimators, max_depth, max_features, min_samples_leaf, min_samples_split, rf_hyperparameters, best_rf, rf_2, rf_gs\n",
    "\n",
    "stop = timeit.default_timer()\n",
    "print('Time: %.2f' %(stop-start), '\\n')"
   ]
  },
  {
   "cell_type": "code",
   "execution_count": 13,
   "id": "2e5d9314",
   "metadata": {},
   "outputs": [
    {
     "name": "stdout",
     "output_type": "stream",
     "text": [
      "MSE: 1.74\n",
      "R²: 0.32 \n",
      "\n"
     ]
    },
    {
     "data": {
      "image/png": "[encoded data removed]",
      "text/plain": [
       "<Figure size 432x288 with 1 Axes>"
      ]
     },
     "metadata": {
      "needs_background": "light"
     },
     "output_type": "display_data"
    }
   ],
   "source": [
    "#%% Step 6.2 Run model with best hyperparameters from orignal\n",
    "rf = RandomForestRegressor(n_estimators=50, max_depth=90, max_features='log2', min_samples_leaf=2, min_samples_split=5)\n",
    "\n",
    "rf.fit(x_train, y_train)\n",
    "\n",
    "rf_y_predict = rf.predict(x_test)\n",
    "\n",
    "#print(\"Parameters:\", rf.get_params()) #for tuning\n",
    "print(\"MSE: %.2f\" %mean_squared_error(y_test, rf_y_predict))\n",
    "print(\"R\\u00b2: %.2f \\n\" %r2_score(y_test, rf_y_predict))\n",
    "\n",
    "#plot feature importance\n",
    "importances = rf.feature_importances_\n",
    "#std = np.std([tree.feature_importances_ for tree in rf.estimators_], axis=0)\n",
    "forest_importances = pa.Series(importances, index=col_names)\n",
    "fig, ax = pyplot.subplots()\n",
    "forest_importances.plot.bar(ax=ax)\n",
    "ax.set_title(\"Random Forest Feature Importance\")\n",
    "ax.set_ylabel(\"Mean decrease in impurity\")\n",
    "fig.tight_layout()\n",
    "ax.set_ylim([0, .3])\n",
    "pyplot.show()\n",
    "\n",
    "\n",
    "del rf, rf_y_predict, importances, forest_importances"
   ]
  },
  {
   "cell_type": "code",
   "execution_count": 14,
   "id": "6ac4ed5e",
   "metadata": {},
   "outputs": [
    {
     "name": "stdout",
     "output_type": "stream",
     "text": [
      "Gradient Boosted Decision Tree\n"
     ]
    }
   ],
   "source": [
    "#%% Step 7 Gradient Boosted Decision Tree Regression\n",
    "print(\"Gradient Boosted Decision Tree\")\n",
    "from sklearn.ensemble import GradientBoostingRegressor\n",
    "\n",
    "#Need to choose the number of trees and learning rate. If you want, you can \n",
    "#also experiment with randomly selecting rows and columns when growing each tree"
   ]
  },
  {
   "cell_type": "code",
   "execution_count": 15,
   "id": "5c514bc7",
   "metadata": {},
   "outputs": [
    {
     "name": "stdout",
     "output_type": "stream",
     "text": [
      "GradientBoosted Hyperparameters\n",
      "Fitting 10 folds for each of 16 candidates, totalling 160 fits\n",
      "Best learning_rate: 0.01\n",
      "Best subsample: 0.1\n",
      "Best n_estimators: 300\n",
      "Best max_depth: 8\n",
      "Time: 1.45 \n",
      "\n"
     ]
    }
   ],
   "source": [
    "#%% Step 7.1 Tune Hyperparameters for Gradient Boosted Decision Tree Regression\n",
    "start = timeit.default_timer()\n",
    "\n",
    "#List hyperparameters we want to tune\n",
    "print(\"GradientBoosted Hyperparameters\")\n",
    "#learning_rate = [0.01, 0.02, 0.03, 0.04]#original run\n",
    "learning_rate = [0.01, 0.02]\n",
    "#subsample = [0.9, 0.5, 0.2, 0.1]#original run\n",
    "subsample = [0.2, 0.1]\n",
    "#n_estimators = [100,200,300, 500, 1000, 1500]#original run\n",
    "n_estimators = [200,300]\n",
    "#max_depth = [4,6,8,10]#original run\n",
    "max_depth = [8,10]\n",
    "#convert to dictionary\n",
    "gb_hyperparameters = dict(learning_rate=learning_rate, subsample=subsample, n_estimators=n_estimators, max_depth=max_depth)\n",
    "#create new gb object\n",
    "gb_2 = GradientBoostingRegressor()\n",
    "#use gridsearch\n",
    "gb_gs = GridSearchCV(gb_2, gb_hyperparameters, cv=10, n_jobs=-1, verbose=2)\n",
    "#fit the model\n",
    "best_gb = gb_gs.fit(x,y)\n",
    "#print the values of the best hyperparameters\n",
    "print('Best learning_rate:', best_gb.best_estimator_.get_params()['learning_rate'])\n",
    "print('Best subsample:', best_gb.best_estimator_.get_params()['subsample'])\n",
    "print('Best n_estimators:', best_gb.best_estimator_.get_params()['n_estimators'])\n",
    "print('Best max_depth:', best_gb.best_estimator_.get_params()['max_depth'])\n",
    "\n",
    "del learning_rate, subsample, n_estimators, max_depth, best_gb, gb_hyperparameters, gb_2, gb_gs\n",
    "\n",
    "stop = timeit.default_timer()\n",
    "print('Time: %.2f' %(stop-start), '\\n')"
   ]
  },
  {
   "cell_type": "code",
   "execution_count": 16,
   "id": "5482282c",
   "metadata": {},
   "outputs": [
    {
     "name": "stdout",
     "output_type": "stream",
     "text": [
      "MSE: 1.78\n",
      "R²: 0.31 \n",
      "\n"
     ]
    },
    {
     "data": {
      "image/png": "[encoded data removed]",
      "text/plain": [
       "<Figure size 432x288 with 1 Axes>"
      ]
     },
     "metadata": {
      "needs_background": "light"
     },
     "output_type": "display_data"
    }
   ],
   "source": [
    "#%% Step 7.2 Run model with best hyperparameters from original\n",
    "gb = GradientBoostingRegressor(learning_rate=.02, subsample=.2, n_estimators=300, max_depth=8)\n",
    "\n",
    "gb.fit(x_train, y_train)\n",
    "\n",
    "gb_y_predict = gb.predict(x_test)\n",
    "\n",
    "#print(\"Parameters:\", gb.get_params()) #for tuning\n",
    "print(\"MSE: %.2f\" %mean_squared_error(y_test, gb_y_predict))\n",
    "print(\"R\\u00b2: %.2f \\n\" %r2_score(y_test, gb_y_predict))\n",
    "\n",
    "#plot feature importance\n",
    "feature_importance = gb.feature_importances_\n",
    "gradient_importances = pa.Series(feature_importance, index=col_names)\n",
    "fig, ax = pyplot.subplots()\n",
    "gradient_importances.plot.bar(ax=ax)\n",
    "ax.set_title(\"Gradient Boosted Feature Importance\")\n",
    "fig.tight_layout()\n",
    "ax.set_ylim([0, .3])\n",
    "pyplot.show()\n",
    "\n",
    "del gb, gb_y_predict, feature_importance, gradient_importances, fig, ax"
   ]
  },
  {
   "cell_type": "code",
   "execution_count": null,
   "id": "a31a187e",
   "metadata": {},
   "outputs": [],
   "source": []
  }
 ],
 "metadata": {
  "kernelspec": {
   "display_name": "Python 3 (ipykernel)",
   "language": "python",
   "name": "python3"
  },
  "language_info": {
   "codemirror_mode": {
    "name": "ipython",
    "version": 3
   },
   "file_extension": ".py",
   "mimetype": "text/x-python",
   "name": "python",
   "nbconvert_exporter": "python",
   "pygments_lexer": "ipython3",
   "version": "3.11.4"
  }
 },
 "nbformat": 4,
 "nbformat_minor": 5
}
