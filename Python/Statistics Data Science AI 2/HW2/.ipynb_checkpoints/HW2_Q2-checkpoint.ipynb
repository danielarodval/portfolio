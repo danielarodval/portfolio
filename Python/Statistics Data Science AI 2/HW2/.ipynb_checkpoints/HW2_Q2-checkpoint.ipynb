{
 "cells": [
  {
   "cell_type": "markdown",
   "id": "f3c69ab8",
   "metadata": {},
   "source": [
    "<h1 style=\"font-size:3rem;color:orange;\">Homework 2</h1"
   ]
  },
  {
   "cell_type": "markdown",
   "id": "6ba81ab8",
   "metadata": {},
   "source": [
    "# Problem 2"
   ]
  },
  {
   "cell_type": "code",
   "execution_count": 2,
   "id": "9d2c6b7f",
   "metadata": {},
   "outputs": [
    {
     "data": {
      "text/plain": [
       "'\\nSpyder Editor\\n\\nThis is a temporary script file.\\n'"
      ]
     },
     "execution_count": 2,
     "metadata": {},
     "output_type": "execute_result"
    }
   ],
   "source": [
    "# -*- coding: utf-8 -*-\n",
    "\"\"\"\n",
    "Spyder Editor\n",
    "\n",
    "This is a temporary script file.\n",
    "\"\"\""
   ]
  },
  {
   "cell_type": "code",
   "execution_count": 3,
   "id": "9ada2183",
   "metadata": {},
   "outputs": [
    {
     "name": "stdout",
     "output_type": "stream",
     "text": [
      "    fLength    fWidth   fSize   fConc  fConc1     fAsym  fM3Long  fM3Trans  \\\n",
      "0   28.7967   16.0021  2.6449  0.3918  0.1982   27.7004  22.0110   -8.2027   \n",
      "1   31.6036   11.7235  2.5185  0.5303  0.3773   26.2722  23.8238   -9.9574   \n",
      "2  162.0520  136.0310  4.0612  0.0374  0.0187  116.7410 -64.8580  -45.2160   \n",
      "3   23.8172    9.5728  2.3385  0.6147  0.3922   27.2107  -6.4633   -7.1513   \n",
      "4   75.1362   30.9205  3.1611  0.3168  0.1832   -5.5277  28.5525   21.8393   \n",
      "\n",
      "    fAlpha     fDist class  \n",
      "0  40.0920   81.8828     g  \n",
      "1   6.3609  205.2610     g  \n",
      "2  76.9600  256.7880     g  \n",
      "3  10.4490  116.7370     g  \n",
      "4   4.6480  356.4620     g  \n"
     ]
    }
   ],
   "source": [
    "#%% Step 1- imports data into dataframe\n",
    "import pandas as pa;\n",
    "import timeit;\n",
    "\n",
    "col_names=['fLength', 'fWidth', 'fSize', 'fConc', 'fConc1', 'fAsym', 'fM3Long', 'fM3Trans', 'fAlpha', 'fDist', 'class']\n",
    "df = pa.read_table('C:/Users/danma/Documents/STA 4365/HW2/magic04.data', sep=',', header=None, names=col_names)\n",
    "print(df.head())"
   ]
  },
  {
   "cell_type": "code",
   "execution_count": 4,
   "id": "9d5b83bd",
   "metadata": {},
   "outputs": [
    {
     "name": "stdout",
     "output_type": "stream",
     "text": [
      "Test Size =  0.1 \n",
      "\n"
     ]
    }
   ],
   "source": [
    "#%% Step 2 - splits data into x and y\n",
    "\n",
    "from sklearn.model_selection import train_test_split as TTS\n",
    "\n",
    "x = df.filter(regex='f')\n",
    "y = df.filter(regex='class')\n",
    "#repace categorical data characters with 1 and 0, 1 to separate from 0\n",
    "y = y.replace('g',1, regex=True)\n",
    "y = y.replace('h',0, regex=True)\n",
    "#turns y into a 1-d array instead of a dataframe column\n",
    "y = y.to_numpy()\n",
    "y = y.ravel()\n",
    "y = y.astype('int')\n",
    "\n",
    "#splits into training and test data\n",
    "TS = 0.1 #for tuning\n",
    "print(\"Test Size = \", TS, \"\\n\")\n",
    "x_train, x_test, y_train, y_test = TTS(x,y,test_size=TS, random_state=42)\n",
    "\n",
    "del df, col_names, TS"
   ]
  },
  {
   "cell_type": "code",
   "execution_count": 5,
   "id": "ac9c2439",
   "metadata": {},
   "outputs": [],
   "source": [
    "#%% Step 3 - scale and center columns\n",
    "\n",
    "from sklearn.preprocessing import StandardScaler\n",
    "\n",
    "scalar = StandardScaler()\n",
    "scalar.fit(x_train)\n",
    "\n",
    "x_train = scalar.transform(x_train)\n",
    "x_test = scalar.transform(x_test)\n",
    "\n",
    "del scalar\n",
    "\n",
    "#To tune hyperparameters for each model, you can either use cross-validation or hand-tune by examining\n",
    "#the model performance for reasonable values of the hyper-parameters.\n",
    "from sklearn.model_selection import GridSearchCV\n",
    "# Apply your models to the test set. Report the accuracy, visualize an ROC curve, and report the AUC\n",
    "#for each model. For Logistic Regression, Random Forests, and Gradient Boosted Decision Trees, report\n",
    "#the most meaningful predictors.\n",
    "from sklearn.metrics import roc_curve\n",
    "from sklearn.metrics import roc_auc_score\n",
    "from matplotlib import pyplot\n",
    "from sklearn.metrics import RocCurveDisplay"
   ]
  },
  {
   "cell_type": "code",
   "execution_count": 6,
   "id": "63f8b31b",
   "metadata": {},
   "outputs": [
    {
     "name": "stdout",
     "output_type": "stream",
     "text": [
      "Logistic Regression Results:\n",
      "Accuracy: 0.808\n"
     ]
    },
    {
     "data": {
      "image/png": "[encoded data removed]",
      "text/plain": [
       "<Figure size 432x288 with 1 Axes>"
      ]
     },
     "metadata": {
      "needs_background": "light"
     },
     "output_type": "display_data"
    },
    {
     "name": "stdout",
     "output_type": "stream",
     "text": [
      "AUC: 0.854\n",
      "\n"
     ]
    }
   ],
   "source": [
    "#%% Step 4 - Logistic Regression\n",
    "print(\"Logistic Regression Results:\")\n",
    "from sklearn.linear_model import LogisticRegression\n",
    "\n",
    "#%% Step 4.1 Tuning Hyperparameters - Did not provide change in accuracy nor auc\n",
    "#start = timeit.default_timer()\n",
    "\n",
    "#list hyperparameters that we want to tune\n",
    "#multi_class = ['auto', 'ovr', 'multinomial'] #original run\n",
    "#multi_class = ['multinomial']\n",
    "#solver = ['newton-cg', 'lbfgs','liblinear', 'saga', 'sag'] #original run\n",
    "#solver = ['newton-cg']\n",
    "#convert to dictionary\n",
    "#log_hyper = dict(solver=solver, multi_class=multi_class)\n",
    "#Create new reg object\n",
    "#logreg_2 = LogisticRegression(max_iter=50000)\n",
    "#use gridsearch\n",
    "#grid = GridSearchCV(logreg_2, log_hyper, cv=10, scoring='accuracy', verbose=1)\n",
    "#best_logreg = grid.fit(x, y)\n",
    "\n",
    "#print('Best multi_class:', best_logreg.best_estimator_.get_params()['multi_class'])\n",
    "#print('Best solver:', best_logreg.best_estimator_.get_params()['solver'])\n",
    "\n",
    "#stop = timeit.default_timer()\n",
    "#print('Time: %.2f' %(stop-start), '\\n')\n",
    "\n",
    "#Did not provide change in accuracy nor auc\n",
    "#%%\n",
    "#fit the model\n",
    "logreg = LogisticRegression()\n",
    "logreg.fit(x_train, y_train)\n",
    "\n",
    "# predict probabilities\n",
    "logreg_pred = logreg.predict_proba(x_test)\n",
    "# keep probabilities for the positive outcome only\n",
    "logreg_pred = logreg_pred[:, 1]\n",
    "\n",
    "#print accuracy of the model\n",
    "print(\"Accuracy: %.3f\" %logreg.score(x_test, y_test))\n",
    "\n",
    "# calculate roc curve\n",
    "fpr, tpr, thresholds = roc_curve(y_test, logreg_pred)\n",
    "pyplot.plot(fpr, tpr, marker='.', label='Logistic Regression ROC')\n",
    "# axis labels\n",
    "pyplot.xlabel('False Positive Rate')\n",
    "pyplot.ylabel('True Positive Rate')\n",
    "# show the legend\n",
    "pyplot.legend()\n",
    "# show the plot\n",
    "pyplot.show()\n",
    "\n",
    "# calculate AUC\n",
    "auc = roc_auc_score(y_test, logreg_pred)\n",
    "print('AUC: %.3f\\n' % auc)\n",
    "\n",
    "del logreg, logreg_pred, fpr, tpr, thresholds, auc"
   ]
  },
  {
   "cell_type": "code",
   "execution_count": 7,
   "id": "2b8f5104",
   "metadata": {},
   "outputs": [
    {
     "name": "stdout",
     "output_type": "stream",
     "text": [
      "Linear Discriminant Analysis Results:\n",
      "Accuracy: 0.805\n"
     ]
    },
    {
     "data": {
      "image/png": "[encoded data removed]",
      "text/plain": [
       "<Figure size 432x288 with 1 Axes>"
      ]
     },
     "metadata": {
      "needs_background": "light"
     },
     "output_type": "display_data"
    },
    {
     "name": "stdout",
     "output_type": "stream",
     "text": [
      "AUC: 0.855\n",
      "\n"
     ]
    }
   ],
   "source": [
    "#%% Step 5 - LDA\n",
    "print(\"Linear Discriminant Analysis Results:\")\n",
    "from sklearn.discriminant_analysis import LinearDiscriminantAnalysis\n",
    "\n",
    "#%% Step 5.1 Tune Hyperparameters for LDA\n",
    "\n",
    "#%%\n",
    "#fit the model\n",
    "lda = LinearDiscriminantAnalysis()\n",
    "lda.fit(x_train, y_train)\n",
    "\n",
    "#predict probabilities\n",
    "lda_pred = lda.predict_proba(x_test)\n",
    "# keep probabilities for the positive outcome only\n",
    "lda_pred = lda_pred[:, 1]\n",
    "#print accuracy of the model\n",
    "print(\"Accuracy: %.3f\" %lda.score(x_test, y_test))\n",
    "\n",
    "# calculate roc curve\n",
    "fpr, tpr, thresholds = roc_curve(y_test, lda_pred)\n",
    "pyplot.plot(fpr, tpr, marker='.', label='LDA ROC')\n",
    "# axis labels\n",
    "pyplot.xlabel('False Positive Rate')\n",
    "pyplot.ylabel('True Positive Rate')\n",
    "# show the legend\n",
    "pyplot.legend()\n",
    "# show the plot\n",
    "pyplot.show()\n",
    "\n",
    "# calculate AUC\n",
    "auc = roc_auc_score(y_test, lda_pred)\n",
    "print('AUC: %.3f\\n' % auc)\n",
    "\n",
    "del lda, lda_pred, fpr, tpr, thresholds, auc"
   ]
  },
  {
   "cell_type": "code",
   "execution_count": 8,
   "id": "5a0ccbd3",
   "metadata": {},
   "outputs": [
    {
     "name": "stdout",
     "output_type": "stream",
     "text": [
      "KNN Classifier Results:\n",
      "Accuracy: 0.848\n"
     ]
    },
    {
     "data": {
      "image/png": "[encoded data removed]",
      "text/plain": [
       "<Figure size 432x288 with 1 Axes>"
      ]
     },
     "metadata": {
      "needs_background": "light"
     },
     "output_type": "display_data"
    },
    {
     "name": "stdout",
     "output_type": "stream",
     "text": [
      "AUC: 0.868\n",
      "\n"
     ]
    }
   ],
   "source": [
    "#%% Step 6 - KNN Classifier\n",
    "print(\"KNN Classifier Results:\")\n",
    "from sklearn.neighbors import KNeighborsClassifier\n",
    "\n",
    "#fit the model\n",
    "neigh = KNeighborsClassifier(n_neighbors=3)\n",
    "neigh.fit(x_train, y_train)\n",
    "\n",
    "#predict probabilities\n",
    "neigh_pred = neigh.predict_proba(x_test)\n",
    "# keep probabilities for the positive outcome only\n",
    "neigh_pred = neigh_pred[:, 1]\n",
    "#print accuracy of the model\n",
    "print(\"Accuracy: %.3f\" %neigh.score(x_test, y_test))\n",
    "\n",
    "# calculate roc curve\n",
    "fpr, tpr, thresholds = roc_curve(y_test, neigh_pred)\n",
    "pyplot.plot(fpr, tpr, marker='.', label='KNN ROC')\n",
    "# axis labels\n",
    "pyplot.xlabel('False Positive Rate')\n",
    "pyplot.ylabel('True Positive Rate')\n",
    "# show the legend\n",
    "pyplot.legend()\n",
    "# show the plot\n",
    "pyplot.show()\n",
    "\n",
    "# calculate AUC\n",
    "auc = roc_auc_score(y_test, neigh_pred)\n",
    "print('AUC: %.3f\\n' % auc)\n",
    "\n",
    "#Need to choose the number of neighbors k\n",
    "del neigh, neigh_pred, fpr, tpr, thresholds, auc"
   ]
  },
  {
   "cell_type": "code",
   "execution_count": 11,
   "id": "0ddb8042",
   "metadata": {},
   "outputs": [
    {
     "name": "stdout",
     "output_type": "stream",
     "text": [
      "Linear SVM Results:\n",
      "Accuracy: 0.809\n"
     ]
    },
    {
     "data": {
      "image/png": "[encoded data removed]",
      "text/plain": [
       "<Figure size 432x288 with 1 Axes>"
      ]
     },
     "metadata": {
      "needs_background": "light"
     },
     "output_type": "display_data"
    },
    {
     "name": "stdout",
     "output_type": "stream",
     "text": [
      "AUC: 0.771 \n",
      "\n"
     ]
    }
   ],
   "source": [
    "#%% Step 7 - Linear SVM\n",
    "print(\"Linear SVM Results:\")\n",
    "from sklearn.svm import SVC\n",
    "\n",
    "#Need to choose the margin penalty C as a hyperparameter\n",
    "\n",
    "#fit the model\n",
    "lin_svm = SVC(kernel='linear')\n",
    "lin_svm.fit(x_train,y_train)\n",
    "\n",
    "#predict probabilities\n",
    "lin_svm_y_pred = lin_svm.predict(x_test)\n",
    "\n",
    "#print accuracy of the model\n",
    "print(\"Accuracy: %0.3f\" %lin_svm.score(x_test, y_test))\n",
    "\n",
    "#roc curve\n",
    "svc_disp = RocCurveDisplay.from_predictions(y_test, lin_svm_y_pred, name=\"Linear SVM ROC\")\n",
    "pyplot.show()\n",
    "\n",
    "from sklearn import metrics\n",
    "\n",
    "#auc score\n",
    "fpr, tpr, threshold = metrics.roc_curve(y_test, lin_svm_y_pred)\n",
    "score = metrics.auc(fpr, tpr)\n",
    "print(\"AUC: %0.3f \\n\" %score)\n",
    "\n",
    "del lin_svm, lin_svm_y_pred, svc_disp, fpr, tpr, threshold"
   ]
  },
  {
   "cell_type": "code",
   "execution_count": 12,
   "id": "ad950140",
   "metadata": {},
   "outputs": [
    {
     "name": "stdout",
     "output_type": "stream",
     "text": [
      "Gaussian SVM Results:\n",
      "Accuracy: 0.873\n"
     ]
    },
    {
     "data": {
      "image/png": "[encoded data removed]",
      "text/plain": [
       "<Figure size 432x288 with 1 Axes>"
      ]
     },
     "metadata": {
      "needs_background": "light"
     },
     "output_type": "display_data"
    },
    {
     "name": "stdout",
     "output_type": "stream",
     "text": [
      "AUC: 0.839 \n",
      "\n"
     ]
    }
   ],
   "source": [
    "#%% Step 8 - Gaussian SVM\n",
    "print(\"Gaussian SVM Results:\")\n",
    "from sklearn.svm import SVC\n",
    "\n",
    "#Need to choose the margin penalty C and the radius width γ.\n",
    "\n",
    "#fit the model\n",
    "gau_svm = SVC(kernel='rbf')\n",
    "gau_svm.fit(x_train,y_train)\n",
    "\n",
    "#predict probabilities\n",
    "gau_svm_y_pred = gau_svm.predict(x_test)\n",
    "\n",
    "#print accuracy of the model\n",
    "print(\"Accuracy: %0.3f\" %gau_svm.score(x_test, y_test))\n",
    "\n",
    "#roc curve\n",
    "svc_disp = RocCurveDisplay.from_predictions(y_test, gau_svm_y_pred, name=\"Gaussian SVM ROC\")\n",
    "pyplot.show()\n",
    "\n",
    "#auc score\n",
    "fpr, tpr, threshold = metrics.roc_curve(y_test, gau_svm_y_pred)\n",
    "score = metrics.roc_auc_score(y_test, gau_svm_y_pred)\n",
    "print(\"AUC: %0.3f \\n\" %score)\n",
    "\n",
    "del gau_svm, gau_svm_y_pred, score, svc_disp, fpr, tpr, threshold"
   ]
  },
  {
   "cell_type": "code",
   "execution_count": 13,
   "id": "653d608f",
   "metadata": {},
   "outputs": [
    {
     "name": "stdout",
     "output_type": "stream",
     "text": [
      "Random Forest Results:\n",
      "Accuracy: 0.887\n"
     ]
    },
    {
     "data": {
      "image/png": "[encoded data removed]",
      "text/plain": [
       "<Figure size 432x288 with 1 Axes>"
      ]
     },
     "metadata": {
      "needs_background": "light"
     },
     "output_type": "display_data"
    },
    {
     "name": "stdout",
     "output_type": "stream",
     "text": [
      "AUC: 0.866 \n",
      "\n"
     ]
    }
   ],
   "source": [
    "#%% Step 9 - Random Forest\n",
    "print(\"Random Forest Results:\")\n",
    "from sklearn.ensemble import RandomForestClassifier\n",
    "\n",
    "#Need to choose the number of trees.\n",
    "\n",
    "#fit the model\n",
    "rf = RandomForestClassifier()\n",
    "rf.fit(x_train,y_train)\n",
    "\n",
    "#predict probabilities\n",
    "rf_y_pred = rf.predict(x_test)\n",
    "\n",
    "#print accuracy of the model\n",
    "print(\"Accuracy: %0.3f\" %rf.score(x_test, y_test))\n",
    "\n",
    "#roc curve\n",
    "fpr, tpr, thresholds = metrics.roc_curve(y_test, rf_y_pred)\n",
    "roc_auc = metrics.auc(fpr, tpr)\n",
    "display = metrics.RocCurveDisplay(fpr=fpr, tpr=tpr, roc_auc=roc_auc, estimator_name='Random Forest ROC')\n",
    "display.plot()\n",
    "\n",
    "pyplot.show()\n",
    "\n",
    "#auc score\n",
    "print(\"AUC: %0.3f \\n\" %roc_auc)\n",
    "\n",
    "del rf, rf_y_pred, fpr, tpr, thresholds, roc_auc, display"
   ]
  },
  {
   "cell_type": "code",
   "execution_count": 14,
   "id": "88834d3b",
   "metadata": {},
   "outputs": [
    {
     "name": "stdout",
     "output_type": "stream",
     "text": [
      "Gradient Boosted Results:\n",
      "Accuracy: 0.859\n"
     ]
    },
    {
     "data": {
      "image/png": "[encoded data removed]",
      "text/plain": [
       "<Figure size 432x288 with 1 Axes>"
      ]
     },
     "metadata": {
      "needs_background": "light"
     },
     "output_type": "display_data"
    },
    {
     "name": "stdout",
     "output_type": "stream",
     "text": [
      "AUC: 0.907\n",
      "\n"
     ]
    }
   ],
   "source": [
    "#%% Step 10 - Gradient Boosted Decision Tree\n",
    "print(\"Gradient Boosted Results:\")\n",
    "from sklearn.ensemble import GradientBoostingClassifier\n",
    "\n",
    "# Need to choose the number of trees and learning rate. \n",
    "#If you want, you can also experiment with randomly selecting \n",
    "#rows and columns when growing each tree.\n",
    "\n",
    "#fit the model\n",
    "gb = GradientBoostingClassifier(n_estimators=100, learning_rate=1.0, max_depth=1, random_state=0)\n",
    "gb.fit(x_train, y_train)\n",
    "\n",
    "#predict probabilities\n",
    "gb_pred = gb.predict_proba(x_test)\n",
    "# keep probabilities for the positive outcome only\n",
    "gb_pred = gb_pred[:, 1]\n",
    "\n",
    "#print accuracy of the model\n",
    "print(\"Accuracy: %0.3f\" %gb.score(x_test, y_test))\n",
    "\n",
    "# calculate roc curve\n",
    "fpr, tpr, thresholds = roc_curve(y_test, gb_pred)\n",
    "pyplot.plot(fpr, tpr, marker='.', label='Gradient Boosted ROC')\n",
    "# axis labels\n",
    "pyplot.xlabel('False Positive Rate')\n",
    "pyplot.ylabel('True Positive Rate')\n",
    "# show the legend\n",
    "pyplot.legend()\n",
    "# show the plot\n",
    "pyplot.show()\n",
    "\n",
    "# calculate AUC\n",
    "auc = roc_auc_score(y_test, gb_pred)\n",
    "print('AUC: %.3f\\n' % auc)\n",
    "\n",
    "del gb, gb_pred, fpr, tpr, thresholds, auc"
   ]
  },
  {
   "cell_type": "code",
   "execution_count": null,
   "id": "e88c4602",
   "metadata": {},
   "outputs": [],
   "source": []
  }
 ],
 "metadata": {
  "kernelspec": {
   "display_name": "Python 3 (ipykernel)",
   "language": "python",
   "name": "python3"
  },
  "language_info": {
   "codemirror_mode": {
    "name": "ipython",
    "version": 3
   },
   "file_extension": ".py",
   "mimetype": "text/x-python",
   "name": "python",
   "nbconvert_exporter": "python",
   "pygments_lexer": "ipython3",
   "version": "3.9.7"
  }
 },
 "nbformat": 4,
 "nbformat_minor": 5
}
