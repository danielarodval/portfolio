{
 "cells": [
  {
   "cell_type": "markdown",
   "id": "2c12ff82",
   "metadata": {},
   "source": [
    "# ACT 03"
   ]
  },
  {
   "cell_type": "markdown",
   "id": "705f706e",
   "metadata": {},
   "source": [
    "## Problem 1 (0 Points) Read the CSV file “Microsoft_Results.CSV”"
   ]
  },
  {
   "cell_type": "code",
   "execution_count": 1,
   "id": "5a912866",
   "metadata": {},
   "outputs": [
    {
     "data": {
      "text/html": [
       "<div>\n",
       "<style scoped>\n",
       "    .dataframe tbody tr th:only-of-type {\n",
       "        vertical-align: middle;\n",
       "    }\n",
       "\n",
       "    .dataframe tbody tr th {\n",
       "        vertical-align: top;\n",
       "    }\n",
       "\n",
       "    .dataframe thead th {\n",
       "        text-align: right;\n",
       "    }\n",
       "</style>\n",
       "<table border=\"1\" class=\"dataframe\">\n",
       "  <thead>\n",
       "    <tr style=\"text-align: right;\">\n",
       "      <th></th>\n",
       "      <th>MACHINEID</th>\n",
       "      <th>TRUE_STATUS</th>\n",
       "      <th>PRED_Probability</th>\n",
       "    </tr>\n",
       "  </thead>\n",
       "  <tbody>\n",
       "    <tr>\n",
       "      <th>0</th>\n",
       "      <td>1</td>\n",
       "      <td>0</td>\n",
       "      <td>0.626452</td>\n",
       "    </tr>\n",
       "    <tr>\n",
       "      <th>1</th>\n",
       "      <td>2</td>\n",
       "      <td>0</td>\n",
       "      <td>0.239536</td>\n",
       "    </tr>\n",
       "    <tr>\n",
       "      <th>2</th>\n",
       "      <td>3</td>\n",
       "      <td>0</td>\n",
       "      <td>0.504254</td>\n",
       "    </tr>\n",
       "    <tr>\n",
       "      <th>3</th>\n",
       "      <td>4</td>\n",
       "      <td>1</td>\n",
       "      <td>0.623444</td>\n",
       "    </tr>\n",
       "    <tr>\n",
       "      <th>4</th>\n",
       "      <td>5</td>\n",
       "      <td>1</td>\n",
       "      <td>0.546973</td>\n",
       "    </tr>\n",
       "    <tr>\n",
       "      <th>...</th>\n",
       "      <td>...</td>\n",
       "      <td>...</td>\n",
       "      <td>...</td>\n",
       "    </tr>\n",
       "    <tr>\n",
       "      <th>999995</th>\n",
       "      <td>999996</td>\n",
       "      <td>0</td>\n",
       "      <td>0.302164</td>\n",
       "    </tr>\n",
       "    <tr>\n",
       "      <th>999996</th>\n",
       "      <td>999997</td>\n",
       "      <td>0</td>\n",
       "      <td>0.419462</td>\n",
       "    </tr>\n",
       "    <tr>\n",
       "      <th>999997</th>\n",
       "      <td>999998</td>\n",
       "      <td>1</td>\n",
       "      <td>0.336044</td>\n",
       "    </tr>\n",
       "    <tr>\n",
       "      <th>999998</th>\n",
       "      <td>999999</td>\n",
       "      <td>1</td>\n",
       "      <td>0.490187</td>\n",
       "    </tr>\n",
       "    <tr>\n",
       "      <th>999999</th>\n",
       "      <td>1000000</td>\n",
       "      <td>1</td>\n",
       "      <td>0.405500</td>\n",
       "    </tr>\n",
       "  </tbody>\n",
       "</table>\n",
       "<p>1000000 rows × 3 columns</p>\n",
       "</div>"
      ],
      "text/plain": [
       "        MACHINEID  TRUE_STATUS  PRED_Probability\n",
       "0               1            0          0.626452\n",
       "1               2            0          0.239536\n",
       "2               3            0          0.504254\n",
       "3               4            1          0.623444\n",
       "4               5            1          0.546973\n",
       "...           ...          ...               ...\n",
       "999995     999996            0          0.302164\n",
       "999996     999997            0          0.419462\n",
       "999997     999998            1          0.336044\n",
       "999998     999999            1          0.490187\n",
       "999999    1000000            1          0.405500\n",
       "\n",
       "[1000000 rows x 3 columns]"
      ]
     },
     "execution_count": 1,
     "metadata": {},
     "output_type": "execute_result"
    }
   ],
   "source": [
    "import pandas as pd\n",
    "df = pd.read_csv('Microsoft_Results.csv')\n",
    "df"
   ]
  },
  {
   "cell_type": "markdown",
   "id": "161d0af3",
   "metadata": {},
   "source": [
    "## Problem 2 (10 Points) \n",
    "Write a program (or function) to calculate the following statistics: “True Positive”, “False Positive”, “True Negative”, “False Negative”, “Sensitivity”, “Specificity”, “Accuracy”, and “Precision” for any given cut-off probability (i.e., “P_HasDetect”).  The input data set has four variables including “MACHINEID”, “True_Status”, “PRED_Probability”, and “Rank”.  The output data set has nine variables including “Cut off Probability”, “True Positive”, “False Positive”, “True Negative”, “False Negative”, “Sensitivity”, “Specificity”, “Accuracy”, and “Precision”.  The input of your program (or function) has one input data file name and the cut-off probability.  The output of your program is a output file with all desired statistics."
   ]
  },
  {
   "cell_type": "code",
   "execution_count": 16,
   "id": "2b08ff43",
   "metadata": {},
   "outputs": [],
   "source": [
    "import numpy as np\n",
    "\n",
    "def calculate_statistics(df, cutoff_probability):\n",
    "    # Calculate whether the prediction is positive based on the cutoff probability\n",
    "    df['Predicted_Status'] = np.where(df['PRED_Probability'] >= cutoff_probability, 1, 0)\n",
    "\n",
    "    # Calculate true positives, false positives, true negatives, and false negatives\n",
    "    TP = np.sum((df['TRUE_STATUS'] == 1) & (df['Predicted_Status'] == 1))\n",
    "    FP = np.sum((df['TRUE_STATUS'] == 0) & (df['Predicted_Status'] == 1))\n",
    "    TN = np.sum((df['TRUE_STATUS'] == 0) & (df['Predicted_Status'] == 0))\n",
    "    FN = np.sum((df['TRUE_STATUS'] == 1) & (df['Predicted_Status'] == 0))\n",
    "\n",
    "    # Calculate sensitivity, specificity, accuracy, and precision\n",
    "    Sensitivity = TP / (TP + FN)\n",
    "    Specificity = TN / (TN + FP)\n",
    "    Accuracy = (TP + TN) / (TP + TN + FP + FN)\n",
    "    Precision = TP / (TP + FP)\n",
    "\n",
    "    print(f'Cut off Probability: {cutoff_probability}\\n'\n",
    "          f'True Positive: {TP}\\n'\n",
    "          f'False Positive: {FP}\\n'\n",
    "          f'True Negative: {TN}\\n'\n",
    "          f'False Negative: {FN}\\n'\n",
    "          f'Sensitivity: {Sensitivity}\\n'\n",
    "          f'Specificity: {Specificity}\\n'\n",
    "          f'Accuracy: {Accuracy}\\n'\n",
    "          f'Precision: {Precision}\\n')"
   ]
  },
  {
   "cell_type": "code",
   "execution_count": 3,
   "id": "6a8e4cab",
   "metadata": {},
   "outputs": [],
   "source": [
    "import numpy as np\n",
    "import pandas as pd\n",
    "\n",
    "def calculate_statistics(input_filename, co_prob, output_filename):\n",
    "    df = pd.read_csv(input_filename)\n",
    "\n",
    "    df['Predicted_Status'] = np.where(df['PRED_Probability'] >= co_prob, 1, 0)\n",
    "\n",
    "    TP = np.sum((df['TRUE_STATUS'] == 1) & (df['Predicted_Status'] == 1))\n",
    "    FP = np.sum((df['TRUE_STATUS'] == 0) & (df['Predicted_Status'] == 1))\n",
    "    TN = np.sum((df['TRUE_STATUS'] == 0) & (df['Predicted_Status'] == 0))\n",
    "    FN = np.sum((df['TRUE_STATUS'] == 1) & (df['Predicted_Status'] == 0))\n",
    "\n",
    "    sens = TP / (TP + FN)\n",
    "    spec = TN / (TN + FP)\n",
    "    acc = (TP + TN) / (TP + TN + FP + FN)\n",
    "    prec = TP / (TP + FP)\n",
    "\n",
    "    output_df = pd.DataFrame({\n",
    "        'Cut-Off Probability': [co_prob],\n",
    "        'True Positive': [TP],\n",
    "        'False Positive': [FP],\n",
    "        'True Negative': [TN],\n",
    "        'False Negative': [FN],\n",
    "        'Sensitivity': [sens],\n",
    "        'Specificity': [spec],\n",
    "        'Accuracy': [acc],\n",
    "        'Precision': [prec]\n",
    "    })\n",
    "    \n",
    "    output_df.to_csv(output_filename, index=False)\n",
    "    print(f'Output saved to {output_filename}')\n"
   ]
  },
  {
   "cell_type": "markdown",
   "id": "8fbe8c75",
   "metadata": {},
   "source": [
    "## Problem 3 (10 Points) \n",
    "### (a)\tUse cut-off probability 0.3 and the function in Problem 2 to produce desired output.  Present your output."
   ]
  },
  {
   "cell_type": "code",
   "execution_count": 6,
   "id": "a78f37c9",
   "metadata": {
    "scrolled": true
   },
   "outputs": [
    {
     "ename": "NameError",
     "evalue": "name 'df' is not defined",
     "output_type": "error",
     "traceback": [
      "\u001b[1;31m---------------------------------------------------------------------------\u001b[0m",
      "\u001b[1;31mNameError\u001b[0m                                 Traceback (most recent call last)",
      "\u001b[1;32m~\\AppData\\Local\\Temp\\ipykernel_7884\\3031256851.py\u001b[0m in \u001b[0;36m<module>\u001b[1;34m\u001b[0m\n\u001b[1;32m----> 1\u001b[1;33m \u001b[0mcalculate_statistics\u001b[0m\u001b[1;33m(\u001b[0m\u001b[0mdf\u001b[0m\u001b[1;33m,\u001b[0m \u001b[1;36m0.3\u001b[0m\u001b[1;33m)\u001b[0m\u001b[1;33m\u001b[0m\u001b[1;33m\u001b[0m\u001b[0m\n\u001b[0m",
      "\u001b[1;31mNameError\u001b[0m: name 'df' is not defined"
     ]
    }
   ],
   "source": [
    "calculate_statistics(df, 0.3)"
   ]
  },
  {
   "cell_type": "code",
   "execution_count": 7,
   "id": "7d8cf03b",
   "metadata": {},
   "outputs": [
    {
     "name": "stdout",
     "output_type": "stream",
     "text": [
      "Output saved to Microsoft_Results_output.csv\n"
     ]
    }
   ],
   "source": [
    "calculate_statistics('Microsoft_Results.csv', 0.3, 'Microsoft_Results_output.csv')"
   ]
  },
  {
   "cell_type": "markdown",
   "id": "39577540",
   "metadata": {},
   "source": [
    "### (b)\tUse cut-off probability 0.6 and the function in Problem 2 to produce desired output.  Present your output."
   ]
  },
  {
   "cell_type": "code",
   "execution_count": 5,
   "id": "7b386a9a",
   "metadata": {},
   "outputs": [
    {
     "name": "stdout",
     "output_type": "stream",
     "text": [
      "Output saved to Microsoft_Results_output.csv\n"
     ]
    }
   ],
   "source": [
    "calculate_statistics('Microsoft_Results.csv', 0.6, 'Microsoft_Results_output.csv')"
   ]
  }
 ],
 "metadata": {
  "kernelspec": {
   "display_name": "Python 3 (ipykernel)",
   "language": "python",
   "name": "python3"
  },
  "language_info": {
   "codemirror_mode": {
    "name": "ipython",
    "version": 3
   },
   "file_extension": ".py",
   "mimetype": "text/x-python",
   "name": "python",
   "nbconvert_exporter": "python",
   "pygments_lexer": "ipython3",
   "version": "3.9.12"
  }
 },
 "nbformat": 4,
 "nbformat_minor": 5
}
